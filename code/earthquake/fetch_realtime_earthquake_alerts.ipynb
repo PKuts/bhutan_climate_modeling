{
 "cells": [
  {
   "cell_type": "code",
   "execution_count": null,
   "id": "d993405c",
   "metadata": {},
   "outputs": [],
   "source": [
    "import requests\n",
    "import pandas as pd\n",
    "from datetime import datetime\n",
    "from geopy.distance import geodesic\n",
    "\n",
    "# Load real-time earthquake feed\n",
    "url = \"https://earthquake.usgs.gov/earthquakes/feed/v1.0/summary/2.5_hour.geojson\"\n",
    "data = requests.get(url).json()\n",
    "\n",
    "# Parse and filter to Bhutan region\n",
    "bhutan_bbox = [26.5, 88.0, 29.5, 92.0]\n",
    "\n",
    "events = []\n",
    "for f in data[\"features\"]:\n",
    "    lon, lat, depth = f[\"geometry\"][\"coordinates\"]\n",
    "    mag = f[\"properties\"][\"mag\"]\n",
    "    time = pd.to_datetime(f[\"properties\"][\"time\"], unit='ms')\n",
    "\n",
    "    if (bhutan_bbox[0] <= lat <= bhutan_bbox[2]) and (bhutan_bbox[1] <= lon <= bhutan_bbox[3]):\n",
    "        events.append({\n",
    "            \"time\": time,\n",
    "            \"latitude\": lat,\n",
    "            \"longitude\": lon,\n",
    "            \"magnitude\": mag,\n",
    "            \"depth_km\": depth\n",
    "        })\n",
    "\n",
    "realtime_eq_df = pd.DataFrame(events)\n"
   ]
  }
 ],
 "metadata": {
  "kernelspec": {
   "display_name": "Python 3 (ipykernel)",
   "language": "python",
   "name": "python3"
  },
  "language_info": {
   "codemirror_mode": {
    "name": "ipython",
    "version": 3
   },
   "file_extension": ".py",
   "mimetype": "text/x-python",
   "name": "python",
   "nbconvert_exporter": "python",
   "pygments_lexer": "ipython3",
   "version": "3.9.12"
  }
 },
 "nbformat": 4,
 "nbformat_minor": 5
}
