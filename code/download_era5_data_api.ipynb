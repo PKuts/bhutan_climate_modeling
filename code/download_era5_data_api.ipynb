{
 "cells": [
  {
   "cell_type": "code",
   "execution_count": 9,
   "id": "dc609514",
   "metadata": {},
   "outputs": [
    {
     "name": "stdout",
     "output_type": "stream",
     "text": [
      "Collecting cfgrib\n",
      "  Downloading cfgrib-0.9.15.0-py3-none-any.whl.metadata (55 kB)\n",
      "Requirement already satisfied: xarray in /Users/qingfangliu/opt/anaconda3/lib/python3.9/site-packages (0.20.1)\n",
      "Requirement already satisfied: attrs>=19.2 in /Users/qingfangliu/opt/anaconda3/lib/python3.9/site-packages (from cfgrib) (25.3.0)\n",
      "Requirement already satisfied: click in /Users/qingfangliu/opt/anaconda3/lib/python3.9/site-packages (from cfgrib) (8.1.8)\n",
      "Collecting eccodes>=0.9.8 (from cfgrib)\n",
      "  Downloading eccodes-2.42.0-cp39-cp39-macosx_13_0_x86_64.whl.metadata (14 kB)\n",
      "Requirement already satisfied: numpy in /Users/qingfangliu/opt/anaconda3/lib/python3.9/site-packages (from cfgrib) (1.24.4)\n",
      "Requirement already satisfied: pandas>=1.1 in /Users/qingfangliu/opt/anaconda3/lib/python3.9/site-packages (from xarray) (2.2.3)\n",
      "Requirement already satisfied: cffi in /Users/qingfangliu/opt/anaconda3/lib/python3.9/site-packages (from eccodes>=0.9.8->cfgrib) (1.15.0)\n",
      "Collecting findlibs (from eccodes>=0.9.8->cfgrib)\n",
      "  Downloading findlibs-0.1.1-py3-none-any.whl.metadata (3.6 kB)\n",
      "Requirement already satisfied: python-dateutil>=2.8.2 in /Users/qingfangliu/opt/anaconda3/lib/python3.9/site-packages (from pandas>=1.1->xarray) (2.9.0.post0)\n",
      "Requirement already satisfied: pytz>=2020.1 in /Users/qingfangliu/opt/anaconda3/lib/python3.9/site-packages (from pandas>=1.1->xarray) (2025.2)\n",
      "Requirement already satisfied: tzdata>=2022.7 in /Users/qingfangliu/opt/anaconda3/lib/python3.9/site-packages (from pandas>=1.1->xarray) (2025.2)\n",
      "Requirement already satisfied: six>=1.5 in /Users/qingfangliu/opt/anaconda3/lib/python3.9/site-packages (from python-dateutil>=2.8.2->pandas>=1.1->xarray) (1.17.0)\n",
      "Requirement already satisfied: pycparser in /Users/qingfangliu/opt/anaconda3/lib/python3.9/site-packages (from cffi->eccodes>=0.9.8->cfgrib) (2.21)\n",
      "Downloading cfgrib-0.9.15.0-py3-none-any.whl (48 kB)\n",
      "Downloading eccodes-2.42.0-cp39-cp39-macosx_13_0_x86_64.whl (7.5 MB)\n",
      "\u001b[2K   \u001b[90m━━━━━━━━━━━━━━━━━━━━━━━━━━━━━━━━━━━━━━━━\u001b[0m \u001b[32m7.5/7.5 MB\u001b[0m \u001b[31m28.2 MB/s\u001b[0m eta \u001b[36m0:00:00\u001b[0ma \u001b[36m0:00:01\u001b[0m\n",
      "\u001b[?25hDownloading findlibs-0.1.1-py3-none-any.whl (10 kB)\n",
      "Installing collected packages: findlibs, eccodes, cfgrib\n",
      "\u001b[2K   \u001b[90m━━━━━━━━━━━━━━━━━━━━━━━━━━━━━━━━━━━━━━━━\u001b[0m \u001b[32m3/3\u001b[0m [cfgrib]2m1/3\u001b[0m [eccodes]\n",
      "\u001b[1A\u001b[2KSuccessfully installed cfgrib-0.9.15.0 eccodes-2.42.0 findlibs-0.1.1\n"
     ]
    }
   ],
   "source": [
    "# API set up: https://cds.climate.copernicus.eu/how-to-api\n",
    "# make sure you have CDS API personal access token on the computer\n",
    "\n",
    "#!pip3 install cdsapi # to use the API\n",
    "#!pip3 install xarray\n",
    "#!pip3 install netCDF4\n",
    "#!pip3 install cfgrib xarray # to read grib file"
   ]
  },
  {
   "cell_type": "markdown",
   "id": "8c7d5b79",
   "metadata": {},
   "source": [
    "### Download era5 data"
   ]
  },
  {
   "cell_type": "code",
   "execution_count": null,
   "id": "8b2607d1",
   "metadata": {},
   "outputs": [
    {
     "name": "stderr",
     "output_type": "stream",
     "text": [
      "2025-07-12 12:10:39,029 INFO [2024-09-26T00:00:00] Watch our [Forum](https://forum.ecmwf.int/) for Announcements, news and other discussed topics.\n"
     ]
    },
    {
     "name": "stdout",
     "output_type": "stream",
     "text": [
      "⬇️ Downloading 2m_temperature for 1979...\n"
     ]
    },
    {
     "name": "stderr",
     "output_type": "stream",
     "text": [
      "2025-07-12 12:10:39,748 INFO Request ID is 9ef9d5b1-c2c7-4cb3-8654-bd0a050da4ef\n",
      "2025-07-12 12:10:39,916 INFO status has been updated to accepted\n",
      "2025-07-12 12:10:48,721 INFO status has been updated to running\n",
      "2025-07-12 12:23:02,845 INFO status has been updated to successful\n"
     ]
    },
    {
     "data": {
      "application/vnd.jupyter.widget-view+json": {
       "model_id": "",
       "version_major": 2,
       "version_minor": 0
      },
      "text/plain": [
       "b7888b50d24c6d2f9d529b4a089aa647.grib:   0%|          | 0.00/3.16M [00:00<?, ?B/s]"
      ]
     },
     "metadata": {},
     "output_type": "display_data"
    },
    {
     "name": "stdout",
     "output_type": "stream",
     "text": [
      "✅ Finished 1979\n",
      "⬇️ Downloading 2m_temperature for 1980...\n"
     ]
    },
    {
     "name": "stderr",
     "output_type": "stream",
     "text": [
      "2025-07-12 12:23:06,018 INFO Request ID is 068ca8c1-1332-4971-aeb6-3f227515180a\n",
      "2025-07-12 12:23:06,268 INFO status has been updated to accepted\n",
      "2025-07-12 12:23:15,081 INFO status has been updated to running\n",
      "2025-07-12 12:23:39,615 INFO status has been updated to accepted\n",
      "2025-07-12 12:23:56,856 INFO status has been updated to running\n",
      "2025-07-12 12:35:28,987 INFO status has been updated to successful\n"
     ]
    },
    {
     "data": {
      "application/vnd.jupyter.widget-view+json": {
       "model_id": "",
       "version_major": 2,
       "version_minor": 0
      },
      "text/plain": [
       "a395117478c668a6b0c31cb58b7f2f3e.grib:   0%|          | 0.00/3.17M [00:00<?, ?B/s]"
      ]
     },
     "metadata": {},
     "output_type": "display_data"
    },
    {
     "name": "stdout",
     "output_type": "stream",
     "text": [
      "✅ Finished 1980\n",
      "⬇️ Downloading 2m_temperature for 1981...\n"
     ]
    },
    {
     "name": "stderr",
     "output_type": "stream",
     "text": [
      "2025-07-12 12:35:32,346 INFO Request ID is 370e4bd1-d389-4d61-9d3a-3b4537efbc51\n",
      "2025-07-12 12:35:32,633 INFO status has been updated to accepted\n",
      "2025-07-12 12:35:41,512 INFO status has been updated to running\n",
      "2025-07-12 12:49:56,429 INFO status has been updated to successful\n"
     ]
    },
    {
     "data": {
      "application/vnd.jupyter.widget-view+json": {
       "model_id": "",
       "version_major": 2,
       "version_minor": 0
      },
      "text/plain": [
       "2f02f3d9f0934c365404878275781be6.grib:   0%|          | 0.00/3.16M [00:00<?, ?B/s]"
      ]
     },
     "metadata": {},
     "output_type": "display_data"
    },
    {
     "name": "stdout",
     "output_type": "stream",
     "text": [
      "✅ Finished 1981\n",
      "⬇️ Downloading 2m_temperature for 1982...\n"
     ]
    },
    {
     "name": "stderr",
     "output_type": "stream",
     "text": [
      "2025-07-12 12:50:01,578 INFO Request ID is 08334f4f-7419-49a0-9c43-feaef0cd63c3\n",
      "2025-07-12 12:50:02,089 INFO status has been updated to accepted\n",
      "2025-07-12 12:50:12,027 INFO status has been updated to running\n",
      "2025-07-12 13:02:26,074 INFO status has been updated to successful\n"
     ]
    },
    {
     "data": {
      "application/vnd.jupyter.widget-view+json": {
       "model_id": "",
       "version_major": 2,
       "version_minor": 0
      },
      "text/plain": [
       "1b02341e7aecee5feca90140d81e7b77.grib:   0%|          | 0.00/3.16M [00:00<?, ?B/s]"
      ]
     },
     "metadata": {},
     "output_type": "display_data"
    },
    {
     "name": "stdout",
     "output_type": "stream",
     "text": [
      "✅ Finished 1982\n",
      "⬇️ Downloading 2m_temperature for 1983...\n"
     ]
    },
    {
     "name": "stderr",
     "output_type": "stream",
     "text": [
      "2025-07-12 13:02:29,131 INFO Request ID is 3c9819a3-66fe-4efa-aa75-4b79e600b356\n",
      "2025-07-12 13:02:29,338 INFO status has been updated to accepted\n",
      "2025-07-12 13:02:34,709 INFO status has been updated to running\n",
      "2025-07-12 13:12:51,418 INFO status has been updated to successful\n"
     ]
    },
    {
     "data": {
      "application/vnd.jupyter.widget-view+json": {
       "model_id": "",
       "version_major": 2,
       "version_minor": 0
      },
      "text/plain": [
       "5aa45150a2e5a74d67c9e4d005f4e5a1.grib:   0%|          | 0.00/3.16M [00:00<?, ?B/s]"
      ]
     },
     "metadata": {},
     "output_type": "display_data"
    },
    {
     "name": "stdout",
     "output_type": "stream",
     "text": [
      "✅ Finished 1983\n",
      "⬇️ Downloading 2m_temperature for 1984...\n"
     ]
    },
    {
     "name": "stderr",
     "output_type": "stream",
     "text": [
      "2025-07-12 13:12:54,465 INFO Request ID is 45199e9b-7345-4639-8e96-2e6f746f14b3\n",
      "2025-07-12 13:12:54,627 INFO status has been updated to accepted\n",
      "2025-07-12 13:13:03,577 INFO status has been updated to running\n",
      "2025-07-12 13:25:16,963 INFO status has been updated to successful\n"
     ]
    },
    {
     "data": {
      "application/vnd.jupyter.widget-view+json": {
       "model_id": "",
       "version_major": 2,
       "version_minor": 0
      },
      "text/plain": [
       "8d5af65b8558b679f1d5ed36c75d454e.grib:   0%|          | 0.00/3.17M [00:00<?, ?B/s]"
      ]
     },
     "metadata": {},
     "output_type": "display_data"
    },
    {
     "name": "stdout",
     "output_type": "stream",
     "text": [
      "✅ Finished 1984\n",
      "⬇️ Downloading 2m_temperature for 1985...\n"
     ]
    },
    {
     "name": "stderr",
     "output_type": "stream",
     "text": [
      "2025-07-12 13:25:20,588 INFO Request ID is 3ffdb0b8-fd5e-44fe-b6e4-5781bc0fe91b\n",
      "2025-07-12 13:25:20,767 INFO status has been updated to accepted\n",
      "2025-07-12 13:25:26,411 INFO status has been updated to running\n",
      "2025-07-12 13:45:45,563 INFO status has been updated to successful\n"
     ]
    },
    {
     "data": {
      "application/vnd.jupyter.widget-view+json": {
       "model_id": "",
       "version_major": 2,
       "version_minor": 0
      },
      "text/plain": [
       "51bad0eec6dc4dbbf573bca09dfb3ac0.grib:   0%|          | 0.00/3.16M [00:00<?, ?B/s]"
      ]
     },
     "metadata": {},
     "output_type": "display_data"
    },
    {
     "name": "stdout",
     "output_type": "stream",
     "text": [
      "✅ Finished 1985\n",
      "⬇️ Downloading 2m_temperature for 1986...\n"
     ]
    },
    {
     "name": "stderr",
     "output_type": "stream",
     "text": [
      "2025-07-12 13:45:48,828 INFO Request ID is f393bede-3ce1-43b0-a358-d98413244de4\n",
      "2025-07-12 13:45:49,049 INFO status has been updated to accepted\n",
      "2025-07-12 13:46:03,339 INFO status has been updated to running\n",
      "2025-07-12 13:56:11,925 INFO status has been updated to successful\n"
     ]
    },
    {
     "data": {
      "application/vnd.jupyter.widget-view+json": {
       "model_id": "",
       "version_major": 2,
       "version_minor": 0
      },
      "text/plain": [
       "f167558b471bd2e94b9691a1f7499fb1.grib:   0%|          | 0.00/3.16M [00:00<?, ?B/s]"
      ]
     },
     "metadata": {},
     "output_type": "display_data"
    },
    {
     "name": "stdout",
     "output_type": "stream",
     "text": [
      "✅ Finished 1986\n",
      "⬇️ Downloading 2m_temperature for 1987...\n"
     ]
    },
    {
     "name": "stderr",
     "output_type": "stream",
     "text": [
      "2025-07-12 13:56:15,247 INFO Request ID is 248ac8b4-4736-4c3b-b27b-4ef7c9f7834b\n",
      "2025-07-12 13:56:15,416 INFO status has been updated to accepted\n",
      "2025-07-12 13:56:20,639 INFO status has been updated to running\n",
      "2025-07-12 13:56:24,196 INFO status has been updated to accepted\n",
      "2025-07-12 13:56:29,435 INFO status has been updated to running\n",
      "2025-07-12 14:08:37,681 INFO status has been updated to successful\n"
     ]
    },
    {
     "data": {
      "application/vnd.jupyter.widget-view+json": {
       "model_id": "",
       "version_major": 2,
       "version_minor": 0
      },
      "text/plain": [
       "920132605e19868eae937701be9a06d7.grib:   0%|          | 0.00/3.16M [00:00<?, ?B/s]"
      ]
     },
     "metadata": {},
     "output_type": "display_data"
    },
    {
     "name": "stdout",
     "output_type": "stream",
     "text": [
      "✅ Finished 1987\n",
      "⬇️ Downloading 2m_temperature for 1988...\n"
     ]
    },
    {
     "name": "stderr",
     "output_type": "stream",
     "text": [
      "2025-07-12 14:08:41,489 INFO Request ID is c21a3915-843c-4605-ab34-2f72dad33d5b\n",
      "2025-07-12 14:08:41,660 INFO status has been updated to accepted\n",
      "2025-07-12 14:08:50,457 INFO status has been updated to running\n",
      "2025-07-12 14:19:03,204 INFO status has been updated to successful\n"
     ]
    },
    {
     "data": {
      "application/vnd.jupyter.widget-view+json": {
       "model_id": "",
       "version_major": 2,
       "version_minor": 0
      },
      "text/plain": [
       "5703bb90287b090f2bd074d937e3bf8c.grib:   0%|          | 0.00/3.17M [00:00<?, ?B/s]"
      ]
     },
     "metadata": {},
     "output_type": "display_data"
    },
    {
     "name": "stdout",
     "output_type": "stream",
     "text": [
      "✅ Finished 1988\n",
      "⬇️ Downloading 2m_temperature for 1989...\n"
     ]
    },
    {
     "name": "stderr",
     "output_type": "stream",
     "text": [
      "2025-07-12 14:19:06,753 INFO Request ID is 4774b368-5208-46f0-b143-04d4d25a600f\n",
      "2025-07-12 14:19:06,958 INFO status has been updated to accepted\n",
      "2025-07-12 14:19:15,837 INFO status has been updated to running\n",
      "2025-07-12 14:29:29,702 INFO status has been updated to successful\n"
     ]
    },
    {
     "data": {
      "application/vnd.jupyter.widget-view+json": {
       "model_id": "",
       "version_major": 2,
       "version_minor": 0
      },
      "text/plain": [
       "9a6da360da6967b324d0b903cf663e21.grib:   0%|          | 0.00/3.16M [00:00<?, ?B/s]"
      ]
     },
     "metadata": {},
     "output_type": "display_data"
    },
    {
     "name": "stdout",
     "output_type": "stream",
     "text": [
      "✅ Finished 1989\n",
      "⬇️ Downloading 2m_temperature for 1990...\n"
     ]
    },
    {
     "name": "stderr",
     "output_type": "stream",
     "text": [
      "2025-07-12 14:29:33,239 INFO Request ID is 72507c03-fc83-4e32-880a-d02ca8663063\n",
      "2025-07-12 14:29:33,398 INFO status has been updated to accepted\n",
      "2025-07-12 14:29:42,194 INFO status has been updated to running\n",
      "2025-07-12 14:39:55,416 INFO status has been updated to successful\n"
     ]
    },
    {
     "data": {
      "application/vnd.jupyter.widget-view+json": {
       "model_id": "",
       "version_major": 2,
       "version_minor": 0
      },
      "text/plain": [
       "e2106f5bf750c34f4c930dcfc25aeb74.grib:   0%|          | 0.00/3.16M [00:00<?, ?B/s]"
      ]
     },
     "metadata": {},
     "output_type": "display_data"
    },
    {
     "name": "stdout",
     "output_type": "stream",
     "text": [
      "✅ Finished 1990\n",
      "⬇️ Downloading 2m_temperature for 1991...\n"
     ]
    },
    {
     "name": "stderr",
     "output_type": "stream",
     "text": [
      "2025-07-12 14:40:00,644 INFO Request ID is 00f3c096-e37d-4a8a-98d8-2958143ceea6\n",
      "2025-07-12 14:40:00,816 INFO status has been updated to accepted\n",
      "2025-07-12 14:40:07,211 INFO status has been updated to running\n",
      "2025-07-12 14:50:24,584 INFO status has been updated to successful\n"
     ]
    },
    {
     "data": {
      "application/vnd.jupyter.widget-view+json": {
       "model_id": "",
       "version_major": 2,
       "version_minor": 0
      },
      "text/plain": [
       "3e88b86c2fa62bb4408bfdc929a9e186.grib:   0%|          | 0.00/3.16M [00:00<?, ?B/s]"
      ]
     },
     "metadata": {},
     "output_type": "display_data"
    },
    {
     "name": "stdout",
     "output_type": "stream",
     "text": [
      "✅ Finished 1991\n",
      "⬇️ Downloading 2m_temperature for 1992...\n"
     ]
    },
    {
     "name": "stderr",
     "output_type": "stream",
     "text": [
      "2025-07-12 14:50:28,809 INFO Request ID is 0a387a3d-bf7f-451d-a145-823f5889b6bc\n",
      "2025-07-12 14:50:28,964 INFO status has been updated to accepted\n",
      "2025-07-12 14:50:34,334 INFO status has been updated to running\n",
      "2025-07-12 15:00:51,502 INFO status has been updated to successful\n"
     ]
    },
    {
     "data": {
      "application/vnd.jupyter.widget-view+json": {
       "model_id": "",
       "version_major": 2,
       "version_minor": 0
      },
      "text/plain": [
       "8dddd229506ee7540addf2ec94b6cf5d.grib:   0%|          | 0.00/3.17M [00:00<?, ?B/s]"
      ]
     },
     "metadata": {},
     "output_type": "display_data"
    },
    {
     "name": "stdout",
     "output_type": "stream",
     "text": [
      "✅ Finished 1992\n",
      "⬇️ Downloading 2m_temperature for 1993...\n"
     ]
    },
    {
     "name": "stderr",
     "output_type": "stream",
     "text": [
      "2025-07-12 15:00:54,648 INFO Request ID is 05691a7a-842e-4b59-bbf2-5a11053bc897\n",
      "2025-07-12 15:00:54,820 INFO status has been updated to accepted\n",
      "2025-07-12 15:01:03,623 INFO status has been updated to running\n",
      "2025-07-12 15:13:17,031 INFO status has been updated to successful\n"
     ]
    },
    {
     "data": {
      "application/vnd.jupyter.widget-view+json": {
       "model_id": "",
       "version_major": 2,
       "version_minor": 0
      },
      "text/plain": [
       "930f267e8baf8fe1ce88ff80b7a2aa05.grib:   0%|          | 0.00/3.16M [00:00<?, ?B/s]"
      ]
     },
     "metadata": {},
     "output_type": "display_data"
    },
    {
     "name": "stdout",
     "output_type": "stream",
     "text": [
      "✅ Finished 1993\n",
      "⬇️ Downloading 2m_temperature for 1994...\n"
     ]
    },
    {
     "name": "stderr",
     "output_type": "stream",
     "text": [
      "2025-07-12 15:13:19,903 INFO Request ID is c380f78e-a37d-4ec4-9e58-c668cc19bfb5\n",
      "2025-07-12 15:13:20,080 INFO status has been updated to accepted\n",
      "2025-07-12 15:13:34,148 INFO status has been updated to running\n",
      "2025-07-12 15:23:41,983 INFO status has been updated to successful\n"
     ]
    },
    {
     "data": {
      "application/vnd.jupyter.widget-view+json": {
       "model_id": "",
       "version_major": 2,
       "version_minor": 0
      },
      "text/plain": [
       "7b3a1c66c4691b11e0caee7812810da0.grib:   0%|          | 0.00/3.16M [00:00<?, ?B/s]"
      ]
     },
     "metadata": {},
     "output_type": "display_data"
    },
    {
     "name": "stdout",
     "output_type": "stream",
     "text": [
      "✅ Finished 1994\n",
      "⬇️ Downloading 2m_temperature for 1995...\n"
     ]
    },
    {
     "name": "stderr",
     "output_type": "stream",
     "text": [
      "2025-07-12 15:23:48,176 INFO Request ID is bd1d2427-ee37-4046-b560-be640c8173ff\n",
      "2025-07-12 15:23:48,331 INFO status has been updated to accepted\n",
      "2025-07-12 15:23:53,638 INFO status has been updated to running\n",
      "2025-07-12 15:36:12,955 INFO status has been updated to successful\n"
     ]
    },
    {
     "data": {
      "application/vnd.jupyter.widget-view+json": {
       "model_id": "",
       "version_major": 2,
       "version_minor": 0
      },
      "text/plain": [
       "4c92942720090d386d4b98515f61befb.grib:   0%|          | 0.00/3.16M [00:00<?, ?B/s]"
      ]
     },
     "metadata": {},
     "output_type": "display_data"
    },
    {
     "name": "stdout",
     "output_type": "stream",
     "text": [
      "✅ Finished 1995\n",
      "⬇️ Downloading 2m_temperature for 1996...\n"
     ]
    },
    {
     "name": "stderr",
     "output_type": "stream",
     "text": [
      "2025-07-12 15:36:15,890 INFO Request ID is 33e3d1c1-7c1b-49f5-8d71-083e5cf6b985\n",
      "2025-07-12 15:36:16,042 INFO status has been updated to accepted\n",
      "2025-07-12 15:36:24,921 INFO status has been updated to running\n",
      "2025-07-12 15:48:38,686 INFO status has been updated to successful\n"
     ]
    },
    {
     "data": {
      "application/vnd.jupyter.widget-view+json": {
       "model_id": "",
       "version_major": 2,
       "version_minor": 0
      },
      "text/plain": [
       "9d4cd573895c536294ce12cf6ffad0fa.grib:   0%|          | 0.00/3.17M [00:00<?, ?B/s]"
      ]
     },
     "metadata": {},
     "output_type": "display_data"
    },
    {
     "name": "stdout",
     "output_type": "stream",
     "text": [
      "✅ Finished 1996\n",
      "⬇️ Downloading 2m_temperature for 1997...\n"
     ]
    },
    {
     "name": "stderr",
     "output_type": "stream",
     "text": [
      "2025-07-12 15:48:41,795 INFO Request ID is a93229ac-5047-49e2-882e-04fabc7dd37f\n",
      "2025-07-12 15:48:41,951 INFO status has been updated to accepted\n",
      "2025-07-12 15:48:50,734 INFO status has been updated to running\n"
     ]
    }
   ],
   "source": [
    "import cdsapi\n",
    "import os\n",
    "\n",
    "# Setup\n",
    "c = cdsapi.Client()\n",
    "\n",
    "output_dir = \"era5_full_hourly_bhutan\"\n",
    "os.makedirs(output_dir, exist_ok=True)\n",
    "\n",
    "# Set your variable of interest (you can later change this)\n",
    "variable_name = '2m_temperature'\n",
    "\n",
    "# Approximate Bhutan bounding box\n",
    "area = [28.5, 88.5, 26.5, 92.0]  # [N, W, S, E]\n",
    "\n",
    "# All available ERA5 years (use fewer if testing first)\n",
    "years = [str(y) for y in range(1979, 2024)]  # ERA5 starts from 1979\n",
    "months = [f\"{m:02d}\" for m in range(1, 13)]\n",
    "days = [f\"{d:02d}\" for d in range(1, 32)]\n",
    "hours = [f\"{h:02d}:00\" for h in range(24)]\n",
    "\n",
    "for year in years:\n",
    "    output_file = os.path.join(output_dir, f\"{variable_name}_{year}.grib\")\n",
    "    \n",
    "    if os.path.exists(output_file):\n",
    "        print(f\"✅ Already exists: {output_file}\")\n",
    "        continue\n",
    "    \n",
    "    print(f\"⬇️ Downloading {variable_name} for {year}...\")\n",
    "    \n",
    "    c.retrieve(\n",
    "        'reanalysis-era5-single-levels',\n",
    "        {\n",
    "            'product_type': 'reanalysis',\n",
    "            'format': 'grib',\n",
    "            'variable': [variable_name],\n",
    "            'year': year,\n",
    "            'month': months,\n",
    "            'day': days,\n",
    "            'time': hours,\n",
    "            'area': area,\n",
    "        },\n",
    "        output_file\n",
    "    )\n",
    "    \n",
    "    print(f\"✅ Finished {year}\")\n"
   ]
  },
  {
   "cell_type": "code",
   "execution_count": null,
   "id": "a488d19f",
   "metadata": {},
   "outputs": [],
   "source": []
  }
 ],
 "metadata": {
  "kernelspec": {
   "display_name": "Python 3 (ipykernel)",
   "language": "python",
   "name": "python3"
  },
  "language_info": {
   "codemirror_mode": {
    "name": "ipython",
    "version": 3
   },
   "file_extension": ".py",
   "mimetype": "text/x-python",
   "name": "python",
   "nbconvert_exporter": "python",
   "pygments_lexer": "ipython3",
   "version": "3.9.12"
  }
 },
 "nbformat": 4,
 "nbformat_minor": 5
}
