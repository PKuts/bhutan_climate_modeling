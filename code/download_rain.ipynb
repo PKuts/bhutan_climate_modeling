{
 "cells": [
  {
   "cell_type": "code",
   "execution_count": null,
   "id": "11e96786",
   "metadata": {},
   "outputs": [
    {
     "name": "stderr",
     "output_type": "stream",
     "text": [
      "2025-07-12 16:42:44,186 INFO [2024-09-26T00:00:00] Watch our [Forum](https://forum.ecmwf.int/) for Announcements, news and other discussed topics.\n"
     ]
    },
    {
     "name": "stdout",
     "output_type": "stream",
     "text": [
      "\n",
      "⬇️ Downloading total_precipitation for 1979...\n"
     ]
    },
    {
     "name": "stderr",
     "output_type": "stream",
     "text": [
      "2025-07-12 16:42:45,005 INFO Request ID is f5747ede-d85a-4944-9a7d-50b6d890e260\n",
      "2025-07-12 16:42:45,209 INFO status has been updated to accepted\n"
     ]
    }
   ],
   "source": [
    "from era5_hourly_downloader import download_era5_hourly_variable\n",
    "\n",
    "\n",
    "# You can call it again with a different variable\n",
    "download_era5_hourly_variable(\n",
    "    variable_name='total_precipitation',\n",
    "    years=[str(y) for y in range(1979, 2024)]\n",
    ")\n"
   ]
  },
  {
   "cell_type": "code",
   "execution_count": null,
   "id": "27565a9a",
   "metadata": {},
   "outputs": [],
   "source": []
  }
 ],
 "metadata": {
  "kernelspec": {
   "display_name": "Python 3 (ipykernel)",
   "language": "python",
   "name": "python3"
  },
  "language_info": {
   "codemirror_mode": {
    "name": "ipython",
    "version": 3
   },
   "file_extension": ".py",
   "mimetype": "text/x-python",
   "name": "python",
   "nbconvert_exporter": "python",
   "pygments_lexer": "ipython3",
   "version": "3.13.5"
  }
 },
 "nbformat": 4,
 "nbformat_minor": 5
}
