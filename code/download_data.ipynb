{
 "cells": [
  {
   "cell_type": "code",
   "execution_count": 1,
   "id": "7fb16e89",
   "metadata": {},
   "outputs": [],
   "source": [
    "from era5_hourly_downloader import download_era5_hourly_variable"
   ]
  },
  {
   "cell_type": "code",
   "execution_count": 2,
   "id": "8ea7c82a",
   "metadata": {},
   "outputs": [],
   "source": [
    "era5_variables = [\n",
    "    \"total_precipitation\",\n",
    "    \"2m_temperature\",\n",
    "    \"2m_dewpoint_temperature\",\n",
    "    \"10m_u_component_of_wind\",\n",
    "    \"10m_v_component_of_wind\",\n",
    "    \"surface_solar_radiation_downwards\",\n",
    "    \"potential_evaporation\",\n",
    "    \"snow_depth\",\n",
    "    \"snowmelt\",\n",
    "    \"soil_temperature_level_1\",\n",
    "    \"surface_runoff\", # to be used as flood indicator proxy\n",
    "    \"sub_surface_runoff\", # to be used as flood indicator proxy\n",
    "]\n",
    "\n",
    "# relative humidity does not exist - need to be derived from 2m_temperature and 2m_dewpoint_temperature\n"
   ]
  },
  {
   "cell_type": "code",
   "execution_count": null,
   "id": "4b296a87",
   "metadata": {},
   "outputs": [
    {
     "name": "stderr",
     "output_type": "stream",
     "text": [
      "2025-07-13 16:40:42,666 INFO [2024-09-26T00:00:00] Watch our [Forum](https://forum.ecmwf.int/) for Announcements, news and other discussed topics.\n"
     ]
    },
    {
     "name": "stdout",
     "output_type": "stream",
     "text": [
      "✅ Already exists: ../era5_data/total_precipitation/total_precipitation_2025.grib\n",
      "✅ Already exists: ../era5_data/total_precipitation/total_precipitation_2024.grib\n",
      "✅ Already exists: ../era5_data/total_precipitation/total_precipitation_2023.grib\n",
      "✅ Already exists: ../era5_data/total_precipitation/total_precipitation_2022.grib\n",
      "✅ Already exists: ../era5_data/total_precipitation/total_precipitation_2021.grib\n",
      "✅ Already exists: ../era5_data/total_precipitation/total_precipitation_2020.grib\n",
      "✅ Already exists: ../era5_data/total_precipitation/total_precipitation_2019.grib\n",
      "✅ Already exists: ../era5_data/total_precipitation/total_precipitation_2018.grib\n",
      "✅ Already exists: ../era5_data/total_precipitation/total_precipitation_2017.grib\n",
      "✅ Already exists: ../era5_data/total_precipitation/total_precipitation_2016.grib\n",
      "\n",
      "⏱️ Total time for total_precipitation: 0.00 seconds\n"
     ]
    },
    {
     "name": "stderr",
     "output_type": "stream",
     "text": [
      "2025-07-13 16:40:43,069 INFO [2024-09-26T00:00:00] Watch our [Forum](https://forum.ecmwf.int/) for Announcements, news and other discussed topics.\n"
     ]
    },
    {
     "name": "stdout",
     "output_type": "stream",
     "text": [
      "✅ Already exists: ../era5_data/2m_temperature/2m_temperature_2025.grib\n",
      "✅ Already exists: ../era5_data/2m_temperature/2m_temperature_2024.grib\n",
      "✅ Already exists: ../era5_data/2m_temperature/2m_temperature_2023.grib\n",
      "✅ Already exists: ../era5_data/2m_temperature/2m_temperature_2022.grib\n",
      "✅ Already exists: ../era5_data/2m_temperature/2m_temperature_2021.grib\n",
      "✅ Already exists: ../era5_data/2m_temperature/2m_temperature_2020.grib\n",
      "✅ Already exists: ../era5_data/2m_temperature/2m_temperature_2019.grib\n",
      "✅ Already exists: ../era5_data/2m_temperature/2m_temperature_2018.grib\n",
      "✅ Already exists: ../era5_data/2m_temperature/2m_temperature_2017.grib\n",
      "✅ Already exists: ../era5_data/2m_temperature/2m_temperature_2016.grib\n",
      "\n",
      "⏱️ Total time for 2m_temperature: 0.00 seconds\n"
     ]
    },
    {
     "name": "stderr",
     "output_type": "stream",
     "text": [
      "2025-07-13 16:40:43,463 INFO [2024-09-26T00:00:00] Watch our [Forum](https://forum.ecmwf.int/) for Announcements, news and other discussed topics.\n"
     ]
    },
    {
     "name": "stdout",
     "output_type": "stream",
     "text": [
      "✅ Already exists: ../era5_data/2m_dewpoint_temperature/2m_dewpoint_temperature_2025.grib\n",
      "✅ Already exists: ../era5_data/2m_dewpoint_temperature/2m_dewpoint_temperature_2024.grib\n",
      "✅ Already exists: ../era5_data/2m_dewpoint_temperature/2m_dewpoint_temperature_2023.grib\n",
      "✅ Already exists: ../era5_data/2m_dewpoint_temperature/2m_dewpoint_temperature_2022.grib\n",
      "✅ Already exists: ../era5_data/2m_dewpoint_temperature/2m_dewpoint_temperature_2021.grib\n",
      "✅ Already exists: ../era5_data/2m_dewpoint_temperature/2m_dewpoint_temperature_2020.grib\n",
      "✅ Already exists: ../era5_data/2m_dewpoint_temperature/2m_dewpoint_temperature_2019.grib\n",
      "✅ Already exists: ../era5_data/2m_dewpoint_temperature/2m_dewpoint_temperature_2018.grib\n",
      "✅ Already exists: ../era5_data/2m_dewpoint_temperature/2m_dewpoint_temperature_2017.grib\n",
      "✅ Already exists: ../era5_data/2m_dewpoint_temperature/2m_dewpoint_temperature_2016.grib\n",
      "\n",
      "⏱️ Total time for 2m_dewpoint_temperature: 0.00 seconds\n"
     ]
    },
    {
     "name": "stderr",
     "output_type": "stream",
     "text": [
      "2025-07-13 16:40:43,845 INFO [2024-09-26T00:00:00] Watch our [Forum](https://forum.ecmwf.int/) for Announcements, news and other discussed topics.\n"
     ]
    },
    {
     "name": "stdout",
     "output_type": "stream",
     "text": [
      "✅ Already exists: ../era5_data/10m_u_component_of_wind/10m_u_component_of_wind_2025.grib\n",
      "✅ Already exists: ../era5_data/10m_u_component_of_wind/10m_u_component_of_wind_2024.grib\n",
      "✅ Already exists: ../era5_data/10m_u_component_of_wind/10m_u_component_of_wind_2023.grib\n",
      "✅ Already exists: ../era5_data/10m_u_component_of_wind/10m_u_component_of_wind_2022.grib\n",
      "✅ Already exists: ../era5_data/10m_u_component_of_wind/10m_u_component_of_wind_2021.grib\n",
      "✅ Already exists: ../era5_data/10m_u_component_of_wind/10m_u_component_of_wind_2020.grib\n",
      "✅ Already exists: ../era5_data/10m_u_component_of_wind/10m_u_component_of_wind_2019.grib\n",
      "✅ Already exists: ../era5_data/10m_u_component_of_wind/10m_u_component_of_wind_2018.grib\n",
      "✅ Already exists: ../era5_data/10m_u_component_of_wind/10m_u_component_of_wind_2017.grib\n",
      "✅ Already exists: ../era5_data/10m_u_component_of_wind/10m_u_component_of_wind_2016.grib\n",
      "\n",
      "⏱️ Total time for 10m_u_component_of_wind: 0.00 seconds\n"
     ]
    },
    {
     "name": "stderr",
     "output_type": "stream",
     "text": [
      "2025-07-13 16:40:44,235 INFO [2024-09-26T00:00:00] Watch our [Forum](https://forum.ecmwf.int/) for Announcements, news and other discussed topics.\n"
     ]
    },
    {
     "name": "stdout",
     "output_type": "stream",
     "text": [
      "✅ Already exists: ../era5_data/10m_v_component_of_wind/10m_v_component_of_wind_2025.grib\n",
      "✅ Already exists: ../era5_data/10m_v_component_of_wind/10m_v_component_of_wind_2024.grib\n",
      "✅ Already exists: ../era5_data/10m_v_component_of_wind/10m_v_component_of_wind_2023.grib\n",
      "✅ Already exists: ../era5_data/10m_v_component_of_wind/10m_v_component_of_wind_2022.grib\n",
      "✅ Already exists: ../era5_data/10m_v_component_of_wind/10m_v_component_of_wind_2021.grib\n",
      "✅ Already exists: ../era5_data/10m_v_component_of_wind/10m_v_component_of_wind_2020.grib\n",
      "✅ Already exists: ../era5_data/10m_v_component_of_wind/10m_v_component_of_wind_2019.grib\n",
      "✅ Already exists: ../era5_data/10m_v_component_of_wind/10m_v_component_of_wind_2018.grib\n",
      "✅ Already exists: ../era5_data/10m_v_component_of_wind/10m_v_component_of_wind_2017.grib\n",
      "✅ Already exists: ../era5_data/10m_v_component_of_wind/10m_v_component_of_wind_2016.grib\n",
      "\n",
      "⏱️ Total time for 10m_v_component_of_wind: 0.00 seconds\n"
     ]
    },
    {
     "name": "stderr",
     "output_type": "stream",
     "text": [
      "2025-07-13 16:40:44,605 INFO [2024-09-26T00:00:00] Watch our [Forum](https://forum.ecmwf.int/) for Announcements, news and other discussed topics.\n"
     ]
    },
    {
     "name": "stdout",
     "output_type": "stream",
     "text": [
      "✅ Already exists: ../era5_data/surface_solar_radiation_downwards/surface_solar_radiation_downwards_2025.grib\n",
      "✅ Already exists: ../era5_data/surface_solar_radiation_downwards/surface_solar_radiation_downwards_2024.grib\n",
      "✅ Already exists: ../era5_data/surface_solar_radiation_downwards/surface_solar_radiation_downwards_2023.grib\n",
      "✅ Already exists: ../era5_data/surface_solar_radiation_downwards/surface_solar_radiation_downwards_2022.grib\n",
      "✅ Already exists: ../era5_data/surface_solar_radiation_downwards/surface_solar_radiation_downwards_2021.grib\n",
      "✅ Already exists: ../era5_data/surface_solar_radiation_downwards/surface_solar_radiation_downwards_2020.grib\n",
      "✅ Already exists: ../era5_data/surface_solar_radiation_downwards/surface_solar_radiation_downwards_2019.grib\n",
      "✅ Already exists: ../era5_data/surface_solar_radiation_downwards/surface_solar_radiation_downwards_2018.grib\n",
      "✅ Already exists: ../era5_data/surface_solar_radiation_downwards/surface_solar_radiation_downwards_2017.grib\n",
      "✅ Already exists: ../era5_data/surface_solar_radiation_downwards/surface_solar_radiation_downwards_2016.grib\n",
      "\n",
      "⏱️ Total time for surface_solar_radiation_downwards: 0.00 seconds\n"
     ]
    },
    {
     "name": "stderr",
     "output_type": "stream",
     "text": [
      "2025-07-13 16:40:44,993 INFO [2024-09-26T00:00:00] Watch our [Forum](https://forum.ecmwf.int/) for Announcements, news and other discussed topics.\n"
     ]
    },
    {
     "name": "stdout",
     "output_type": "stream",
     "text": [
      "✅ Already exists: ../era5_data/potential_evaporation/potential_evaporation_2025.grib\n",
      "✅ Already exists: ../era5_data/potential_evaporation/potential_evaporation_2024.grib\n",
      "✅ Already exists: ../era5_data/potential_evaporation/potential_evaporation_2023.grib\n",
      "✅ Already exists: ../era5_data/potential_evaporation/potential_evaporation_2022.grib\n",
      "✅ Already exists: ../era5_data/potential_evaporation/potential_evaporation_2021.grib\n",
      "✅ Already exists: ../era5_data/potential_evaporation/potential_evaporation_2020.grib\n",
      "✅ Already exists: ../era5_data/potential_evaporation/potential_evaporation_2019.grib\n",
      "✅ Already exists: ../era5_data/potential_evaporation/potential_evaporation_2018.grib\n",
      "✅ Already exists: ../era5_data/potential_evaporation/potential_evaporation_2017.grib\n",
      "✅ Already exists: ../era5_data/potential_evaporation/potential_evaporation_2016.grib\n",
      "\n",
      "⏱️ Total time for potential_evaporation: 0.00 seconds\n"
     ]
    },
    {
     "name": "stderr",
     "output_type": "stream",
     "text": [
      "2025-07-13 16:40:45,396 INFO [2024-09-26T00:00:00] Watch our [Forum](https://forum.ecmwf.int/) for Announcements, news and other discussed topics.\n"
     ]
    },
    {
     "name": "stdout",
     "output_type": "stream",
     "text": [
      "✅ Already exists: ../era5_data/snow_depth/snow_depth_2025.grib\n",
      "✅ Already exists: ../era5_data/snow_depth/snow_depth_2024.grib\n",
      "✅ Already exists: ../era5_data/snow_depth/snow_depth_2023.grib\n",
      "✅ Already exists: ../era5_data/snow_depth/snow_depth_2022.grib\n",
      "✅ Already exists: ../era5_data/snow_depth/snow_depth_2021.grib\n",
      "✅ Already exists: ../era5_data/snow_depth/snow_depth_2020.grib\n",
      "\n",
      "⬇️ Downloading snow_depth for 2019...\n"
     ]
    },
    {
     "name": "stderr",
     "output_type": "stream",
     "text": [
      "2025-07-13 16:40:46,053 INFO Request ID is b53333f7-85e9-4e2b-aaea-8b0c5e415cb7\n",
      "2025-07-13 16:40:46,210 INFO status has been updated to accepted\n",
      "2025-07-13 16:41:00,327 INFO status has been updated to running\n"
     ]
    }
   ],
   "source": [
    "for var in era5_variables:\n",
    "    download_era5_hourly_variable(\n",
    "        variable_name=var,\n",
    "        years=range(2025, 2015, -1)\n",
    "    )"
   ]
  },
  {
   "cell_type": "code",
   "execution_count": null,
   "id": "c6801a1c",
   "metadata": {},
   "outputs": [],
   "source": []
  }
 ],
 "metadata": {
  "kernelspec": {
   "display_name": "Python 3 (ipykernel)",
   "language": "python",
   "name": "python3"
  },
  "language_info": {
   "codemirror_mode": {
    "name": "ipython",
    "version": 3
   },
   "file_extension": ".py",
   "mimetype": "text/x-python",
   "name": "python",
   "nbconvert_exporter": "python",
   "pygments_lexer": "ipython3",
   "version": "3.9.12"
  }
 },
 "nbformat": 4,
 "nbformat_minor": 5
}
