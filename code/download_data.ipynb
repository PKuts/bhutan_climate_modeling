{
 "cells": [
  {
   "cell_type": "code",
   "execution_count": 1,
   "id": "18a94340",
   "metadata": {},
   "outputs": [],
   "source": [
    "from era5_hourly_downloader import download_era5_hourly_variable"
   ]
  },
  {
   "cell_type": "code",
   "execution_count": 2,
   "id": "6cd87b06",
   "metadata": {},
   "outputs": [],
   "source": [
    "era5_variables = [\n",
    "    \"total_precipitation\",\n",
    "    \"2m_temperature\",\n",
    "    \"2m_dewpoint_temperature\",\n",
    "    \"10m_u_component_of_wind\",\n",
    "    \"10m_v_component_of_wind\",\n",
    "    \"surface_solar_radiation_downwards\",\n",
    "    \"potential_evaporation\",\n",
    "    \"snow_depth\",\n",
    "    \"snowmelt\",\n",
    "    \"soil_temperature_level_1\",\n",
    "    \"surface_runoff\", # to be used as flood indicator proxy\n",
    "    \"sub_surface_runoff\", # to be used as flood indicator proxy\n",
    "]\n",
    "\n",
    "# relative humidity does not exist - need to be derived from 2m_temperature and 2m_dewpoint_temperature\n"
   ]
  },
  {
   "cell_type": "code",
   "execution_count": null,
   "id": "c192d7c2",
   "metadata": {},
   "outputs": [
    {
     "name": "stderr",
     "output_type": "stream",
     "text": [
      "2025-07-14 12:16:13,308 INFO [2024-09-26T00:00:00] Watch our [Forum](https://forum.ecmwf.int/) for Announcements, news and other discussed topics.\n"
     ]
    },
    {
     "name": "stdout",
     "output_type": "stream",
     "text": [
      "✅ Already exists: ../era5_data/total_precipitation/total_precipitation_2025.grib\n",
      "✅ Already exists: ../era5_data/total_precipitation/total_precipitation_2024.grib\n",
      "✅ Already exists: ../era5_data/total_precipitation/total_precipitation_2023.grib\n",
      "✅ Already exists: ../era5_data/total_precipitation/total_precipitation_2022.grib\n",
      "✅ Already exists: ../era5_data/total_precipitation/total_precipitation_2021.grib\n",
      "✅ Already exists: ../era5_data/total_precipitation/total_precipitation_2020.grib\n",
      "✅ Already exists: ../era5_data/total_precipitation/total_precipitation_2019.grib\n",
      "✅ Already exists: ../era5_data/total_precipitation/total_precipitation_2018.grib\n",
      "✅ Already exists: ../era5_data/total_precipitation/total_precipitation_2017.grib\n",
      "✅ Already exists: ../era5_data/total_precipitation/total_precipitation_2016.grib\n",
      "✅ Already exists: ../era5_data/total_precipitation/total_precipitation_2015.grib\n",
      "✅ Already exists: ../era5_data/total_precipitation/total_precipitation_2014.grib\n",
      "✅ Already exists: ../era5_data/total_precipitation/total_precipitation_2013.grib\n",
      "✅ Already exists: ../era5_data/total_precipitation/total_precipitation_2012.grib\n",
      "✅ Already exists: ../era5_data/total_precipitation/total_precipitation_2011.grib\n",
      "\n",
      "⏱️ Total time for total_precipitation: 0.00 seconds\n"
     ]
    },
    {
     "name": "stderr",
     "output_type": "stream",
     "text": [
      "2025-07-14 12:16:13,718 INFO [2024-09-26T00:00:00] Watch our [Forum](https://forum.ecmwf.int/) for Announcements, news and other discussed topics.\n"
     ]
    },
    {
     "name": "stdout",
     "output_type": "stream",
     "text": [
      "✅ Already exists: ../era5_data/2m_temperature/2m_temperature_2025.grib\n",
      "✅ Already exists: ../era5_data/2m_temperature/2m_temperature_2024.grib\n",
      "✅ Already exists: ../era5_data/2m_temperature/2m_temperature_2023.grib\n",
      "✅ Already exists: ../era5_data/2m_temperature/2m_temperature_2022.grib\n",
      "✅ Already exists: ../era5_data/2m_temperature/2m_temperature_2021.grib\n",
      "✅ Already exists: ../era5_data/2m_temperature/2m_temperature_2020.grib\n",
      "✅ Already exists: ../era5_data/2m_temperature/2m_temperature_2019.grib\n",
      "✅ Already exists: ../era5_data/2m_temperature/2m_temperature_2018.grib\n",
      "✅ Already exists: ../era5_data/2m_temperature/2m_temperature_2017.grib\n",
      "✅ Already exists: ../era5_data/2m_temperature/2m_temperature_2016.grib\n",
      "✅ Already exists: ../era5_data/2m_temperature/2m_temperature_2015.grib\n",
      "✅ Already exists: ../era5_data/2m_temperature/2m_temperature_2014.grib\n",
      "✅ Already exists: ../era5_data/2m_temperature/2m_temperature_2013.grib\n",
      "✅ Already exists: ../era5_data/2m_temperature/2m_temperature_2012.grib\n",
      "✅ Already exists: ../era5_data/2m_temperature/2m_temperature_2011.grib\n",
      "\n",
      "⏱️ Total time for 2m_temperature: 0.00 seconds\n"
     ]
    },
    {
     "name": "stderr",
     "output_type": "stream",
     "text": [
      "2025-07-14 12:16:14,090 INFO [2024-09-26T00:00:00] Watch our [Forum](https://forum.ecmwf.int/) for Announcements, news and other discussed topics.\n"
     ]
    },
    {
     "name": "stdout",
     "output_type": "stream",
     "text": [
      "✅ Already exists: ../era5_data/2m_dewpoint_temperature/2m_dewpoint_temperature_2025.grib\n",
      "✅ Already exists: ../era5_data/2m_dewpoint_temperature/2m_dewpoint_temperature_2024.grib\n",
      "✅ Already exists: ../era5_data/2m_dewpoint_temperature/2m_dewpoint_temperature_2023.grib\n",
      "✅ Already exists: ../era5_data/2m_dewpoint_temperature/2m_dewpoint_temperature_2022.grib\n",
      "✅ Already exists: ../era5_data/2m_dewpoint_temperature/2m_dewpoint_temperature_2021.grib\n",
      "✅ Already exists: ../era5_data/2m_dewpoint_temperature/2m_dewpoint_temperature_2020.grib\n",
      "✅ Already exists: ../era5_data/2m_dewpoint_temperature/2m_dewpoint_temperature_2019.grib\n",
      "✅ Already exists: ../era5_data/2m_dewpoint_temperature/2m_dewpoint_temperature_2018.grib\n",
      "✅ Already exists: ../era5_data/2m_dewpoint_temperature/2m_dewpoint_temperature_2017.grib\n",
      "✅ Already exists: ../era5_data/2m_dewpoint_temperature/2m_dewpoint_temperature_2016.grib\n",
      "✅ Already exists: ../era5_data/2m_dewpoint_temperature/2m_dewpoint_temperature_2015.grib\n",
      "✅ Already exists: ../era5_data/2m_dewpoint_temperature/2m_dewpoint_temperature_2014.grib\n",
      "✅ Already exists: ../era5_data/2m_dewpoint_temperature/2m_dewpoint_temperature_2013.grib\n",
      "✅ Already exists: ../era5_data/2m_dewpoint_temperature/2m_dewpoint_temperature_2012.grib\n",
      "✅ Already exists: ../era5_data/2m_dewpoint_temperature/2m_dewpoint_temperature_2011.grib\n",
      "\n",
      "⏱️ Total time for 2m_dewpoint_temperature: 0.00 seconds\n"
     ]
    },
    {
     "name": "stderr",
     "output_type": "stream",
     "text": [
      "2025-07-14 12:16:14,501 INFO [2024-09-26T00:00:00] Watch our [Forum](https://forum.ecmwf.int/) for Announcements, news and other discussed topics.\n"
     ]
    },
    {
     "name": "stdout",
     "output_type": "stream",
     "text": [
      "✅ Already exists: ../era5_data/10m_u_component_of_wind/10m_u_component_of_wind_2025.grib\n",
      "✅ Already exists: ../era5_data/10m_u_component_of_wind/10m_u_component_of_wind_2024.grib\n",
      "✅ Already exists: ../era5_data/10m_u_component_of_wind/10m_u_component_of_wind_2023.grib\n",
      "✅ Already exists: ../era5_data/10m_u_component_of_wind/10m_u_component_of_wind_2022.grib\n",
      "✅ Already exists: ../era5_data/10m_u_component_of_wind/10m_u_component_of_wind_2021.grib\n",
      "✅ Already exists: ../era5_data/10m_u_component_of_wind/10m_u_component_of_wind_2020.grib\n",
      "✅ Already exists: ../era5_data/10m_u_component_of_wind/10m_u_component_of_wind_2019.grib\n",
      "✅ Already exists: ../era5_data/10m_u_component_of_wind/10m_u_component_of_wind_2018.grib\n",
      "✅ Already exists: ../era5_data/10m_u_component_of_wind/10m_u_component_of_wind_2017.grib\n",
      "✅ Already exists: ../era5_data/10m_u_component_of_wind/10m_u_component_of_wind_2016.grib\n",
      "✅ Already exists: ../era5_data/10m_u_component_of_wind/10m_u_component_of_wind_2015.grib\n",
      "✅ Already exists: ../era5_data/10m_u_component_of_wind/10m_u_component_of_wind_2014.grib\n",
      "✅ Already exists: ../era5_data/10m_u_component_of_wind/10m_u_component_of_wind_2013.grib\n",
      "✅ Already exists: ../era5_data/10m_u_component_of_wind/10m_u_component_of_wind_2012.grib\n",
      "✅ Already exists: ../era5_data/10m_u_component_of_wind/10m_u_component_of_wind_2011.grib\n",
      "\n",
      "⏱️ Total time for 10m_u_component_of_wind: 0.00 seconds\n"
     ]
    },
    {
     "name": "stderr",
     "output_type": "stream",
     "text": [
      "2025-07-14 12:16:14,872 INFO [2024-09-26T00:00:00] Watch our [Forum](https://forum.ecmwf.int/) for Announcements, news and other discussed topics.\n"
     ]
    },
    {
     "name": "stdout",
     "output_type": "stream",
     "text": [
      "✅ Already exists: ../era5_data/10m_v_component_of_wind/10m_v_component_of_wind_2025.grib\n",
      "✅ Already exists: ../era5_data/10m_v_component_of_wind/10m_v_component_of_wind_2024.grib\n",
      "✅ Already exists: ../era5_data/10m_v_component_of_wind/10m_v_component_of_wind_2023.grib\n",
      "✅ Already exists: ../era5_data/10m_v_component_of_wind/10m_v_component_of_wind_2022.grib\n",
      "✅ Already exists: ../era5_data/10m_v_component_of_wind/10m_v_component_of_wind_2021.grib\n",
      "✅ Already exists: ../era5_data/10m_v_component_of_wind/10m_v_component_of_wind_2020.grib\n",
      "✅ Already exists: ../era5_data/10m_v_component_of_wind/10m_v_component_of_wind_2019.grib\n",
      "✅ Already exists: ../era5_data/10m_v_component_of_wind/10m_v_component_of_wind_2018.grib\n",
      "✅ Already exists: ../era5_data/10m_v_component_of_wind/10m_v_component_of_wind_2017.grib\n",
      "✅ Already exists: ../era5_data/10m_v_component_of_wind/10m_v_component_of_wind_2016.grib\n",
      "✅ Already exists: ../era5_data/10m_v_component_of_wind/10m_v_component_of_wind_2015.grib\n",
      "✅ Already exists: ../era5_data/10m_v_component_of_wind/10m_v_component_of_wind_2014.grib\n",
      "✅ Already exists: ../era5_data/10m_v_component_of_wind/10m_v_component_of_wind_2013.grib\n",
      "✅ Already exists: ../era5_data/10m_v_component_of_wind/10m_v_component_of_wind_2012.grib\n",
      "✅ Already exists: ../era5_data/10m_v_component_of_wind/10m_v_component_of_wind_2011.grib\n",
      "\n",
      "⏱️ Total time for 10m_v_component_of_wind: 0.00 seconds\n"
     ]
    },
    {
     "name": "stderr",
     "output_type": "stream",
     "text": [
      "2025-07-14 12:16:15,251 INFO [2024-09-26T00:00:00] Watch our [Forum](https://forum.ecmwf.int/) for Announcements, news and other discussed topics.\n"
     ]
    },
    {
     "name": "stdout",
     "output_type": "stream",
     "text": [
      "✅ Already exists: ../era5_data/surface_solar_radiation_downwards/surface_solar_radiation_downwards_2025.grib\n",
      "✅ Already exists: ../era5_data/surface_solar_radiation_downwards/surface_solar_radiation_downwards_2024.grib\n",
      "✅ Already exists: ../era5_data/surface_solar_radiation_downwards/surface_solar_radiation_downwards_2023.grib\n",
      "✅ Already exists: ../era5_data/surface_solar_radiation_downwards/surface_solar_radiation_downwards_2022.grib\n",
      "✅ Already exists: ../era5_data/surface_solar_radiation_downwards/surface_solar_radiation_downwards_2021.grib\n",
      "✅ Already exists: ../era5_data/surface_solar_radiation_downwards/surface_solar_radiation_downwards_2020.grib\n",
      "✅ Already exists: ../era5_data/surface_solar_radiation_downwards/surface_solar_radiation_downwards_2019.grib\n",
      "✅ Already exists: ../era5_data/surface_solar_radiation_downwards/surface_solar_radiation_downwards_2018.grib\n",
      "✅ Already exists: ../era5_data/surface_solar_radiation_downwards/surface_solar_radiation_downwards_2017.grib\n",
      "✅ Already exists: ../era5_data/surface_solar_radiation_downwards/surface_solar_radiation_downwards_2016.grib\n",
      "\n",
      "⬇️ Downloading surface_solar_radiation_downwards for 2015...\n"
     ]
    },
    {
     "name": "stderr",
     "output_type": "stream",
     "text": [
      "2025-07-14 12:16:15,900 INFO Request ID is 8d07b56c-c0c3-4a01-ba39-e9d6a0abc443\n",
      "2025-07-14 12:16:16,063 INFO status has been updated to accepted\n",
      "2025-07-14 12:17:32,703 INFO status has been updated to running\n",
      "2025-07-14 12:28:40,418 INFO status has been updated to successful\n"
     ]
    },
    {
     "data": {
      "application/vnd.jupyter.widget-view+json": {
       "model_id": "",
       "version_major": 2,
       "version_minor": 0
      },
      "text/plain": [
       "89f1a4c893bea150885f0be6c0ba91dd.grib:   0%|          | 0.00/3.16M [00:00<?, ?B/s]"
      ]
     },
     "metadata": {},
     "output_type": "display_data"
    },
    {
     "name": "stdout",
     "output_type": "stream",
     "text": [
      "✅ Finished 2015 in 747.36 seconds\n",
      "\n",
      "⬇️ Downloading surface_solar_radiation_downwards for 2014...\n"
     ]
    },
    {
     "name": "stderr",
     "output_type": "stream",
     "text": [
      "2025-07-14 12:28:43,579 INFO Request ID is 9afd5c6e-b3f5-483d-a297-7558cf55098a\n",
      "2025-07-14 12:28:43,881 INFO status has been updated to accepted\n",
      "2025-07-14 12:28:57,974 INFO status has been updated to running\n",
      "2025-07-14 12:41:06,084 INFO status has been updated to successful\n"
     ]
    },
    {
     "data": {
      "application/vnd.jupyter.widget-view+json": {
       "model_id": "",
       "version_major": 2,
       "version_minor": 0
      },
      "text/plain": [
       "b8d42691defc9a87b58d07f76098072e.grib:   0%|          | 0.00/3.16M [00:00<?, ?B/s]"
      ]
     },
     "metadata": {},
     "output_type": "display_data"
    },
    {
     "name": "stdout",
     "output_type": "stream",
     "text": [
      "✅ Finished 2014 in 745.81 seconds\n",
      "\n",
      "⬇️ Downloading surface_solar_radiation_downwards for 2013...\n"
     ]
    },
    {
     "name": "stderr",
     "output_type": "stream",
     "text": [
      "2025-07-14 12:41:09,360 INFO Request ID is ca299e30-5e81-45fd-b32e-dce06f57d0b8\n",
      "2025-07-14 12:41:09,514 INFO status has been updated to accepted\n",
      "2025-07-14 12:41:42,915 INFO status has been updated to running\n",
      "2025-07-14 12:53:32,541 INFO status has been updated to successful\n"
     ]
    },
    {
     "data": {
      "application/vnd.jupyter.widget-view+json": {
       "model_id": "",
       "version_major": 2,
       "version_minor": 0
      },
      "text/plain": [
       "9ea3fac71b1975b1e23f802627794d3.grib:   0%|          | 0.00/3.16M [00:00<?, ?B/s]"
      ]
     },
     "metadata": {},
     "output_type": "display_data"
    },
    {
     "name": "stdout",
     "output_type": "stream",
     "text": [
      "✅ Finished 2013 in 751.45 seconds\n",
      "\n",
      "⬇️ Downloading surface_solar_radiation_downwards for 2012...\n"
     ]
    },
    {
     "name": "stderr",
     "output_type": "stream",
     "text": [
      "2025-07-14 12:53:40,786 INFO Request ID is 37742cd5-1b31-42d7-9cda-b3350b720f75\n",
      "2025-07-14 12:53:40,976 INFO status has been updated to accepted\n",
      "2025-07-14 12:54:02,764 INFO status has been updated to running\n",
      "2025-07-14 13:08:04,690 INFO status has been updated to successful\n"
     ]
    },
    {
     "data": {
      "application/vnd.jupyter.widget-view+json": {
       "model_id": "",
       "version_major": 2,
       "version_minor": 0
      },
      "text/plain": [
       "51243cc6d5d4910a639253515eacc24b.grib:   0%|          | 0.00/3.17M [00:00<?, ?B/s]"
      ]
     },
     "metadata": {},
     "output_type": "display_data"
    },
    {
     "name": "stdout",
     "output_type": "stream",
     "text": [
      "✅ Finished 2012 in 867.69 seconds\n",
      "\n",
      "⬇️ Downloading surface_solar_radiation_downwards for 2011...\n"
     ]
    },
    {
     "name": "stderr",
     "output_type": "stream",
     "text": [
      "2025-07-14 13:08:08,203 INFO Request ID is 0cbbf9f7-f553-4642-b231-f4644862d375\n",
      "2025-07-14 13:08:08,361 INFO status has been updated to accepted\n",
      "2025-07-14 13:08:13,583 INFO status has been updated to running\n",
      "2025-07-14 13:28:35,532 INFO status has been updated to successful\n"
     ]
    },
    {
     "data": {
      "application/vnd.jupyter.widget-view+json": {
       "model_id": "",
       "version_major": 2,
       "version_minor": 0
      },
      "text/plain": [
       "9c10dadb1afa458cce0f195ba434dbff.grib:   0%|          | 0.00/3.16M [00:00<?, ?B/s]"
      ]
     },
     "metadata": {},
     "output_type": "display_data"
    },
    {
     "name": "stdout",
     "output_type": "stream",
     "text": [
      "✅ Finished 2011 in 1230.91 seconds\n",
      "\n",
      "⏱️ Total time for surface_solar_radiation_downwards: 4343.23 seconds\n"
     ]
    },
    {
     "name": "stderr",
     "output_type": "stream",
     "text": [
      "2025-07-14 13:28:38,867 INFO [2024-09-26T00:00:00] Watch our [Forum](https://forum.ecmwf.int/) for Announcements, news and other discussed topics.\n"
     ]
    },
    {
     "name": "stdout",
     "output_type": "stream",
     "text": [
      "✅ Already exists: ../era5_data/potential_evaporation/potential_evaporation_2025.grib\n",
      "✅ Already exists: ../era5_data/potential_evaporation/potential_evaporation_2024.grib\n",
      "✅ Already exists: ../era5_data/potential_evaporation/potential_evaporation_2023.grib\n",
      "✅ Already exists: ../era5_data/potential_evaporation/potential_evaporation_2022.grib\n",
      "✅ Already exists: ../era5_data/potential_evaporation/potential_evaporation_2021.grib\n",
      "✅ Already exists: ../era5_data/potential_evaporation/potential_evaporation_2020.grib\n",
      "✅ Already exists: ../era5_data/potential_evaporation/potential_evaporation_2019.grib\n",
      "✅ Already exists: ../era5_data/potential_evaporation/potential_evaporation_2018.grib\n",
      "✅ Already exists: ../era5_data/potential_evaporation/potential_evaporation_2017.grib\n",
      "✅ Already exists: ../era5_data/potential_evaporation/potential_evaporation_2016.grib\n",
      "\n",
      "⬇️ Downloading potential_evaporation for 2015...\n"
     ]
    },
    {
     "name": "stderr",
     "output_type": "stream",
     "text": [
      "2025-07-14 13:28:39,511 INFO Request ID is 58134a70-412d-47d4-802d-ff0d5e438293\n",
      "2025-07-14 13:28:39,663 INFO status has been updated to accepted\n",
      "2025-07-14 13:28:48,484 INFO status has been updated to running\n",
      "2025-07-14 13:43:02,820 INFO status has been updated to successful\n"
     ]
    },
    {
     "data": {
      "application/vnd.jupyter.widget-view+json": {
       "model_id": "",
       "version_major": 2,
       "version_minor": 0
      },
      "text/plain": [
       "fcd36cb08871e9f765a48b22eee74de.grib:   0%|          | 0.00/3.16M [00:00<?, ?B/s]"
      ]
     },
     "metadata": {},
     "output_type": "display_data"
    },
    {
     "name": "stdout",
     "output_type": "stream",
     "text": [
      "✅ Finished 2015 in 868.26 seconds\n",
      "\n",
      "⬇️ Downloading potential_evaporation for 2014...\n"
     ]
    },
    {
     "name": "stderr",
     "output_type": "stream",
     "text": [
      "2025-07-14 13:43:08,033 INFO Request ID is c8cb67fc-71c0-4c77-83b4-0b57dd119992\n",
      "2025-07-14 13:43:08,186 INFO status has been updated to accepted\n",
      "2025-07-14 13:43:16,995 INFO status has been updated to running\n",
      "2025-07-14 13:55:30,657 INFO status has been updated to successful\n"
     ]
    },
    {
     "data": {
      "application/vnd.jupyter.widget-view+json": {
       "model_id": "",
       "version_major": 2,
       "version_minor": 0
      },
      "text/plain": [
       "f0365a8f9d9bd452d29d69d3219d94c1.grib:   0%|          | 0.00/3.16M [00:00<?, ?B/s]"
      ]
     },
     "metadata": {},
     "output_type": "display_data"
    },
    {
     "name": "stdout",
     "output_type": "stream",
     "text": [
      "✅ Finished 2014 in 751.00 seconds\n",
      "\n",
      "⬇️ Downloading potential_evaporation for 2013...\n"
     ]
    },
    {
     "name": "stderr",
     "output_type": "stream",
     "text": [
      "2025-07-14 13:55:39,452 INFO Request ID is 66fffc43-76aa-4af1-ad93-85bdb14dcabe\n",
      "2025-07-14 13:55:39,614 INFO status has been updated to accepted\n",
      "2025-07-14 13:55:48,386 INFO status has been updated to running\n",
      "2025-07-14 14:08:03,568 INFO status has been updated to successful\n"
     ]
    },
    {
     "data": {
      "application/vnd.jupyter.widget-view+json": {
       "model_id": "",
       "version_major": 2,
       "version_minor": 0
      },
      "text/plain": [
       "241623675f4353bea8be2b3ea521627c.grib:   0%|          | 0.00/3.16M [00:00<?, ?B/s]"
      ]
     },
     "metadata": {},
     "output_type": "display_data"
    },
    {
     "name": "stdout",
     "output_type": "stream",
     "text": [
      "✅ Finished 2013 in 748.00 seconds\n",
      "\n",
      "⬇️ Downloading potential_evaporation for 2012...\n"
     ]
    },
    {
     "name": "stderr",
     "output_type": "stream",
     "text": [
      "2025-07-14 14:08:07,083 INFO Request ID is 6a3a04dd-ebb5-4704-844b-49f25acfd582\n",
      "2025-07-14 14:08:07,263 INFO status has been updated to accepted\n",
      "2025-07-14 14:08:16,052 INFO status has been updated to running\n",
      "2025-07-14 14:20:29,537 INFO status has been updated to successful\n"
     ]
    },
    {
     "data": {
      "application/vnd.jupyter.widget-view+json": {
       "model_id": "",
       "version_major": 2,
       "version_minor": 0
      },
      "text/plain": [
       "eedda049109cde1e0a55b165580e1bf8.grib:   0%|          | 0.00/3.17M [00:00<?, ?B/s]"
      ]
     },
     "metadata": {},
     "output_type": "display_data"
    },
    {
     "name": "stdout",
     "output_type": "stream",
     "text": [
      "✅ Finished 2012 in 745.79 seconds\n",
      "\n",
      "⬇️ Downloading potential_evaporation for 2011...\n"
     ]
    },
    {
     "name": "stderr",
     "output_type": "stream",
     "text": [
      "2025-07-14 14:20:32,520 INFO Request ID is 2f5f9973-2117-4e7b-b55c-e7c417fea3de\n",
      "2025-07-14 14:20:32,739 INFO status has been updated to accepted\n",
      "2025-07-14 14:20:47,104 INFO status has been updated to running\n",
      "2025-07-14 14:32:56,911 INFO status has been updated to successful\n"
     ]
    },
    {
     "data": {
      "application/vnd.jupyter.widget-view+json": {
       "model_id": "",
       "version_major": 2,
       "version_minor": 0
      },
      "text/plain": [
       "c8f2ce0979e387d54a0d11ee5db31bc0.grib:   0%|          | 0.00/3.16M [00:00<?, ?B/s]"
      ]
     },
     "metadata": {},
     "output_type": "display_data"
    },
    {
     "name": "stdout",
     "output_type": "stream",
     "text": [
      "✅ Finished 2011 in 747.52 seconds\n",
      "\n",
      "⏱️ Total time for potential_evaporation: 3860.57 seconds\n"
     ]
    },
    {
     "name": "stderr",
     "output_type": "stream",
     "text": [
      "2025-07-14 14:32:59,829 INFO [2024-09-26T00:00:00] Watch our [Forum](https://forum.ecmwf.int/) for Announcements, news and other discussed topics.\n"
     ]
    },
    {
     "name": "stdout",
     "output_type": "stream",
     "text": [
      "✅ Already exists: ../era5_data/snow_depth/snow_depth_2025.grib\n",
      "✅ Already exists: ../era5_data/snow_depth/snow_depth_2024.grib\n",
      "✅ Already exists: ../era5_data/snow_depth/snow_depth_2023.grib\n",
      "✅ Already exists: ../era5_data/snow_depth/snow_depth_2022.grib\n",
      "✅ Already exists: ../era5_data/snow_depth/snow_depth_2021.grib\n",
      "✅ Already exists: ../era5_data/snow_depth/snow_depth_2020.grib\n",
      "✅ Already exists: ../era5_data/snow_depth/snow_depth_2019.grib\n",
      "✅ Already exists: ../era5_data/snow_depth/snow_depth_2018.grib\n",
      "✅ Already exists: ../era5_data/snow_depth/snow_depth_2017.grib\n",
      "✅ Already exists: ../era5_data/snow_depth/snow_depth_2016.grib\n",
      "\n",
      "⬇️ Downloading snow_depth for 2015...\n"
     ]
    },
    {
     "name": "stderr",
     "output_type": "stream",
     "text": [
      "2025-07-14 14:33:00,701 INFO Request ID is d4d123cc-8aa7-4f69-8751-1f5f9cd96abb\n",
      "2025-07-14 14:33:00,854 INFO status has been updated to accepted\n",
      "2025-07-14 14:33:09,741 INFO status has been updated to running\n",
      "2025-07-14 14:49:25,816 INFO status has been updated to successful\n"
     ]
    },
    {
     "data": {
      "application/vnd.jupyter.widget-view+json": {
       "model_id": "",
       "version_major": 2,
       "version_minor": 0
      },
      "text/plain": [
       "829e68ab04322116e9110d501d89b9f.grib:   0%|          | 0.00/4.28M [00:00<?, ?B/s]"
      ]
     },
     "metadata": {},
     "output_type": "display_data"
    },
    {
     "name": "stdout",
     "output_type": "stream",
     "text": [
      "✅ Finished 2015 in 988.27 seconds\n",
      "\n",
      "⬇️ Downloading snow_depth for 2014...\n"
     ]
    },
    {
     "name": "stderr",
     "output_type": "stream",
     "text": [
      "2025-07-14 14:49:29,104 INFO Request ID is eff06cbd-67b0-497a-8859-05ee21baa905\n",
      "2025-07-14 14:49:29,312 INFO status has been updated to accepted\n",
      "2025-07-14 14:49:38,634 INFO status has been updated to running\n",
      "2025-07-14 15:03:52,736 INFO status has been updated to successful\n"
     ]
    },
    {
     "data": {
      "application/vnd.jupyter.widget-view+json": {
       "model_id": "",
       "version_major": 2,
       "version_minor": 0
      },
      "text/plain": [
       "439ef64989162387b69c19acdee615aa.grib:   0%|          | 0.00/4.28M [00:00<?, ?B/s]"
      ]
     },
     "metadata": {},
     "output_type": "display_data"
    },
    {
     "name": "stdout",
     "output_type": "stream",
     "text": [
      "✅ Finished 2014 in 867.14 seconds\n",
      "\n",
      "⬇️ Downloading snow_depth for 2013...\n"
     ]
    },
    {
     "name": "stderr",
     "output_type": "stream",
     "text": [
      "2025-07-14 15:03:56,105 INFO Request ID is a88c9daa-9da6-4455-a0d2-225bc7db9611\n",
      "2025-07-14 15:03:56,250 INFO status has been updated to accepted\n",
      "2025-07-14 15:04:10,615 INFO status has been updated to running\n",
      "2025-07-14 15:20:20,647 INFO status has been updated to successful\n"
     ]
    },
    {
     "data": {
      "application/vnd.jupyter.widget-view+json": {
       "model_id": "",
       "version_major": 2,
       "version_minor": 0
      },
      "text/plain": [
       "89cc944c093b648a273ab047f5dc7211.grib:   0%|          | 0.00/4.28M [00:00<?, ?B/s]"
      ]
     },
     "metadata": {},
     "output_type": "display_data"
    },
    {
     "name": "stdout",
     "output_type": "stream",
     "text": [
      "✅ Finished 2013 in 987.84 seconds\n",
      "\n",
      "⬇️ Downloading snow_depth for 2012...\n"
     ]
    },
    {
     "name": "stderr",
     "output_type": "stream",
     "text": [
      "2025-07-14 15:20:23,869 INFO Request ID is 5256ec62-6f88-4f8f-aeea-e7d7ef267ad2\n",
      "2025-07-14 15:20:24,042 INFO status has been updated to accepted\n",
      "2025-07-14 15:20:32,936 INFO status has been updated to running\n",
      "2025-07-14 15:34:48,689 INFO status has been updated to successful\n"
     ]
    },
    {
     "data": {
      "application/vnd.jupyter.widget-view+json": {
       "model_id": "",
       "version_major": 2,
       "version_minor": 0
      },
      "text/plain": [
       "f67b329fb24712921ad29ff7d91c63f2.grib:   0%|          | 0.00/4.29M [00:00<?, ?B/s]"
      ]
     },
     "metadata": {},
     "output_type": "display_data"
    },
    {
     "name": "stdout",
     "output_type": "stream",
     "text": [
      "✅ Finished 2012 in 867.97 seconds\n",
      "\n",
      "⬇️ Downloading snow_depth for 2011...\n"
     ]
    },
    {
     "name": "stderr",
     "output_type": "stream",
     "text": [
      "2025-07-14 15:34:51,959 INFO Request ID is 003c09cc-3a3b-4534-b7aa-4adebb71c476\n",
      "2025-07-14 15:34:52,118 INFO status has been updated to accepted\n",
      "2025-07-14 15:35:00,921 INFO status has been updated to running\n",
      "2025-07-14 15:49:18,074 INFO status has been updated to successful\n"
     ]
    },
    {
     "data": {
      "application/vnd.jupyter.widget-view+json": {
       "model_id": "",
       "version_major": 2,
       "version_minor": 0
      },
      "text/plain": [
       "27c1cf0437f716526c9cf07d5447922b.grib:   0%|          | 0.00/4.28M [00:00<?, ?B/s]"
      ]
     },
     "metadata": {},
     "output_type": "display_data"
    },
    {
     "name": "stdout",
     "output_type": "stream",
     "text": [
      "✅ Finished 2011 in 869.93 seconds\n",
      "\n",
      "⏱️ Total time for snow_depth: 4581.15 seconds\n"
     ]
    },
    {
     "name": "stderr",
     "output_type": "stream",
     "text": [
      "2025-07-14 15:49:21,396 INFO [2024-09-26T00:00:00] Watch our [Forum](https://forum.ecmwf.int/) for Announcements, news and other discussed topics.\n"
     ]
    },
    {
     "name": "stdout",
     "output_type": "stream",
     "text": [
      "✅ Already exists: ../era5_data/snowmelt/snowmelt_2025.grib\n",
      "✅ Already exists: ../era5_data/snowmelt/snowmelt_2024.grib\n",
      "✅ Already exists: ../era5_data/snowmelt/snowmelt_2023.grib\n",
      "✅ Already exists: ../era5_data/snowmelt/snowmelt_2022.grib\n",
      "✅ Already exists: ../era5_data/snowmelt/snowmelt_2021.grib\n",
      "✅ Already exists: ../era5_data/snowmelt/snowmelt_2020.grib\n",
      "✅ Already exists: ../era5_data/snowmelt/snowmelt_2019.grib\n",
      "✅ Already exists: ../era5_data/snowmelt/snowmelt_2018.grib\n",
      "✅ Already exists: ../era5_data/snowmelt/snowmelt_2017.grib\n",
      "✅ Already exists: ../era5_data/snowmelt/snowmelt_2016.grib\n",
      "\n",
      "⬇️ Downloading snowmelt for 2015...\n"
     ]
    },
    {
     "name": "stderr",
     "output_type": "stream",
     "text": [
      "2025-07-14 15:49:22,228 INFO Request ID is 124c3e0c-3e72-4750-a0d3-a22feea63054\n",
      "2025-07-14 15:49:22,393 INFO status has been updated to accepted\n",
      "2025-07-14 15:49:36,519 INFO status has been updated to running\n",
      "2025-07-14 16:01:46,056 INFO status has been updated to successful\n"
     ]
    },
    {
     "data": {
      "application/vnd.jupyter.widget-view+json": {
       "model_id": "",
       "version_major": 2,
       "version_minor": 0
      },
      "text/plain": [
       "98ecd4b0aed9659208f27dd5d5fee78b.grib:   0%|          | 0.00/3.16M [00:00<?, ?B/s]"
      ]
     },
     "metadata": {},
     "output_type": "display_data"
    },
    {
     "name": "stdout",
     "output_type": "stream",
     "text": [
      "✅ Finished 2015 in 747.44 seconds\n",
      "\n",
      "⬇️ Downloading snowmelt for 2014...\n"
     ]
    },
    {
     "name": "stderr",
     "output_type": "stream",
     "text": [
      "2025-07-14 16:01:49,744 INFO Request ID is b8cecde3-f5d2-4910-b065-9870fb846bbe\n",
      "2025-07-14 16:01:49,896 INFO status has been updated to accepted\n",
      "2025-07-14 16:01:58,662 INFO status has been updated to running\n",
      "2025-07-14 16:14:11,908 INFO status has been updated to successful\n"
     ]
    },
    {
     "data": {
      "application/vnd.jupyter.widget-view+json": {
       "model_id": "",
       "version_major": 2,
       "version_minor": 0
      },
      "text/plain": [
       "2c1f2f3d81e3c1f7cc4d8776e999ecc.grib:   0%|          | 0.00/3.16M [00:00<?, ?B/s]"
      ]
     },
     "metadata": {},
     "output_type": "display_data"
    },
    {
     "name": "stdout",
     "output_type": "stream",
     "text": [
      "✅ Finished 2014 in 745.50 seconds\n",
      "\n",
      "⬇️ Downloading snowmelt for 2013...\n"
     ]
    },
    {
     "name": "stderr",
     "output_type": "stream",
     "text": [
      "2025-07-14 16:14:15,126 INFO Request ID is 15b8edbb-1f5c-4954-90a1-49780cca722b\n",
      "2025-07-14 16:14:15,402 INFO status has been updated to accepted\n",
      "2025-07-14 16:14:24,265 INFO status has been updated to running\n",
      "2025-07-14 16:26:39,268 INFO status has been updated to successful\n"
     ]
    },
    {
     "data": {
      "application/vnd.jupyter.widget-view+json": {
       "model_id": "",
       "version_major": 2,
       "version_minor": 0
      },
      "text/plain": [
       "5462ab975a0fd47f30454c4644b79390.grib:   0%|          | 0.00/3.16M [00:00<?, ?B/s]"
      ]
     },
     "metadata": {},
     "output_type": "display_data"
    },
    {
     "name": "stdout",
     "output_type": "stream",
     "text": [
      "✅ Finished 2013 in 747.25 seconds\n",
      "\n",
      "⬇️ Downloading snowmelt for 2012...\n"
     ]
    },
    {
     "name": "stderr",
     "output_type": "stream",
     "text": [
      "2025-07-14 16:26:42,871 INFO Request ID is 723c7c9f-afd4-4f53-8d73-d18474c8773f\n",
      "2025-07-14 16:26:43,022 INFO status has been updated to accepted\n",
      "2025-07-14 16:26:51,978 INFO status has been updated to running\n",
      "2025-07-14 16:39:08,053 INFO status has been updated to successful\n"
     ]
    },
    {
     "data": {
      "application/vnd.jupyter.widget-view+json": {
       "model_id": "",
       "version_major": 2,
       "version_minor": 0
      },
      "text/plain": [
       "749ba00e57769a392037875715c9760e.grib:   0%|          | 0.00/3.17M [00:00<?, ?B/s]"
      ]
     },
     "metadata": {},
     "output_type": "display_data"
    },
    {
     "name": "stdout",
     "output_type": "stream",
     "text": [
      "✅ Finished 2012 in 748.60 seconds\n",
      "\n",
      "⬇️ Downloading snowmelt for 2011...\n"
     ]
    },
    {
     "name": "stderr",
     "output_type": "stream",
     "text": [
      "2025-07-14 16:39:11,002 INFO Request ID is 30556c62-e1c5-44ab-9132-06231140880a\n",
      "2025-07-14 16:39:11,262 INFO status has been updated to accepted\n",
      "2025-07-14 16:39:25,438 INFO status has been updated to running\n",
      "2025-07-14 16:51:35,545 INFO status has been updated to successful\n"
     ]
    },
    {
     "data": {
      "application/vnd.jupyter.widget-view+json": {
       "model_id": "",
       "version_major": 2,
       "version_minor": 0
      },
      "text/plain": [
       "9bcbd648dbb1f94f48721bdd7709b2b0.grib:   0%|          | 0.00/3.16M [00:00<?, ?B/s]"
      ]
     },
     "metadata": {},
     "output_type": "display_data"
    },
    {
     "name": "stdout",
     "output_type": "stream",
     "text": [
      "✅ Finished 2011 in 747.57 seconds\n",
      "\n",
      "⏱️ Total time for snowmelt: 3736.36 seconds\n"
     ]
    },
    {
     "name": "stderr",
     "output_type": "stream",
     "text": [
      "2025-07-14 16:51:38,140 INFO [2024-09-26T00:00:00] Watch our [Forum](https://forum.ecmwf.int/) for Announcements, news and other discussed topics.\n"
     ]
    },
    {
     "name": "stdout",
     "output_type": "stream",
     "text": [
      "✅ Already exists: ../era5_data/soil_temperature_level_1/soil_temperature_level_1_2025.grib\n",
      "✅ Already exists: ../era5_data/soil_temperature_level_1/soil_temperature_level_1_2024.grib\n",
      "✅ Already exists: ../era5_data/soil_temperature_level_1/soil_temperature_level_1_2023.grib\n",
      "✅ Already exists: ../era5_data/soil_temperature_level_1/soil_temperature_level_1_2022.grib\n",
      "✅ Already exists: ../era5_data/soil_temperature_level_1/soil_temperature_level_1_2021.grib\n",
      "✅ Already exists: ../era5_data/soil_temperature_level_1/soil_temperature_level_1_2020.grib\n",
      "✅ Already exists: ../era5_data/soil_temperature_level_1/soil_temperature_level_1_2019.grib\n",
      "✅ Already exists: ../era5_data/soil_temperature_level_1/soil_temperature_level_1_2018.grib\n",
      "✅ Already exists: ../era5_data/soil_temperature_level_1/soil_temperature_level_1_2017.grib\n",
      "✅ Already exists: ../era5_data/soil_temperature_level_1/soil_temperature_level_1_2016.grib\n",
      "\n",
      "⬇️ Downloading soil_temperature_level_1 for 2015...\n"
     ]
    },
    {
     "name": "stderr",
     "output_type": "stream",
     "text": [
      "2025-07-14 16:51:38,922 INFO Request ID is 6ae6861a-e940-4f7c-8639-9dc9147551e0\n",
      "2025-07-14 16:51:39,147 INFO status has been updated to accepted\n",
      "2025-07-14 16:51:53,328 INFO status has been updated to running\n",
      "2025-07-14 17:04:03,699 INFO status has been updated to successful\n"
     ]
    },
    {
     "data": {
      "application/vnd.jupyter.widget-view+json": {
       "model_id": "",
       "version_major": 2,
       "version_minor": 0
      },
      "text/plain": [
       "5e921426d9ba37e360474317dcb10f9e.grib:   0%|          | 0.00/3.16M [00:00<?, ?B/s]"
      ]
     },
     "metadata": {},
     "output_type": "display_data"
    },
    {
     "name": "stdout",
     "output_type": "stream",
     "text": [
      "✅ Finished 2015 in 747.97 seconds\n",
      "\n",
      "⬇️ Downloading soil_temperature_level_1 for 2014...\n"
     ]
    },
    {
     "name": "stderr",
     "output_type": "stream",
     "text": [
      "2025-07-14 17:04:06,688 INFO Request ID is 69eea340-aa3c-4254-95e5-276c30f8b429\n",
      "2025-07-14 17:04:06,848 INFO status has been updated to accepted\n",
      "2025-07-14 17:04:16,129 INFO status has been updated to running\n",
      "2025-07-14 17:16:30,373 INFO status has been updated to successful\n"
     ]
    },
    {
     "data": {
      "application/vnd.jupyter.widget-view+json": {
       "model_id": "",
       "version_major": 2,
       "version_minor": 0
      },
      "text/plain": [
       "ba4d0fe580159d67bf0b9153574c25a6.grib:   0%|          | 0.00/3.16M [00:00<?, ?B/s]"
      ]
     },
     "metadata": {},
     "output_type": "display_data"
    },
    {
     "name": "stdout",
     "output_type": "stream",
     "text": [
      "✅ Finished 2014 in 746.71 seconds\n",
      "\n",
      "⬇️ Downloading soil_temperature_level_1 for 2013...\n"
     ]
    },
    {
     "name": "stderr",
     "output_type": "stream",
     "text": [
      "2025-07-14 17:16:33,704 INFO Request ID is e3686172-0f81-43c4-8315-2133ccb05e08\n",
      "2025-07-14 17:16:33,850 INFO status has been updated to accepted\n",
      "2025-07-14 17:16:55,975 INFO status has been updated to running\n",
      "2025-07-14 17:28:57,601 INFO status has been updated to successful\n"
     ]
    },
    {
     "data": {
      "application/vnd.jupyter.widget-view+json": {
       "model_id": "",
       "version_major": 2,
       "version_minor": 0
      },
      "text/plain": [
       "be260e7d8fea3dd0ac795a163d1668a6.grib:   0%|          | 0.00/3.16M [00:00<?, ?B/s]"
      ]
     },
     "metadata": {},
     "output_type": "display_data"
    },
    {
     "name": "stdout",
     "output_type": "stream",
     "text": [
      "✅ Finished 2013 in 747.88 seconds\n",
      "\n",
      "⬇️ Downloading soil_temperature_level_1 for 2012...\n"
     ]
    },
    {
     "name": "stderr",
     "output_type": "stream",
     "text": [
      "2025-07-14 17:29:01,511 INFO Request ID is e89278de-9a1e-49dc-a3c6-3a6a861f8675\n",
      "2025-07-14 17:29:01,768 INFO status has been updated to accepted\n",
      "2025-07-14 17:29:15,801 INFO status has been updated to running\n",
      "2025-07-14 17:41:23,706 INFO status has been updated to successful\n"
     ]
    },
    {
     "data": {
      "application/vnd.jupyter.widget-view+json": {
       "model_id": "",
       "version_major": 2,
       "version_minor": 0
      },
      "text/plain": [
       "ff3a6641b8b37f57613ad6cd6312f126.grib:   0%|          | 0.00/3.17M [00:00<?, ?B/s]"
      ]
     },
     "metadata": {},
     "output_type": "display_data"
    },
    {
     "name": "stdout",
     "output_type": "stream",
     "text": [
      "✅ Finished 2012 in 745.80 seconds\n",
      "\n",
      "⬇️ Downloading soil_temperature_level_1 for 2011...\n"
     ]
    },
    {
     "name": "stderr",
     "output_type": "stream",
     "text": [
      "2025-07-14 17:41:27,305 INFO Request ID is 4b4622dc-c4fd-4b0c-ae87-34c9fc511205\n",
      "2025-07-14 17:41:27,467 INFO status has been updated to accepted\n",
      "2025-07-14 17:41:36,216 INFO status has been updated to running\n",
      "2025-07-14 17:53:50,661 INFO status has been updated to successful\n"
     ]
    },
    {
     "data": {
      "application/vnd.jupyter.widget-view+json": {
       "model_id": "",
       "version_major": 2,
       "version_minor": 0
      },
      "text/plain": [
       "8857e60b0bd696a056e74304f2f5cc44.grib:   0%|          | 0.00/3.16M [00:00<?, ?B/s]"
      ]
     },
     "metadata": {},
     "output_type": "display_data"
    },
    {
     "name": "stdout",
     "output_type": "stream",
     "text": [
      "✅ Finished 2011 in 746.41 seconds\n",
      "\n",
      "⏱️ Total time for soil_temperature_level_1: 3734.78 seconds\n"
     ]
    },
    {
     "name": "stderr",
     "output_type": "stream",
     "text": [
      "2025-07-14 17:53:53,322 INFO [2024-09-26T00:00:00] Watch our [Forum](https://forum.ecmwf.int/) for Announcements, news and other discussed topics.\n"
     ]
    },
    {
     "name": "stdout",
     "output_type": "stream",
     "text": [
      "✅ Already exists: ../era5_data/surface_runoff/surface_runoff_2025.grib\n",
      "✅ Already exists: ../era5_data/surface_runoff/surface_runoff_2024.grib\n",
      "✅ Already exists: ../era5_data/surface_runoff/surface_runoff_2023.grib\n",
      "✅ Already exists: ../era5_data/surface_runoff/surface_runoff_2022.grib\n",
      "✅ Already exists: ../era5_data/surface_runoff/surface_runoff_2021.grib\n",
      "✅ Already exists: ../era5_data/surface_runoff/surface_runoff_2020.grib\n",
      "✅ Already exists: ../era5_data/surface_runoff/surface_runoff_2019.grib\n",
      "✅ Already exists: ../era5_data/surface_runoff/surface_runoff_2018.grib\n",
      "✅ Already exists: ../era5_data/surface_runoff/surface_runoff_2017.grib\n",
      "✅ Already exists: ../era5_data/surface_runoff/surface_runoff_2016.grib\n",
      "\n",
      "⬇️ Downloading surface_runoff for 2015...\n"
     ]
    },
    {
     "name": "stderr",
     "output_type": "stream",
     "text": [
      "2025-07-14 17:53:53,974 INFO Request ID is 50921d59-18df-4103-ac14-bbc7950749fc\n",
      "2025-07-14 17:53:54,129 INFO status has been updated to accepted\n",
      "2025-07-14 17:54:02,922 INFO status has been updated to running\n"
     ]
    }
   ],
   "source": [
    "for var in era5_variables:\n",
    "    download_era5_hourly_variable(\n",
    "        variable_name=var,\n",
    "        years=range(2025, 2010, -1)\n",
    "    )"
   ]
  },
  {
   "cell_type": "code",
   "execution_count": null,
   "id": "b68e5040",
   "metadata": {},
   "outputs": [],
   "source": []
  }
 ],
 "metadata": {
  "kernelspec": {
   "display_name": "Python 3 (ipykernel)",
   "language": "python",
   "name": "python3"
  },
  "language_info": {
   "codemirror_mode": {
    "name": "ipython",
    "version": 3
   },
   "file_extension": ".py",
   "mimetype": "text/x-python",
   "name": "python",
   "nbconvert_exporter": "python",
   "pygments_lexer": "ipython3",
   "version": "3.9.12"
  }
 },
 "nbformat": 4,
 "nbformat_minor": 5
}
