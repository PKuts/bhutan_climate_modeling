{
 "cells": [
  {
   "cell_type": "code",
   "execution_count": 1,
   "id": "e101fb3d",
   "metadata": {},
   "outputs": [],
   "source": [
    "from era5_hourly_downloader import download_era5_hourly_variable"
   ]
  },
  {
   "cell_type": "code",
   "execution_count": 2,
   "id": "6c983bc1",
   "metadata": {},
   "outputs": [],
   "source": [
    "era5_variables = [\n",
    "    \"total_precipitation\",\n",
    "    \"2m_temperature\",\n",
    "    \"2m_dewpoint_temperature\",\n",
    "    \"10m_u_component_of_wind\",\n",
    "    \"10m_v_component_of_wind\",\n",
    "    \"surface_solar_radiation_downwards\",\n",
    "    \"potential_evaporation\",\n",
    "    \"snow_depth\",\n",
    "    \"snowmelt\",\n",
    "    \"soil_temperature_level_1\",\n",
    "    \"surface_runoff\", # to be used as flood indicator proxy\n",
    "    \"sub_surface_runoff\", # to be used as flood indicator proxy\n",
    "]\n",
    "\n",
    "# relative humidity does not exist - need to be derived from 2m_temperature and 2m_dewpoint_temperature\n"
   ]
  },
  {
   "cell_type": "code",
   "execution_count": null,
   "id": "d7dcf574",
   "metadata": {},
   "outputs": [
    {
     "name": "stderr",
     "output_type": "stream",
     "text": [
      "2025-07-14 06:44:27,232 INFO [2024-09-26T00:00:00] Watch our [Forum](https://forum.ecmwf.int/) for Announcements, news and other discussed topics.\n"
     ]
    },
    {
     "name": "stdout",
     "output_type": "stream",
     "text": [
      "✅ Already exists: ../era5_data/total_precipitation/total_precipitation_2025.grib\n",
      "✅ Already exists: ../era5_data/total_precipitation/total_precipitation_2024.grib\n",
      "✅ Already exists: ../era5_data/total_precipitation/total_precipitation_2023.grib\n",
      "✅ Already exists: ../era5_data/total_precipitation/total_precipitation_2022.grib\n",
      "✅ Already exists: ../era5_data/total_precipitation/total_precipitation_2021.grib\n",
      "✅ Already exists: ../era5_data/total_precipitation/total_precipitation_2020.grib\n",
      "✅ Already exists: ../era5_data/total_precipitation/total_precipitation_2019.grib\n",
      "✅ Already exists: ../era5_data/total_precipitation/total_precipitation_2018.grib\n",
      "✅ Already exists: ../era5_data/total_precipitation/total_precipitation_2017.grib\n",
      "✅ Already exists: ../era5_data/total_precipitation/total_precipitation_2016.grib\n",
      "\n",
      "⬇️ Downloading total_precipitation for 2015...\n"
     ]
    },
    {
     "name": "stderr",
     "output_type": "stream",
     "text": [
      "2025-07-14 06:44:27,829 INFO Request ID is 09707405-bf2a-4606-a570-b0eb90147ffb\n",
      "2025-07-14 06:44:28,001 INFO status has been updated to accepted\n",
      "2025-07-14 06:44:42,133 INFO status has been updated to running\n",
      "2025-07-14 06:56:51,680 INFO status has been updated to successful\n"
     ]
    },
    {
     "data": {
      "application/vnd.jupyter.widget-view+json": {
       "model_id": "",
       "version_major": 2,
       "version_minor": 0
      },
      "text/plain": [
       "d933640299254ee27e6ed46d8e4e16b5.grib:   0%|          | 0.00/3.16M [00:00<?, ?B/s]"
      ]
     },
     "metadata": {},
     "output_type": "display_data"
    },
    {
     "name": "stdout",
     "output_type": "stream",
     "text": [
      "✅ Finished 2015 in 746.57 seconds\n",
      "\n",
      "⬇️ Downloading total_precipitation for 2014...\n"
     ]
    },
    {
     "name": "stderr",
     "output_type": "stream",
     "text": [
      "2025-07-14 06:56:54,372 INFO Request ID is 71e58422-b9cc-496c-990e-91f8b1217aaf\n",
      "2025-07-14 06:56:54,590 INFO status has been updated to accepted\n",
      "2025-07-14 06:57:16,522 INFO status has been updated to running\n",
      "2025-07-14 07:09:18,067 INFO status has been updated to successful\n"
     ]
    },
    {
     "data": {
      "application/vnd.jupyter.widget-view+json": {
       "model_id": "",
       "version_major": 2,
       "version_minor": 0
      },
      "text/plain": [
       "7064dd6b7973581d260d0996252cb4c4.grib:   0%|          | 0.00/3.16M [00:00<?, ?B/s]"
      ]
     },
     "metadata": {},
     "output_type": "display_data"
    },
    {
     "name": "stdout",
     "output_type": "stream",
     "text": [
      "✅ Finished 2014 in 755.60 seconds\n",
      "\n",
      "⬇️ Downloading total_precipitation for 2013...\n"
     ]
    },
    {
     "name": "stderr",
     "output_type": "stream",
     "text": [
      "2025-07-14 07:09:30,804 INFO Request ID is 64a23303-8860-4fac-8863-4ea0c11f8ffe\n",
      "2025-07-14 07:09:31,119 INFO status has been updated to accepted\n",
      "2025-07-14 07:09:53,092 INFO status has been updated to running\n",
      "2025-07-14 07:21:53,469 INFO status has been updated to successful\n"
     ]
    },
    {
     "data": {
      "application/vnd.jupyter.widget-view+json": {
       "model_id": "",
       "version_major": 2,
       "version_minor": 0
      },
      "text/plain": [
       "7f63b43059fc1b1c17caf7fd9ad9b85f.grib:   0%|          | 0.00/3.16M [00:00<?, ?B/s]"
      ]
     },
     "metadata": {},
     "output_type": "display_data"
    },
    {
     "name": "stdout",
     "output_type": "stream",
     "text": [
      "✅ Finished 2013 in 746.66 seconds\n",
      "\n",
      "⬇️ Downloading total_precipitation for 2012...\n"
     ]
    },
    {
     "name": "stderr",
     "output_type": "stream",
     "text": [
      "2025-07-14 07:21:56,855 INFO Request ID is b2920afc-17f6-4eea-b2d4-4d41b3ae5928\n",
      "2025-07-14 07:21:57,083 INFO status has been updated to accepted\n",
      "2025-07-14 07:22:06,174 INFO status has been updated to running\n",
      "2025-07-14 07:34:19,548 INFO status has been updated to successful\n"
     ]
    },
    {
     "data": {
      "application/vnd.jupyter.widget-view+json": {
       "model_id": "",
       "version_major": 2,
       "version_minor": 0
      },
      "text/plain": [
       "a54461dd4948f27ac286e0520ebd1f94.grib:   0%|          | 0.00/3.17M [00:00<?, ?B/s]"
      ]
     },
     "metadata": {},
     "output_type": "display_data"
    },
    {
     "name": "stdout",
     "output_type": "stream",
     "text": [
      "✅ Finished 2012 in 745.58 seconds\n",
      "\n",
      "⬇️ Downloading total_precipitation for 2011...\n"
     ]
    },
    {
     "name": "stderr",
     "output_type": "stream",
     "text": [
      "2025-07-14 07:34:22,358 INFO Request ID is c10dad71-5835-448a-8cf6-c048770ee0e2\n",
      "2025-07-14 07:34:22,515 INFO status has been updated to accepted\n",
      "2025-07-14 07:34:31,431 INFO status has been updated to running\n",
      "2025-07-14 07:48:47,178 INFO status has been updated to successful\n"
     ]
    },
    {
     "data": {
      "application/vnd.jupyter.widget-view+json": {
       "model_id": "",
       "version_major": 2,
       "version_minor": 0
      },
      "text/plain": [
       "e91a8d7f28536694c3c52ece66fde256.grib:   0%|          | 0.00/3.16M [00:00<?, ?B/s]"
      ]
     },
     "metadata": {},
     "output_type": "display_data"
    },
    {
     "name": "stdout",
     "output_type": "stream",
     "text": [
      "✅ Finished 2011 in 867.64 seconds\n",
      "\n",
      "⏱️ Total time for total_precipitation: 3862.06 seconds\n"
     ]
    },
    {
     "name": "stderr",
     "output_type": "stream",
     "text": [
      "2025-07-14 07:48:49,689 INFO [2024-09-26T00:00:00] Watch our [Forum](https://forum.ecmwf.int/) for Announcements, news and other discussed topics.\n"
     ]
    },
    {
     "name": "stdout",
     "output_type": "stream",
     "text": [
      "✅ Already exists: ../era5_data/2m_temperature/2m_temperature_2025.grib\n",
      "✅ Already exists: ../era5_data/2m_temperature/2m_temperature_2024.grib\n",
      "✅ Already exists: ../era5_data/2m_temperature/2m_temperature_2023.grib\n",
      "✅ Already exists: ../era5_data/2m_temperature/2m_temperature_2022.grib\n",
      "✅ Already exists: ../era5_data/2m_temperature/2m_temperature_2021.grib\n",
      "✅ Already exists: ../era5_data/2m_temperature/2m_temperature_2020.grib\n",
      "✅ Already exists: ../era5_data/2m_temperature/2m_temperature_2019.grib\n",
      "✅ Already exists: ../era5_data/2m_temperature/2m_temperature_2018.grib\n",
      "✅ Already exists: ../era5_data/2m_temperature/2m_temperature_2017.grib\n",
      "✅ Already exists: ../era5_data/2m_temperature/2m_temperature_2016.grib\n",
      "\n",
      "⬇️ Downloading 2m_temperature for 2015...\n"
     ]
    },
    {
     "name": "stderr",
     "output_type": "stream",
     "text": [
      "2025-07-14 07:48:50,321 INFO Request ID is cb7fd974-b5ba-47c9-8f2d-3ffe711b3287\n",
      "2025-07-14 07:48:50,478 INFO status has been updated to accepted\n",
      "2025-07-14 07:49:00,371 INFO status has been updated to running\n",
      "2025-07-14 07:59:13,833 INFO status has been updated to successful\n"
     ]
    },
    {
     "data": {
      "application/vnd.jupyter.widget-view+json": {
       "model_id": "",
       "version_major": 2,
       "version_minor": 0
      },
      "text/plain": [
       "7cd1cb0025aa5e1c0432d8720dfd7588.grib:   0%|          | 0.00/3.16M [00:00<?, ?B/s]"
      ]
     },
     "metadata": {},
     "output_type": "display_data"
    },
    {
     "name": "stdout",
     "output_type": "stream",
     "text": [
      "✅ Finished 2015 in 626.44 seconds\n",
      "\n",
      "⬇️ Downloading 2m_temperature for 2014...\n"
     ]
    },
    {
     "name": "stderr",
     "output_type": "stream",
     "text": [
      "2025-07-14 07:59:16,732 INFO Request ID is d9f966ea-e146-4727-8edf-9193d1ed9f55\n",
      "2025-07-14 07:59:16,881 INFO status has been updated to accepted\n",
      "2025-07-14 07:59:22,504 INFO status has been updated to running\n",
      "2025-07-14 08:17:42,044 INFO status has been updated to successful\n"
     ]
    },
    {
     "data": {
      "application/vnd.jupyter.widget-view+json": {
       "model_id": "",
       "version_major": 2,
       "version_minor": 0
      },
      "text/plain": [
       "1284edb9960fea3f369ebea44616c58d.grib:   0%|          | 0.00/3.16M [00:00<?, ?B/s]"
      ]
     },
     "metadata": {},
     "output_type": "display_data"
    },
    {
     "name": "stdout",
     "output_type": "stream",
     "text": [
      "✅ Finished 2014 in 1108.26 seconds\n",
      "\n",
      "⬇️ Downloading 2m_temperature for 2013...\n"
     ]
    },
    {
     "name": "stderr",
     "output_type": "stream",
     "text": [
      "2025-07-14 08:17:45,142 INFO Request ID is 039b6099-28b3-4760-8409-e74313d4e4cf\n",
      "2025-07-14 08:17:45,655 INFO status has been updated to accepted\n",
      "2025-07-14 08:18:36,431 INFO status has been updated to running\n",
      "2025-07-14 08:32:10,290 INFO status has been updated to successful\n"
     ]
    },
    {
     "data": {
      "application/vnd.jupyter.widget-view+json": {
       "model_id": "",
       "version_major": 2,
       "version_minor": 0
      },
      "text/plain": [
       "59a8feccd5781642baaad070b8a0eb3f.grib:   0%|          | 0.00/3.16M [00:00<?, ?B/s]"
      ]
     },
     "metadata": {},
     "output_type": "display_data"
    },
    {
     "name": "stdout",
     "output_type": "stream",
     "text": [
      "✅ Finished 2013 in 868.64 seconds\n",
      "\n",
      "⬇️ Downloading 2m_temperature for 2012...\n"
     ]
    },
    {
     "name": "stderr",
     "output_type": "stream",
     "text": [
      "2025-07-14 08:32:13,858 INFO Request ID is 61723c33-02c2-4398-be8f-3f684437d73c\n",
      "2025-07-14 08:32:14,129 INFO status has been updated to accepted\n",
      "2025-07-14 08:32:47,975 INFO status has been updated to running\n",
      "2025-07-14 08:33:05,216 INFO status has been updated to accepted\n",
      "2025-07-14 08:34:09,737 INFO status has been updated to running\n",
      "2025-07-14 08:44:38,426 INFO status has been updated to successful\n"
     ]
    },
    {
     "data": {
      "application/vnd.jupyter.widget-view+json": {
       "model_id": "",
       "version_major": 2,
       "version_minor": 0
      },
      "text/plain": [
       "dde260bada3b8eda03d5c9d30a24ee69.grib:   0%|          | 0.00/3.17M [00:00<?, ?B/s]"
      ]
     },
     "metadata": {},
     "output_type": "display_data"
    },
    {
     "name": "stdout",
     "output_type": "stream",
     "text": [
      "✅ Finished 2012 in 748.56 seconds\n",
      "\n",
      "⬇️ Downloading 2m_temperature for 2011...\n"
     ]
    },
    {
     "name": "stderr",
     "output_type": "stream",
     "text": [
      "2025-07-14 08:44:42,271 INFO Request ID is ccfed8fa-6a21-473b-8bbe-6bdb0c2bf586\n",
      "2025-07-14 08:44:42,426 INFO status has been updated to accepted\n",
      "2025-07-14 08:44:56,534 INFO status has been updated to running\n",
      "2025-07-14 08:57:06,073 INFO status has been updated to successful\n"
     ]
    },
    {
     "data": {
      "application/vnd.jupyter.widget-view+json": {
       "model_id": "",
       "version_major": 2,
       "version_minor": 0
      },
      "text/plain": [
       "b8a0c92e342e12cf22496c32cc758d1f.grib:   0%|          | 0.00/3.16M [00:00<?, ?B/s]"
      ]
     },
     "metadata": {},
     "output_type": "display_data"
    },
    {
     "name": "stdout",
     "output_type": "stream",
     "text": [
      "✅ Finished 2011 in 746.69 seconds\n",
      "\n",
      "⏱️ Total time for 2m_temperature: 4098.59 seconds\n"
     ]
    },
    {
     "name": "stderr",
     "output_type": "stream",
     "text": [
      "2025-07-14 08:57:08,648 INFO [2024-09-26T00:00:00] Watch our [Forum](https://forum.ecmwf.int/) for Announcements, news and other discussed topics.\n"
     ]
    },
    {
     "name": "stdout",
     "output_type": "stream",
     "text": [
      "✅ Already exists: ../era5_data/2m_dewpoint_temperature/2m_dewpoint_temperature_2025.grib\n",
      "✅ Already exists: ../era5_data/2m_dewpoint_temperature/2m_dewpoint_temperature_2024.grib\n",
      "✅ Already exists: ../era5_data/2m_dewpoint_temperature/2m_dewpoint_temperature_2023.grib\n",
      "✅ Already exists: ../era5_data/2m_dewpoint_temperature/2m_dewpoint_temperature_2022.grib\n",
      "✅ Already exists: ../era5_data/2m_dewpoint_temperature/2m_dewpoint_temperature_2021.grib\n",
      "✅ Already exists: ../era5_data/2m_dewpoint_temperature/2m_dewpoint_temperature_2020.grib\n",
      "✅ Already exists: ../era5_data/2m_dewpoint_temperature/2m_dewpoint_temperature_2019.grib\n",
      "✅ Already exists: ../era5_data/2m_dewpoint_temperature/2m_dewpoint_temperature_2018.grib\n",
      "✅ Already exists: ../era5_data/2m_dewpoint_temperature/2m_dewpoint_temperature_2017.grib\n",
      "✅ Already exists: ../era5_data/2m_dewpoint_temperature/2m_dewpoint_temperature_2016.grib\n",
      "\n",
      "⬇️ Downloading 2m_dewpoint_temperature for 2015...\n"
     ]
    },
    {
     "name": "stderr",
     "output_type": "stream",
     "text": [
      "2025-07-14 08:57:09,466 INFO Request ID is 220053a2-3efe-4d15-a81d-1d03830cbefe\n",
      "2025-07-14 08:57:09,605 INFO status has been updated to accepted\n",
      "2025-07-14 08:57:24,204 INFO status has been updated to running\n",
      "2025-07-14 09:07:32,183 INFO status has been updated to successful\n"
     ]
    },
    {
     "data": {
      "application/vnd.jupyter.widget-view+json": {
       "model_id": "",
       "version_major": 2,
       "version_minor": 0
      },
      "text/plain": [
       "955ec92c8e82f5a1a2a1e9eb146cbdae.grib:   0%|          | 0.00/3.16M [00:00<?, ?B/s]"
      ]
     },
     "metadata": {},
     "output_type": "display_data"
    },
    {
     "name": "stdout",
     "output_type": "stream",
     "text": [
      "✅ Finished 2015 in 625.69 seconds\n",
      "\n",
      "⬇️ Downloading 2m_dewpoint_temperature for 2014...\n"
     ]
    },
    {
     "name": "stderr",
     "output_type": "stream",
     "text": [
      "2025-07-14 09:07:34,978 INFO Request ID is 53dc8c62-e24d-483f-a089-3cfce3e4d067\n",
      "2025-07-14 09:07:35,486 INFO status has been updated to accepted\n",
      "2025-07-14 09:08:08,891 INFO status has been updated to running\n",
      "2025-07-14 09:26:02,834 INFO status has been updated to successful\n"
     ]
    },
    {
     "data": {
      "application/vnd.jupyter.widget-view+json": {
       "model_id": "",
       "version_major": 2,
       "version_minor": 0
      },
      "text/plain": [
       "6fa42f89d9ec662a91c9b92aabd6c4f6.grib:   0%|          | 0.00/3.16M [00:00<?, ?B/s]"
      ]
     },
     "metadata": {},
     "output_type": "display_data"
    },
    {
     "name": "stdout",
     "output_type": "stream",
     "text": [
      "✅ Finished 2014 in 1110.67 seconds\n",
      "\n",
      "⬇️ Downloading 2m_dewpoint_temperature for 2013...\n"
     ]
    },
    {
     "name": "stderr",
     "output_type": "stream",
     "text": [
      "2025-07-14 09:26:05,811 INFO Request ID is 61a876ee-34c5-4815-ab24-b46ea002d883\n",
      "2025-07-14 09:26:05,983 INFO status has been updated to accepted\n",
      "2025-07-14 09:27:22,794 INFO status has been updated to running\n",
      "2025-07-14 09:40:31,161 INFO status has been updated to successful\n"
     ]
    },
    {
     "data": {
      "application/vnd.jupyter.widget-view+json": {
       "model_id": "",
       "version_major": 2,
       "version_minor": 0
      },
      "text/plain": [
       "598a1eecf04c319cc9644c32bbb117f9.grib:   0%|          | 0.00/3.16M [00:00<?, ?B/s]"
      ]
     },
     "metadata": {},
     "output_type": "display_data"
    },
    {
     "name": "stdout",
     "output_type": "stream",
     "text": [
      "✅ Finished 2013 in 868.22 seconds\n",
      "\n",
      "⬇️ Downloading 2m_dewpoint_temperature for 2012...\n"
     ]
    },
    {
     "name": "stderr",
     "output_type": "stream",
     "text": [
      "2025-07-14 09:40:34,228 INFO Request ID is 646a2257-b651-4ec6-bc08-532594f46239\n",
      "2025-07-14 09:40:34,388 INFO status has been updated to accepted\n",
      "2025-07-14 09:42:30,238 INFO status has been updated to running\n",
      "2025-07-14 09:54:59,241 INFO status has been updated to successful\n"
     ]
    },
    {
     "data": {
      "application/vnd.jupyter.widget-view+json": {
       "model_id": "",
       "version_major": 2,
       "version_minor": 0
      },
      "text/plain": [
       "947e2581eec35629e3c126e24575e952.grib:   0%|          | 0.00/3.17M [00:00<?, ?B/s]"
      ]
     },
     "metadata": {},
     "output_type": "display_data"
    },
    {
     "name": "stdout",
     "output_type": "stream",
     "text": [
      "✅ Finished 2012 in 868.30 seconds\n",
      "\n",
      "⬇️ Downloading 2m_dewpoint_temperature for 2011...\n"
     ]
    },
    {
     "name": "stderr",
     "output_type": "stream",
     "text": [
      "2025-07-14 09:55:02,195 INFO Request ID is 3f373fc9-7405-4d59-a2c4-884d4a72251b\n",
      "2025-07-14 09:55:02,343 INFO status has been updated to accepted\n",
      "2025-07-14 09:55:23,995 INFO status has been updated to running\n",
      "2025-07-14 10:07:24,983 INFO status has been updated to successful\n"
     ]
    },
    {
     "data": {
      "application/vnd.jupyter.widget-view+json": {
       "model_id": "",
       "version_major": 2,
       "version_minor": 0
      },
      "text/plain": [
       "9623cae319aee497541a773167ace187.grib:   0%|          | 0.00/3.16M [00:00<?, ?B/s]"
      ]
     },
     "metadata": {},
     "output_type": "display_data"
    },
    {
     "name": "stdout",
     "output_type": "stream",
     "text": [
      "✅ Finished 2011 in 748.27 seconds\n",
      "\n",
      "⏱️ Total time for 2m_dewpoint_temperature: 4221.15 seconds\n"
     ]
    },
    {
     "name": "stderr",
     "output_type": "stream",
     "text": [
      "2025-07-14 10:07:30,196 INFO [2024-09-26T00:00:00] Watch our [Forum](https://forum.ecmwf.int/) for Announcements, news and other discussed topics.\n"
     ]
    },
    {
     "name": "stdout",
     "output_type": "stream",
     "text": [
      "✅ Already exists: ../era5_data/10m_u_component_of_wind/10m_u_component_of_wind_2025.grib\n",
      "✅ Already exists: ../era5_data/10m_u_component_of_wind/10m_u_component_of_wind_2024.grib\n",
      "✅ Already exists: ../era5_data/10m_u_component_of_wind/10m_u_component_of_wind_2023.grib\n",
      "✅ Already exists: ../era5_data/10m_u_component_of_wind/10m_u_component_of_wind_2022.grib\n",
      "✅ Already exists: ../era5_data/10m_u_component_of_wind/10m_u_component_of_wind_2021.grib\n",
      "✅ Already exists: ../era5_data/10m_u_component_of_wind/10m_u_component_of_wind_2020.grib\n",
      "✅ Already exists: ../era5_data/10m_u_component_of_wind/10m_u_component_of_wind_2019.grib\n",
      "✅ Already exists: ../era5_data/10m_u_component_of_wind/10m_u_component_of_wind_2018.grib\n",
      "✅ Already exists: ../era5_data/10m_u_component_of_wind/10m_u_component_of_wind_2017.grib\n",
      "✅ Already exists: ../era5_data/10m_u_component_of_wind/10m_u_component_of_wind_2016.grib\n",
      "\n",
      "⬇️ Downloading 10m_u_component_of_wind for 2015...\n"
     ]
    },
    {
     "name": "stderr",
     "output_type": "stream",
     "text": [
      "2025-07-14 10:07:30,815 INFO Request ID is 5f377abd-97ec-4bfc-b3b4-c785dd0596f8\n",
      "2025-07-14 10:07:30,957 INFO status has been updated to accepted\n",
      "2025-07-14 10:08:04,581 INFO status has been updated to running\n",
      "2025-07-14 10:17:54,269 INFO status has been updated to successful\n"
     ]
    },
    {
     "data": {
      "application/vnd.jupyter.widget-view+json": {
       "model_id": "",
       "version_major": 2,
       "version_minor": 0
      },
      "text/plain": [
       "2fa3f75421f8a1ebff83830b29b22893.grib:   0%|          | 0.00/3.16M [00:00<?, ?B/s]"
      ]
     },
     "metadata": {},
     "output_type": "display_data"
    },
    {
     "name": "stdout",
     "output_type": "stream",
     "text": [
      "✅ Finished 2015 in 626.65 seconds\n",
      "\n",
      "⬇️ Downloading 10m_u_component_of_wind for 2014...\n"
     ]
    },
    {
     "name": "stderr",
     "output_type": "stream",
     "text": [
      "2025-07-14 10:17:57,467 INFO Request ID is b963b936-6325-43f9-9b7c-d95f38b47412\n",
      "2025-07-14 10:17:57,631 INFO status has been updated to accepted\n",
      "2025-07-14 10:18:06,384 INFO status has been updated to running\n",
      "2025-07-14 10:30:20,611 INFO status has been updated to successful\n"
     ]
    },
    {
     "data": {
      "application/vnd.jupyter.widget-view+json": {
       "model_id": "",
       "version_major": 2,
       "version_minor": 0
      },
      "text/plain": [
       "4f4b3e58eec3d7adda1ce69e26d59e60.grib:   0%|          | 0.00/3.16M [00:00<?, ?B/s]"
      ]
     },
     "metadata": {},
     "output_type": "display_data"
    },
    {
     "name": "stdout",
     "output_type": "stream",
     "text": [
      "✅ Finished 2014 in 746.04 seconds\n",
      "\n",
      "⬇️ Downloading 10m_u_component_of_wind for 2013...\n"
     ]
    },
    {
     "name": "stderr",
     "output_type": "stream",
     "text": [
      "2025-07-14 10:30:23,623 INFO Request ID is 97f82286-0743-4445-8d98-6558728e4898\n",
      "2025-07-14 10:30:23,771 INFO status has been updated to accepted\n",
      "2025-07-14 10:30:32,642 INFO status has been updated to running\n",
      "2025-07-14 10:40:45,468 INFO status has been updated to successful\n"
     ]
    },
    {
     "data": {
      "application/vnd.jupyter.widget-view+json": {
       "model_id": "",
       "version_major": 2,
       "version_minor": 0
      },
      "text/plain": [
       "9bdae5210301d4df3b27037f2bc438c5.grib:   0%|          | 0.00/3.16M [00:00<?, ?B/s]"
      ]
     },
     "metadata": {},
     "output_type": "display_data"
    },
    {
     "name": "stdout",
     "output_type": "stream",
     "text": [
      "✅ Finished 2013 in 624.87 seconds\n",
      "\n",
      "⬇️ Downloading 10m_u_component_of_wind for 2012...\n"
     ]
    },
    {
     "name": "stderr",
     "output_type": "stream",
     "text": [
      "2025-07-14 10:40:49,023 INFO Request ID is d7622d98-1eee-47e7-a47c-68d7c795870e\n",
      "2025-07-14 10:40:49,181 INFO status has been updated to accepted\n",
      "2025-07-14 10:40:57,954 INFO status has been updated to running\n",
      "2025-07-14 10:53:11,635 INFO status has been updated to successful\n"
     ]
    },
    {
     "data": {
      "application/vnd.jupyter.widget-view+json": {
       "model_id": "",
       "version_major": 2,
       "version_minor": 0
      },
      "text/plain": [
       "247fb43cc9643f83b29fa7fdeb362d3d.grib:   0%|          | 0.00/3.17M [00:00<?, ?B/s]"
      ]
     },
     "metadata": {},
     "output_type": "display_data"
    },
    {
     "name": "stdout",
     "output_type": "stream",
     "text": [
      "✅ Finished 2012 in 746.34 seconds\n",
      "\n",
      "⬇️ Downloading 10m_u_component_of_wind for 2011...\n"
     ]
    },
    {
     "name": "stderr",
     "output_type": "stream",
     "text": [
      "2025-07-14 10:53:14,741 INFO Request ID is e4bc0439-59a1-4d98-a8ed-920e385cc20b\n",
      "2025-07-14 10:53:14,936 INFO status has been updated to accepted\n",
      "2025-07-14 10:53:36,673 INFO status has been updated to running\n",
      "2025-07-14 11:07:37,707 INFO status has been updated to successful\n"
     ]
    },
    {
     "data": {
      "application/vnd.jupyter.widget-view+json": {
       "model_id": "",
       "version_major": 2,
       "version_minor": 0
      },
      "text/plain": [
       "6b195f356491780942ef748f4e3504f0.grib:   0%|          | 0.00/3.16M [00:00<?, ?B/s]"
      ]
     },
     "metadata": {},
     "output_type": "display_data"
    },
    {
     "name": "stdout",
     "output_type": "stream",
     "text": [
      "✅ Finished 2011 in 865.79 seconds\n",
      "\n",
      "⏱️ Total time for 10m_u_component_of_wind: 3609.69 seconds\n"
     ]
    },
    {
     "name": "stderr",
     "output_type": "stream",
     "text": [
      "2025-07-14 11:07:40,261 INFO [2024-09-26T00:00:00] Watch our [Forum](https://forum.ecmwf.int/) for Announcements, news and other discussed topics.\n"
     ]
    },
    {
     "name": "stdout",
     "output_type": "stream",
     "text": [
      "✅ Already exists: ../era5_data/10m_v_component_of_wind/10m_v_component_of_wind_2025.grib\n",
      "✅ Already exists: ../era5_data/10m_v_component_of_wind/10m_v_component_of_wind_2024.grib\n",
      "✅ Already exists: ../era5_data/10m_v_component_of_wind/10m_v_component_of_wind_2023.grib\n",
      "✅ Already exists: ../era5_data/10m_v_component_of_wind/10m_v_component_of_wind_2022.grib\n",
      "✅ Already exists: ../era5_data/10m_v_component_of_wind/10m_v_component_of_wind_2021.grib\n",
      "✅ Already exists: ../era5_data/10m_v_component_of_wind/10m_v_component_of_wind_2020.grib\n",
      "✅ Already exists: ../era5_data/10m_v_component_of_wind/10m_v_component_of_wind_2019.grib\n",
      "✅ Already exists: ../era5_data/10m_v_component_of_wind/10m_v_component_of_wind_2018.grib\n",
      "✅ Already exists: ../era5_data/10m_v_component_of_wind/10m_v_component_of_wind_2017.grib\n",
      "✅ Already exists: ../era5_data/10m_v_component_of_wind/10m_v_component_of_wind_2016.grib\n",
      "\n",
      "⬇️ Downloading 10m_v_component_of_wind for 2015...\n"
     ]
    },
    {
     "name": "stderr",
     "output_type": "stream",
     "text": [
      "2025-07-14 11:07:40,939 INFO Request ID is 854366d7-1776-49e9-9b3a-ea7c615a1046\n",
      "2025-07-14 11:07:41,086 INFO status has been updated to accepted\n",
      "2025-07-14 11:08:14,449 INFO status has been updated to running\n",
      "2025-07-14 11:18:03,009 INFO status has been updated to successful\n"
     ]
    },
    {
     "data": {
      "application/vnd.jupyter.widget-view+json": {
       "model_id": "",
       "version_major": 2,
       "version_minor": 0
      },
      "text/plain": [
       "76ce488700272534e85307a8e7b5c0f5.grib:   0%|          | 0.00/3.16M [00:00<?, ?B/s]"
      ]
     },
     "metadata": {},
     "output_type": "display_data"
    },
    {
     "name": "stdout",
     "output_type": "stream",
     "text": [
      "✅ Finished 2015 in 625.01 seconds\n",
      "\n",
      "⬇️ Downloading 10m_v_component_of_wind for 2014...\n"
     ]
    },
    {
     "name": "stderr",
     "output_type": "stream",
     "text": [
      "2025-07-14 11:18:06,013 INFO Request ID is f6bb9d0d-8c6d-44e4-9f53-dcff68d539ed\n",
      "2025-07-14 11:18:06,334 INFO status has been updated to accepted\n",
      "2025-07-14 11:18:28,187 INFO status has been updated to running\n",
      "2025-07-14 11:28:28,038 INFO status has been updated to successful\n"
     ]
    },
    {
     "data": {
      "application/vnd.jupyter.widget-view+json": {
       "model_id": "",
       "version_major": 2,
       "version_minor": 0
      },
      "text/plain": [
       "125c233c0f8dd558164a2fa0b3ea3461.grib:   0%|          | 0.00/3.16M [00:00<?, ?B/s]"
      ]
     },
     "metadata": {},
     "output_type": "display_data"
    },
    {
     "name": "stdout",
     "output_type": "stream",
     "text": [
      "✅ Finished 2014 in 624.87 seconds\n",
      "\n",
      "⬇️ Downloading 10m_v_component_of_wind for 2013...\n"
     ]
    },
    {
     "name": "stderr",
     "output_type": "stream",
     "text": [
      "2025-07-14 11:28:30,878 INFO Request ID is 537f6198-95b2-4938-9734-c5d8b084ea3a\n",
      "2025-07-14 11:28:31,088 INFO status has been updated to accepted\n",
      "2025-07-14 11:28:53,235 INFO status has been updated to running\n",
      "2025-07-14 11:38:54,551 INFO status has been updated to successful\n"
     ]
    },
    {
     "data": {
      "application/vnd.jupyter.widget-view+json": {
       "model_id": "",
       "version_major": 2,
       "version_minor": 0
      },
      "text/plain": [
       "dd56ee7ef350a5de50fa2ccf7695cf7b.grib:   0%|          | 0.00/3.16M [00:00<?, ?B/s]"
      ]
     },
     "metadata": {},
     "output_type": "display_data"
    },
    {
     "name": "stdout",
     "output_type": "stream",
     "text": [
      "✅ Finished 2013 in 627.60 seconds\n",
      "\n",
      "⬇️ Downloading 10m_v_component_of_wind for 2012...\n"
     ]
    },
    {
     "name": "stderr",
     "output_type": "stream",
     "text": [
      "2025-07-14 11:38:58,321 INFO Request ID is 6b9d21aa-1f83-40d0-aaac-d403a470b195\n",
      "2025-07-14 11:38:58,473 INFO status has been updated to accepted\n",
      "2025-07-14 11:39:07,258 INFO status has been updated to running\n",
      "2025-07-14 11:55:21,564 INFO status has been updated to successful\n"
     ]
    },
    {
     "data": {
      "application/vnd.jupyter.widget-view+json": {
       "model_id": "",
       "version_major": 2,
       "version_minor": 0
      },
      "text/plain": [
       "60250e0c2a10bd85bb6fcecd8fab7ecd.grib:   0%|          | 0.00/3.17M [00:00<?, ?B/s]"
      ]
     },
     "metadata": {},
     "output_type": "display_data"
    },
    {
     "name": "stdout",
     "output_type": "stream",
     "text": [
      "✅ Finished 2012 in 986.18 seconds\n",
      "\n",
      "⬇️ Downloading 10m_v_component_of_wind for 2011...\n"
     ]
    },
    {
     "name": "stderr",
     "output_type": "stream",
     "text": [
      "2025-07-14 11:55:24,839 INFO Request ID is 31c018ea-991b-4381-8ced-7917ebbe4851\n",
      "2025-07-14 11:55:24,988 INFO status has been updated to accepted\n",
      "2025-07-14 11:55:46,818 INFO status has been updated to running\n"
     ]
    }
   ],
   "source": [
    "for var in era5_variables:\n",
    "    download_era5_hourly_variable(\n",
    "        variable_name=var,\n",
    "        years=range(2025, 2010, -1)\n",
    "    )"
   ]
  },
  {
   "cell_type": "code",
   "execution_count": null,
   "id": "b34e9f57",
   "metadata": {},
   "outputs": [],
   "source": []
  }
 ],
 "metadata": {
  "kernelspec": {
   "display_name": "Python 3 (ipykernel)",
   "language": "python",
   "name": "python3"
  },
  "language_info": {
   "codemirror_mode": {
    "name": "ipython",
    "version": 3
   },
   "file_extension": ".py",
   "mimetype": "text/x-python",
   "name": "python",
   "nbconvert_exporter": "python",
   "pygments_lexer": "ipython3",
   "version": "3.9.12"
  }
 },
 "nbformat": 4,
 "nbformat_minor": 5
}
