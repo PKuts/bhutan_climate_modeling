{
 "cells": [
  {
   "cell_type": "code",
   "execution_count": 1,
   "id": "18a94340",
   "metadata": {},
   "outputs": [],
   "source": [
    "from era5_hourly_downloader import download_era5_hourly_variable"
   ]
  },
  {
   "cell_type": "code",
   "execution_count": 2,
   "id": "6cd87b06",
   "metadata": {},
   "outputs": [],
   "source": [
    "era5_variables = [\n",
    "    \"total_precipitation\",\n",
    "    \"2m_temperature\",\n",
    "    \"2m_dewpoint_temperature\",\n",
    "    \"10m_u_component_of_wind\",\n",
    "    \"10m_v_component_of_wind\",\n",
    "    \"surface_solar_radiation_downwards\",\n",
    "    \"potential_evaporation\",\n",
    "    \"snow_depth\",\n",
    "    \"snowmelt\",\n",
    "    \"soil_temperature_level_1\",\n",
    "    \"surface_runoff\", # to be used as flood indicator proxy\n",
    "    \"sub_surface_runoff\", # to be used as flood indicator proxy\n",
    "]\n"
   ]
  },
  {
   "cell_type": "code",
   "execution_count": 3,
   "id": "c192d7c2",
   "metadata": {},
   "outputs": [
    {
     "name": "stderr",
     "output_type": "stream",
     "text": [
      "2025-07-18 10:18:10,413 INFO [2024-09-26T00:00:00] Watch our [Forum](https://forum.ecmwf.int/) for Announcements, news and other discussed topics.\n"
     ]
    },
    {
     "name": "stdout",
     "output_type": "stream",
     "text": [
      "✅ Already exists: ../era5_data_grib_raw/total_precipitation/total_precipitation_1999.grib\n",
      "✅ Already exists: ../era5_data_grib_raw/total_precipitation/total_precipitation_1998.grib\n",
      "✅ Already exists: ../era5_data_grib_raw/total_precipitation/total_precipitation_1997.grib\n",
      "✅ Already exists: ../era5_data_grib_raw/total_precipitation/total_precipitation_1996.grib\n",
      "✅ Already exists: ../era5_data_grib_raw/total_precipitation/total_precipitation_1995.grib\n",
      "✅ Already exists: ../era5_data_grib_raw/total_precipitation/total_precipitation_1994.grib\n",
      "✅ Already exists: ../era5_data_grib_raw/total_precipitation/total_precipitation_1993.grib\n",
      "✅ Already exists: ../era5_data_grib_raw/total_precipitation/total_precipitation_1992.grib\n",
      "✅ Already exists: ../era5_data_grib_raw/total_precipitation/total_precipitation_1991.grib\n",
      "\n",
      "⏱️ Total time for total_precipitation: 0.00 seconds\n"
     ]
    },
    {
     "name": "stderr",
     "output_type": "stream",
     "text": [
      "2025-07-18 10:18:10,787 INFO [2024-09-26T00:00:00] Watch our [Forum](https://forum.ecmwf.int/) for Announcements, news and other discussed topics.\n"
     ]
    },
    {
     "name": "stdout",
     "output_type": "stream",
     "text": [
      "✅ Already exists: ../era5_data_grib_raw/2m_temperature/2m_temperature_1999.grib\n",
      "✅ Already exists: ../era5_data_grib_raw/2m_temperature/2m_temperature_1998.grib\n",
      "✅ Already exists: ../era5_data_grib_raw/2m_temperature/2m_temperature_1997.grib\n",
      "✅ Already exists: ../era5_data_grib_raw/2m_temperature/2m_temperature_1996.grib\n",
      "✅ Already exists: ../era5_data_grib_raw/2m_temperature/2m_temperature_1995.grib\n",
      "✅ Already exists: ../era5_data_grib_raw/2m_temperature/2m_temperature_1994.grib\n",
      "✅ Already exists: ../era5_data_grib_raw/2m_temperature/2m_temperature_1993.grib\n",
      "✅ Already exists: ../era5_data_grib_raw/2m_temperature/2m_temperature_1992.grib\n",
      "✅ Already exists: ../era5_data_grib_raw/2m_temperature/2m_temperature_1991.grib\n",
      "\n",
      "⏱️ Total time for 2m_temperature: 0.00 seconds\n"
     ]
    },
    {
     "name": "stderr",
     "output_type": "stream",
     "text": [
      "2025-07-18 10:18:11,163 INFO [2024-09-26T00:00:00] Watch our [Forum](https://forum.ecmwf.int/) for Announcements, news and other discussed topics.\n"
     ]
    },
    {
     "name": "stdout",
     "output_type": "stream",
     "text": [
      "✅ Already exists: ../era5_data_grib_raw/2m_dewpoint_temperature/2m_dewpoint_temperature_1999.grib\n",
      "✅ Already exists: ../era5_data_grib_raw/2m_dewpoint_temperature/2m_dewpoint_temperature_1998.grib\n",
      "✅ Already exists: ../era5_data_grib_raw/2m_dewpoint_temperature/2m_dewpoint_temperature_1997.grib\n",
      "✅ Already exists: ../era5_data_grib_raw/2m_dewpoint_temperature/2m_dewpoint_temperature_1996.grib\n",
      "✅ Already exists: ../era5_data_grib_raw/2m_dewpoint_temperature/2m_dewpoint_temperature_1995.grib\n",
      "✅ Already exists: ../era5_data_grib_raw/2m_dewpoint_temperature/2m_dewpoint_temperature_1994.grib\n",
      "✅ Already exists: ../era5_data_grib_raw/2m_dewpoint_temperature/2m_dewpoint_temperature_1993.grib\n",
      "✅ Already exists: ../era5_data_grib_raw/2m_dewpoint_temperature/2m_dewpoint_temperature_1992.grib\n",
      "✅ Already exists: ../era5_data_grib_raw/2m_dewpoint_temperature/2m_dewpoint_temperature_1991.grib\n",
      "\n",
      "⏱️ Total time for 2m_dewpoint_temperature: 0.00 seconds\n"
     ]
    },
    {
     "name": "stderr",
     "output_type": "stream",
     "text": [
      "2025-07-18 10:18:11,556 INFO [2024-09-26T00:00:00] Watch our [Forum](https://forum.ecmwf.int/) for Announcements, news and other discussed topics.\n"
     ]
    },
    {
     "name": "stdout",
     "output_type": "stream",
     "text": [
      "✅ Already exists: ../era5_data_grib_raw/10m_u_component_of_wind/10m_u_component_of_wind_1999.grib\n",
      "✅ Already exists: ../era5_data_grib_raw/10m_u_component_of_wind/10m_u_component_of_wind_1998.grib\n",
      "✅ Already exists: ../era5_data_grib_raw/10m_u_component_of_wind/10m_u_component_of_wind_1997.grib\n",
      "✅ Already exists: ../era5_data_grib_raw/10m_u_component_of_wind/10m_u_component_of_wind_1996.grib\n",
      "✅ Already exists: ../era5_data_grib_raw/10m_u_component_of_wind/10m_u_component_of_wind_1995.grib\n",
      "✅ Already exists: ../era5_data_grib_raw/10m_u_component_of_wind/10m_u_component_of_wind_1994.grib\n",
      "✅ Already exists: ../era5_data_grib_raw/10m_u_component_of_wind/10m_u_component_of_wind_1993.grib\n",
      "✅ Already exists: ../era5_data_grib_raw/10m_u_component_of_wind/10m_u_component_of_wind_1992.grib\n",
      "✅ Already exists: ../era5_data_grib_raw/10m_u_component_of_wind/10m_u_component_of_wind_1991.grib\n",
      "\n",
      "⏱️ Total time for 10m_u_component_of_wind: 0.00 seconds\n"
     ]
    },
    {
     "name": "stderr",
     "output_type": "stream",
     "text": [
      "2025-07-18 10:18:11,948 INFO [2024-09-26T00:00:00] Watch our [Forum](https://forum.ecmwf.int/) for Announcements, news and other discussed topics.\n"
     ]
    },
    {
     "name": "stdout",
     "output_type": "stream",
     "text": [
      "✅ Already exists: ../era5_data_grib_raw/10m_v_component_of_wind/10m_v_component_of_wind_1999.grib\n",
      "✅ Already exists: ../era5_data_grib_raw/10m_v_component_of_wind/10m_v_component_of_wind_1998.grib\n",
      "✅ Already exists: ../era5_data_grib_raw/10m_v_component_of_wind/10m_v_component_of_wind_1997.grib\n",
      "✅ Already exists: ../era5_data_grib_raw/10m_v_component_of_wind/10m_v_component_of_wind_1996.grib\n",
      "✅ Already exists: ../era5_data_grib_raw/10m_v_component_of_wind/10m_v_component_of_wind_1995.grib\n",
      "✅ Already exists: ../era5_data_grib_raw/10m_v_component_of_wind/10m_v_component_of_wind_1994.grib\n",
      "✅ Already exists: ../era5_data_grib_raw/10m_v_component_of_wind/10m_v_component_of_wind_1993.grib\n",
      "✅ Already exists: ../era5_data_grib_raw/10m_v_component_of_wind/10m_v_component_of_wind_1992.grib\n",
      "✅ Already exists: ../era5_data_grib_raw/10m_v_component_of_wind/10m_v_component_of_wind_1991.grib\n",
      "\n",
      "⏱️ Total time for 10m_v_component_of_wind: 0.00 seconds\n"
     ]
    },
    {
     "name": "stderr",
     "output_type": "stream",
     "text": [
      "2025-07-18 10:18:12,364 INFO [2024-09-26T00:00:00] Watch our [Forum](https://forum.ecmwf.int/) for Announcements, news and other discussed topics.\n"
     ]
    },
    {
     "name": "stdout",
     "output_type": "stream",
     "text": [
      "✅ Already exists: ../era5_data_grib_raw/surface_solar_radiation_downwards/surface_solar_radiation_downwards_1999.grib\n",
      "✅ Already exists: ../era5_data_grib_raw/surface_solar_radiation_downwards/surface_solar_radiation_downwards_1998.grib\n",
      "✅ Already exists: ../era5_data_grib_raw/surface_solar_radiation_downwards/surface_solar_radiation_downwards_1997.grib\n",
      "✅ Already exists: ../era5_data_grib_raw/surface_solar_radiation_downwards/surface_solar_radiation_downwards_1996.grib\n",
      "✅ Already exists: ../era5_data_grib_raw/surface_solar_radiation_downwards/surface_solar_radiation_downwards_1995.grib\n",
      "✅ Already exists: ../era5_data_grib_raw/surface_solar_radiation_downwards/surface_solar_radiation_downwards_1994.grib\n",
      "✅ Already exists: ../era5_data_grib_raw/surface_solar_radiation_downwards/surface_solar_radiation_downwards_1993.grib\n",
      "✅ Already exists: ../era5_data_grib_raw/surface_solar_radiation_downwards/surface_solar_radiation_downwards_1992.grib\n",
      "✅ Already exists: ../era5_data_grib_raw/surface_solar_radiation_downwards/surface_solar_radiation_downwards_1991.grib\n",
      "\n",
      "⏱️ Total time for surface_solar_radiation_downwards: 0.00 seconds\n"
     ]
    },
    {
     "name": "stderr",
     "output_type": "stream",
     "text": [
      "2025-07-18 10:18:12,762 INFO [2024-09-26T00:00:00] Watch our [Forum](https://forum.ecmwf.int/) for Announcements, news and other discussed topics.\n"
     ]
    },
    {
     "name": "stdout",
     "output_type": "stream",
     "text": [
      "✅ Already exists: ../era5_data_grib_raw/potential_evaporation/potential_evaporation_1999.grib\n",
      "✅ Already exists: ../era5_data_grib_raw/potential_evaporation/potential_evaporation_1998.grib\n",
      "✅ Already exists: ../era5_data_grib_raw/potential_evaporation/potential_evaporation_1997.grib\n",
      "✅ Already exists: ../era5_data_grib_raw/potential_evaporation/potential_evaporation_1996.grib\n",
      "✅ Already exists: ../era5_data_grib_raw/potential_evaporation/potential_evaporation_1995.grib\n",
      "✅ Already exists: ../era5_data_grib_raw/potential_evaporation/potential_evaporation_1994.grib\n",
      "✅ Already exists: ../era5_data_grib_raw/potential_evaporation/potential_evaporation_1993.grib\n",
      "✅ Already exists: ../era5_data_grib_raw/potential_evaporation/potential_evaporation_1992.grib\n",
      "✅ Already exists: ../era5_data_grib_raw/potential_evaporation/potential_evaporation_1991.grib\n",
      "\n",
      "⏱️ Total time for potential_evaporation: 0.00 seconds\n"
     ]
    },
    {
     "name": "stderr",
     "output_type": "stream",
     "text": [
      "2025-07-18 10:18:13,199 INFO [2024-09-26T00:00:00] Watch our [Forum](https://forum.ecmwf.int/) for Announcements, news and other discussed topics.\n"
     ]
    },
    {
     "name": "stdout",
     "output_type": "stream",
     "text": [
      "✅ Already exists: ../era5_data_grib_raw/snow_depth/snow_depth_1999.grib\n",
      "✅ Already exists: ../era5_data_grib_raw/snow_depth/snow_depth_1998.grib\n",
      "✅ Already exists: ../era5_data_grib_raw/snow_depth/snow_depth_1997.grib\n",
      "✅ Already exists: ../era5_data_grib_raw/snow_depth/snow_depth_1996.grib\n",
      "✅ Already exists: ../era5_data_grib_raw/snow_depth/snow_depth_1995.grib\n",
      "✅ Already exists: ../era5_data_grib_raw/snow_depth/snow_depth_1994.grib\n",
      "✅ Already exists: ../era5_data_grib_raw/snow_depth/snow_depth_1993.grib\n",
      "✅ Already exists: ../era5_data_grib_raw/snow_depth/snow_depth_1992.grib\n",
      "✅ Already exists: ../era5_data_grib_raw/snow_depth/snow_depth_1991.grib\n",
      "\n",
      "⏱️ Total time for snow_depth: 0.00 seconds\n"
     ]
    },
    {
     "name": "stderr",
     "output_type": "stream",
     "text": [
      "2025-07-18 10:18:13,611 INFO [2024-09-26T00:00:00] Watch our [Forum](https://forum.ecmwf.int/) for Announcements, news and other discussed topics.\n"
     ]
    },
    {
     "name": "stdout",
     "output_type": "stream",
     "text": [
      "✅ Already exists: ../era5_data_grib_raw/snowmelt/snowmelt_1999.grib\n",
      "✅ Already exists: ../era5_data_grib_raw/snowmelt/snowmelt_1998.grib\n",
      "✅ Already exists: ../era5_data_grib_raw/snowmelt/snowmelt_1997.grib\n",
      "✅ Already exists: ../era5_data_grib_raw/snowmelt/snowmelt_1996.grib\n",
      "✅ Already exists: ../era5_data_grib_raw/snowmelt/snowmelt_1995.grib\n",
      "✅ Already exists: ../era5_data_grib_raw/snowmelt/snowmelt_1994.grib\n",
      "✅ Already exists: ../era5_data_grib_raw/snowmelt/snowmelt_1993.grib\n",
      "✅ Already exists: ../era5_data_grib_raw/snowmelt/snowmelt_1992.grib\n",
      "✅ Already exists: ../era5_data_grib_raw/snowmelt/snowmelt_1991.grib\n",
      "\n",
      "⏱️ Total time for snowmelt: 0.00 seconds\n"
     ]
    },
    {
     "name": "stderr",
     "output_type": "stream",
     "text": [
      "2025-07-18 10:18:14,012 INFO [2024-09-26T00:00:00] Watch our [Forum](https://forum.ecmwf.int/) for Announcements, news and other discussed topics.\n"
     ]
    },
    {
     "name": "stdout",
     "output_type": "stream",
     "text": [
      "✅ Already exists: ../era5_data_grib_raw/soil_temperature_level_1/soil_temperature_level_1_1999.grib\n",
      "✅ Already exists: ../era5_data_grib_raw/soil_temperature_level_1/soil_temperature_level_1_1998.grib\n",
      "✅ Already exists: ../era5_data_grib_raw/soil_temperature_level_1/soil_temperature_level_1_1997.grib\n",
      "✅ Already exists: ../era5_data_grib_raw/soil_temperature_level_1/soil_temperature_level_1_1996.grib\n",
      "✅ Already exists: ../era5_data_grib_raw/soil_temperature_level_1/soil_temperature_level_1_1995.grib\n",
      "✅ Already exists: ../era5_data_grib_raw/soil_temperature_level_1/soil_temperature_level_1_1994.grib\n",
      "✅ Already exists: ../era5_data_grib_raw/soil_temperature_level_1/soil_temperature_level_1_1993.grib\n",
      "✅ Already exists: ../era5_data_grib_raw/soil_temperature_level_1/soil_temperature_level_1_1992.grib\n",
      "✅ Already exists: ../era5_data_grib_raw/soil_temperature_level_1/soil_temperature_level_1_1991.grib\n",
      "\n",
      "⏱️ Total time for soil_temperature_level_1: 0.00 seconds\n"
     ]
    },
    {
     "name": "stderr",
     "output_type": "stream",
     "text": [
      "2025-07-18 10:18:14,417 INFO [2024-09-26T00:00:00] Watch our [Forum](https://forum.ecmwf.int/) for Announcements, news and other discussed topics.\n"
     ]
    },
    {
     "name": "stdout",
     "output_type": "stream",
     "text": [
      "✅ Already exists: ../era5_data_grib_raw/surface_runoff/surface_runoff_1999.grib\n",
      "✅ Already exists: ../era5_data_grib_raw/surface_runoff/surface_runoff_1998.grib\n",
      "✅ Already exists: ../era5_data_grib_raw/surface_runoff/surface_runoff_1997.grib\n",
      "✅ Already exists: ../era5_data_grib_raw/surface_runoff/surface_runoff_1996.grib\n",
      "✅ Already exists: ../era5_data_grib_raw/surface_runoff/surface_runoff_1995.grib\n",
      "✅ Already exists: ../era5_data_grib_raw/surface_runoff/surface_runoff_1994.grib\n",
      "✅ Already exists: ../era5_data_grib_raw/surface_runoff/surface_runoff_1993.grib\n",
      "✅ Already exists: ../era5_data_grib_raw/surface_runoff/surface_runoff_1992.grib\n",
      "✅ Already exists: ../era5_data_grib_raw/surface_runoff/surface_runoff_1991.grib\n",
      "\n",
      "⏱️ Total time for surface_runoff: 0.00 seconds\n"
     ]
    },
    {
     "name": "stderr",
     "output_type": "stream",
     "text": [
      "2025-07-18 10:18:14,872 INFO [2024-09-26T00:00:00] Watch our [Forum](https://forum.ecmwf.int/) for Announcements, news and other discussed topics.\n"
     ]
    },
    {
     "name": "stdout",
     "output_type": "stream",
     "text": [
      "✅ Already exists: ../era5_data_grib_raw/sub_surface_runoff/sub_surface_runoff_1999.grib\n",
      "✅ Already exists: ../era5_data_grib_raw/sub_surface_runoff/sub_surface_runoff_1998.grib\n",
      "✅ Already exists: ../era5_data_grib_raw/sub_surface_runoff/sub_surface_runoff_1997.grib\n",
      "✅ Already exists: ../era5_data_grib_raw/sub_surface_runoff/sub_surface_runoff_1996.grib\n",
      "✅ Already exists: ../era5_data_grib_raw/sub_surface_runoff/sub_surface_runoff_1995.grib\n",
      "✅ Already exists: ../era5_data_grib_raw/sub_surface_runoff/sub_surface_runoff_1994.grib\n",
      "✅ Already exists: ../era5_data_grib_raw/sub_surface_runoff/sub_surface_runoff_1993.grib\n",
      "✅ Already exists: ../era5_data_grib_raw/sub_surface_runoff/sub_surface_runoff_1992.grib\n",
      "✅ Already exists: ../era5_data_grib_raw/sub_surface_runoff/sub_surface_runoff_1991.grib\n",
      "\n",
      "⏱️ Total time for sub_surface_runoff: 0.00 seconds\n"
     ]
    }
   ],
   "source": [
    "for var in era5_variables:\n",
    "    download_era5_hourly_variable(\n",
    "        variable_name=var,\n",
    "        years=range(1999, 1990, -1)\n",
    "    )"
   ]
  },
  {
   "cell_type": "code",
   "execution_count": 4,
   "id": "b68e5040",
   "metadata": {},
   "outputs": [
    {
     "name": "stderr",
     "output_type": "stream",
     "text": [
      "2025-07-18 10:18:15,273 INFO [2024-09-26T00:00:00] Watch our [Forum](https://forum.ecmwf.int/) for Announcements, news and other discussed topics.\n"
     ]
    },
    {
     "name": "stdout",
     "output_type": "stream",
     "text": [
      "✅ Already exists: ../era5_data_grib_raw/total_precipitation/total_precipitation_1990.grib\n",
      "✅ Already exists: ../era5_data_grib_raw/total_precipitation/total_precipitation_1989.grib\n",
      "✅ Already exists: ../era5_data_grib_raw/total_precipitation/total_precipitation_1988.grib\n",
      "✅ Already exists: ../era5_data_grib_raw/total_precipitation/total_precipitation_1987.grib\n",
      "✅ Already exists: ../era5_data_grib_raw/total_precipitation/total_precipitation_1986.grib\n",
      "\n",
      "⏱️ Total time for total_precipitation: 0.00 seconds\n"
     ]
    },
    {
     "name": "stderr",
     "output_type": "stream",
     "text": [
      "2025-07-18 10:18:15,681 INFO [2024-09-26T00:00:00] Watch our [Forum](https://forum.ecmwf.int/) for Announcements, news and other discussed topics.\n"
     ]
    },
    {
     "name": "stdout",
     "output_type": "stream",
     "text": [
      "✅ Already exists: ../era5_data_grib_raw/2m_temperature/2m_temperature_1990.grib\n",
      "✅ Already exists: ../era5_data_grib_raw/2m_temperature/2m_temperature_1989.grib\n",
      "✅ Already exists: ../era5_data_grib_raw/2m_temperature/2m_temperature_1988.grib\n",
      "✅ Already exists: ../era5_data_grib_raw/2m_temperature/2m_temperature_1987.grib\n",
      "✅ Already exists: ../era5_data_grib_raw/2m_temperature/2m_temperature_1986.grib\n",
      "\n",
      "⏱️ Total time for 2m_temperature: 0.00 seconds\n"
     ]
    },
    {
     "name": "stderr",
     "output_type": "stream",
     "text": [
      "2025-07-18 10:18:16,076 INFO [2024-09-26T00:00:00] Watch our [Forum](https://forum.ecmwf.int/) for Announcements, news and other discussed topics.\n"
     ]
    },
    {
     "name": "stdout",
     "output_type": "stream",
     "text": [
      "✅ Already exists: ../era5_data_grib_raw/2m_dewpoint_temperature/2m_dewpoint_temperature_1990.grib\n",
      "✅ Already exists: ../era5_data_grib_raw/2m_dewpoint_temperature/2m_dewpoint_temperature_1989.grib\n",
      "✅ Already exists: ../era5_data_grib_raw/2m_dewpoint_temperature/2m_dewpoint_temperature_1988.grib\n",
      "✅ Already exists: ../era5_data_grib_raw/2m_dewpoint_temperature/2m_dewpoint_temperature_1987.grib\n",
      "✅ Already exists: ../era5_data_grib_raw/2m_dewpoint_temperature/2m_dewpoint_temperature_1986.grib\n",
      "\n",
      "⏱️ Total time for 2m_dewpoint_temperature: 0.00 seconds\n"
     ]
    },
    {
     "name": "stderr",
     "output_type": "stream",
     "text": [
      "2025-07-18 10:18:16,482 INFO [2024-09-26T00:00:00] Watch our [Forum](https://forum.ecmwf.int/) for Announcements, news and other discussed topics.\n"
     ]
    },
    {
     "name": "stdout",
     "output_type": "stream",
     "text": [
      "✅ Already exists: ../era5_data_grib_raw/10m_u_component_of_wind/10m_u_component_of_wind_1990.grib\n",
      "✅ Already exists: ../era5_data_grib_raw/10m_u_component_of_wind/10m_u_component_of_wind_1989.grib\n",
      "✅ Already exists: ../era5_data_grib_raw/10m_u_component_of_wind/10m_u_component_of_wind_1988.grib\n",
      "✅ Already exists: ../era5_data_grib_raw/10m_u_component_of_wind/10m_u_component_of_wind_1987.grib\n",
      "✅ Already exists: ../era5_data_grib_raw/10m_u_component_of_wind/10m_u_component_of_wind_1986.grib\n",
      "\n",
      "⏱️ Total time for 10m_u_component_of_wind: 0.00 seconds\n"
     ]
    },
    {
     "name": "stderr",
     "output_type": "stream",
     "text": [
      "2025-07-18 10:18:16,871 INFO [2024-09-26T00:00:00] Watch our [Forum](https://forum.ecmwf.int/) for Announcements, news and other discussed topics.\n"
     ]
    },
    {
     "name": "stdout",
     "output_type": "stream",
     "text": [
      "✅ Already exists: ../era5_data_grib_raw/10m_v_component_of_wind/10m_v_component_of_wind_1990.grib\n",
      "✅ Already exists: ../era5_data_grib_raw/10m_v_component_of_wind/10m_v_component_of_wind_1989.grib\n",
      "✅ Already exists: ../era5_data_grib_raw/10m_v_component_of_wind/10m_v_component_of_wind_1988.grib\n",
      "✅ Already exists: ../era5_data_grib_raw/10m_v_component_of_wind/10m_v_component_of_wind_1987.grib\n",
      "✅ Already exists: ../era5_data_grib_raw/10m_v_component_of_wind/10m_v_component_of_wind_1986.grib\n",
      "\n",
      "⏱️ Total time for 10m_v_component_of_wind: 0.00 seconds\n"
     ]
    },
    {
     "name": "stderr",
     "output_type": "stream",
     "text": [
      "2025-07-18 10:18:17,250 INFO [2024-09-26T00:00:00] Watch our [Forum](https://forum.ecmwf.int/) for Announcements, news and other discussed topics.\n"
     ]
    },
    {
     "name": "stdout",
     "output_type": "stream",
     "text": [
      "✅ Already exists: ../era5_data_grib_raw/surface_solar_radiation_downwards/surface_solar_radiation_downwards_1990.grib\n",
      "✅ Already exists: ../era5_data_grib_raw/surface_solar_radiation_downwards/surface_solar_radiation_downwards_1989.grib\n",
      "✅ Already exists: ../era5_data_grib_raw/surface_solar_radiation_downwards/surface_solar_radiation_downwards_1988.grib\n",
      "✅ Already exists: ../era5_data_grib_raw/surface_solar_radiation_downwards/surface_solar_radiation_downwards_1987.grib\n",
      "✅ Already exists: ../era5_data_grib_raw/surface_solar_radiation_downwards/surface_solar_radiation_downwards_1986.grib\n",
      "\n",
      "⏱️ Total time for surface_solar_radiation_downwards: 0.00 seconds\n"
     ]
    },
    {
     "name": "stderr",
     "output_type": "stream",
     "text": [
      "2025-07-18 10:18:17,719 INFO [2024-09-26T00:00:00] Watch our [Forum](https://forum.ecmwf.int/) for Announcements, news and other discussed topics.\n"
     ]
    },
    {
     "name": "stdout",
     "output_type": "stream",
     "text": [
      "✅ Already exists: ../era5_data_grib_raw/potential_evaporation/potential_evaporation_1990.grib\n",
      "✅ Already exists: ../era5_data_grib_raw/potential_evaporation/potential_evaporation_1989.grib\n",
      "✅ Already exists: ../era5_data_grib_raw/potential_evaporation/potential_evaporation_1988.grib\n",
      "✅ Already exists: ../era5_data_grib_raw/potential_evaporation/potential_evaporation_1987.grib\n",
      "✅ Already exists: ../era5_data_grib_raw/potential_evaporation/potential_evaporation_1986.grib\n",
      "\n",
      "⏱️ Total time for potential_evaporation: 0.00 seconds\n"
     ]
    },
    {
     "name": "stderr",
     "output_type": "stream",
     "text": [
      "2025-07-18 10:18:18,106 INFO [2024-09-26T00:00:00] Watch our [Forum](https://forum.ecmwf.int/) for Announcements, news and other discussed topics.\n"
     ]
    },
    {
     "name": "stdout",
     "output_type": "stream",
     "text": [
      "✅ Already exists: ../era5_data_grib_raw/snow_depth/snow_depth_1990.grib\n",
      "✅ Already exists: ../era5_data_grib_raw/snow_depth/snow_depth_1989.grib\n",
      "✅ Already exists: ../era5_data_grib_raw/snow_depth/snow_depth_1988.grib\n",
      "✅ Already exists: ../era5_data_grib_raw/snow_depth/snow_depth_1987.grib\n",
      "✅ Already exists: ../era5_data_grib_raw/snow_depth/snow_depth_1986.grib\n",
      "\n",
      "⏱️ Total time for snow_depth: 0.00 seconds\n"
     ]
    },
    {
     "name": "stderr",
     "output_type": "stream",
     "text": [
      "2025-07-18 10:18:18,563 INFO [2024-09-26T00:00:00] Watch our [Forum](https://forum.ecmwf.int/) for Announcements, news and other discussed topics.\n"
     ]
    },
    {
     "name": "stdout",
     "output_type": "stream",
     "text": [
      "✅ Already exists: ../era5_data_grib_raw/snowmelt/snowmelt_1990.grib\n",
      "✅ Already exists: ../era5_data_grib_raw/snowmelt/snowmelt_1989.grib\n",
      "✅ Already exists: ../era5_data_grib_raw/snowmelt/snowmelt_1988.grib\n",
      "✅ Already exists: ../era5_data_grib_raw/snowmelt/snowmelt_1987.grib\n",
      "✅ Already exists: ../era5_data_grib_raw/snowmelt/snowmelt_1986.grib\n",
      "\n",
      "⏱️ Total time for snowmelt: 0.00 seconds\n"
     ]
    },
    {
     "name": "stderr",
     "output_type": "stream",
     "text": [
      "2025-07-18 10:18:18,967 INFO [2024-09-26T00:00:00] Watch our [Forum](https://forum.ecmwf.int/) for Announcements, news and other discussed topics.\n"
     ]
    },
    {
     "name": "stdout",
     "output_type": "stream",
     "text": [
      "✅ Already exists: ../era5_data_grib_raw/soil_temperature_level_1/soil_temperature_level_1_1990.grib\n",
      "✅ Already exists: ../era5_data_grib_raw/soil_temperature_level_1/soil_temperature_level_1_1989.grib\n",
      "✅ Already exists: ../era5_data_grib_raw/soil_temperature_level_1/soil_temperature_level_1_1988.grib\n",
      "✅ Already exists: ../era5_data_grib_raw/soil_temperature_level_1/soil_temperature_level_1_1987.grib\n",
      "✅ Already exists: ../era5_data_grib_raw/soil_temperature_level_1/soil_temperature_level_1_1986.grib\n",
      "\n",
      "⏱️ Total time for soil_temperature_level_1: 0.00 seconds\n"
     ]
    },
    {
     "name": "stderr",
     "output_type": "stream",
     "text": [
      "2025-07-18 10:18:19,368 INFO [2024-09-26T00:00:00] Watch our [Forum](https://forum.ecmwf.int/) for Announcements, news and other discussed topics.\n"
     ]
    },
    {
     "name": "stdout",
     "output_type": "stream",
     "text": [
      "✅ Already exists: ../era5_data_grib_raw/surface_runoff/surface_runoff_1990.grib\n",
      "✅ Already exists: ../era5_data_grib_raw/surface_runoff/surface_runoff_1989.grib\n",
      "\n",
      "⬇️ Downloading surface_runoff for 1988...\n"
     ]
    },
    {
     "name": "stderr",
     "output_type": "stream",
     "text": [
      "2025-07-18 10:18:20,208 INFO Request ID is d060804a-2067-41ee-a1f5-45ed86c4f532\n",
      "2025-07-18 10:18:20,467 INFO status has been updated to accepted\n",
      "2025-07-18 12:01:12,471 INFO status has been updated to successful\n"
     ]
    },
    {
     "data": {
      "application/vnd.jupyter.widget-view+json": {
       "model_id": "",
       "version_major": 2,
       "version_minor": 0
      },
      "text/plain": [
       "932dc3e1634530181f61b0f46a1c482a.grib:   0%|          | 0.00/3.17M [00:00<?, ?B/s]"
      ]
     },
     "metadata": {},
     "output_type": "display_data"
    },
    {
     "name": "stdout",
     "output_type": "stream",
     "text": [
      "✅ Finished 1988 in 6175.41 seconds\n",
      "\n",
      "⬇️ Downloading surface_runoff for 1987...\n"
     ]
    },
    {
     "name": "stderr",
     "output_type": "stream",
     "text": [
      "2025-07-18 12:01:15,368 INFO Request ID is 35139911-8132-4826-b4cf-2032eab9dadb\n",
      "2025-07-18 12:01:15,516 INFO status has been updated to accepted\n",
      "2025-07-18 12:37:45,980 INFO status has been updated to running\n",
      "2025-07-18 12:49:50,643 INFO status has been updated to successful\n"
     ]
    },
    {
     "data": {
      "application/vnd.jupyter.widget-view+json": {
       "model_id": "",
       "version_major": 2,
       "version_minor": 0
      },
      "text/plain": [
       "12d24385a9e3ec0ad46b8b7f38aa3a37.grib:   0%|          | 0.00/3.16M [00:00<?, ?B/s]"
      ]
     },
     "metadata": {},
     "output_type": "display_data"
    },
    {
     "name": "stdout",
     "output_type": "stream",
     "text": [
      "✅ Finished 1987 in 2918.05 seconds\n",
      "\n",
      "⬇️ Downloading surface_runoff for 1986...\n"
     ]
    },
    {
     "name": "stderr",
     "output_type": "stream",
     "text": [
      "2025-07-18 12:49:53,521 INFO Request ID is a1ef43f4-e7eb-4494-87d6-791ebf1a4845\n",
      "2025-07-18 12:49:53,681 INFO status has been updated to accepted\n",
      "2025-07-18 13:12:22,846 INFO status has been updated to running\n",
      "2025-07-18 13:24:26,842 INFO status has been updated to successful\n"
     ]
    },
    {
     "data": {
      "application/vnd.jupyter.widget-view+json": {
       "model_id": "",
       "version_major": 2,
       "version_minor": 0
      },
      "text/plain": [
       "5987af5df86076c3ada350dd577ab783.grib:   0%|          | 0.00/3.16M [00:00<?, ?B/s]"
      ]
     },
     "metadata": {},
     "output_type": "display_data"
    },
    {
     "name": "stdout",
     "output_type": "stream",
     "text": [
      "✅ Finished 1986 in 2076.96 seconds\n",
      "\n",
      "⏱️ Total time for surface_runoff: 11170.42 seconds\n"
     ]
    },
    {
     "name": "stderr",
     "output_type": "stream",
     "text": [
      "2025-07-18 13:24:30,206 INFO [2024-09-26T00:00:00] Watch our [Forum](https://forum.ecmwf.int/) for Announcements, news and other discussed topics.\n"
     ]
    },
    {
     "name": "stdout",
     "output_type": "stream",
     "text": [
      "\n",
      "⬇️ Downloading sub_surface_runoff for 1990...\n"
     ]
    },
    {
     "name": "stderr",
     "output_type": "stream",
     "text": [
      "2025-07-18 13:24:30,955 INFO Request ID is 050b6538-b15f-4014-865d-c6d24c661ae1\n",
      "2025-07-18 13:24:31,120 INFO status has been updated to accepted\n",
      "2025-07-18 13:26:26,145 INFO status has been updated to running\n",
      "2025-07-18 13:40:57,754 INFO status has been updated to successful\n"
     ]
    },
    {
     "data": {
      "application/vnd.jupyter.widget-view+json": {
       "model_id": "",
       "version_major": 2,
       "version_minor": 0
      },
      "text/plain": [
       "e3279db3c4159b11c0252794cda0fa7e.grib:   0%|          | 0.00/3.16M [00:00<?, ?B/s]"
      ]
     },
     "metadata": {},
     "output_type": "display_data"
    },
    {
     "name": "stdout",
     "output_type": "stream",
     "text": [
      "✅ Finished 1990 in 990.69 seconds\n",
      "\n",
      "⬇️ Downloading sub_surface_runoff for 1989...\n"
     ]
    },
    {
     "name": "stderr",
     "output_type": "stream",
     "text": [
      "2025-07-18 13:41:01,723 INFO Request ID is 4052bf95-78cc-4a98-bfcb-69ac713c4498\n",
      "2025-07-18 13:41:02,298 INFO status has been updated to accepted\n",
      "2025-07-18 13:41:35,718 INFO status has been updated to running\n",
      "2025-07-18 13:55:25,015 INFO status has been updated to successful\n"
     ]
    },
    {
     "data": {
      "application/vnd.jupyter.widget-view+json": {
       "model_id": "",
       "version_major": 2,
       "version_minor": 0
      },
      "text/plain": [
       "a737c78bae91554fa5d696b4c38fb0bd.grib:   0%|          | 0.00/3.16M [00:00<?, ?B/s]"
      ]
     },
     "metadata": {},
     "output_type": "display_data"
    },
    {
     "name": "stdout",
     "output_type": "stream",
     "text": [
      "✅ Finished 1989 in 867.62 seconds\n",
      "\n",
      "⬇️ Downloading sub_surface_runoff for 1988...\n"
     ]
    },
    {
     "name": "stderr",
     "output_type": "stream",
     "text": [
      "2025-07-18 13:55:29,166 INFO Request ID is 45a07795-2b1d-458e-a08a-97705e9594e2\n",
      "2025-07-18 13:55:29,310 INFO status has been updated to accepted\n",
      "2025-07-18 14:01:54,198 INFO status has been updated to running\n",
      "2025-07-18 14:13:57,516 INFO status has been updated to successful\n"
     ]
    },
    {
     "data": {
      "application/vnd.jupyter.widget-view+json": {
       "model_id": "",
       "version_major": 2,
       "version_minor": 0
      },
      "text/plain": [
       "12e5b02ea11f53728b1379d6349fae32.grib:   0%|          | 0.00/3.17M [00:00<?, ?B/s]"
      ]
     },
     "metadata": {},
     "output_type": "display_data"
    },
    {
     "name": "stdout",
     "output_type": "stream",
     "text": [
      "✅ Finished 1988 in 1111.46 seconds\n",
      "\n",
      "⬇️ Downloading sub_surface_runoff for 1987...\n"
     ]
    },
    {
     "name": "stderr",
     "output_type": "stream",
     "text": [
      "2025-07-18 14:14:00,730 INFO Request ID is c8902fc3-25e2-4802-bc53-6d75ffa991f5\n",
      "2025-07-18 14:14:00,915 INFO status has been updated to accepted\n",
      "2025-07-18 14:18:21,811 INFO status has been updated to running\n",
      "2025-07-18 14:32:25,348 INFO status has been updated to successful\n"
     ]
    },
    {
     "data": {
      "application/vnd.jupyter.widget-view+json": {
       "model_id": "",
       "version_major": 2,
       "version_minor": 0
      },
      "text/plain": [
       "7023517035c0d5a8b499038ee469d5d9.grib:   0%|          | 0.00/3.16M [00:00<?, ?B/s]"
      ]
     },
     "metadata": {},
     "output_type": "display_data"
    },
    {
     "name": "stdout",
     "output_type": "stream",
     "text": [
      "✅ Finished 1987 in 1107.71 seconds\n",
      "\n",
      "⬇️ Downloading sub_surface_runoff for 1986...\n"
     ]
    },
    {
     "name": "stderr",
     "output_type": "stream",
     "text": [
      "2025-07-18 14:32:28,465 INFO Request ID is f3a5a552-54dc-4a41-8906-0bf8d8b90d41\n",
      "2025-07-18 14:32:28,597 INFO status has been updated to accepted\n",
      "2025-07-18 14:42:53,504 INFO status has been updated to running\n",
      "2025-07-18 14:54:58,248 INFO status has been updated to successful\n"
     ]
    },
    {
     "data": {
      "application/vnd.jupyter.widget-view+json": {
       "model_id": "",
       "version_major": 2,
       "version_minor": 0
      },
      "text/plain": [
       "5b0b633d308032c237046aae9e6a6718.grib:   0%|          | 0.00/3.16M [00:00<?, ?B/s]"
      ]
     },
     "metadata": {},
     "output_type": "display_data"
    },
    {
     "name": "stdout",
     "output_type": "stream",
     "text": [
      "✅ Finished 1986 in 1352.81 seconds\n",
      "\n",
      "⏱️ Total time for sub_surface_runoff: 5430.30 seconds\n"
     ]
    }
   ],
   "source": [
    "for var in era5_variables:\n",
    "    download_era5_hourly_variable(\n",
    "        variable_name=var,\n",
    "        years=range(1990, 1985, -1)\n",
    "    )"
   ]
  },
  {
   "cell_type": "code",
   "execution_count": null,
   "id": "ace471ce",
   "metadata": {},
   "outputs": [],
   "source": []
  }
 ],
 "metadata": {
  "kernelspec": {
   "display_name": "Python 3 (ipykernel)",
   "language": "python",
   "name": "python3"
  },
  "language_info": {
   "codemirror_mode": {
    "name": "ipython",
    "version": 3
   },
   "file_extension": ".py",
   "mimetype": "text/x-python",
   "name": "python",
   "nbconvert_exporter": "python",
   "pygments_lexer": "ipython3",
   "version": "3.9.12"
  }
 },
 "nbformat": 4,
 "nbformat_minor": 5
}
