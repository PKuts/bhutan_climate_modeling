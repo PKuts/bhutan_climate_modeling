{
 "cells": [
  {
   "cell_type": "code",
   "execution_count": 1,
   "id": "18a94340",
   "metadata": {},
   "outputs": [],
   "source": [
    "from era5_hourly_downloader import download_era5_hourly_variable"
   ]
  },
  {
   "cell_type": "code",
   "execution_count": 2,
   "id": "6cd87b06",
   "metadata": {},
   "outputs": [],
   "source": [
    "era5_variables = [\n",
    "    \"total_precipitation\",\n",
    "    \"2m_temperature\",\n",
    "    \"2m_dewpoint_temperature\",\n",
    "    \"10m_u_component_of_wind\",\n",
    "    \"10m_v_component_of_wind\",\n",
    "    \"surface_solar_radiation_downwards\",\n",
    "    \"potential_evaporation\",\n",
    "    \"snow_depth\",\n",
    "    \"snowmelt\",\n",
    "    \"soil_temperature_level_1\",\n",
    "    \"surface_runoff\", # to be used as flood indicator proxy\n",
    "    \"sub_surface_runoff\", # to be used as flood indicator proxy\n",
    "]\n",
    "\n",
    "# relative humidity does not exist - need to be derived from 2m_temperature and 2m_dewpoint_temperature\n"
   ]
  },
  {
   "cell_type": "code",
   "execution_count": 3,
   "id": "c192d7c2",
   "metadata": {},
   "outputs": [
    {
     "name": "stderr",
     "output_type": "stream",
     "text": [
      "2025-07-17 08:01:00,385 INFO [2024-09-26T00:00:00] Watch our [Forum](https://forum.ecmwf.int/) for Announcements, news and other discussed topics.\n"
     ]
    },
    {
     "name": "stdout",
     "output_type": "stream",
     "text": [
      "✅ Already exists: ../era5_data_grib_raw/total_precipitation/total_precipitation_1999.grib\n",
      "✅ Already exists: ../era5_data_grib_raw/total_precipitation/total_precipitation_1998.grib\n",
      "✅ Already exists: ../era5_data_grib_raw/total_precipitation/total_precipitation_1997.grib\n",
      "✅ Already exists: ../era5_data_grib_raw/total_precipitation/total_precipitation_1996.grib\n",
      "✅ Already exists: ../era5_data_grib_raw/total_precipitation/total_precipitation_1995.grib\n",
      "✅ Already exists: ../era5_data_grib_raw/total_precipitation/total_precipitation_1994.grib\n",
      "✅ Already exists: ../era5_data_grib_raw/total_precipitation/total_precipitation_1993.grib\n",
      "✅ Already exists: ../era5_data_grib_raw/total_precipitation/total_precipitation_1992.grib\n",
      "✅ Already exists: ../era5_data_grib_raw/total_precipitation/total_precipitation_1991.grib\n",
      "\n",
      "⏱️ Total time for total_precipitation: 0.00 seconds\n"
     ]
    },
    {
     "name": "stderr",
     "output_type": "stream",
     "text": [
      "2025-07-17 08:01:00,804 INFO [2024-09-26T00:00:00] Watch our [Forum](https://forum.ecmwf.int/) for Announcements, news and other discussed topics.\n"
     ]
    },
    {
     "name": "stdout",
     "output_type": "stream",
     "text": [
      "✅ Already exists: ../era5_data_grib_raw/2m_temperature/2m_temperature_1999.grib\n",
      "✅ Already exists: ../era5_data_grib_raw/2m_temperature/2m_temperature_1998.grib\n",
      "✅ Already exists: ../era5_data_grib_raw/2m_temperature/2m_temperature_1997.grib\n",
      "✅ Already exists: ../era5_data_grib_raw/2m_temperature/2m_temperature_1996.grib\n",
      "✅ Already exists: ../era5_data_grib_raw/2m_temperature/2m_temperature_1995.grib\n",
      "✅ Already exists: ../era5_data_grib_raw/2m_temperature/2m_temperature_1994.grib\n",
      "✅ Already exists: ../era5_data_grib_raw/2m_temperature/2m_temperature_1993.grib\n",
      "✅ Already exists: ../era5_data_grib_raw/2m_temperature/2m_temperature_1992.grib\n",
      "✅ Already exists: ../era5_data_grib_raw/2m_temperature/2m_temperature_1991.grib\n",
      "\n",
      "⏱️ Total time for 2m_temperature: 0.00 seconds\n"
     ]
    },
    {
     "name": "stderr",
     "output_type": "stream",
     "text": [
      "2025-07-17 08:01:01,201 INFO [2024-09-26T00:00:00] Watch our [Forum](https://forum.ecmwf.int/) for Announcements, news and other discussed topics.\n"
     ]
    },
    {
     "name": "stdout",
     "output_type": "stream",
     "text": [
      "✅ Already exists: ../era5_data_grib_raw/2m_dewpoint_temperature/2m_dewpoint_temperature_1999.grib\n",
      "✅ Already exists: ../era5_data_grib_raw/2m_dewpoint_temperature/2m_dewpoint_temperature_1998.grib\n",
      "✅ Already exists: ../era5_data_grib_raw/2m_dewpoint_temperature/2m_dewpoint_temperature_1997.grib\n",
      "✅ Already exists: ../era5_data_grib_raw/2m_dewpoint_temperature/2m_dewpoint_temperature_1996.grib\n",
      "✅ Already exists: ../era5_data_grib_raw/2m_dewpoint_temperature/2m_dewpoint_temperature_1995.grib\n",
      "✅ Already exists: ../era5_data_grib_raw/2m_dewpoint_temperature/2m_dewpoint_temperature_1994.grib\n",
      "✅ Already exists: ../era5_data_grib_raw/2m_dewpoint_temperature/2m_dewpoint_temperature_1993.grib\n",
      "✅ Already exists: ../era5_data_grib_raw/2m_dewpoint_temperature/2m_dewpoint_temperature_1992.grib\n",
      "✅ Already exists: ../era5_data_grib_raw/2m_dewpoint_temperature/2m_dewpoint_temperature_1991.grib\n",
      "\n",
      "⏱️ Total time for 2m_dewpoint_temperature: 0.00 seconds\n"
     ]
    },
    {
     "name": "stderr",
     "output_type": "stream",
     "text": [
      "2025-07-17 08:01:01,619 INFO [2024-09-26T00:00:00] Watch our [Forum](https://forum.ecmwf.int/) for Announcements, news and other discussed topics.\n"
     ]
    },
    {
     "name": "stdout",
     "output_type": "stream",
     "text": [
      "✅ Already exists: ../era5_data_grib_raw/10m_u_component_of_wind/10m_u_component_of_wind_1999.grib\n",
      "✅ Already exists: ../era5_data_grib_raw/10m_u_component_of_wind/10m_u_component_of_wind_1998.grib\n",
      "✅ Already exists: ../era5_data_grib_raw/10m_u_component_of_wind/10m_u_component_of_wind_1997.grib\n",
      "✅ Already exists: ../era5_data_grib_raw/10m_u_component_of_wind/10m_u_component_of_wind_1996.grib\n",
      "✅ Already exists: ../era5_data_grib_raw/10m_u_component_of_wind/10m_u_component_of_wind_1995.grib\n",
      "✅ Already exists: ../era5_data_grib_raw/10m_u_component_of_wind/10m_u_component_of_wind_1994.grib\n",
      "✅ Already exists: ../era5_data_grib_raw/10m_u_component_of_wind/10m_u_component_of_wind_1993.grib\n",
      "✅ Already exists: ../era5_data_grib_raw/10m_u_component_of_wind/10m_u_component_of_wind_1992.grib\n",
      "✅ Already exists: ../era5_data_grib_raw/10m_u_component_of_wind/10m_u_component_of_wind_1991.grib\n",
      "\n",
      "⏱️ Total time for 10m_u_component_of_wind: 0.00 seconds\n"
     ]
    },
    {
     "name": "stderr",
     "output_type": "stream",
     "text": [
      "2025-07-17 08:01:02,033 INFO [2024-09-26T00:00:00] Watch our [Forum](https://forum.ecmwf.int/) for Announcements, news and other discussed topics.\n"
     ]
    },
    {
     "name": "stdout",
     "output_type": "stream",
     "text": [
      "✅ Already exists: ../era5_data_grib_raw/10m_v_component_of_wind/10m_v_component_of_wind_1999.grib\n",
      "✅ Already exists: ../era5_data_grib_raw/10m_v_component_of_wind/10m_v_component_of_wind_1998.grib\n",
      "✅ Already exists: ../era5_data_grib_raw/10m_v_component_of_wind/10m_v_component_of_wind_1997.grib\n",
      "✅ Already exists: ../era5_data_grib_raw/10m_v_component_of_wind/10m_v_component_of_wind_1996.grib\n",
      "✅ Already exists: ../era5_data_grib_raw/10m_v_component_of_wind/10m_v_component_of_wind_1995.grib\n",
      "✅ Already exists: ../era5_data_grib_raw/10m_v_component_of_wind/10m_v_component_of_wind_1994.grib\n",
      "✅ Already exists: ../era5_data_grib_raw/10m_v_component_of_wind/10m_v_component_of_wind_1993.grib\n",
      "✅ Already exists: ../era5_data_grib_raw/10m_v_component_of_wind/10m_v_component_of_wind_1992.grib\n",
      "✅ Already exists: ../era5_data_grib_raw/10m_v_component_of_wind/10m_v_component_of_wind_1991.grib\n",
      "\n",
      "⏱️ Total time for 10m_v_component_of_wind: 0.00 seconds\n"
     ]
    },
    {
     "name": "stderr",
     "output_type": "stream",
     "text": [
      "2025-07-17 08:01:02,437 INFO [2024-09-26T00:00:00] Watch our [Forum](https://forum.ecmwf.int/) for Announcements, news and other discussed topics.\n"
     ]
    },
    {
     "name": "stdout",
     "output_type": "stream",
     "text": [
      "✅ Already exists: ../era5_data_grib_raw/surface_solar_radiation_downwards/surface_solar_radiation_downwards_1999.grib\n",
      "✅ Already exists: ../era5_data_grib_raw/surface_solar_radiation_downwards/surface_solar_radiation_downwards_1998.grib\n",
      "✅ Already exists: ../era5_data_grib_raw/surface_solar_radiation_downwards/surface_solar_radiation_downwards_1997.grib\n",
      "✅ Already exists: ../era5_data_grib_raw/surface_solar_radiation_downwards/surface_solar_radiation_downwards_1996.grib\n",
      "✅ Already exists: ../era5_data_grib_raw/surface_solar_radiation_downwards/surface_solar_radiation_downwards_1995.grib\n",
      "✅ Already exists: ../era5_data_grib_raw/surface_solar_radiation_downwards/surface_solar_radiation_downwards_1994.grib\n",
      "✅ Already exists: ../era5_data_grib_raw/surface_solar_radiation_downwards/surface_solar_radiation_downwards_1993.grib\n",
      "✅ Already exists: ../era5_data_grib_raw/surface_solar_radiation_downwards/surface_solar_radiation_downwards_1992.grib\n",
      "✅ Already exists: ../era5_data_grib_raw/surface_solar_radiation_downwards/surface_solar_radiation_downwards_1991.grib\n",
      "\n",
      "⏱️ Total time for surface_solar_radiation_downwards: 0.00 seconds\n"
     ]
    },
    {
     "name": "stderr",
     "output_type": "stream",
     "text": [
      "2025-07-17 08:01:02,856 INFO [2024-09-26T00:00:00] Watch our [Forum](https://forum.ecmwf.int/) for Announcements, news and other discussed topics.\n"
     ]
    },
    {
     "name": "stdout",
     "output_type": "stream",
     "text": [
      "✅ Already exists: ../era5_data_grib_raw/potential_evaporation/potential_evaporation_1999.grib\n",
      "✅ Already exists: ../era5_data_grib_raw/potential_evaporation/potential_evaporation_1998.grib\n",
      "✅ Already exists: ../era5_data_grib_raw/potential_evaporation/potential_evaporation_1997.grib\n",
      "✅ Already exists: ../era5_data_grib_raw/potential_evaporation/potential_evaporation_1996.grib\n",
      "✅ Already exists: ../era5_data_grib_raw/potential_evaporation/potential_evaporation_1995.grib\n",
      "✅ Already exists: ../era5_data_grib_raw/potential_evaporation/potential_evaporation_1994.grib\n",
      "✅ Already exists: ../era5_data_grib_raw/potential_evaporation/potential_evaporation_1993.grib\n",
      "✅ Already exists: ../era5_data_grib_raw/potential_evaporation/potential_evaporation_1992.grib\n",
      "✅ Already exists: ../era5_data_grib_raw/potential_evaporation/potential_evaporation_1991.grib\n",
      "\n",
      "⏱️ Total time for potential_evaporation: 0.00 seconds\n"
     ]
    },
    {
     "name": "stderr",
     "output_type": "stream",
     "text": [
      "2025-07-17 08:01:03,269 INFO [2024-09-26T00:00:00] Watch our [Forum](https://forum.ecmwf.int/) for Announcements, news and other discussed topics.\n"
     ]
    },
    {
     "name": "stdout",
     "output_type": "stream",
     "text": [
      "✅ Already exists: ../era5_data_grib_raw/snow_depth/snow_depth_1999.grib\n",
      "✅ Already exists: ../era5_data_grib_raw/snow_depth/snow_depth_1998.grib\n",
      "✅ Already exists: ../era5_data_grib_raw/snow_depth/snow_depth_1997.grib\n",
      "✅ Already exists: ../era5_data_grib_raw/snow_depth/snow_depth_1996.grib\n",
      "✅ Already exists: ../era5_data_grib_raw/snow_depth/snow_depth_1995.grib\n",
      "✅ Already exists: ../era5_data_grib_raw/snow_depth/snow_depth_1994.grib\n",
      "✅ Already exists: ../era5_data_grib_raw/snow_depth/snow_depth_1993.grib\n",
      "✅ Already exists: ../era5_data_grib_raw/snow_depth/snow_depth_1992.grib\n",
      "✅ Already exists: ../era5_data_grib_raw/snow_depth/snow_depth_1991.grib\n",
      "\n",
      "⏱️ Total time for snow_depth: 0.00 seconds\n"
     ]
    },
    {
     "name": "stderr",
     "output_type": "stream",
     "text": [
      "2025-07-17 08:01:03,678 INFO [2024-09-26T00:00:00] Watch our [Forum](https://forum.ecmwf.int/) for Announcements, news and other discussed topics.\n"
     ]
    },
    {
     "name": "stdout",
     "output_type": "stream",
     "text": [
      "✅ Already exists: ../era5_data_grib_raw/snowmelt/snowmelt_1999.grib\n",
      "✅ Already exists: ../era5_data_grib_raw/snowmelt/snowmelt_1998.grib\n",
      "✅ Already exists: ../era5_data_grib_raw/snowmelt/snowmelt_1997.grib\n",
      "✅ Already exists: ../era5_data_grib_raw/snowmelt/snowmelt_1996.grib\n",
      "✅ Already exists: ../era5_data_grib_raw/snowmelt/snowmelt_1995.grib\n",
      "✅ Already exists: ../era5_data_grib_raw/snowmelt/snowmelt_1994.grib\n",
      "✅ Already exists: ../era5_data_grib_raw/snowmelt/snowmelt_1993.grib\n",
      "✅ Already exists: ../era5_data_grib_raw/snowmelt/snowmelt_1992.grib\n",
      "✅ Already exists: ../era5_data_grib_raw/snowmelt/snowmelt_1991.grib\n",
      "\n",
      "⏱️ Total time for snowmelt: 0.00 seconds\n"
     ]
    },
    {
     "name": "stderr",
     "output_type": "stream",
     "text": [
      "2025-07-17 08:01:04,082 INFO [2024-09-26T00:00:00] Watch our [Forum](https://forum.ecmwf.int/) for Announcements, news and other discussed topics.\n"
     ]
    },
    {
     "name": "stdout",
     "output_type": "stream",
     "text": [
      "✅ Already exists: ../era5_data_grib_raw/soil_temperature_level_1/soil_temperature_level_1_1999.grib\n",
      "✅ Already exists: ../era5_data_grib_raw/soil_temperature_level_1/soil_temperature_level_1_1998.grib\n",
      "✅ Already exists: ../era5_data_grib_raw/soil_temperature_level_1/soil_temperature_level_1_1997.grib\n",
      "✅ Already exists: ../era5_data_grib_raw/soil_temperature_level_1/soil_temperature_level_1_1996.grib\n",
      "✅ Already exists: ../era5_data_grib_raw/soil_temperature_level_1/soil_temperature_level_1_1995.grib\n",
      "✅ Already exists: ../era5_data_grib_raw/soil_temperature_level_1/soil_temperature_level_1_1994.grib\n",
      "\n",
      "⬇️ Downloading soil_temperature_level_1 for 1993...\n"
     ]
    },
    {
     "name": "stderr",
     "output_type": "stream",
     "text": [
      "2025-07-17 08:01:04,968 INFO Request ID is 9b531bab-b91e-4ca3-9971-6a8814944511\n",
      "2025-07-17 08:01:05,136 INFO status has been updated to accepted\n",
      "2025-07-17 08:45:44,815 INFO status has been updated to successful\n"
     ]
    },
    {
     "data": {
      "application/vnd.jupyter.widget-view+json": {
       "model_id": "",
       "version_major": 2,
       "version_minor": 0
      },
      "text/plain": [
       "30604f0d4339dfb8df4e69ad06b4cb8d.grib:   0%|          | 0.00/3.16M [00:00<?, ?B/s]"
      ]
     },
     "metadata": {},
     "output_type": "display_data"
    },
    {
     "name": "stdout",
     "output_type": "stream",
     "text": [
      "✅ Finished 1993 in 2683.20 seconds\n",
      "\n",
      "⬇️ Downloading soil_temperature_level_1 for 1992...\n"
     ]
    },
    {
     "name": "stderr",
     "output_type": "stream",
     "text": [
      "2025-07-17 08:45:48,113 INFO Request ID is 9e4c5878-804d-41ff-81b0-f223ae269eca\n",
      "2025-07-17 08:45:48,267 INFO status has been updated to accepted\n",
      "2025-07-17 10:12:36,045 INFO status has been updated to running\n",
      "2025-07-17 10:18:41,928 INFO status has been updated to accepted\n",
      "2025-07-17 10:22:42,943 INFO status has been updated to running\n",
      "2025-07-17 10:34:47,035 INFO status has been updated to successful\n"
     ]
    },
    {
     "data": {
      "application/vnd.jupyter.widget-view+json": {
       "model_id": "",
       "version_major": 2,
       "version_minor": 0
      },
      "text/plain": [
       "408cf56ce9eaa72c97d05207247e61f8.grib:   0%|          | 0.00/3.17M [00:00<?, ?B/s]"
      ]
     },
     "metadata": {},
     "output_type": "display_data"
    },
    {
     "name": "stdout",
     "output_type": "stream",
     "text": [
      "✅ Finished 1992 in 6541.97 seconds\n",
      "\n",
      "⬇️ Downloading soil_temperature_level_1 for 1991...\n"
     ]
    },
    {
     "name": "stderr",
     "output_type": "stream",
     "text": [
      "2025-07-17 10:34:49,892 INFO Request ID is 8a5b89bf-7e7d-4fc4-a284-af7b650231f5\n",
      "2025-07-17 10:34:50,057 INFO status has been updated to accepted\n",
      "2025-07-17 11:39:39,515 INFO status has been updated to running\n",
      "2025-07-17 11:43:40,486 INFO status has been updated to accepted\n",
      "2025-07-17 11:45:40,918 INFO status has been updated to running\n",
      "2025-07-17 11:59:44,591 INFO status has been updated to successful\n"
     ]
    },
    {
     "data": {
      "application/vnd.jupyter.widget-view+json": {
       "model_id": "",
       "version_major": 2,
       "version_minor": 0
      },
      "text/plain": [
       "bf584dd460e5bbef690adc7282135645.grib:   0%|          | 0.00/3.16M [00:00<?, ?B/s]"
      ]
     },
     "metadata": {},
     "output_type": "display_data"
    },
    {
     "name": "stdout",
     "output_type": "stream",
     "text": [
      "✅ Finished 1991 in 5097.66 seconds\n",
      "\n",
      "⏱️ Total time for soil_temperature_level_1: 14322.84 seconds\n"
     ]
    },
    {
     "name": "stderr",
     "output_type": "stream",
     "text": [
      "2025-07-17 11:59:47,320 INFO [2024-09-26T00:00:00] Watch our [Forum](https://forum.ecmwf.int/) for Announcements, news and other discussed topics.\n"
     ]
    },
    {
     "name": "stdout",
     "output_type": "stream",
     "text": [
      "\n",
      "⬇️ Downloading surface_runoff for 1999...\n"
     ]
    },
    {
     "name": "stderr",
     "output_type": "stream",
     "text": [
      "2025-07-17 11:59:48,094 INFO Request ID is 8a8b5345-feec-46b5-97be-d048894c7de8\n",
      "2025-07-17 11:59:48,267 INFO status has been updated to accepted\n",
      "2025-07-17 12:06:12,093 INFO status has been updated to running\n",
      "2025-07-17 12:18:15,291 INFO status has been updated to successful\n"
     ]
    },
    {
     "data": {
      "application/vnd.jupyter.widget-view+json": {
       "model_id": "",
       "version_major": 2,
       "version_minor": 0
      },
      "text/plain": [
       "22b69655ca97b14eb80be8f69e6bed0.grib:   0%|          | 0.00/3.16M [00:00<?, ?B/s]"
      ]
     },
     "metadata": {},
     "output_type": "display_data"
    },
    {
     "name": "stdout",
     "output_type": "stream",
     "text": [
      "✅ Finished 1999 in 1110.27 seconds\n",
      "\n",
      "⬇️ Downloading surface_runoff for 1998...\n"
     ]
    },
    {
     "name": "stderr",
     "output_type": "stream",
     "text": [
      "2025-07-17 12:18:18,295 INFO Request ID is 3fab506d-5497-4c26-9615-b96431cfa938\n",
      "2025-07-17 12:18:18,518 INFO status has been updated to accepted\n",
      "2025-07-17 12:24:41,183 INFO status has been updated to running\n",
      "2025-07-17 12:36:44,009 INFO status has been updated to successful\n"
     ]
    },
    {
     "data": {
      "application/vnd.jupyter.widget-view+json": {
       "model_id": "",
       "version_major": 2,
       "version_minor": 0
      },
      "text/plain": [
       "4cb7af78bc465d559c23ed291660223f.grib:   0%|          | 0.00/3.16M [00:00<?, ?B/s]"
      ]
     },
     "metadata": {},
     "output_type": "display_data"
    },
    {
     "name": "stdout",
     "output_type": "stream",
     "text": [
      "✅ Finished 1998 in 1108.91 seconds\n",
      "\n",
      "⬇️ Downloading surface_runoff for 1997...\n"
     ]
    },
    {
     "name": "stderr",
     "output_type": "stream",
     "text": [
      "2025-07-17 12:36:47,388 INFO Request ID is 4f674055-1a19-44cd-aaca-12930578c0a7\n",
      "2025-07-17 12:36:47,547 INFO status has been updated to accepted\n",
      "2025-07-17 12:57:13,766 INFO status has been updated to running\n",
      "2025-07-17 13:09:19,685 INFO status has been updated to successful\n"
     ]
    },
    {
     "data": {
      "application/vnd.jupyter.widget-view+json": {
       "model_id": "",
       "version_major": 2,
       "version_minor": 0
      },
      "text/plain": [
       "3abce01fa0664ea9a520b72de1812092.grib:   0%|          | 0.00/3.16M [00:00<?, ?B/s]"
      ]
     },
     "metadata": {},
     "output_type": "display_data"
    },
    {
     "name": "stdout",
     "output_type": "stream",
     "text": [
      "✅ Finished 1997 in 1962.55 seconds\n",
      "\n",
      "⬇️ Downloading surface_runoff for 1996...\n"
     ]
    },
    {
     "name": "stderr",
     "output_type": "stream",
     "text": [
      "2025-07-17 13:09:29,926 INFO Request ID is c3c2048b-b9a8-4766-91c4-9623f11e5077\n",
      "2025-07-17 13:09:30,125 INFO status has been updated to accepted\n",
      "2025-07-17 13:12:23,447 INFO status has been updated to running\n",
      "2025-07-17 13:23:54,342 INFO status has been updated to successful\n"
     ]
    },
    {
     "data": {
      "application/vnd.jupyter.widget-view+json": {
       "model_id": "",
       "version_major": 2,
       "version_minor": 0
      },
      "text/plain": [
       "330c01d01a3eec460106f1c94d04cba5.grib:   0%|          | 0.00/3.17M [00:00<?, ?B/s]"
      ]
     },
     "metadata": {},
     "output_type": "display_data"
    },
    {
     "name": "stdout",
     "output_type": "stream",
     "text": [
      "✅ Finished 1996 in 869.07 seconds\n",
      "\n",
      "⬇️ Downloading surface_runoff for 1995...\n"
     ]
    },
    {
     "name": "stderr",
     "output_type": "stream",
     "text": [
      "2025-07-17 13:23:59,038 INFO Request ID is 71ce83a0-c3e7-4a70-84ad-c73c853f4d53\n",
      "2025-07-17 13:23:59,202 INFO status has been updated to accepted\n",
      "2025-07-17 13:30:20,307 INFO status has been updated to running\n",
      "2025-07-17 13:42:26,774 INFO status has been updated to successful\n"
     ]
    },
    {
     "data": {
      "application/vnd.jupyter.widget-view+json": {
       "model_id": "",
       "version_major": 2,
       "version_minor": 0
      },
      "text/plain": [
       "32091d67be30f542c437f9e1c8bf9af9.grib:   0%|          | 0.00/3.16M [00:00<?, ?B/s]"
      ]
     },
     "metadata": {},
     "output_type": "display_data"
    },
    {
     "name": "stdout",
     "output_type": "stream",
     "text": [
      "✅ Finished 1995 in 1111.47 seconds\n",
      "\n",
      "⬇️ Downloading surface_runoff for 1994...\n"
     ]
    },
    {
     "name": "stderr",
     "output_type": "stream",
     "text": [
      "2025-07-17 13:42:30,426 INFO Request ID is a9d9457b-e646-4a30-82e6-3611320f6718\n",
      "2025-07-17 13:42:30,883 INFO status has been updated to accepted\n",
      "2025-07-17 13:42:44,869 INFO status has been updated to running\n",
      "2025-07-17 13:56:53,566 INFO status has been updated to successful\n"
     ]
    },
    {
     "data": {
      "application/vnd.jupyter.widget-view+json": {
       "model_id": "",
       "version_major": 2,
       "version_minor": 0
      },
      "text/plain": [
       "51a25e548920ba8076302e9c4f406977.grib:   0%|          | 0.00/3.16M [00:00<?, ?B/s]"
      ]
     },
     "metadata": {},
     "output_type": "display_data"
    },
    {
     "name": "stdout",
     "output_type": "stream",
     "text": [
      "✅ Finished 1994 in 867.07 seconds\n",
      "\n",
      "⬇️ Downloading surface_runoff for 1993...\n"
     ]
    },
    {
     "name": "stderr",
     "output_type": "stream",
     "text": [
      "2025-07-17 13:56:57,356 INFO Request ID is 34aa8ce8-852e-4824-85a9-51b9e982abd8\n",
      "2025-07-17 13:56:57,561 INFO status has been updated to accepted\n",
      "2025-07-17 13:57:12,921 INFO status has been updated to running\n",
      "2025-07-17 14:11:22,749 INFO status has been updated to successful\n"
     ]
    },
    {
     "data": {
      "application/vnd.jupyter.widget-view+json": {
       "model_id": "",
       "version_major": 2,
       "version_minor": 0
      },
      "text/plain": [
       "9c781e2bacfd0bfc9f376eb128cb3530.grib:   0%|          | 0.00/3.16M [00:00<?, ?B/s]"
      ]
     },
     "metadata": {},
     "output_type": "display_data"
    },
    {
     "name": "stdout",
     "output_type": "stream",
     "text": [
      "✅ Finished 1993 in 868.69 seconds\n",
      "\n",
      "⬇️ Downloading surface_runoff for 1992...\n"
     ]
    },
    {
     "name": "stderr",
     "output_type": "stream",
     "text": [
      "2025-07-17 14:11:26,164 INFO Request ID is cb7b66b9-d0ad-41a2-b5ba-e9d29fe50f91\n",
      "2025-07-17 14:11:26,480 INFO status has been updated to accepted\n",
      "2025-07-17 14:12:17,432 INFO status has been updated to running\n",
      "2025-07-17 14:25:50,891 INFO status has been updated to successful\n"
     ]
    },
    {
     "data": {
      "application/vnd.jupyter.widget-view+json": {
       "model_id": "",
       "version_major": 2,
       "version_minor": 0
      },
      "text/plain": [
       "8b60c00b7ab5ed87ddd89f5b90d7475e.grib:   0%|          | 0.00/3.17M [00:00<?, ?B/s]"
      ]
     },
     "metadata": {},
     "output_type": "display_data"
    },
    {
     "name": "stdout",
     "output_type": "stream",
     "text": [
      "✅ Finished 1992 in 867.66 seconds\n",
      "\n",
      "⬇️ Downloading surface_runoff for 1991...\n"
     ]
    },
    {
     "name": "stderr",
     "output_type": "stream",
     "text": [
      "2025-07-17 14:25:53,890 INFO Request ID is 31f53182-82db-4976-a73b-5db1862fae8b\n",
      "2025-07-17 14:25:54,059 INFO status has been updated to accepted\n",
      "2025-07-17 14:26:44,945 INFO status has been updated to running\n",
      "2025-07-17 14:40:20,025 INFO status has been updated to successful\n"
     ]
    },
    {
     "data": {
      "application/vnd.jupyter.widget-view+json": {
       "model_id": "",
       "version_major": 2,
       "version_minor": 0
      },
      "text/plain": [
       "eead0e9acea19b729c5d535e9831524.grib:   0%|          | 0.00/3.16M [00:00<?, ?B/s]"
      ]
     },
     "metadata": {},
     "output_type": "display_data"
    },
    {
     "name": "stdout",
     "output_type": "stream",
     "text": [
      "✅ Finished 1991 in 869.13 seconds\n",
      "\n",
      "⏱️ Total time for surface_runoff: 9634.80 seconds\n"
     ]
    },
    {
     "name": "stderr",
     "output_type": "stream",
     "text": [
      "2025-07-17 14:40:22,523 INFO [2024-09-26T00:00:00] Watch our [Forum](https://forum.ecmwf.int/) for Announcements, news and other discussed topics.\n"
     ]
    },
    {
     "name": "stdout",
     "output_type": "stream",
     "text": [
      "\n",
      "⬇️ Downloading sub_surface_runoff for 1999...\n"
     ]
    },
    {
     "name": "stderr",
     "output_type": "stream",
     "text": [
      "2025-07-17 14:40:23,206 INFO Request ID is bf9cf6cb-a148-4ce0-8b46-df8d15f75a9c\n",
      "2025-07-17 14:40:23,364 INFO status has been updated to accepted\n",
      "2025-07-17 14:50:47,249 INFO status has been updated to running\n",
      "2025-07-17 15:02:50,232 INFO status has been updated to successful\n"
     ]
    },
    {
     "data": {
      "application/vnd.jupyter.widget-view+json": {
       "model_id": "",
       "version_major": 2,
       "version_minor": 0
      },
      "text/plain": [
       "385a21c2759607ca5814ec4c927797a7.grib:   0%|          | 0.00/3.16M [00:00<?, ?B/s]"
      ]
     },
     "metadata": {},
     "output_type": "display_data"
    },
    {
     "name": "stdout",
     "output_type": "stream",
     "text": [
      "✅ Finished 1999 in 1349.93 seconds\n",
      "\n",
      "⬇️ Downloading sub_surface_runoff for 1998...\n"
     ]
    },
    {
     "name": "stderr",
     "output_type": "stream",
     "text": [
      "2025-07-17 15:02:53,059 INFO Request ID is f6228693-025d-4815-bfe1-c5b6f1901a2c\n",
      "2025-07-17 15:02:53,220 INFO status has been updated to accepted\n",
      "2025-07-17 15:04:09,868 INFO status has been updated to running\n",
      "2025-07-17 15:17:20,179 INFO status has been updated to successful\n"
     ]
    },
    {
     "data": {
      "application/vnd.jupyter.widget-view+json": {
       "model_id": "",
       "version_major": 2,
       "version_minor": 0
      },
      "text/plain": [
       "167b20152b3756318a71e54f19bd7e52.grib:   0%|          | 0.00/3.16M [00:00<?, ?B/s]"
      ]
     },
     "metadata": {},
     "output_type": "display_data"
    },
    {
     "name": "stdout",
     "output_type": "stream",
     "text": [
      "✅ Finished 1998 in 869.97 seconds\n",
      "\n",
      "⬇️ Downloading sub_surface_runoff for 1997...\n"
     ]
    },
    {
     "name": "stderr",
     "output_type": "stream",
     "text": [
      "2025-07-17 15:17:23,037 INFO Request ID is 3c60dc25-7116-4aa3-88b4-ba28b84b7261\n",
      "2025-07-17 15:17:23,186 INFO status has been updated to accepted\n",
      "2025-07-17 15:18:40,417 INFO status has been updated to running\n",
      "2025-07-17 15:31:46,966 INFO status has been updated to successful\n"
     ]
    },
    {
     "data": {
      "application/vnd.jupyter.widget-view+json": {
       "model_id": "",
       "version_major": 2,
       "version_minor": 0
      },
      "text/plain": [
       "c582970567be8a2972064fb0228ddf97.grib:   0%|          | 0.00/3.16M [00:00<?, ?B/s]"
      ]
     },
     "metadata": {},
     "output_type": "display_data"
    },
    {
     "name": "stdout",
     "output_type": "stream",
     "text": [
      "✅ Finished 1997 in 866.69 seconds\n",
      "\n",
      "⬇️ Downloading sub_surface_runoff for 1996...\n"
     ]
    },
    {
     "name": "stderr",
     "output_type": "stream",
     "text": [
      "2025-07-17 15:31:49,742 INFO Request ID is 1694a186-ebfe-4198-b346-05884ed79797\n",
      "2025-07-17 15:31:49,909 INFO status has been updated to accepted\n",
      "2025-07-17 15:32:03,883 INFO status has been updated to running\n",
      "2025-07-17 15:46:15,802 INFO status has been updated to successful\n"
     ]
    },
    {
     "data": {
      "application/vnd.jupyter.widget-view+json": {
       "model_id": "",
       "version_major": 2,
       "version_minor": 0
      },
      "text/plain": [
       "1caec21f069a65d35bf46f506eb99c5d.grib:   0%|          | 0.00/3.17M [00:00<?, ?B/s]"
      ]
     },
     "metadata": {},
     "output_type": "display_data"
    },
    {
     "name": "stdout",
     "output_type": "stream",
     "text": [
      "✅ Finished 1996 in 869.03 seconds\n",
      "\n",
      "⬇️ Downloading sub_surface_runoff for 1995...\n"
     ]
    },
    {
     "name": "stderr",
     "output_type": "stream",
     "text": [
      "2025-07-17 15:46:18,785 INFO Request ID is ec920a01-f32f-4ebd-a1d9-fcc207a8327d\n",
      "2025-07-17 15:46:19,036 INFO status has been updated to accepted\n",
      "2025-07-17 15:48:13,953 INFO status has been updated to running\n",
      "2025-07-17 16:02:44,955 INFO status has been updated to successful\n"
     ]
    },
    {
     "data": {
      "application/vnd.jupyter.widget-view+json": {
       "model_id": "",
       "version_major": 2,
       "version_minor": 0
      },
      "text/plain": [
       "e21a5c423f51086c71b3c51a9bc9a733.grib:   0%|          | 0.00/3.16M [00:00<?, ?B/s]"
      ]
     },
     "metadata": {},
     "output_type": "display_data"
    },
    {
     "name": "stdout",
     "output_type": "stream",
     "text": [
      "✅ Finished 1995 in 989.16 seconds\n",
      "\n",
      "⬇️ Downloading sub_surface_runoff for 1994...\n"
     ]
    },
    {
     "name": "stderr",
     "output_type": "stream",
     "text": [
      "2025-07-17 16:02:47,966 INFO Request ID is bb17f231-cca1-4dd5-a7ed-35fd7691a07d\n",
      "2025-07-17 16:02:48,338 INFO status has been updated to accepted\n",
      "2025-07-17 16:03:38,953 INFO status has been updated to running\n",
      "2025-07-17 16:17:11,297 INFO status has been updated to successful\n"
     ]
    },
    {
     "data": {
      "application/vnd.jupyter.widget-view+json": {
       "model_id": "",
       "version_major": 2,
       "version_minor": 0
      },
      "text/plain": [
       "a61564d437a1230eff518d7dcfcf2d2f.grib:   0%|          | 0.00/3.16M [00:00<?, ?B/s]"
      ]
     },
     "metadata": {},
     "output_type": "display_data"
    },
    {
     "name": "stdout",
     "output_type": "stream",
     "text": [
      "✅ Finished 1994 in 866.42 seconds\n",
      "\n",
      "⬇️ Downloading sub_surface_runoff for 1993...\n"
     ]
    },
    {
     "name": "stderr",
     "output_type": "stream",
     "text": [
      "2025-07-17 16:17:14,554 INFO Request ID is 5cff46a1-4e49-4b94-b773-782e5771b08b\n",
      "2025-07-17 16:17:14,703 INFO status has been updated to accepted\n",
      "2025-07-17 16:19:09,534 INFO status has been updated to running\n",
      "2025-07-17 16:31:38,648 INFO status has been updated to successful\n"
     ]
    },
    {
     "data": {
      "application/vnd.jupyter.widget-view+json": {
       "model_id": "",
       "version_major": 2,
       "version_minor": 0
      },
      "text/plain": [
       "231901f0ad88d0b1f8758cc1b3244d9.grib:   0%|          | 0.00/3.16M [00:00<?, ?B/s]"
      ]
     },
     "metadata": {},
     "output_type": "display_data"
    },
    {
     "name": "stdout",
     "output_type": "stream",
     "text": [
      "✅ Finished 1993 in 867.29 seconds\n",
      "\n",
      "⬇️ Downloading sub_surface_runoff for 1992...\n"
     ]
    },
    {
     "name": "stderr",
     "output_type": "stream",
     "text": [
      "2025-07-17 16:31:41,753 INFO Request ID is 4fe5a3ba-8165-4b84-bdb2-7f2ac38973c6\n",
      "2025-07-17 16:31:42,069 INFO status has been updated to accepted\n",
      "2025-07-17 16:32:32,578 INFO status has been updated to running\n",
      "2025-07-17 16:46:04,533 INFO status has been updated to successful\n"
     ]
    },
    {
     "data": {
      "application/vnd.jupyter.widget-view+json": {
       "model_id": "",
       "version_major": 2,
       "version_minor": 0
      },
      "text/plain": [
       "71215399f5e537cd9299ff3033a54682.grib:   0%|          | 0.00/3.17M [00:00<?, ?B/s]"
      ]
     },
     "metadata": {},
     "output_type": "display_data"
    },
    {
     "name": "stdout",
     "output_type": "stream",
     "text": [
      "✅ Finished 1992 in 866.17 seconds\n",
      "\n",
      "⬇️ Downloading sub_surface_runoff for 1991...\n"
     ]
    },
    {
     "name": "stderr",
     "output_type": "stream",
     "text": [
      "2025-07-17 16:46:07,763 INFO Request ID is 317b5d80-19fb-453f-abe5-3eeb359afc97\n",
      "2025-07-17 16:46:07,910 INFO status has been updated to accepted\n",
      "2025-07-17 16:46:41,194 INFO status has been updated to running\n",
      "2025-07-17 17:00:32,270 INFO status has been updated to successful\n"
     ]
    },
    {
     "data": {
      "application/vnd.jupyter.widget-view+json": {
       "model_id": "",
       "version_major": 2,
       "version_minor": 0
      },
      "text/plain": [
       "7d4fc6de7fe05918d8063be1a1e30787.grib:   0%|          | 0.00/3.16M [00:00<?, ?B/s]"
      ]
     },
     "metadata": {},
     "output_type": "display_data"
    },
    {
     "name": "stdout",
     "output_type": "stream",
     "text": [
      "✅ Finished 1991 in 867.27 seconds\n",
      "\n",
      "⏱️ Total time for sub_surface_runoff: 8411.92 seconds\n"
     ]
    }
   ],
   "source": [
    "for var in era5_variables:\n",
    "    download_era5_hourly_variable(\n",
    "        variable_name=var,\n",
    "        years=range(1999, 1990, -1)\n",
    "    )"
   ]
  },
  {
   "cell_type": "code",
   "execution_count": null,
   "id": "b68e5040",
   "metadata": {},
   "outputs": [
    {
     "name": "stderr",
     "output_type": "stream",
     "text": [
      "2025-07-17 17:00:34,860 INFO [2024-09-26T00:00:00] Watch our [Forum](https://forum.ecmwf.int/) for Announcements, news and other discussed topics.\n"
     ]
    },
    {
     "name": "stdout",
     "output_type": "stream",
     "text": [
      "\n",
      "⬇️ Downloading total_precipitation for 1990...\n"
     ]
    },
    {
     "name": "stderr",
     "output_type": "stream",
     "text": [
      "2025-07-17 17:00:35,569 INFO Request ID is d1cd6dc7-e2a0-4420-9511-b20e5bdadc41\n",
      "2025-07-17 17:00:35,801 INFO status has been updated to accepted\n",
      "2025-07-17 17:08:59,166 INFO status has been updated to running\n",
      "2025-07-17 17:21:03,258 INFO status has been updated to successful\n"
     ]
    },
    {
     "data": {
      "application/vnd.jupyter.widget-view+json": {
       "model_id": "",
       "version_major": 2,
       "version_minor": 0
      },
      "text/plain": [
       "c843cea6f12878e3fcd5e4f438f0e9b7.grib:   0%|          | 0.00/3.16M [00:00<?, ?B/s]"
      ]
     },
     "metadata": {},
     "output_type": "display_data"
    },
    {
     "name": "stdout",
     "output_type": "stream",
     "text": [
      "✅ Finished 1990 in 1231.03 seconds\n",
      "\n",
      "⬇️ Downloading total_precipitation for 1989...\n"
     ]
    },
    {
     "name": "stderr",
     "output_type": "stream",
     "text": [
      "2025-07-17 17:21:06,504 INFO Request ID is d9a67c4f-7368-42c2-9b0d-6822c366bb8f\n",
      "2025-07-17 17:21:06,643 INFO status has been updated to accepted\n",
      "2025-07-17 17:21:16,331 INFO status has been updated to running\n",
      "2025-07-17 17:21:21,536 INFO status has been updated to accepted\n",
      "2025-07-17 17:21:29,394 INFO status has been updated to running\n",
      "2025-07-17 17:39:33,111 INFO status has been updated to successful\n"
     ]
    },
    {
     "data": {
      "application/vnd.jupyter.widget-view+json": {
       "model_id": "",
       "version_major": 2,
       "version_minor": 0
      },
      "text/plain": [
       "188be5c0860ff932a5de00344e6e8615.grib:   0%|          | 0.00/3.16M [00:00<?, ?B/s]"
      ]
     },
     "metadata": {},
     "output_type": "display_data"
    },
    {
     "name": "stdout",
     "output_type": "stream",
     "text": [
      "✅ Finished 1989 in 1109.35 seconds\n",
      "\n",
      "⬇️ Downloading total_precipitation for 1988...\n"
     ]
    },
    {
     "name": "stderr",
     "output_type": "stream",
     "text": [
      "2025-07-17 17:39:35,834 INFO Request ID is ef047454-b50d-43bd-9538-7c26d9178c4a\n",
      "2025-07-17 17:39:35,979 INFO status has been updated to accepted\n",
      "2025-07-17 17:39:50,026 INFO status has been updated to running\n",
      "2025-07-17 17:54:00,717 INFO status has been updated to successful\n"
     ]
    },
    {
     "data": {
      "application/vnd.jupyter.widget-view+json": {
       "model_id": "",
       "version_major": 2,
       "version_minor": 0
      },
      "text/plain": [
       "b64c6971af4c143ace0e7723779e3ad2.grib:   0%|          | 0.00/3.17M [00:00<?, ?B/s]"
      ]
     },
     "metadata": {},
     "output_type": "display_data"
    },
    {
     "name": "stdout",
     "output_type": "stream",
     "text": [
      "✅ Finished 1988 in 867.59 seconds\n",
      "\n",
      "⬇️ Downloading total_precipitation for 1987...\n"
     ]
    },
    {
     "name": "stderr",
     "output_type": "stream",
     "text": [
      "2025-07-17 17:54:03,574 INFO Request ID is cec1996c-9608-4a54-b684-4abdea2c0a1a\n",
      "2025-07-17 17:54:03,741 INFO status has been updated to accepted\n",
      "2025-07-17 17:54:37,142 INFO status has been updated to running\n",
      "2025-07-17 18:08:30,567 INFO status has been updated to successful\n"
     ]
    },
    {
     "data": {
      "application/vnd.jupyter.widget-view+json": {
       "model_id": "",
       "version_major": 2,
       "version_minor": 0
      },
      "text/plain": [
       "80f336a70be75f6eedbb55193b8a5019.grib:   0%|          | 0.00/3.16M [00:00<?, ?B/s]"
      ]
     },
     "metadata": {},
     "output_type": "display_data"
    },
    {
     "name": "stdout",
     "output_type": "stream",
     "text": [
      "✅ Finished 1987 in 869.94 seconds\n",
      "\n",
      "⬇️ Downloading total_precipitation for 1986...\n"
     ]
    },
    {
     "name": "stderr",
     "output_type": "stream",
     "text": [
      "2025-07-17 18:08:33,426 INFO Request ID is 58f3a28c-e0e6-45db-a40b-f1ff1d1dd77f\n",
      "2025-07-17 18:08:33,586 INFO status has been updated to accepted\n",
      "2025-07-17 18:09:24,203 INFO status has been updated to running\n",
      "2025-07-17 18:22:56,073 INFO status has been updated to successful\n"
     ]
    },
    {
     "data": {
      "application/vnd.jupyter.widget-view+json": {
       "model_id": "",
       "version_major": 2,
       "version_minor": 0
      },
      "text/plain": [
       "81d294c8ae4953eb3c28694717e44897.grib:   0%|          | 0.00/3.16M [00:00<?, ?B/s]"
      ]
     },
     "metadata": {},
     "output_type": "display_data"
    },
    {
     "name": "stdout",
     "output_type": "stream",
     "text": [
      "✅ Finished 1986 in 865.48 seconds\n",
      "\n",
      "⏱️ Total time for total_precipitation: 4943.38 seconds\n"
     ]
    },
    {
     "name": "stderr",
     "output_type": "stream",
     "text": [
      "2025-07-17 18:22:58,648 INFO [2024-09-26T00:00:00] Watch our [Forum](https://forum.ecmwf.int/) for Announcements, news and other discussed topics.\n"
     ]
    },
    {
     "name": "stdout",
     "output_type": "stream",
     "text": [
      "✅ Already exists: ../era5_data_grib_raw/2m_temperature/2m_temperature_1990.grib\n",
      "✅ Already exists: ../era5_data_grib_raw/2m_temperature/2m_temperature_1989.grib\n",
      "✅ Already exists: ../era5_data_grib_raw/2m_temperature/2m_temperature_1988.grib\n",
      "✅ Already exists: ../era5_data_grib_raw/2m_temperature/2m_temperature_1987.grib\n",
      "✅ Already exists: ../era5_data_grib_raw/2m_temperature/2m_temperature_1986.grib\n",
      "\n",
      "⏱️ Total time for 2m_temperature: 0.00 seconds\n"
     ]
    },
    {
     "name": "stderr",
     "output_type": "stream",
     "text": [
      "2025-07-17 18:22:59,057 INFO [2024-09-26T00:00:00] Watch our [Forum](https://forum.ecmwf.int/) for Announcements, news and other discussed topics.\n"
     ]
    },
    {
     "name": "stdout",
     "output_type": "stream",
     "text": [
      "\n",
      "⬇️ Downloading 2m_dewpoint_temperature for 1990...\n"
     ]
    },
    {
     "name": "stderr",
     "output_type": "stream",
     "text": [
      "2025-07-17 18:22:59,942 INFO Request ID is f9c94b37-a662-406a-9677-d5bddf37ce64\n",
      "2025-07-17 18:23:00,098 INFO status has been updated to accepted\n",
      "2025-07-17 18:24:16,636 INFO status has been updated to running\n",
      "2025-07-17 18:37:24,834 INFO status has been updated to successful\n"
     ]
    },
    {
     "data": {
      "application/vnd.jupyter.widget-view+json": {
       "model_id": "",
       "version_major": 2,
       "version_minor": 0
      },
      "text/plain": [
       "54f57b31574a29dd3e0a83224981bfa5.grib:   0%|          | 0.00/3.16M [00:00<?, ?B/s]"
      ]
     },
     "metadata": {},
     "output_type": "display_data"
    },
    {
     "name": "stdout",
     "output_type": "stream",
     "text": [
      "✅ Finished 1990 in 868.18 seconds\n",
      "\n",
      "⬇️ Downloading 2m_dewpoint_temperature for 1989...\n"
     ]
    },
    {
     "name": "stderr",
     "output_type": "stream",
     "text": [
      "2025-07-17 18:37:28,056 INFO Request ID is 0164f1fe-2035-403f-8eb2-64c48abe2fcc\n",
      "2025-07-17 18:37:28,203 INFO status has been updated to accepted\n",
      "2025-07-17 18:37:49,981 INFO status has been updated to running\n",
      "2025-07-17 18:49:52,324 INFO status has been updated to successful\n"
     ]
    },
    {
     "data": {
      "application/vnd.jupyter.widget-view+json": {
       "model_id": "",
       "version_major": 2,
       "version_minor": 0
      },
      "text/plain": [
       "1320838d7b7775164120bcb9563a20f6.grib:   0%|          | 0.00/3.16M [00:00<?, ?B/s]"
      ]
     },
     "metadata": {},
     "output_type": "display_data"
    },
    {
     "name": "stdout",
     "output_type": "stream",
     "text": [
      "✅ Finished 1989 in 747.59 seconds\n",
      "\n",
      "⬇️ Downloading 2m_dewpoint_temperature for 1988...\n"
     ]
    },
    {
     "name": "stderr",
     "output_type": "stream",
     "text": [
      "2025-07-17 18:49:56,003 INFO Request ID is f4660cfd-b47b-400d-9e67-62bcd81af875\n",
      "2025-07-17 18:49:56,296 INFO status has been updated to accepted\n",
      "2025-07-17 18:50:29,722 INFO status has been updated to running\n",
      "2025-07-17 19:04:20,709 INFO status has been updated to successful\n"
     ]
    },
    {
     "data": {
      "application/vnd.jupyter.widget-view+json": {
       "model_id": "",
       "version_major": 2,
       "version_minor": 0
      },
      "text/plain": [
       "ed2e1837f2d395a604195cb6b6cce0e3.grib:   0%|          | 0.00/3.17M [00:00<?, ?B/s]"
      ]
     },
     "metadata": {},
     "output_type": "display_data"
    },
    {
     "name": "stdout",
     "output_type": "stream",
     "text": [
      "✅ Finished 1988 in 868.29 seconds\n",
      "\n",
      "⬇️ Downloading 2m_dewpoint_temperature for 1987...\n"
     ]
    },
    {
     "name": "stderr",
     "output_type": "stream",
     "text": [
      "2025-07-17 19:04:23,883 INFO Request ID is 91801724-9c24-4fcd-9b75-692367334516\n",
      "2025-07-17 19:04:24,046 INFO status has been updated to accepted\n",
      "2025-07-17 19:05:14,701 INFO status has been updated to running\n",
      "2025-07-17 19:18:48,471 INFO status has been updated to successful\n"
     ]
    },
    {
     "data": {
      "application/vnd.jupyter.widget-view+json": {
       "model_id": "",
       "version_major": 2,
       "version_minor": 0
      },
      "text/plain": [
       "c3a76e42f15873d999130a896c4d5dc8.grib:   0%|          | 0.00/3.16M [00:00<?, ?B/s]"
      ]
     },
     "metadata": {},
     "output_type": "display_data"
    },
    {
     "name": "stdout",
     "output_type": "stream",
     "text": [
      "✅ Finished 1987 in 867.68 seconds\n",
      "\n",
      "⬇️ Downloading 2m_dewpoint_temperature for 1986...\n"
     ]
    },
    {
     "name": "stderr",
     "output_type": "stream",
     "text": [
      "2025-07-17 19:18:51,630 INFO Request ID is 4f2a9b9b-5d2e-46d2-aaa5-7110181af4ca\n",
      "2025-07-17 19:18:52,141 INFO status has been updated to accepted\n",
      "2025-07-17 19:21:46,196 INFO status has been updated to running\n",
      "2025-07-17 19:35:17,158 INFO status has been updated to successful\n"
     ]
    },
    {
     "data": {
      "application/vnd.jupyter.widget-view+json": {
       "model_id": "",
       "version_major": 2,
       "version_minor": 0
      },
      "text/plain": [
       "d2a98b662d259ea89b5dd947b7864ce5.grib:   0%|          | 0.00/3.16M [00:00<?, ?B/s]"
      ]
     },
     "metadata": {},
     "output_type": "display_data"
    },
    {
     "name": "stdout",
     "output_type": "stream",
     "text": [
      "✅ Finished 1986 in 988.60 seconds\n",
      "\n",
      "⏱️ Total time for 2m_dewpoint_temperature: 4340.34 seconds\n"
     ]
    },
    {
     "name": "stderr",
     "output_type": "stream",
     "text": [
      "2025-07-17 19:35:19,803 INFO [2024-09-26T00:00:00] Watch our [Forum](https://forum.ecmwf.int/) for Announcements, news and other discussed topics.\n"
     ]
    },
    {
     "name": "stdout",
     "output_type": "stream",
     "text": [
      "\n",
      "⬇️ Downloading 10m_u_component_of_wind for 1990...\n"
     ]
    },
    {
     "name": "stderr",
     "output_type": "stream",
     "text": [
      "2025-07-17 19:35:20,767 INFO Request ID is c1de1cd5-4dd5-4a9e-9cd7-5b4809cdb1d3\n",
      "2025-07-17 19:35:20,926 INFO status has been updated to accepted\n",
      "2025-07-17 19:35:29,720 INFO status has been updated to running\n",
      "2025-07-17 19:47:43,316 INFO status has been updated to successful\n"
     ]
    },
    {
     "data": {
      "application/vnd.jupyter.widget-view+json": {
       "model_id": "",
       "version_major": 2,
       "version_minor": 0
      },
      "text/plain": [
       "b65ee3a7d52c23ad62964934da95648b.grib:   0%|          | 0.00/3.16M [00:00<?, ?B/s]"
      ]
     },
     "metadata": {},
     "output_type": "display_data"
    },
    {
     "name": "stdout",
     "output_type": "stream",
     "text": [
      "✅ Finished 1990 in 745.90 seconds\n",
      "\n",
      "⬇️ Downloading 10m_u_component_of_wind for 1989...\n"
     ]
    },
    {
     "name": "stderr",
     "output_type": "stream",
     "text": [
      "2025-07-17 19:47:47,088 INFO Request ID is efb2750e-51cc-49ce-9830-e606e8f0c89a\n",
      "2025-07-17 19:47:47,247 INFO status has been updated to accepted\n",
      "2025-07-17 19:49:03,907 INFO status has been updated to running\n",
      "2025-07-17 20:02:14,380 INFO status has been updated to successful\n"
     ]
    },
    {
     "data": {
      "application/vnd.jupyter.widget-view+json": {
       "model_id": "",
       "version_major": 2,
       "version_minor": 0
      },
      "text/plain": [
       "e8319721b0a6bb0a76c0d24641bb40f4.grib:   0%|          | 0.00/3.16M [00:00<?, ?B/s]"
      ]
     },
     "metadata": {},
     "output_type": "display_data"
    },
    {
     "name": "stdout",
     "output_type": "stream",
     "text": [
      "✅ Finished 1989 in 871.65 seconds\n",
      "\n",
      "⬇️ Downloading 10m_u_component_of_wind for 1988...\n"
     ]
    },
    {
     "name": "stderr",
     "output_type": "stream",
     "text": [
      "2025-07-17 20:02:18,064 INFO Request ID is 4356049a-e2b4-40f9-bfdf-754714b4ff96\n",
      "2025-07-17 20:02:18,269 INFO status has been updated to accepted\n",
      "2025-07-17 20:05:11,593 INFO status has been updated to running\n",
      "2025-07-17 20:18:41,846 INFO status has been updated to successful\n"
     ]
    },
    {
     "data": {
      "application/vnd.jupyter.widget-view+json": {
       "model_id": "",
       "version_major": 2,
       "version_minor": 0
      },
      "text/plain": [
       "be12c43a01de2f3af2ca0c36015b39d9.grib:   0%|          | 0.00/3.17M [00:00<?, ?B/s]"
      ]
     },
     "metadata": {},
     "output_type": "display_data"
    },
    {
     "name": "stdout",
     "output_type": "stream",
     "text": [
      "✅ Finished 1988 in 986.65 seconds\n",
      "\n",
      "⬇️ Downloading 10m_u_component_of_wind for 1987...\n"
     ]
    },
    {
     "name": "stderr",
     "output_type": "stream",
     "text": [
      "2025-07-17 20:18:44,833 INFO Request ID is 946a7c83-b240-484d-923d-daba7744821a\n",
      "2025-07-17 20:18:45,002 INFO status has been updated to accepted\n",
      "2025-07-17 20:19:18,446 INFO status has been updated to running\n",
      "2025-07-17 20:33:09,440 INFO status has been updated to successful\n"
     ]
    },
    {
     "data": {
      "application/vnd.jupyter.widget-view+json": {
       "model_id": "",
       "version_major": 2,
       "version_minor": 0
      },
      "text/plain": [
       "3a0543572b0237ee360f93cce9126.grib:   0%|          | 0.00/3.16M [00:00<?, ?B/s]"
      ]
     },
     "metadata": {},
     "output_type": "display_data"
    },
    {
     "name": "stdout",
     "output_type": "stream",
     "text": [
      "✅ Finished 1987 in 881.31 seconds\n",
      "\n",
      "⬇️ Downloading 10m_u_component_of_wind for 1986...\n"
     ]
    },
    {
     "name": "stderr",
     "output_type": "stream",
     "text": [
      "2025-07-17 20:33:26,440 INFO Request ID is 5c33da5e-28ae-45c5-9535-fa3d7d90b8c7\n",
      "2025-07-17 20:33:26,601 INFO status has been updated to accepted\n",
      "2025-07-17 20:34:43,245 INFO status has been updated to running\n",
      "2025-07-17 20:49:50,694 INFO status has been updated to successful\n"
     ]
    },
    {
     "data": {
      "application/vnd.jupyter.widget-view+json": {
       "model_id": "",
       "version_major": 2,
       "version_minor": 0
      },
      "text/plain": [
       "e482d60c4e903cade3c7122b65e6f45a.grib:   0%|          | 0.00/3.16M [00:00<?, ?B/s]"
      ]
     },
     "metadata": {},
     "output_type": "display_data"
    },
    {
     "name": "stdout",
     "output_type": "stream",
     "text": [
      "✅ Finished 1986 in 987.57 seconds\n",
      "\n",
      "⏱️ Total time for 10m_u_component_of_wind: 4473.08 seconds\n"
     ]
    },
    {
     "name": "stderr",
     "output_type": "stream",
     "text": [
      "2025-07-17 20:49:53,284 INFO [2024-09-26T00:00:00] Watch our [Forum](https://forum.ecmwf.int/) for Announcements, news and other discussed topics.\n"
     ]
    },
    {
     "name": "stdout",
     "output_type": "stream",
     "text": [
      "\n",
      "⬇️ Downloading 10m_v_component_of_wind for 1990...\n"
     ]
    },
    {
     "name": "stderr",
     "output_type": "stream",
     "text": [
      "2025-07-17 20:49:54,045 INFO Request ID is c29e0915-fff5-4e27-8ebd-d6520c64c26b\n",
      "2025-07-17 20:49:54,202 INFO status has been updated to accepted\n",
      "2025-07-17 20:51:49,166 INFO status has been updated to running\n",
      "2025-07-17 21:04:18,622 INFO status has been updated to successful\n"
     ]
    },
    {
     "data": {
      "application/vnd.jupyter.widget-view+json": {
       "model_id": "",
       "version_major": 2,
       "version_minor": 0
      },
      "text/plain": [
       "fe7bbcc3b584ace84bb5f2524c52444a.grib:   0%|          | 0.00/3.16M [00:00<?, ?B/s]"
      ]
     },
     "metadata": {},
     "output_type": "display_data"
    },
    {
     "name": "stdout",
     "output_type": "stream",
     "text": [
      "✅ Finished 1990 in 868.12 seconds\n",
      "\n",
      "⬇️ Downloading 10m_v_component_of_wind for 1989...\n"
     ]
    },
    {
     "name": "stderr",
     "output_type": "stream",
     "text": [
      "2025-07-17 21:04:22,304 INFO Request ID is 74082fc9-38f0-4f44-aa83-7aa9fc8566d6\n",
      "2025-07-17 21:04:22,581 INFO status has been updated to accepted\n",
      "2025-07-17 21:06:17,634 INFO status has been updated to running\n",
      "2025-07-17 21:28:50,847 INFO status has been updated to successful\n"
     ]
    },
    {
     "data": {
      "application/vnd.jupyter.widget-view+json": {
       "model_id": "",
       "version_major": 2,
       "version_minor": 0
      },
      "text/plain": [
       "d171ff3bb5c1e31db6f9f3a73166dc02.grib:   0%|          | 0.00/3.16M [00:00<?, ?B/s]"
      ]
     },
     "metadata": {},
     "output_type": "display_data"
    },
    {
     "name": "stdout",
     "output_type": "stream",
     "text": [
      "✅ Finished 1989 in 1471.63 seconds\n",
      "\n",
      "⬇️ Downloading 10m_v_component_of_wind for 1988...\n"
     ]
    },
    {
     "name": "stderr",
     "output_type": "stream",
     "text": [
      "2025-07-17 21:28:53,795 INFO Request ID is 71df1d34-ab77-41bf-a2ae-e341d9047c04\n",
      "2025-07-17 21:28:53,951 INFO status has been updated to accepted\n",
      "2025-07-17 21:33:14,619 INFO status has been updated to running\n",
      "2025-07-17 21:45:18,987 INFO status has been updated to successful\n"
     ]
    },
    {
     "data": {
      "application/vnd.jupyter.widget-view+json": {
       "model_id": "",
       "version_major": 2,
       "version_minor": 0
      },
      "text/plain": [
       "767ef3647e4daeaf50ec1f8123a9a1dd.grib:   0%|          | 0.00/3.17M [00:00<?, ?B/s]"
      ]
     },
     "metadata": {},
     "output_type": "display_data"
    },
    {
     "name": "stdout",
     "output_type": "stream",
     "text": [
      "✅ Finished 1988 in 988.08 seconds\n",
      "\n",
      "⬇️ Downloading 10m_v_component_of_wind for 1987...\n"
     ]
    },
    {
     "name": "stderr",
     "output_type": "stream",
     "text": [
      "2025-07-17 21:45:21,695 INFO Request ID is d65e7f94-c26c-4a0f-bc93-88f813dce8c1\n",
      "2025-07-17 21:45:21,858 INFO status has been updated to accepted\n",
      "2025-07-17 22:01:44,991 INFO status has been updated to running\n",
      "2025-07-17 22:13:48,240 INFO status has been updated to successful\n"
     ]
    },
    {
     "data": {
      "application/vnd.jupyter.widget-view+json": {
       "model_id": "",
       "version_major": 2,
       "version_minor": 0
      },
      "text/plain": [
       "ac733e905018a76d1b0434fc4ac05283.grib:   0%|          | 0.00/3.16M [00:00<?, ?B/s]"
      ]
     },
     "metadata": {},
     "output_type": "display_data"
    },
    {
     "name": "stdout",
     "output_type": "stream",
     "text": [
      "✅ Finished 1987 in 1709.55 seconds\n",
      "\n",
      "⬇️ Downloading 10m_v_component_of_wind for 1986...\n"
     ]
    },
    {
     "name": "stderr",
     "output_type": "stream",
     "text": [
      "2025-07-17 22:13:51,777 INFO Request ID is 93b1879a-929a-46a8-9dd1-2005c1b989dd\n",
      "2025-07-17 22:13:51,933 INFO status has been updated to accepted\n",
      "2025-07-17 22:16:46,653 INFO status has been updated to running\n",
      "2025-07-17 22:30:17,637 INFO status has been updated to successful\n"
     ]
    },
    {
     "data": {
      "application/vnd.jupyter.widget-view+json": {
       "model_id": "",
       "version_major": 2,
       "version_minor": 0
      },
      "text/plain": [
       "12ae81750b3d925dff401461a5dec22d.grib:   0%|          | 0.00/3.16M [00:00<?, ?B/s]"
      ]
     },
     "metadata": {},
     "output_type": "display_data"
    },
    {
     "name": "stdout",
     "output_type": "stream",
     "text": [
      "✅ Finished 1986 in 989.62 seconds\n",
      "\n",
      "⏱️ Total time for 10m_v_component_of_wind: 6027.00 seconds\n"
     ]
    },
    {
     "name": "stderr",
     "output_type": "stream",
     "text": [
      "2025-07-17 22:30:20,673 INFO [2024-09-26T00:00:00] Watch our [Forum](https://forum.ecmwf.int/) for Announcements, news and other discussed topics.\n"
     ]
    },
    {
     "name": "stdout",
     "output_type": "stream",
     "text": [
      "\n",
      "⬇️ Downloading surface_solar_radiation_downwards for 1990...\n"
     ]
    },
    {
     "name": "stderr",
     "output_type": "stream",
     "text": [
      "2025-07-17 22:30:21,377 INFO Request ID is 0dac6f97-bff8-4a26-b8c7-2dcd17b16f3e\n",
      "2025-07-17 22:30:21,522 INFO status has been updated to accepted\n",
      "2025-07-17 22:40:43,131 INFO status has been updated to running\n",
      "2025-07-17 22:52:49,288 INFO status has been updated to successful\n"
     ]
    },
    {
     "data": {
      "application/vnd.jupyter.widget-view+json": {
       "model_id": "",
       "version_major": 2,
       "version_minor": 0
      },
      "text/plain": [
       "1aa98fd959445d054e42c79033b55eb8.grib:   0%|          | 0.00/3.16M [00:00<?, ?B/s]"
      ]
     },
     "metadata": {},
     "output_type": "display_data"
    },
    {
     "name": "stdout",
     "output_type": "stream",
     "text": [
      "✅ Finished 1990 in 1351.07 seconds\n",
      "\n",
      "⬇️ Downloading surface_solar_radiation_downwards for 1989...\n"
     ]
    },
    {
     "name": "stderr",
     "output_type": "stream",
     "text": [
      "2025-07-17 22:52:52,563 INFO Request ID is 4c8a0a73-987c-4c35-a8e4-fcd564870c6b\n",
      "2025-07-17 22:52:52,769 INFO status has been updated to accepted\n",
      "2025-07-17 23:07:14,966 INFO status has been updated to running\n",
      "2025-07-17 23:21:20,228 INFO status has been updated to successful\n"
     ]
    },
    {
     "data": {
      "application/vnd.jupyter.widget-view+json": {
       "model_id": "",
       "version_major": 2,
       "version_minor": 0
      },
      "text/plain": [
       "85fabee2923a6b5bc3b5f6de7c448868.grib:   0%|          | 0.00/3.16M [00:00<?, ?B/s]"
      ]
     },
     "metadata": {},
     "output_type": "display_data"
    },
    {
     "name": "stdout",
     "output_type": "stream",
     "text": [
      "✅ Finished 1989 in 1710.89 seconds\n",
      "\n",
      "⬇️ Downloading surface_solar_radiation_downwards for 1988...\n"
     ]
    },
    {
     "name": "stderr",
     "output_type": "stream",
     "text": [
      "2025-07-17 23:21:23,891 INFO Request ID is f2b78e7c-2d78-492e-9256-ab9ce0c41099\n",
      "2025-07-17 23:21:24,100 INFO status has been updated to accepted\n",
      "2025-07-17 23:24:17,548 INFO status has been updated to running\n",
      "2025-07-17 23:31:48,832 INFO status has been updated to accepted\n",
      "2025-07-17 23:33:49,254 INFO status has been updated to running\n",
      "2025-07-17 23:45:55,169 INFO status has been updated to successful\n"
     ]
    },
    {
     "data": {
      "application/vnd.jupyter.widget-view+json": {
       "model_id": "",
       "version_major": 2,
       "version_minor": 0
      },
      "text/plain": [
       "f3232ff018228b59323b88ed8760796d.grib:   0%|          | 0.00/3.17M [00:00<?, ?B/s]"
      ]
     },
     "metadata": {},
     "output_type": "display_data"
    },
    {
     "name": "stdout",
     "output_type": "stream",
     "text": [
      "✅ Finished 1988 in 1474.85 seconds\n",
      "\n",
      "⬇️ Downloading surface_solar_radiation_downwards for 1987...\n"
     ]
    },
    {
     "name": "stderr",
     "output_type": "stream",
     "text": [
      "2025-07-17 23:45:58,354 INFO Request ID is 2358b453-e29d-46f1-93b5-5a80caa86233\n",
      "2025-07-17 23:45:58,866 INFO status has been updated to accepted\n",
      "2025-07-17 23:46:32,406 INFO status has been updated to running\n",
      "2025-07-18 00:00:22,873 INFO status has been updated to successful\n"
     ]
    },
    {
     "data": {
      "application/vnd.jupyter.widget-view+json": {
       "model_id": "",
       "version_major": 2,
       "version_minor": 0
      },
      "text/plain": [
       "60ee85e648b80a31a69d3e8111869996.grib:   0%|          | 0.00/3.16M [00:00<?, ?B/s]"
      ]
     },
     "metadata": {},
     "output_type": "display_data"
    },
    {
     "name": "stdout",
     "output_type": "stream",
     "text": [
      "✅ Finished 1987 in 867.65 seconds\n",
      "\n",
      "⬇️ Downloading surface_solar_radiation_downwards for 1986...\n"
     ]
    },
    {
     "name": "stderr",
     "output_type": "stream",
     "text": [
      "2025-07-18 00:00:25,953 INFO Request ID is 76bd0749-161d-420e-b302-6cd99cd88b9a\n",
      "2025-07-18 00:00:26,114 INFO status has been updated to accepted\n",
      "2025-07-18 00:08:48,624 INFO status has been updated to running\n",
      "2025-07-18 00:22:53,086 INFO status has been updated to successful\n"
     ]
    },
    {
     "data": {
      "application/vnd.jupyter.widget-view+json": {
       "model_id": "",
       "version_major": 2,
       "version_minor": 0
      },
      "text/plain": [
       "6744832eedfad964023b521665884bcb.grib:   0%|          | 0.00/3.16M [00:00<?, ?B/s]"
      ]
     },
     "metadata": {},
     "output_type": "display_data"
    },
    {
     "name": "stdout",
     "output_type": "stream",
     "text": [
      "✅ Finished 1986 in 1350.12 seconds\n",
      "\n",
      "⏱️ Total time for surface_solar_radiation_downwards: 6754.59 seconds\n"
     ]
    },
    {
     "name": "stderr",
     "output_type": "stream",
     "text": [
      "2025-07-18 00:22:55,632 INFO [2024-09-26T00:00:00] Watch our [Forum](https://forum.ecmwf.int/) for Announcements, news and other discussed topics.\n"
     ]
    },
    {
     "name": "stdout",
     "output_type": "stream",
     "text": [
      "\n",
      "⬇️ Downloading potential_evaporation for 1990...\n"
     ]
    },
    {
     "name": "stderr",
     "output_type": "stream",
     "text": [
      "2025-07-18 00:22:56,978 INFO Request ID is a669164c-95cc-4e8f-833b-17e903c3bb95\n",
      "2025-07-18 00:22:57,488 INFO status has been updated to accepted\n",
      "2025-07-18 00:23:48,079 INFO status has been updated to running\n",
      "2025-07-18 00:33:21,209 INFO status has been updated to accepted\n",
      "2025-07-18 00:47:25,045 INFO status has been updated to running\n",
      "2025-07-18 00:59:29,058 INFO status has been updated to successful\n"
     ]
    },
    {
     "data": {
      "application/vnd.jupyter.widget-view+json": {
       "model_id": "",
       "version_major": 2,
       "version_minor": 0
      },
      "text/plain": [
       "9b2c3ecd67e24d1b3c2a7ebdbc67943f.grib:   0%|          | 0.00/3.16M [00:00<?, ?B/s]"
      ]
     },
     "metadata": {},
     "output_type": "display_data"
    },
    {
     "name": "stdout",
     "output_type": "stream",
     "text": [
      "✅ Finished 1990 in 2195.78 seconds\n",
      "\n",
      "⬇️ Downloading potential_evaporation for 1989...\n"
     ]
    },
    {
     "name": "stderr",
     "output_type": "stream",
     "text": [
      "2025-07-18 00:59:32,195 INFO Request ID is a9447511-d7f5-44ea-9703-024f3c5261a4\n",
      "2025-07-18 00:59:32,342 INFO status has been updated to accepted\n",
      "2025-07-18 01:05:54,535 INFO status has been updated to running\n",
      "2025-07-18 01:17:59,582 INFO status has been updated to successful\n"
     ]
    },
    {
     "data": {
      "application/vnd.jupyter.widget-view+json": {
       "model_id": "",
       "version_major": 2,
       "version_minor": 0
      },
      "text/plain": [
       "210d88d40a10fbe147f295e5449829b2.grib:   0%|          | 0.00/3.16M [00:00<?, ?B/s]"
      ]
     },
     "metadata": {},
     "output_type": "display_data"
    },
    {
     "name": "stdout",
     "output_type": "stream",
     "text": [
      "✅ Finished 1989 in 1110.41 seconds\n",
      "\n",
      "⬇️ Downloading potential_evaporation for 1988...\n"
     ]
    },
    {
     "name": "stderr",
     "output_type": "stream",
     "text": [
      "2025-07-18 01:18:02,778 INFO Request ID is 76a720bb-0271-4051-b3b0-9c037fc2aacb\n",
      "2025-07-18 01:18:02,948 INFO status has been updated to accepted\n",
      "2025-07-18 01:22:23,275 INFO status has been updated to running\n",
      "Recovering from HTTP error [500 Internal Server Error], attempt 1 of 500\n",
      "Retrying in 120 seconds\n",
      "2025-07-18 01:34:36,670 INFO status has been updated to successful\n"
     ]
    },
    {
     "data": {
      "application/vnd.jupyter.widget-view+json": {
       "model_id": "",
       "version_major": 2,
       "version_minor": 0
      },
      "text/plain": [
       "9a85c55e97d60ab2989722878af81a58.grib:   0%|          | 0.00/3.17M [00:00<?, ?B/s]"
      ]
     },
     "metadata": {},
     "output_type": "display_data"
    },
    {
     "name": "stdout",
     "output_type": "stream",
     "text": [
      "✅ Finished 1988 in 997.40 seconds\n",
      "\n",
      "⬇️ Downloading potential_evaporation for 1987...\n"
     ]
    },
    {
     "name": "stderr",
     "output_type": "stream",
     "text": [
      "2025-07-18 01:34:39,942 INFO Request ID is 3af2a599-3cdc-4346-bee8-2beebe087062\n",
      "2025-07-18 01:34:40,271 INFO status has been updated to accepted\n",
      "2025-07-18 01:34:45,690 INFO status has been updated to running\n",
      "2025-07-18 01:49:03,047 INFO status has been updated to successful\n"
     ]
    },
    {
     "data": {
      "application/vnd.jupyter.widget-view+json": {
       "model_id": "",
       "version_major": 2,
       "version_minor": 0
      },
      "text/plain": [
       "bde6ae3a3cebf90c13d7d60eac350913.grib:   0%|          | 0.00/3.16M [00:00<?, ?B/s]"
      ]
     },
     "metadata": {},
     "output_type": "display_data"
    },
    {
     "name": "stdout",
     "output_type": "stream",
     "text": [
      "✅ Finished 1987 in 866.19 seconds\n",
      "\n",
      "⬇️ Downloading potential_evaporation for 1986...\n"
     ]
    },
    {
     "name": "stderr",
     "output_type": "stream",
     "text": [
      "2025-07-18 01:49:06,011 INFO Request ID is 47c6feff-09b1-4eb4-9204-eee0a7c2380e\n",
      "2025-07-18 01:49:06,185 INFO status has been updated to accepted\n",
      "2025-07-18 01:49:56,738 INFO status has been updated to running\n",
      "2025-07-18 02:03:32,654 INFO status has been updated to successful\n"
     ]
    },
    {
     "data": {
      "application/vnd.jupyter.widget-view+json": {
       "model_id": "",
       "version_major": 2,
       "version_minor": 0
      },
      "text/plain": [
       "11cfb3253fa6706ccd7cbe124ba0b48b.grib:   0%|          | 0.00/3.16M [00:00<?, ?B/s]"
      ]
     },
     "metadata": {},
     "output_type": "display_data"
    },
    {
     "name": "stdout",
     "output_type": "stream",
     "text": [
      "✅ Finished 1986 in 869.72 seconds\n",
      "\n",
      "⏱️ Total time for potential_evaporation: 6039.51 seconds\n"
     ]
    },
    {
     "name": "stderr",
     "output_type": "stream",
     "text": [
      "2025-07-18 02:03:35,596 INFO [2024-09-26T00:00:00] Watch our [Forum](https://forum.ecmwf.int/) for Announcements, news and other discussed topics.\n"
     ]
    },
    {
     "name": "stdout",
     "output_type": "stream",
     "text": [
      "\n",
      "⬇️ Downloading snow_depth for 1990...\n"
     ]
    },
    {
     "name": "stderr",
     "output_type": "stream",
     "text": [
      "2025-07-18 02:03:36,212 INFO Request ID is f15bf2a2-6640-404d-8a52-7cddeef276d8\n",
      "2025-07-18 02:03:36,418 INFO status has been updated to accepted\n",
      "2025-07-18 02:03:45,196 INFO status has been updated to running\n",
      "2025-07-18 02:20:00,047 INFO status has been updated to successful\n"
     ]
    },
    {
     "data": {
      "application/vnd.jupyter.widget-view+json": {
       "model_id": "",
       "version_major": 2,
       "version_minor": 0
      },
      "text/plain": [
       "f5f7b2b41506c5ca8d41da9139ab39a1.grib:   0%|          | 0.00/4.28M [00:00<?, ?B/s]"
      ]
     },
     "metadata": {},
     "output_type": "display_data"
    },
    {
     "name": "stdout",
     "output_type": "stream",
     "text": [
      "✅ Finished 1990 in 986.81 seconds\n",
      "\n",
      "⬇️ Downloading snow_depth for 1989...\n"
     ]
    },
    {
     "name": "stderr",
     "output_type": "stream",
     "text": [
      "2025-07-18 02:20:03,298 INFO Request ID is a21f196a-e979-4b37-8eed-7126d1cf6586\n",
      "2025-07-18 02:20:03,571 INFO status has been updated to accepted\n",
      "2025-07-18 02:22:59,785 INFO status has been updated to running\n",
      "2025-07-18 02:38:33,402 INFO status has been updated to successful\n"
     ]
    },
    {
     "data": {
      "application/vnd.jupyter.widget-view+json": {
       "model_id": "",
       "version_major": 2,
       "version_minor": 0
      },
      "text/plain": [
       "3f4ad42df166d4bdb0f9007ea2c9056b.grib:   0%|          | 0.00/4.28M [00:00<?, ?B/s]"
      ]
     },
     "metadata": {},
     "output_type": "display_data"
    },
    {
     "name": "stdout",
     "output_type": "stream",
     "text": [
      "✅ Finished 1989 in 1113.67 seconds\n",
      "\n",
      "⬇️ Downloading snow_depth for 1988...\n"
     ]
    },
    {
     "name": "stderr",
     "output_type": "stream",
     "text": [
      "2025-07-18 02:38:36,916 INFO Request ID is d1793324-47b2-4707-a068-b851d58f0995\n",
      "2025-07-18 02:38:37,118 INFO status has been updated to accepted\n",
      "2025-07-18 02:38:51,263 INFO status has been updated to running\n",
      "2025-07-18 02:55:00,346 INFO status has been updated to successful\n"
     ]
    },
    {
     "data": {
      "application/vnd.jupyter.widget-view+json": {
       "model_id": "",
       "version_major": 2,
       "version_minor": 0
      },
      "text/plain": [
       "6d55e2242168019613295abaff5b2573.grib:   0%|          | 0.00/4.29M [00:00<?, ?B/s]"
      ]
     },
     "metadata": {},
     "output_type": "display_data"
    },
    {
     "name": "stdout",
     "output_type": "stream",
     "text": [
      "✅ Finished 1988 in 986.94 seconds\n",
      "\n",
      "⬇️ Downloading snow_depth for 1987...\n"
     ]
    },
    {
     "name": "stderr",
     "output_type": "stream",
     "text": [
      "2025-07-18 02:55:03,982 INFO Request ID is 05f58735-99a4-4e5a-b8a0-d4d7e7933417\n",
      "2025-07-18 02:55:04,144 INFO status has been updated to accepted\n",
      "2025-07-18 02:57:58,950 INFO status has been updated to running\n",
      "2025-07-18 03:13:30,170 INFO status has been updated to successful\n"
     ]
    },
    {
     "data": {
      "application/vnd.jupyter.widget-view+json": {
       "model_id": "",
       "version_major": 2,
       "version_minor": 0
      },
      "text/plain": [
       "c7c7957073387b3b3b8bf356400a2ed7.grib:   0%|          | 0.00/4.28M [00:00<?, ?B/s]"
      ]
     },
     "metadata": {},
     "output_type": "display_data"
    },
    {
     "name": "stdout",
     "output_type": "stream",
     "text": [
      "✅ Finished 1987 in 1109.44 seconds\n",
      "\n",
      "⬇️ Downloading snow_depth for 1986...\n"
     ]
    },
    {
     "name": "stderr",
     "output_type": "stream",
     "text": [
      "2025-07-18 03:13:33,172 INFO Request ID is 467b6f24-983c-4ef4-b744-2e58010146fe\n",
      "2025-07-18 03:13:33,343 INFO status has been updated to accepted\n",
      "2025-07-18 03:23:56,410 INFO status has been updated to running\n",
      "Recovering from connection error [HTTPSConnectionPool(host='cds.climate.copernicus.eu', port=443): Max retries exceeded with url: /api/retrieve/v1/jobs/467b6f24-983c-4ef4-b744-2e58010146fe?log=True&request=True (Caused by NewConnectionError('<urllib3.connection.HTTPSConnection object at 0x7f978a077b80>: Failed to establish a new connection: [Errno 8] nodename nor servname provided, or not known'))], attempt 1 of 500\n",
      "Retrying in 120 seconds\n",
      "2025-07-18 03:38:03,614 INFO status has been updated to successful\n"
     ]
    },
    {
     "data": {
      "application/vnd.jupyter.widget-view+json": {
       "model_id": "",
       "version_major": 2,
       "version_minor": 0
      },
      "text/plain": [
       "e56f435ad60b4b1518fe6759572f8d1f.grib:   0%|          | 0.00/4.28M [00:00<?, ?B/s]"
      ]
     },
     "metadata": {},
     "output_type": "display_data"
    },
    {
     "name": "stdout",
     "output_type": "stream",
     "text": [
      "✅ Finished 1986 in 1475.24 seconds\n",
      "\n",
      "⏱️ Total time for snow_depth: 5672.10 seconds\n"
     ]
    },
    {
     "name": "stderr",
     "output_type": "stream",
     "text": [
      "2025-07-18 03:38:08,071 INFO [2024-09-26T00:00:00] Watch our [Forum](https://forum.ecmwf.int/) for Announcements, news and other discussed topics.\n"
     ]
    },
    {
     "name": "stdout",
     "output_type": "stream",
     "text": [
      "\n",
      "⬇️ Downloading snowmelt for 1990...\n"
     ]
    },
    {
     "name": "stderr",
     "output_type": "stream",
     "text": [
      "2025-07-18 03:38:08,698 INFO Request ID is 27b70a34-d154-4531-aa28-6200455cd2cb\n",
      "2025-07-18 03:38:08,830 INFO status has been updated to accepted\n",
      "2025-07-18 03:44:29,617 INFO status has been updated to running\n",
      "2025-07-18 03:56:33,964 INFO status has been updated to successful\n"
     ]
    },
    {
     "data": {
      "application/vnd.jupyter.widget-view+json": {
       "model_id": "",
       "version_major": 2,
       "version_minor": 0
      },
      "text/plain": [
       "cb74875537d1564aa64ab6f84e799977.grib:   0%|          | 0.00/3.16M [00:00<?, ?B/s]"
      ]
     },
     "metadata": {},
     "output_type": "display_data"
    },
    {
     "name": "stdout",
     "output_type": "stream",
     "text": [
      "✅ Finished 1990 in 1108.10 seconds\n",
      "\n",
      "⬇️ Downloading snowmelt for 1989...\n"
     ]
    },
    {
     "name": "stderr",
     "output_type": "stream",
     "text": [
      "2025-07-18 03:56:36,958 INFO Request ID is 9396f555-b702-4188-b89c-c85392d718aa\n",
      "2025-07-18 03:56:37,109 INFO status has been updated to accepted\n",
      "2025-07-18 04:13:07,337 INFO status has been updated to running\n",
      "2025-07-18 04:25:11,644 INFO status has been updated to successful\n"
     ]
    },
    {
     "data": {
      "application/vnd.jupyter.widget-view+json": {
       "model_id": "",
       "version_major": 2,
       "version_minor": 0
      },
      "text/plain": [
       "53053b7480cce972bf974ab670d8d842.grib:   0%|          | 0.00/3.16M [00:00<?, ?B/s]"
      ]
     },
     "metadata": {},
     "output_type": "display_data"
    },
    {
     "name": "stdout",
     "output_type": "stream",
     "text": [
      "✅ Finished 1989 in 1717.60 seconds\n",
      "\n",
      "⬇️ Downloading snowmelt for 1988...\n"
     ]
    },
    {
     "name": "stderr",
     "output_type": "stream",
     "text": [
      "2025-07-18 04:25:14,510 INFO Request ID is 973c59f1-183a-40a7-8037-832aff3fc7fd\n",
      "2025-07-18 04:25:14,669 INFO status has been updated to accepted\n",
      "2025-07-18 04:47:45,063 INFO status has been updated to running\n",
      "2025-07-18 05:01:49,332 INFO status has been updated to successful\n"
     ]
    },
    {
     "data": {
      "application/vnd.jupyter.widget-view+json": {
       "model_id": "",
       "version_major": 2,
       "version_minor": 0
      },
      "text/plain": [
       "1af1e8387a2b3bada5796ec46db77462.grib:   0%|          | 0.00/3.17M [00:00<?, ?B/s]"
      ]
     },
     "metadata": {},
     "output_type": "display_data"
    },
    {
     "name": "stdout",
     "output_type": "stream",
     "text": [
      "✅ Finished 1988 in 2197.78 seconds\n",
      "\n",
      "⬇️ Downloading snowmelt for 1987...\n"
     ]
    },
    {
     "name": "stderr",
     "output_type": "stream",
     "text": [
      "2025-07-18 05:01:52,447 INFO Request ID is 0254dfbe-d8d3-48d0-8ef5-db6e7dc10a57\n",
      "2025-07-18 05:01:52,612 INFO status has been updated to accepted\n",
      "2025-07-18 05:12:15,999 INFO status has been updated to running\n",
      "2025-07-18 05:24:19,430 INFO status has been updated to successful\n"
     ]
    },
    {
     "data": {
      "application/vnd.jupyter.widget-view+json": {
       "model_id": "",
       "version_major": 2,
       "version_minor": 0
      },
      "text/plain": [
       "ce7eeea9cc70c8fc9ff94f14c4a1edf3.grib:   0%|          | 0.00/3.16M [00:00<?, ?B/s]"
      ]
     },
     "metadata": {},
     "output_type": "display_data"
    },
    {
     "name": "stdout",
     "output_type": "stream",
     "text": [
      "✅ Finished 1987 in 1350.28 seconds\n",
      "\n",
      "⬇️ Downloading snowmelt for 1986...\n"
     ]
    },
    {
     "name": "stderr",
     "output_type": "stream",
     "text": [
      "2025-07-18 05:24:22,636 INFO Request ID is 448e1057-b993-46a3-84b2-16792cc8ac22\n",
      "2025-07-18 05:24:22,795 INFO status has been updated to accepted\n",
      "2025-07-18 05:38:46,292 INFO status has been updated to running\n",
      "2025-07-18 05:50:49,199 INFO status has been updated to successful\n"
     ]
    },
    {
     "data": {
      "application/vnd.jupyter.widget-view+json": {
       "model_id": "",
       "version_major": 2,
       "version_minor": 0
      },
      "text/plain": [
       "7a297364503350d78988c35e544a103d.grib:   0%|          | 0.00/3.16M [00:00<?, ?B/s]"
      ]
     },
     "metadata": {},
     "output_type": "display_data"
    },
    {
     "name": "stdout",
     "output_type": "stream",
     "text": [
      "✅ Finished 1986 in 1589.63 seconds\n",
      "\n",
      "⏱️ Total time for snowmelt: 7963.39 seconds\n"
     ]
    },
    {
     "name": "stderr",
     "output_type": "stream",
     "text": [
      "2025-07-18 05:50:51,876 INFO [2024-09-26T00:00:00] Watch our [Forum](https://forum.ecmwf.int/) for Announcements, news and other discussed topics.\n"
     ]
    },
    {
     "name": "stdout",
     "output_type": "stream",
     "text": [
      "\n",
      "⬇️ Downloading soil_temperature_level_1 for 1990...\n"
     ]
    },
    {
     "name": "stderr",
     "output_type": "stream",
     "text": [
      "2025-07-18 05:50:52,733 INFO Request ID is 2d5f6beb-2cd7-4432-8a14-40ea97351fdb\n",
      "2025-07-18 05:50:52,938 INFO status has been updated to accepted\n",
      "2025-07-18 06:15:21,957 INFO status has been updated to running\n",
      "2025-07-18 06:29:26,063 INFO status has been updated to successful\n"
     ]
    },
    {
     "data": {
      "application/vnd.jupyter.widget-view+json": {
       "model_id": "",
       "version_major": 2,
       "version_minor": 0
      },
      "text/plain": [
       "c74533189e2ecd76ebb96ffefe3686c6.grib:   0%|          | 0.00/3.16M [00:00<?, ?B/s]"
      ]
     },
     "metadata": {},
     "output_type": "display_data"
    },
    {
     "name": "stdout",
     "output_type": "stream",
     "text": [
      "✅ Finished 1990 in 2317.22 seconds\n",
      "\n",
      "⬇️ Downloading soil_temperature_level_1 for 1989...\n"
     ]
    },
    {
     "name": "stderr",
     "output_type": "stream",
     "text": [
      "2025-07-18 06:29:29,998 INFO Request ID is 60995bf0-306a-44af-94db-024a555feafd\n",
      "2025-07-18 06:29:30,277 INFO status has been updated to accepted\n",
      "2025-07-18 06:47:59,895 INFO status has been updated to running\n",
      "2025-07-18 06:50:00,345 INFO status has been updated to accepted\n",
      "2025-07-18 06:52:01,417 INFO status has been updated to running\n",
      "2025-07-18 07:04:04,341 INFO status has been updated to successful\n"
     ]
    },
    {
     "data": {
      "application/vnd.jupyter.widget-view+json": {
       "model_id": "",
       "version_major": 2,
       "version_minor": 0
      },
      "text/plain": [
       "3700fe274edb9957b9f0984dae1adf43.grib:   0%|          | 0.00/3.16M [00:00<?, ?B/s]"
      ]
     },
     "metadata": {},
     "output_type": "display_data"
    },
    {
     "name": "stdout",
     "output_type": "stream",
     "text": [
      "✅ Finished 1989 in 2078.25 seconds\n",
      "\n",
      "⬇️ Downloading soil_temperature_level_1 for 1988...\n"
     ]
    },
    {
     "name": "stderr",
     "output_type": "stream",
     "text": [
      "2025-07-18 07:04:07,944 INFO Request ID is 5abf8119-6920-43f5-a615-245d75a8413d\n",
      "2025-07-18 07:04:08,092 INFO status has been updated to accepted\n",
      "2025-07-18 07:12:29,750 INFO status has been updated to running\n",
      "2025-07-18 07:24:35,946 INFO status has been updated to successful\n"
     ]
    },
    {
     "data": {
      "application/vnd.jupyter.widget-view+json": {
       "model_id": "",
       "version_major": 2,
       "version_minor": 0
      },
      "text/plain": [
       "7f1daaae3aa7648d762e5a9df9e5408e.grib:   0%|          | 0.00/3.17M [00:00<?, ?B/s]"
      ]
     },
     "metadata": {},
     "output_type": "display_data"
    },
    {
     "name": "stdout",
     "output_type": "stream",
     "text": [
      "✅ Finished 1988 in 1233.12 seconds\n",
      "\n",
      "⬇️ Downloading soil_temperature_level_1 for 1987...\n"
     ]
    },
    {
     "name": "stderr",
     "output_type": "stream",
     "text": [
      "2025-07-18 07:24:41,188 INFO Request ID is 1de6293b-d7d9-4a7e-a830-7789d0b896e9\n",
      "2025-07-18 07:24:41,724 INFO status has been updated to accepted\n",
      "2025-07-18 07:25:33,092 INFO status has been updated to running\n",
      "2025-07-18 07:39:10,582 INFO status has been updated to successful\n"
     ]
    },
    {
     "data": {
      "application/vnd.jupyter.widget-view+json": {
       "model_id": "",
       "version_major": 2,
       "version_minor": 0
      },
      "text/plain": [
       "d7a737c814ec9c3b0a6568d918589089.grib:   0%|          | 0.00/3.16M [00:00<?, ?B/s]"
      ]
     },
     "metadata": {},
     "output_type": "display_data"
    },
    {
     "name": "stdout",
     "output_type": "stream",
     "text": [
      "✅ Finished 1987 in 873.49 seconds\n",
      "\n",
      "⬇️ Downloading soil_temperature_level_1 for 1986...\n"
     ]
    },
    {
     "name": "stderr",
     "output_type": "stream",
     "text": [
      "2025-07-18 07:39:14,797 INFO Request ID is 82daa4a7-4f45-4350-9e3e-9c3692375655\n",
      "2025-07-18 07:39:15,305 INFO status has been updated to accepted\n",
      "2025-07-18 07:53:39,660 INFO status has been updated to running\n",
      "2025-07-18 08:07:51,831 INFO status has been updated to successful\n"
     ]
    },
    {
     "data": {
      "application/vnd.jupyter.widget-view+json": {
       "model_id": "",
       "version_major": 2,
       "version_minor": 0
      },
      "text/plain": [
       "7833041c85092a798555d65f6ffd44.grib:   0%|          | 0.00/3.16M [00:00<?, ?B/s]"
      ]
     },
     "metadata": {},
     "output_type": "display_data"
    },
    {
     "name": "stdout",
     "output_type": "stream",
     "text": [
      "✅ Finished 1986 in 1723.64 seconds\n",
      "\n",
      "⏱️ Total time for soil_temperature_level_1: 8225.73 seconds\n"
     ]
    },
    {
     "name": "stderr",
     "output_type": "stream",
     "text": [
      "2025-07-18 08:07:58,117 INFO [2024-09-26T00:00:00] Watch our [Forum](https://forum.ecmwf.int/) for Announcements, news and other discussed topics.\n"
     ]
    },
    {
     "name": "stdout",
     "output_type": "stream",
     "text": [
      "\n",
      "⬇️ Downloading surface_runoff for 1990...\n"
     ]
    },
    {
     "name": "stderr",
     "output_type": "stream",
     "text": [
      "2025-07-18 08:07:58,975 INFO Request ID is 4086e8db-7e1f-4cd2-b4d6-11e4f9fdd32b\n",
      "2025-07-18 08:07:59,170 INFO status has been updated to accepted\n"
     ]
    }
   ],
   "source": [
    "for var in era5_variables:\n",
    "    download_era5_hourly_variable(\n",
    "        variable_name=var,\n",
    "        years=range(1990, 1985, -1)\n",
    "    )"
   ]
  },
  {
   "cell_type": "code",
   "execution_count": null,
   "id": "ace471ce",
   "metadata": {},
   "outputs": [],
   "source": []
  }
 ],
 "metadata": {
  "kernelspec": {
   "display_name": "Python 3 (ipykernel)",
   "language": "python",
   "name": "python3"
  },
  "language_info": {
   "codemirror_mode": {
    "name": "ipython",
    "version": 3
   },
   "file_extension": ".py",
   "mimetype": "text/x-python",
   "name": "python",
   "nbconvert_exporter": "python",
   "pygments_lexer": "ipython3",
   "version": "3.9.12"
  }
 },
 "nbformat": 4,
 "nbformat_minor": 5
}
