{
 "cells": [
  {
   "cell_type": "code",
   "execution_count": 1,
   "id": "18a94340",
   "metadata": {},
   "outputs": [],
   "source": [
    "from era5_hourly_downloader import download_era5_hourly_variable"
   ]
  },
  {
   "cell_type": "code",
   "execution_count": 2,
   "id": "6cd87b06",
   "metadata": {},
   "outputs": [],
   "source": [
    "era5_variables = [\n",
    "    \"total_precipitation\",\n",
    "    \"2m_temperature\",\n",
    "    \"2m_dewpoint_temperature\",\n",
    "    \"10m_u_component_of_wind\",\n",
    "    \"10m_v_component_of_wind\",\n",
    "    \"surface_solar_radiation_downwards\",\n",
    "    \"potential_evaporation\",\n",
    "    \"snow_depth\",\n",
    "    \"snowmelt\",\n",
    "    \"soil_temperature_level_1\",\n",
    "    \"surface_runoff\", # to be used as flood indicator proxy\n",
    "    \"sub_surface_runoff\", # to be used as flood indicator proxy\n",
    "]\n",
    "\n",
    "# relative humidity does not exist - need to be derived from 2m_temperature and 2m_dewpoint_temperature\n"
   ]
  },
  {
   "cell_type": "code",
   "execution_count": 4,
   "id": "c192d7c2",
   "metadata": {},
   "outputs": [
    {
     "name": "stderr",
     "output_type": "stream",
     "text": [
      "2025-07-14 20:29:37,677 INFO [2024-09-26T00:00:00] Watch our [Forum](https://forum.ecmwf.int/) for Announcements, news and other discussed topics.\n"
     ]
    },
    {
     "name": "stdout",
     "output_type": "stream",
     "text": [
      "\n",
      "⬇️ Downloading total_precipitation for 2010...\n"
     ]
    },
    {
     "name": "stderr",
     "output_type": "stream",
     "text": [
      "2025-07-14 20:29:38,571 INFO Request ID is 8ea49ae1-de5e-438c-8db1-1a2019eebfa4\n",
      "2025-07-14 20:29:38,731 INFO status has been updated to accepted\n",
      "2025-07-14 20:29:52,746 INFO status has been updated to successful\n"
     ]
    },
    {
     "data": {
      "application/vnd.jupyter.widget-view+json": {
       "model_id": "",
       "version_major": 2,
       "version_minor": 0
      },
      "text/plain": [
       "8ed6ffffc15e62c8c96a2839de364e4c.grib:   0%|          | 0.00/3.16M [00:00<?, ?B/s]"
      ]
     },
     "metadata": {},
     "output_type": "display_data"
    },
    {
     "name": "stdout",
     "output_type": "stream",
     "text": [
      "✅ Finished 2010 in 17.38 seconds\n",
      "\n",
      "⬇️ Downloading total_precipitation for 2009...\n"
     ]
    },
    {
     "name": "stderr",
     "output_type": "stream",
     "text": [
      "2025-07-14 20:29:55,713 INFO Request ID is 4e83a923-e249-4284-bd33-8c36b1c3e23e\n",
      "2025-07-14 20:29:55,873 INFO status has been updated to accepted\n",
      "2025-07-14 20:30:09,834 INFO status has been updated to successful\n"
     ]
    },
    {
     "data": {
      "application/vnd.jupyter.widget-view+json": {
       "model_id": "",
       "version_major": 2,
       "version_minor": 0
      },
      "text/plain": [
       "3368d6bee37eaa53facfb00e65f92992.grib:   0%|          | 0.00/3.16M [00:00<?, ?B/s]"
      ]
     },
     "metadata": {},
     "output_type": "display_data"
    },
    {
     "name": "stdout",
     "output_type": "stream",
     "text": [
      "✅ Finished 2009 in 17.24 seconds\n",
      "\n",
      "⬇️ Downloading total_precipitation for 2008...\n"
     ]
    },
    {
     "name": "stderr",
     "output_type": "stream",
     "text": [
      "2025-07-14 20:30:12,905 INFO Request ID is 04386a39-06be-4429-882b-f4536e7cc8ed\n",
      "2025-07-14 20:30:13,046 INFO status has been updated to accepted\n",
      "2025-07-14 20:30:46,501 INFO status has been updated to successful\n"
     ]
    },
    {
     "data": {
      "application/vnd.jupyter.widget-view+json": {
       "model_id": "",
       "version_major": 2,
       "version_minor": 0
      },
      "text/plain": [
       "ed05d2579297409dd2cc07f60287dcbf.grib:   0%|          | 0.00/3.17M [00:00<?, ?B/s]"
      ]
     },
     "metadata": {},
     "output_type": "display_data"
    },
    {
     "name": "stdout",
     "output_type": "stream",
     "text": [
      "✅ Finished 2008 in 36.52 seconds\n",
      "\n",
      "⬇️ Downloading total_precipitation for 2007...\n"
     ]
    },
    {
     "name": "stderr",
     "output_type": "stream",
     "text": [
      "2025-07-14 20:30:49,679 INFO Request ID is 39145b54-5f41-436c-b2b0-becc595286a5\n",
      "2025-07-14 20:30:49,834 INFO status has been updated to accepted\n",
      "2025-07-14 20:30:55,071 INFO status has been updated to running\n",
      "2025-07-14 20:30:58,620 INFO status has been updated to successful\n"
     ]
    },
    {
     "data": {
      "application/vnd.jupyter.widget-view+json": {
       "model_id": "",
       "version_major": 2,
       "version_minor": 0
      },
      "text/plain": [
       "f7010f8183144fdbc00998f760c84fc4.grib:   0%|          | 0.00/3.16M [00:00<?, ?B/s]"
      ]
     },
     "metadata": {},
     "output_type": "display_data"
    },
    {
     "name": "stdout",
     "output_type": "stream",
     "text": [
      "✅ Finished 2007 in 12.26 seconds\n",
      "\n",
      "⬇️ Downloading total_precipitation for 2006...\n"
     ]
    },
    {
     "name": "stderr",
     "output_type": "stream",
     "text": [
      "2025-07-14 20:31:02,041 INFO Request ID is c282e5a8-1eb0-4126-8dd9-e8fd1cfdd05f\n",
      "2025-07-14 20:31:02,180 INFO status has been updated to accepted\n",
      "2025-07-14 20:31:16,313 INFO status has been updated to successful\n"
     ]
    },
    {
     "data": {
      "application/vnd.jupyter.widget-view+json": {
       "model_id": "",
       "version_major": 2,
       "version_minor": 0
      },
      "text/plain": [
       "43c5f4e2dd9333ae31c1bd07cd021f55.grib:   0%|          | 0.00/3.16M [00:00<?, ?B/s]"
      ]
     },
     "metadata": {},
     "output_type": "display_data"
    },
    {
     "name": "stdout",
     "output_type": "stream",
     "text": [
      "✅ Finished 2006 in 17.50 seconds\n",
      "\n",
      "⬇️ Downloading total_precipitation for 2005...\n"
     ]
    },
    {
     "name": "stderr",
     "output_type": "stream",
     "text": [
      "2025-07-14 20:31:19,681 INFO Request ID is 0dd4fbb0-4b7b-412a-884d-a15e5078f79a\n",
      "2025-07-14 20:31:19,835 INFO status has been updated to accepted\n",
      "2025-07-14 20:31:28,615 INFO status has been updated to running\n",
      "2025-07-14 20:31:33,846 INFO status has been updated to successful\n"
     ]
    },
    {
     "data": {
      "application/vnd.jupyter.widget-view+json": {
       "model_id": "",
       "version_major": 2,
       "version_minor": 0
      },
      "text/plain": [
       "13716389678eb3203f9407b959d20ade.grib:   0%|          | 0.00/3.16M [00:00<?, ?B/s]"
      ]
     },
     "metadata": {},
     "output_type": "display_data"
    },
    {
     "name": "stdout",
     "output_type": "stream",
     "text": [
      "✅ Finished 2005 in 17.32 seconds\n",
      "\n",
      "⬇️ Downloading total_precipitation for 2004...\n"
     ]
    },
    {
     "name": "stderr",
     "output_type": "stream",
     "text": [
      "2025-07-14 20:31:36,885 INFO Request ID is af715609-8fbf-4600-819f-191026eba2cc\n",
      "2025-07-14 20:31:37,032 INFO status has been updated to accepted\n",
      "2025-07-14 20:31:45,945 INFO status has been updated to running\n",
      "2025-07-14 20:31:51,168 INFO status has been updated to successful\n"
     ]
    },
    {
     "data": {
      "application/vnd.jupyter.widget-view+json": {
       "model_id": "",
       "version_major": 2,
       "version_minor": 0
      },
      "text/plain": [
       "140ba29dccf9c03755561e90f4482dd3.grib:   0%|          | 0.00/3.17M [00:00<?, ?B/s]"
      ]
     },
     "metadata": {},
     "output_type": "display_data"
    },
    {
     "name": "stdout",
     "output_type": "stream",
     "text": [
      "✅ Finished 2004 in 17.32 seconds\n",
      "\n",
      "⬇️ Downloading total_precipitation for 2003...\n"
     ]
    },
    {
     "name": "stderr",
     "output_type": "stream",
     "text": [
      "2025-07-14 20:31:53,883 INFO Request ID is ab38357f-7936-4d8d-a758-90c9c1e7aa8c\n",
      "2025-07-14 20:31:54,206 INFO status has been updated to accepted\n",
      "2025-07-14 20:32:03,153 INFO status has been updated to running\n",
      "2025-07-14 20:32:08,366 INFO status has been updated to successful\n"
     ]
    },
    {
     "data": {
      "application/vnd.jupyter.widget-view+json": {
       "model_id": "",
       "version_major": 2,
       "version_minor": 0
      },
      "text/plain": [
       "429d6c527b692dff0f8d6acadf2f87a0.grib:   0%|          | 0.00/3.16M [00:00<?, ?B/s]"
      ]
     },
     "metadata": {},
     "output_type": "display_data"
    },
    {
     "name": "stdout",
     "output_type": "stream",
     "text": [
      "✅ Finished 2003 in 17.28 seconds\n",
      "\n",
      "⬇️ Downloading total_precipitation for 2002...\n"
     ]
    },
    {
     "name": "stderr",
     "output_type": "stream",
     "text": [
      "2025-07-14 20:32:11,636 INFO Request ID is 71f0e449-97ca-49f6-98d5-0314a66b8c2d\n",
      "2025-07-14 20:32:11,772 INFO status has been updated to accepted\n",
      "2025-07-14 20:32:20,653 INFO status has been updated to successful\n"
     ]
    },
    {
     "data": {
      "application/vnd.jupyter.widget-view+json": {
       "model_id": "",
       "version_major": 2,
       "version_minor": 0
      },
      "text/plain": [
       "20072d1e5444eed92c4610dde6f53b21.grib:   0%|          | 0.00/3.16M [00:00<?, ?B/s]"
      ]
     },
     "metadata": {},
     "output_type": "display_data"
    },
    {
     "name": "stdout",
     "output_type": "stream",
     "text": [
      "✅ Finished 2002 in 12.28 seconds\n",
      "\n",
      "⬇️ Downloading total_precipitation for 2001...\n"
     ]
    },
    {
     "name": "stderr",
     "output_type": "stream",
     "text": [
      "2025-07-14 20:32:23,518 INFO Request ID is b6f3ca28-676c-45c6-9d94-a1e92f228296\n",
      "2025-07-14 20:32:23,680 INFO status has been updated to accepted\n",
      "2025-07-14 20:32:37,710 INFO status has been updated to successful\n"
     ]
    },
    {
     "data": {
      "application/vnd.jupyter.widget-view+json": {
       "model_id": "",
       "version_major": 2,
       "version_minor": 0
      },
      "text/plain": [
       "ffb2241e8a01ddcab1ec3abd764095f2.grib:   0%|          | 0.00/3.16M [00:00<?, ?B/s]"
      ]
     },
     "metadata": {},
     "output_type": "display_data"
    },
    {
     "name": "stdout",
     "output_type": "stream",
     "text": [
      "✅ Finished 2001 in 17.04 seconds\n",
      "\n",
      "⬇️ Downloading total_precipitation for 2000...\n"
     ]
    },
    {
     "name": "stderr",
     "output_type": "stream",
     "text": [
      "2025-07-14 20:32:40,457 INFO Request ID is c02d2e0e-f0e6-443d-aecd-87e5af2814b0\n",
      "2025-07-14 20:32:40,598 INFO status has been updated to accepted\n",
      "2025-07-14 20:32:45,845 INFO status has been updated to running\n",
      "2025-07-14 20:32:49,416 INFO status has been updated to successful\n"
     ]
    },
    {
     "data": {
      "application/vnd.jupyter.widget-view+json": {
       "model_id": "",
       "version_major": 2,
       "version_minor": 0
      },
      "text/plain": [
       "8bc0f18032843e133205aec049b8f3dc.grib:   0%|          | 0.00/3.17M [00:00<?, ?B/s]"
      ]
     },
     "metadata": {},
     "output_type": "display_data"
    },
    {
     "name": "stdout",
     "output_type": "stream",
     "text": [
      "✅ Finished 2000 in 11.73 seconds\n",
      "\n",
      "⏱️ Total time for total_precipitation: 193.88 seconds\n"
     ]
    },
    {
     "name": "stderr",
     "output_type": "stream",
     "text": [
      "2025-07-14 20:32:51,964 INFO [2024-09-26T00:00:00] Watch our [Forum](https://forum.ecmwf.int/) for Announcements, news and other discussed topics.\n"
     ]
    },
    {
     "name": "stdout",
     "output_type": "stream",
     "text": [
      "\n",
      "⬇️ Downloading 2m_temperature for 2010...\n"
     ]
    },
    {
     "name": "stderr",
     "output_type": "stream",
     "text": [
      "2025-07-14 20:32:52,760 INFO Request ID is 8abb7330-0982-4aa8-ba74-7d76d5e9b30f\n",
      "2025-07-14 20:32:52,910 INFO status has been updated to accepted\n",
      "2025-07-14 20:33:06,941 INFO status has been updated to successful\n"
     ]
    },
    {
     "data": {
      "application/vnd.jupyter.widget-view+json": {
       "model_id": "",
       "version_major": 2,
       "version_minor": 0
      },
      "text/plain": [
       "5564499100bc484a87f5dd1f41d8b54b.grib:   0%|          | 0.00/3.16M [00:00<?, ?B/s]"
      ]
     },
     "metadata": {},
     "output_type": "display_data"
    },
    {
     "name": "stdout",
     "output_type": "stream",
     "text": [
      "✅ Finished 2010 in 18.12 seconds\n",
      "\n",
      "⬇️ Downloading 2m_temperature for 2009...\n"
     ]
    },
    {
     "name": "stderr",
     "output_type": "stream",
     "text": [
      "2025-07-14 20:33:10,855 INFO Request ID is cc8da130-a59a-441f-a472-3f2aba733488\n",
      "2025-07-14 20:33:11,012 INFO status has been updated to accepted\n",
      "2025-07-14 20:33:19,842 INFO status has been updated to running\n",
      "2025-07-14 20:33:25,072 INFO status has been updated to successful\n"
     ]
    },
    {
     "data": {
      "application/vnd.jupyter.widget-view+json": {
       "model_id": "",
       "version_major": 2,
       "version_minor": 0
      },
      "text/plain": [
       "ade5c747a3e51d3b35790bffc9f9f79e.grib:   0%|          | 0.00/3.16M [00:00<?, ?B/s]"
      ]
     },
     "metadata": {},
     "output_type": "display_data"
    },
    {
     "name": "stdout",
     "output_type": "stream",
     "text": [
      "✅ Finished 2009 in 17.02 seconds\n",
      "\n",
      "⬇️ Downloading 2m_temperature for 2008...\n"
     ]
    },
    {
     "name": "stderr",
     "output_type": "stream",
     "text": [
      "2025-07-14 20:33:27,983 INFO Request ID is e62a1261-9463-4aac-bafc-1867ad2df58e\n",
      "2025-07-14 20:33:28,163 INFO status has been updated to accepted\n",
      "2025-07-14 20:33:36,960 INFO status has been updated to running\n",
      "2025-07-14 20:43:50,777 INFO status has been updated to successful\n"
     ]
    },
    {
     "data": {
      "application/vnd.jupyter.widget-view+json": {
       "model_id": "",
       "version_major": 2,
       "version_minor": 0
      },
      "text/plain": [
       "6160da8fac27c7a858c829cfb585c34c.grib:   0%|          | 0.00/3.17M [00:00<?, ?B/s]"
      ]
     },
     "metadata": {},
     "output_type": "display_data"
    },
    {
     "name": "stdout",
     "output_type": "stream",
     "text": [
      "✅ Finished 2008 in 625.98 seconds\n",
      "\n",
      "⬇️ Downloading 2m_temperature for 2007...\n"
     ]
    },
    {
     "name": "stderr",
     "output_type": "stream",
     "text": [
      "2025-07-14 20:43:53,802 INFO Request ID is 65aceae2-a142-411d-bdc4-ffa806a20a41\n",
      "2025-07-14 20:43:54,067 INFO status has been updated to accepted\n",
      "2025-07-14 20:44:03,734 INFO status has been updated to running\n",
      "2025-07-14 20:56:17,736 INFO status has been updated to successful\n"
     ]
    },
    {
     "data": {
      "application/vnd.jupyter.widget-view+json": {
       "model_id": "",
       "version_major": 2,
       "version_minor": 0
      },
      "text/plain": [
       "fba6b2b0c8751fa5c38c66918bad7a51.grib:   0%|          | 0.00/3.16M [00:00<?, ?B/s]"
      ]
     },
     "metadata": {},
     "output_type": "display_data"
    },
    {
     "name": "stdout",
     "output_type": "stream",
     "text": [
      "✅ Finished 2007 in 746.78 seconds\n",
      "\n",
      "⬇️ Downloading 2m_temperature for 2006...\n"
     ]
    },
    {
     "name": "stderr",
     "output_type": "stream",
     "text": [
      "2025-07-14 20:56:20,543 INFO Request ID is b6385f65-9d88-4fe4-a2c1-e3314ef012cb\n",
      "2025-07-14 20:56:20,708 INFO status has been updated to accepted\n",
      "2025-07-14 20:56:29,524 INFO status has been updated to running\n",
      "2025-07-14 21:06:45,342 INFO status has been updated to successful\n"
     ]
    },
    {
     "data": {
      "application/vnd.jupyter.widget-view+json": {
       "model_id": "",
       "version_major": 2,
       "version_minor": 0
      },
      "text/plain": [
       "80002e2ab9702bdf2faa67ad9ff4be21.grib:   0%|          | 0.00/3.16M [00:00<?, ?B/s]"
      ]
     },
     "metadata": {},
     "output_type": "display_data"
    },
    {
     "name": "stdout",
     "output_type": "stream",
     "text": [
      "✅ Finished 2006 in 627.84 seconds\n",
      "\n",
      "⬇️ Downloading 2m_temperature for 2005...\n"
     ]
    },
    {
     "name": "stderr",
     "output_type": "stream",
     "text": [
      "2025-07-14 21:06:48,798 INFO Request ID is 8ebc3aba-f958-43a1-a07f-74107c4f0999\n",
      "2025-07-14 21:06:48,952 INFO status has been updated to accepted\n",
      "2025-07-14 21:07:22,275 INFO status has been updated to running\n",
      "2025-07-14 21:15:11,488 INFO status has been updated to successful\n"
     ]
    },
    {
     "data": {
      "application/vnd.jupyter.widget-view+json": {
       "model_id": "",
       "version_major": 2,
       "version_minor": 0
      },
      "text/plain": [
       "44829e126c80218cd8660a801a58a536.grib:   0%|          | 0.00/3.16M [00:00<?, ?B/s]"
      ]
     },
     "metadata": {},
     "output_type": "display_data"
    },
    {
     "name": "stdout",
     "output_type": "stream",
     "text": [
      "✅ Finished 2005 in 506.06 seconds\n",
      "\n",
      "⬇️ Downloading 2m_temperature for 2004...\n"
     ]
    },
    {
     "name": "stderr",
     "output_type": "stream",
     "text": [
      "2025-07-14 21:15:14,371 INFO Request ID is 2e34133c-0b6b-44f1-abba-fa3a4271be5f\n",
      "2025-07-14 21:15:14,521 INFO status has been updated to accepted\n",
      "2025-07-14 21:15:28,617 INFO status has been updated to running\n",
      "2025-07-14 21:27:37,577 INFO status has been updated to successful\n"
     ]
    },
    {
     "data": {
      "application/vnd.jupyter.widget-view+json": {
       "model_id": "",
       "version_major": 2,
       "version_minor": 0
      },
      "text/plain": [
       "d6080993dca4743115a25a87737ce592.grib:   0%|          | 0.00/3.17M [00:00<?, ?B/s]"
      ]
     },
     "metadata": {},
     "output_type": "display_data"
    },
    {
     "name": "stdout",
     "output_type": "stream",
     "text": [
      "✅ Finished 2004 in 746.09 seconds\n",
      "\n",
      "⬇️ Downloading 2m_temperature for 2003...\n"
     ]
    },
    {
     "name": "stderr",
     "output_type": "stream",
     "text": [
      "2025-07-14 21:27:40,583 INFO Request ID is 2a2360fa-059c-456d-b591-9224226d99cf\n",
      "2025-07-14 21:27:40,777 INFO status has been updated to accepted\n",
      "2025-07-14 21:27:49,537 INFO status has been updated to running\n",
      "2025-07-14 21:40:03,663 INFO status has been updated to successful\n"
     ]
    },
    {
     "data": {
      "application/vnd.jupyter.widget-view+json": {
       "model_id": "",
       "version_major": 2,
       "version_minor": 0
      },
      "text/plain": [
       "85c49ba74351fda001da3a94b9e9bf8d.grib:   0%|          | 0.00/3.16M [00:00<?, ?B/s]"
      ]
     },
     "metadata": {},
     "output_type": "display_data"
    },
    {
     "name": "stdout",
     "output_type": "stream",
     "text": [
      "✅ Finished 2003 in 746.01 seconds\n",
      "\n",
      "⬇️ Downloading 2m_temperature for 2002...\n"
     ]
    },
    {
     "name": "stderr",
     "output_type": "stream",
     "text": [
      "2025-07-14 21:40:06,548 INFO Request ID is a1531837-102d-4091-8813-17961aa030a3\n",
      "2025-07-14 21:40:06,860 INFO status has been updated to accepted\n",
      "2025-07-14 21:40:28,730 INFO status has been updated to successful\n"
     ]
    },
    {
     "data": {
      "application/vnd.jupyter.widget-view+json": {
       "model_id": "",
       "version_major": 2,
       "version_minor": 0
      },
      "text/plain": [
       "d14ead77f9c489371ca6c8e60cd368e6.grib:   0%|          | 0.00/3.16M [00:00<?, ?B/s]"
      ]
     },
     "metadata": {},
     "output_type": "display_data"
    },
    {
     "name": "stdout",
     "output_type": "stream",
     "text": [
      "✅ Finished 2002 in 24.93 seconds\n",
      "\n",
      "⬇️ Downloading 2m_temperature for 2001...\n"
     ]
    },
    {
     "name": "stderr",
     "output_type": "stream",
     "text": [
      "2025-07-14 21:40:31,639 INFO Request ID is d63aefda-8fbd-4ca2-b160-e289449e27a7\n",
      "2025-07-14 21:40:31,788 INFO status has been updated to accepted\n",
      "2025-07-14 21:40:36,970 INFO status has been updated to running\n",
      "2025-07-14 21:40:40,577 INFO status has been updated to successful\n"
     ]
    },
    {
     "data": {
      "application/vnd.jupyter.widget-view+json": {
       "model_id": "",
       "version_major": 2,
       "version_minor": 0
      },
      "text/plain": [
       "ed1fe21fa8ee48eed466161ba766ee95.grib:   0%|          | 0.00/3.16M [00:00<?, ?B/s]"
      ]
     },
     "metadata": {},
     "output_type": "display_data"
    },
    {
     "name": "stdout",
     "output_type": "stream",
     "text": [
      "✅ Finished 2001 in 11.90 seconds\n",
      "✅ Already exists: ../era5_data/2m_temperature/2m_temperature_2000.grib\n",
      "\n",
      "⏱️ Total time for 2m_temperature: 4070.75 seconds\n"
     ]
    },
    {
     "name": "stderr",
     "output_type": "stream",
     "text": [
      "2025-07-14 21:40:43,079 INFO [2024-09-26T00:00:00] Watch our [Forum](https://forum.ecmwf.int/) for Announcements, news and other discussed topics.\n"
     ]
    },
    {
     "name": "stdout",
     "output_type": "stream",
     "text": [
      "\n",
      "⬇️ Downloading 2m_dewpoint_temperature for 2010...\n"
     ]
    },
    {
     "name": "stderr",
     "output_type": "stream",
     "text": [
      "2025-07-14 21:40:43,821 INFO Request ID is 66da595d-4d8c-4794-9050-825d6011103c\n",
      "2025-07-14 21:40:43,958 INFO status has been updated to accepted\n",
      "2025-07-14 21:40:52,864 INFO status has been updated to running\n",
      "2025-07-14 21:51:06,385 INFO status has been updated to successful\n"
     ]
    },
    {
     "data": {
      "application/vnd.jupyter.widget-view+json": {
       "model_id": "",
       "version_major": 2,
       "version_minor": 0
      },
      "text/plain": [
       "8986f0598cd7c06e6cfcda804ab2a7e.grib:   0%|          | 0.00/3.16M [00:00<?, ?B/s]"
      ]
     },
     "metadata": {},
     "output_type": "display_data"
    },
    {
     "name": "stdout",
     "output_type": "stream",
     "text": [
      "✅ Finished 2010 in 625.52 seconds\n",
      "\n",
      "⬇️ Downloading 2m_dewpoint_temperature for 2009...\n"
     ]
    },
    {
     "name": "stderr",
     "output_type": "stream",
     "text": [
      "2025-07-14 21:51:09,158 INFO Request ID is 7191438b-bd79-4715-9d2c-61228dbe56fb\n",
      "2025-07-14 21:51:09,318 INFO status has been updated to accepted\n",
      "2025-07-14 21:51:18,332 INFO status has been updated to running\n",
      "2025-07-14 22:03:31,429 INFO status has been updated to successful\n"
     ]
    },
    {
     "data": {
      "application/vnd.jupyter.widget-view+json": {
       "model_id": "",
       "version_major": 2,
       "version_minor": 0
      },
      "text/plain": [
       "a5bbee452f8b0968eec323ccc87bd11e.grib:   0%|          | 0.00/3.16M [00:00<?, ?B/s]"
      ]
     },
     "metadata": {},
     "output_type": "display_data"
    },
    {
     "name": "stdout",
     "output_type": "stream",
     "text": [
      "✅ Finished 2009 in 745.34 seconds\n",
      "\n",
      "⬇️ Downloading 2m_dewpoint_temperature for 2008...\n"
     ]
    },
    {
     "name": "stderr",
     "output_type": "stream",
     "text": [
      "2025-07-14 22:03:34,560 INFO Request ID is 84076b64-3de0-4096-8b2f-a192f9cb445e\n",
      "2025-07-14 22:03:34,951 INFO status has been updated to accepted\n",
      "2025-07-14 22:03:56,711 INFO status has been updated to running\n",
      "2025-07-14 22:15:58,873 INFO status has been updated to successful\n"
     ]
    },
    {
     "data": {
      "application/vnd.jupyter.widget-view+json": {
       "model_id": "",
       "version_major": 2,
       "version_minor": 0
      },
      "text/plain": [
       "e2647a34a0e9b800e058d4d2a6bd8403.grib:   0%|          | 0.00/3.17M [00:00<?, ?B/s]"
      ]
     },
     "metadata": {},
     "output_type": "display_data"
    },
    {
     "name": "stdout",
     "output_type": "stream",
     "text": [
      "✅ Finished 2008 in 747.07 seconds\n",
      "\n",
      "⬇️ Downloading 2m_dewpoint_temperature for 2007...\n"
     ]
    },
    {
     "name": "stderr",
     "output_type": "stream",
     "text": [
      "2025-07-14 22:16:01,740 INFO Request ID is b945e461-2ff2-4922-b661-60f2b74fd312\n",
      "2025-07-14 22:16:01,946 INFO status has been updated to accepted\n",
      "2025-07-14 22:16:16,055 INFO status has been updated to running\n",
      "2025-07-14 22:28:25,401 INFO status has been updated to successful\n"
     ]
    },
    {
     "data": {
      "application/vnd.jupyter.widget-view+json": {
       "model_id": "",
       "version_major": 2,
       "version_minor": 0
      },
      "text/plain": [
       "fd949aaa0c8988ff3bd7108c540ba5a2.grib:   0%|          | 0.00/3.16M [00:00<?, ?B/s]"
      ]
     },
     "metadata": {},
     "output_type": "display_data"
    },
    {
     "name": "stdout",
     "output_type": "stream",
     "text": [
      "✅ Finished 2007 in 746.83 seconds\n",
      "\n",
      "⬇️ Downloading 2m_dewpoint_temperature for 2006...\n"
     ]
    },
    {
     "name": "stderr",
     "output_type": "stream",
     "text": [
      "2025-07-14 22:28:28,973 INFO Request ID is ca8341a1-392f-4b36-98b9-79ac8a6d87f7\n",
      "2025-07-14 22:28:29,134 INFO status has been updated to accepted\n",
      "2025-07-14 22:28:34,406 INFO status has been updated to running\n",
      "2025-07-14 22:40:53,076 INFO status has been updated to successful\n"
     ]
    },
    {
     "data": {
      "application/vnd.jupyter.widget-view+json": {
       "model_id": "",
       "version_major": 2,
       "version_minor": 0
      },
      "text/plain": [
       "da8baf8f5dfa75f843c3c56f3ee99619.grib:   0%|          | 0.00/3.16M [00:00<?, ?B/s]"
      ]
     },
     "metadata": {},
     "output_type": "display_data"
    },
    {
     "name": "stdout",
     "output_type": "stream",
     "text": [
      "✅ Finished 2006 in 747.39 seconds\n",
      "\n",
      "⬇️ Downloading 2m_dewpoint_temperature for 2005...\n"
     ]
    },
    {
     "name": "stderr",
     "output_type": "stream",
     "text": [
      "2025-07-14 22:40:55,921 INFO Request ID is 7060dbd5-e296-405e-8d21-13f898ed0525\n",
      "2025-07-14 22:40:56,125 INFO status has been updated to accepted\n",
      "2025-07-14 22:41:04,955 INFO status has been updated to running\n",
      "2025-07-14 22:53:18,579 INFO status has been updated to successful\n"
     ]
    },
    {
     "data": {
      "application/vnd.jupyter.widget-view+json": {
       "model_id": "",
       "version_major": 2,
       "version_minor": 0
      },
      "text/plain": [
       "7b4e6ba3b08c4f508bcde24a8abefe19.grib:   0%|          | 0.00/3.16M [00:00<?, ?B/s]"
      ]
     },
     "metadata": {},
     "output_type": "display_data"
    },
    {
     "name": "stdout",
     "output_type": "stream",
     "text": [
      "✅ Finished 2005 in 745.87 seconds\n",
      "\n",
      "⬇️ Downloading 2m_dewpoint_temperature for 2004...\n"
     ]
    },
    {
     "name": "stderr",
     "output_type": "stream",
     "text": [
      "2025-07-14 22:53:21,744 INFO Request ID is 692ac2a1-ab75-48c4-8593-fa80f5f89594\n",
      "2025-07-14 22:53:21,908 INFO status has been updated to accepted\n",
      "2025-07-14 22:53:30,754 INFO status has been updated to running\n",
      "2025-07-14 22:53:36,023 INFO status has been updated to accepted\n",
      "2025-07-14 22:53:43,771 INFO status has been updated to running\n",
      "2025-07-14 23:05:43,982 INFO status has been updated to successful\n"
     ]
    },
    {
     "data": {
      "application/vnd.jupyter.widget-view+json": {
       "model_id": "",
       "version_major": 2,
       "version_minor": 0
      },
      "text/plain": [
       "403b6847848ce764913d45bf8495e94.grib:   0%|          | 0.00/3.17M [00:00<?, ?B/s]"
      ]
     },
     "metadata": {},
     "output_type": "display_data"
    },
    {
     "name": "stdout",
     "output_type": "stream",
     "text": [
      "✅ Finished 2004 in 745.17 seconds\n",
      "\n",
      "⬇️ Downloading 2m_dewpoint_temperature for 2003...\n"
     ]
    },
    {
     "name": "stderr",
     "output_type": "stream",
     "text": [
      "2025-07-14 23:05:46,860 INFO Request ID is 1c8a4cd3-4375-4eb2-898a-7a3c8c377815\n",
      "2025-07-14 23:05:47,118 INFO status has been updated to accepted\n",
      "2025-07-14 23:05:55,972 INFO status has been updated to running\n",
      "2025-07-14 23:06:01,202 INFO status has been updated to accepted\n",
      "2025-07-14 23:06:08,964 INFO status has been updated to running\n",
      "2025-07-14 23:18:09,751 INFO status has been updated to successful\n"
     ]
    },
    {
     "data": {
      "application/vnd.jupyter.widget-view+json": {
       "model_id": "",
       "version_major": 2,
       "version_minor": 0
      },
      "text/plain": [
       "f634fb495c47cf76daa2697bc5ce90bf.grib:   0%|          | 0.00/3.16M [00:00<?, ?B/s]"
      ]
     },
     "metadata": {},
     "output_type": "display_data"
    },
    {
     "name": "stdout",
     "output_type": "stream",
     "text": [
      "✅ Finished 2003 in 746.54 seconds\n",
      "\n",
      "⬇️ Downloading 2m_dewpoint_temperature for 2002...\n"
     ]
    },
    {
     "name": "stderr",
     "output_type": "stream",
     "text": [
      "2025-07-14 23:18:13,672 INFO Request ID is aaa37a3c-15c1-4dd3-b426-1c139b5a1b67\n",
      "2025-07-14 23:18:13,830 INFO status has been updated to accepted\n",
      "2025-07-14 23:18:27,876 INFO status has been updated to successful\n"
     ]
    },
    {
     "data": {
      "application/vnd.jupyter.widget-view+json": {
       "model_id": "",
       "version_major": 2,
       "version_minor": 0
      },
      "text/plain": [
       "8672f37ff4570033ac46a3dc6c3c5f8d.grib:   0%|          | 0.00/3.16M [00:00<?, ?B/s]"
      ]
     },
     "metadata": {},
     "output_type": "display_data"
    },
    {
     "name": "stdout",
     "output_type": "stream",
     "text": [
      "✅ Finished 2002 in 17.15 seconds\n",
      "\n",
      "⬇️ Downloading 2m_dewpoint_temperature for 2001...\n"
     ]
    },
    {
     "name": "stderr",
     "output_type": "stream",
     "text": [
      "2025-07-14 23:18:30,830 INFO Request ID is 32161bea-3812-46a8-a145-5a6c42e5d9a4\n",
      "2025-07-14 23:18:30,974 INFO status has been updated to accepted\n",
      "2025-07-14 23:18:36,212 INFO status has been updated to running\n",
      "2025-07-14 23:18:39,749 INFO status has been updated to successful\n"
     ]
    },
    {
     "data": {
      "application/vnd.jupyter.widget-view+json": {
       "model_id": "",
       "version_major": 2,
       "version_minor": 0
      },
      "text/plain": [
       "a4733a5b7ce9884b67e070cbafcd6589.grib:   0%|          | 0.00/3.16M [00:00<?, ?B/s]"
      ]
     },
     "metadata": {},
     "output_type": "display_data"
    },
    {
     "name": "stdout",
     "output_type": "stream",
     "text": [
      "✅ Finished 2001 in 11.81 seconds\n",
      "\n",
      "⬇️ Downloading 2m_dewpoint_temperature for 2000...\n"
     ]
    },
    {
     "name": "stderr",
     "output_type": "stream",
     "text": [
      "2025-07-14 23:18:42,481 INFO Request ID is b45c091d-4c4f-425b-b671-a2f216dd6b17\n",
      "2025-07-14 23:18:42,629 INFO status has been updated to accepted\n",
      "2025-07-14 23:18:56,604 INFO status has been updated to running\n",
      "2025-07-14 23:31:04,658 INFO status has been updated to successful\n"
     ]
    },
    {
     "data": {
      "application/vnd.jupyter.widget-view+json": {
       "model_id": "",
       "version_major": 2,
       "version_minor": 0
      },
      "text/plain": [
       "3130f06317a5a57fc00bf56c0e308161.grib:   0%|          | 0.00/3.17M [00:00<?, ?B/s]"
      ]
     },
     "metadata": {},
     "output_type": "display_data"
    },
    {
     "name": "stdout",
     "output_type": "stream",
     "text": [
      "✅ Finished 2000 in 745.28 seconds\n",
      "\n",
      "⏱️ Total time for 2m_dewpoint_temperature: 6623.98 seconds\n"
     ]
    },
    {
     "name": "stderr",
     "output_type": "stream",
     "text": [
      "2025-07-14 23:31:07,468 INFO [2024-09-26T00:00:00] Watch our [Forum](https://forum.ecmwf.int/) for Announcements, news and other discussed topics.\n"
     ]
    },
    {
     "name": "stdout",
     "output_type": "stream",
     "text": [
      "\n",
      "⬇️ Downloading 10m_u_component_of_wind for 2010...\n"
     ]
    },
    {
     "name": "stderr",
     "output_type": "stream",
     "text": [
      "2025-07-14 23:31:08,173 INFO Request ID is e1eb1f07-9e56-489f-981d-657e6a232993\n",
      "2025-07-14 23:31:08,397 INFO status has been updated to accepted\n",
      "2025-07-14 23:31:17,316 INFO status has been updated to running\n",
      "2025-07-14 23:37:29,947 INFO status has been updated to successful\n"
     ]
    },
    {
     "data": {
      "application/vnd.jupyter.widget-view+json": {
       "model_id": "",
       "version_major": 2,
       "version_minor": 0
      },
      "text/plain": [
       "4e6ceb96297340b0628a8ad8c8488266.grib:   0%|          | 0.00/3.16M [00:00<?, ?B/s]"
      ]
     },
     "metadata": {},
     "output_type": "display_data"
    },
    {
     "name": "stdout",
     "output_type": "stream",
     "text": [
      "✅ Finished 2010 in 384.98 seconds\n",
      "\n",
      "⬇️ Downloading 10m_u_component_of_wind for 2009...\n"
     ]
    },
    {
     "name": "stderr",
     "output_type": "stream",
     "text": [
      "2025-07-14 23:37:33,510 INFO Request ID is 205ecc18-931a-430e-8ca5-b73f8b1551db\n",
      "2025-07-14 23:37:33,747 INFO status has been updated to accepted\n",
      "2025-07-14 23:37:39,347 INFO status has been updated to running\n",
      "2025-07-14 23:49:56,945 INFO status has been updated to successful\n"
     ]
    },
    {
     "data": {
      "application/vnd.jupyter.widget-view+json": {
       "model_id": "",
       "version_major": 2,
       "version_minor": 0
      },
      "text/plain": [
       "d1acb5c59a7f5445bbf285edb5278060.grib:   0%|          | 0.00/3.16M [00:00<?, ?B/s]"
      ]
     },
     "metadata": {},
     "output_type": "display_data"
    },
    {
     "name": "stdout",
     "output_type": "stream",
     "text": [
      "✅ Finished 2009 in 747.43 seconds\n",
      "\n",
      "⬇️ Downloading 10m_u_component_of_wind for 2008...\n"
     ]
    },
    {
     "name": "stderr",
     "output_type": "stream",
     "text": [
      "2025-07-14 23:50:00,620 INFO Request ID is 2571b9ce-bc52-414c-8f91-45e7246dd824\n",
      "2025-07-14 23:50:00,794 INFO status has been updated to accepted\n",
      "2025-07-14 23:50:09,639 INFO status has been updated to running\n",
      "2025-07-15 00:04:25,665 INFO status has been updated to successful\n"
     ]
    },
    {
     "data": {
      "application/vnd.jupyter.widget-view+json": {
       "model_id": "",
       "version_major": 2,
       "version_minor": 0
      },
      "text/plain": [
       "ed07eb2c674eedd6f9d9f2f758a2d284.grib:   0%|          | 0.00/3.17M [00:00<?, ?B/s]"
      ]
     },
     "metadata": {},
     "output_type": "display_data"
    },
    {
     "name": "stdout",
     "output_type": "stream",
     "text": [
      "✅ Finished 2008 in 869.58 seconds\n",
      "\n",
      "⬇️ Downloading 10m_u_component_of_wind for 2007...\n"
     ]
    },
    {
     "name": "stderr",
     "output_type": "stream",
     "text": [
      "2025-07-15 00:04:30,140 INFO Request ID is 25067682-f65d-4f56-95b3-7de633eba12f\n",
      "2025-07-15 00:04:30,286 INFO status has been updated to accepted\n",
      "2025-07-15 00:04:52,073 INFO status has been updated to running\n",
      "2025-07-15 00:16:55,284 INFO status has been updated to successful\n"
     ]
    },
    {
     "data": {
      "application/vnd.jupyter.widget-view+json": {
       "model_id": "",
       "version_major": 2,
       "version_minor": 0
      },
      "text/plain": [
       "1e504c77d3f6088fe5f45213e56c5c57.grib:   0%|          | 0.00/3.16M [00:00<?, ?B/s]"
      ]
     },
     "metadata": {},
     "output_type": "display_data"
    },
    {
     "name": "stdout",
     "output_type": "stream",
     "text": [
      "✅ Finished 2007 in 748.14 seconds\n",
      "\n",
      "⬇️ Downloading 10m_u_component_of_wind for 2006...\n"
     ]
    },
    {
     "name": "stderr",
     "output_type": "stream",
     "text": [
      "2025-07-15 00:16:58,252 INFO Request ID is e923ab9e-05a7-4d4a-aff1-037eb1845ecd\n",
      "2025-07-15 00:16:58,457 INFO status has been updated to accepted\n",
      "2025-07-15 00:17:12,497 INFO status has been updated to running\n",
      "2025-07-15 00:29:23,923 INFO status has been updated to successful\n"
     ]
    },
    {
     "data": {
      "application/vnd.jupyter.widget-view+json": {
       "model_id": "",
       "version_major": 2,
       "version_minor": 0
      },
      "text/plain": [
       "ac1a949a79b5ecc6b892f03638421d47.grib:   0%|          | 0.00/3.16M [00:00<?, ?B/s]"
      ]
     },
     "metadata": {},
     "output_type": "display_data"
    },
    {
     "name": "stdout",
     "output_type": "stream",
     "text": [
      "✅ Finished 2006 in 749.04 seconds\n",
      "\n",
      "⬇️ Downloading 10m_u_component_of_wind for 2005...\n"
     ]
    },
    {
     "name": "stderr",
     "output_type": "stream",
     "text": [
      "2025-07-15 00:29:27,428 INFO Request ID is f41215b5-23c4-4f1f-b6c2-7470d5507d86\n",
      "2025-07-15 00:29:27,696 INFO status has been updated to accepted\n",
      "2025-07-15 00:29:49,838 INFO status has been updated to running\n",
      "2025-07-15 00:41:50,496 INFO status has been updated to successful\n"
     ]
    },
    {
     "data": {
      "application/vnd.jupyter.widget-view+json": {
       "model_id": "",
       "version_major": 2,
       "version_minor": 0
      },
      "text/plain": [
       "c7fc30eec2b8f2495025ac995460ed63.grib:   0%|          | 0.00/3.16M [00:00<?, ?B/s]"
      ]
     },
     "metadata": {},
     "output_type": "display_data"
    },
    {
     "name": "stdout",
     "output_type": "stream",
     "text": [
      "✅ Finished 2005 in 746.27 seconds\n",
      "\n",
      "⬇️ Downloading 10m_u_component_of_wind for 2004...\n"
     ]
    },
    {
     "name": "stderr",
     "output_type": "stream",
     "text": [
      "2025-07-15 00:41:53,680 INFO Request ID is 2f556c7f-295f-470f-bed9-4ac85b7f6320\n",
      "2025-07-15 00:41:53,855 INFO status has been updated to accepted\n",
      "2025-07-15 00:41:59,186 INFO status has been updated to running\n",
      "2025-07-15 00:56:21,008 INFO status has been updated to successful\n"
     ]
    },
    {
     "data": {
      "application/vnd.jupyter.widget-view+json": {
       "model_id": "",
       "version_major": 2,
       "version_minor": 0
      },
      "text/plain": [
       "dfd56fedae9f8e08d4b02c59f9afb8d5.grib:   0%|          | 0.00/3.17M [00:00<?, ?B/s]"
      ]
     },
     "metadata": {},
     "output_type": "display_data"
    },
    {
     "name": "stdout",
     "output_type": "stream",
     "text": [
      "✅ Finished 2004 in 870.60 seconds\n",
      "\n",
      "⬇️ Downloading 10m_u_component_of_wind for 2003...\n"
     ]
    },
    {
     "name": "stderr",
     "output_type": "stream",
     "text": [
      "2025-07-15 00:56:24,224 INFO Request ID is 9a826dab-e037-4f88-b586-750bfdd48109\n",
      "2025-07-15 00:56:24,388 INFO status has been updated to accepted\n",
      "2025-07-15 00:56:29,650 INFO status has been updated to running\n",
      "2025-07-15 01:08:47,940 INFO status has been updated to successful\n"
     ]
    },
    {
     "data": {
      "application/vnd.jupyter.widget-view+json": {
       "model_id": "",
       "version_major": 2,
       "version_minor": 0
      },
      "text/plain": [
       "8b255605341cc594c0fa81ff7369b468.grib:   0%|          | 0.00/3.16M [00:00<?, ?B/s]"
      ]
     },
     "metadata": {},
     "output_type": "display_data"
    },
    {
     "name": "stdout",
     "output_type": "stream",
     "text": [
      "✅ Finished 2003 in 747.33 seconds\n",
      "\n",
      "⬇️ Downloading 10m_u_component_of_wind for 2002...\n"
     ]
    },
    {
     "name": "stderr",
     "output_type": "stream",
     "text": [
      "2025-07-15 01:08:51,640 INFO Request ID is fe1ae77f-93c0-4b35-9c0c-ccab7431b95e\n",
      "2025-07-15 01:08:51,803 INFO status has been updated to accepted\n",
      "2025-07-15 01:09:00,548 INFO status has been updated to running\n",
      "2025-07-15 01:09:06,090 INFO status has been updated to successful\n"
     ]
    },
    {
     "data": {
      "application/vnd.jupyter.widget-view+json": {
       "model_id": "",
       "version_major": 2,
       "version_minor": 0
      },
      "text/plain": [
       "b1d4d1ed976532870c9a7ca8655020c7.grib:   0%|          | 0.00/3.16M [00:00<?, ?B/s]"
      ]
     },
     "metadata": {},
     "output_type": "display_data"
    },
    {
     "name": "stdout",
     "output_type": "stream",
     "text": [
      "✅ Finished 2002 in 17.47 seconds\n",
      "\n",
      "⬇️ Downloading 10m_u_component_of_wind for 2001...\n"
     ]
    },
    {
     "name": "stderr",
     "output_type": "stream",
     "text": [
      "2025-07-15 01:09:09,061 INFO Request ID is 9cef1d98-0995-4330-b0b5-ea1028ee264f\n",
      "2025-07-15 01:09:09,234 INFO status has been updated to accepted\n",
      "2025-07-15 01:09:18,317 INFO status has been updated to successful\n"
     ]
    },
    {
     "data": {
      "application/vnd.jupyter.widget-view+json": {
       "model_id": "",
       "version_major": 2,
       "version_minor": 0
      },
      "text/plain": [
       "4ed6df7aaaf14f5829cb81f3ef04313a.grib:   0%|          | 0.00/3.16M [00:00<?, ?B/s]"
      ]
     },
     "metadata": {},
     "output_type": "display_data"
    },
    {
     "name": "stdout",
     "output_type": "stream",
     "text": [
      "✅ Finished 2001 in 12.06 seconds\n",
      "\n",
      "⬇️ Downloading 10m_u_component_of_wind for 2000...\n"
     ]
    },
    {
     "name": "stderr",
     "output_type": "stream",
     "text": [
      "2025-07-15 01:09:21,144 INFO Request ID is ebfcf203-4ae7-43c4-8493-83db13d07030\n",
      "2025-07-15 01:09:21,288 INFO status has been updated to accepted\n",
      "2025-07-15 01:09:30,139 INFO status has been updated to running\n",
      "2025-07-15 01:21:44,976 INFO status has been updated to successful\n"
     ]
    },
    {
     "data": {
      "application/vnd.jupyter.widget-view+json": {
       "model_id": "",
       "version_major": 2,
       "version_minor": 0
      },
      "text/plain": [
       "1b0dcfc1d90bbaf6db64931331acc349.grib:   0%|          | 0.00/3.17M [00:00<?, ?B/s]"
      ]
     },
     "metadata": {},
     "output_type": "display_data"
    },
    {
     "name": "stdout",
     "output_type": "stream",
     "text": [
      "✅ Finished 2000 in 746.85 seconds\n",
      "\n",
      "⏱️ Total time for 10m_u_component_of_wind: 6639.75 seconds\n"
     ]
    },
    {
     "name": "stderr",
     "output_type": "stream",
     "text": [
      "2025-07-15 01:21:47,631 INFO [2024-09-26T00:00:00] Watch our [Forum](https://forum.ecmwf.int/) for Announcements, news and other discussed topics.\n"
     ]
    },
    {
     "name": "stdout",
     "output_type": "stream",
     "text": [
      "\n",
      "⬇️ Downloading 10m_v_component_of_wind for 2010...\n"
     ]
    },
    {
     "name": "stderr",
     "output_type": "stream",
     "text": [
      "2025-07-15 01:21:48,339 INFO Request ID is 599b9182-5bba-45fb-8015-9f1e9da5e58a\n",
      "2025-07-15 01:21:48,523 INFO status has been updated to accepted\n",
      "2025-07-15 01:22:02,662 INFO status has been updated to running\n",
      "2025-07-15 01:34:11,344 INFO status has been updated to successful\n"
     ]
    },
    {
     "data": {
      "application/vnd.jupyter.widget-view+json": {
       "model_id": "",
       "version_major": 2,
       "version_minor": 0
      },
      "text/plain": [
       "a105da331a31266bbdfb0bf320d7ebb2.grib:   0%|          | 0.00/3.16M [00:00<?, ?B/s]"
      ]
     },
     "metadata": {},
     "output_type": "display_data"
    },
    {
     "name": "stdout",
     "output_type": "stream",
     "text": [
      "✅ Finished 2010 in 749.05 seconds\n",
      "\n",
      "⬇️ Downloading 10m_v_component_of_wind for 2009...\n"
     ]
    },
    {
     "name": "stderr",
     "output_type": "stream",
     "text": [
      "2025-07-15 01:34:17,305 INFO Request ID is 88d8822e-537b-4194-8286-16f30e11cf6d\n",
      "2025-07-15 01:34:17,468 INFO status has been updated to accepted\n",
      "2025-07-15 01:34:26,743 INFO status has been updated to running\n",
      "2025-07-15 01:48:41,654 INFO status has been updated to successful\n"
     ]
    },
    {
     "data": {
      "application/vnd.jupyter.widget-view+json": {
       "model_id": "",
       "version_major": 2,
       "version_minor": 0
      },
      "text/plain": [
       "274902066862769c6c040c025bdf2001.grib:   0%|          | 0.00/3.16M [00:00<?, ?B/s]"
      ]
     },
     "metadata": {},
     "output_type": "display_data"
    },
    {
     "name": "stdout",
     "output_type": "stream",
     "text": [
      "✅ Finished 2009 in 867.26 seconds\n",
      "\n",
      "⬇️ Downloading 10m_v_component_of_wind for 2008...\n"
     ]
    },
    {
     "name": "stderr",
     "output_type": "stream",
     "text": [
      "2025-07-15 01:48:44,668 INFO Request ID is 765bc4c2-e4a2-44ee-a83f-2ffce10174cc\n",
      "2025-07-15 01:48:44,827 INFO status has been updated to accepted\n",
      "2025-07-15 01:48:53,636 INFO status has been updated to running\n",
      "2025-07-15 02:03:10,302 INFO status has been updated to successful\n"
     ]
    },
    {
     "data": {
      "application/vnd.jupyter.widget-view+json": {
       "model_id": "",
       "version_major": 2,
       "version_minor": 0
      },
      "text/plain": [
       "3ce287d88aa893dac705a6eb5e353550.grib:   0%|          | 0.00/3.17M [00:00<?, ?B/s]"
      ]
     },
     "metadata": {},
     "output_type": "display_data"
    },
    {
     "name": "stdout",
     "output_type": "stream",
     "text": [
      "✅ Finished 2008 in 869.04 seconds\n",
      "\n",
      "⬇️ Downloading 10m_v_component_of_wind for 2007...\n"
     ]
    },
    {
     "name": "stderr",
     "output_type": "stream",
     "text": [
      "2025-07-15 02:03:13,760 INFO Request ID is 6a12324e-ae20-4bbc-ba82-5c9eb19f8e4b\n",
      "2025-07-15 02:03:14,022 INFO status has been updated to accepted\n",
      "2025-07-15 02:03:22,918 INFO status has been updated to running\n",
      "2025-07-15 02:17:40,100 INFO status has been updated to successful\n"
     ]
    },
    {
     "data": {
      "application/vnd.jupyter.widget-view+json": {
       "model_id": "",
       "version_major": 2,
       "version_minor": 0
      },
      "text/plain": [
       "f87ad6421b681edad97e41ab4539ef9a.grib:   0%|          | 0.00/3.16M [00:00<?, ?B/s]"
      ]
     },
     "metadata": {},
     "output_type": "display_data"
    },
    {
     "name": "stdout",
     "output_type": "stream",
     "text": [
      "✅ Finished 2007 in 869.28 seconds\n",
      "\n",
      "⬇️ Downloading 10m_v_component_of_wind for 2006...\n"
     ]
    },
    {
     "name": "stderr",
     "output_type": "stream",
     "text": [
      "2025-07-15 02:17:43,309 INFO Request ID is 4642e93a-17d5-4ec3-9e7d-754aae0cf88a\n",
      "2025-07-15 02:17:43,485 INFO status has been updated to accepted\n",
      "2025-07-15 02:19:00,066 INFO status has been updated to running\n",
      "2025-07-15 02:30:06,672 INFO status has been updated to successful\n"
     ]
    },
    {
     "data": {
      "application/vnd.jupyter.widget-view+json": {
       "model_id": "",
       "version_major": 2,
       "version_minor": 0
      },
      "text/plain": [
       "1453b18cb6c0e25b31ed7ba840cd6428.grib:   0%|          | 0.00/3.16M [00:00<?, ?B/s]"
      ]
     },
     "metadata": {},
     "output_type": "display_data"
    },
    {
     "name": "stdout",
     "output_type": "stream",
     "text": [
      "✅ Finished 2006 in 746.68 seconds\n",
      "\n",
      "⬇️ Downloading 10m_v_component_of_wind for 2005...\n"
     ]
    },
    {
     "name": "stderr",
     "output_type": "stream",
     "text": [
      "2025-07-15 02:30:09,888 INFO Request ID is 377b9452-82ed-4505-b76d-58cb304c9765\n",
      "2025-07-15 02:30:10,047 INFO status has been updated to accepted\n",
      "2025-07-15 02:30:24,904 INFO status has been updated to running\n",
      "2025-07-15 02:42:33,493 INFO status has been updated to successful\n"
     ]
    },
    {
     "data": {
      "application/vnd.jupyter.widget-view+json": {
       "model_id": "",
       "version_major": 2,
       "version_minor": 0
      },
      "text/plain": [
       "c5d49d5a30f21a00bf4ad87c075d5f19.grib:   0%|          | 0.00/3.16M [00:00<?, ?B/s]"
      ]
     },
     "metadata": {},
     "output_type": "display_data"
    },
    {
     "name": "stdout",
     "output_type": "stream",
     "text": [
      "✅ Finished 2005 in 746.98 seconds\n",
      "\n",
      "⬇️ Downloading 10m_v_component_of_wind for 2004...\n"
     ]
    },
    {
     "name": "stderr",
     "output_type": "stream",
     "text": [
      "2025-07-15 02:42:36,754 INFO Request ID is 3d845166-28a1-4c24-8ff8-ba4d3f192809\n",
      "2025-07-15 02:42:37,021 INFO status has been updated to accepted\n",
      "2025-07-15 02:42:51,055 INFO status has been updated to running\n",
      "2025-07-15 02:55:00,775 INFO status has been updated to successful\n"
     ]
    },
    {
     "data": {
      "application/vnd.jupyter.widget-view+json": {
       "model_id": "",
       "version_major": 2,
       "version_minor": 0
      },
      "text/plain": [
       "c04589f71ba6015c6c7f6d9c09dc9170.grib:   0%|          | 0.00/3.17M [00:00<?, ?B/s]"
      ]
     },
     "metadata": {},
     "output_type": "display_data"
    },
    {
     "name": "stdout",
     "output_type": "stream",
     "text": [
      "✅ Finished 2004 in 747.22 seconds\n",
      "\n",
      "⬇️ Downloading 10m_v_component_of_wind for 2003...\n"
     ]
    },
    {
     "name": "stderr",
     "output_type": "stream",
     "text": [
      "2025-07-15 02:55:04,044 INFO Request ID is a7a55d4f-380b-4e51-8153-5a2a1b377eac\n",
      "2025-07-15 02:55:04,439 INFO status has been updated to accepted\n",
      "2025-07-15 02:55:13,379 INFO status has been updated to running\n",
      "2025-07-15 03:07:28,560 INFO status has been updated to successful\n"
     ]
    },
    {
     "data": {
      "application/vnd.jupyter.widget-view+json": {
       "model_id": "",
       "version_major": 2,
       "version_minor": 0
      },
      "text/plain": [
       "b209a283cd68059867eb1141690813b5.grib:   0%|          | 0.00/3.16M [00:00<?, ?B/s]"
      ]
     },
     "metadata": {},
     "output_type": "display_data"
    },
    {
     "name": "stdout",
     "output_type": "stream",
     "text": [
      "✅ Finished 2003 in 748.01 seconds\n",
      "\n",
      "⬇️ Downloading 10m_v_component_of_wind for 2002...\n"
     ]
    },
    {
     "name": "stderr",
     "output_type": "stream",
     "text": [
      "2025-07-15 03:07:31,947 INFO Request ID is e8b1dd34-2280-4fdc-bdf4-72170e5fabde\n",
      "2025-07-15 03:07:32,172 INFO status has been updated to accepted\n",
      "2025-07-15 03:09:27,352 INFO status has been updated to successful\n"
     ]
    },
    {
     "data": {
      "application/vnd.jupyter.widget-view+json": {
       "model_id": "",
       "version_major": 2,
       "version_minor": 0
      },
      "text/plain": [
       "b1c78fc503e3fc52dbe099068bd5c1a9.grib:   0%|          | 0.00/3.16M [00:00<?, ?B/s]"
      ]
     },
     "metadata": {},
     "output_type": "display_data"
    },
    {
     "name": "stdout",
     "output_type": "stream",
     "text": [
      "✅ Finished 2002 in 118.87 seconds\n",
      "\n",
      "⬇️ Downloading 10m_v_component_of_wind for 2001...\n"
     ]
    },
    {
     "name": "stderr",
     "output_type": "stream",
     "text": [
      "2025-07-15 03:09:31,137 INFO Request ID is e9d38fd0-a6a9-44fa-b433-bb3dd91076b9\n",
      "2025-07-15 03:09:31,297 INFO status has been updated to accepted\n",
      "2025-07-15 03:11:26,544 INFO status has been updated to successful\n"
     ]
    },
    {
     "data": {
      "application/vnd.jupyter.widget-view+json": {
       "model_id": "",
       "version_major": 2,
       "version_minor": 0
      },
      "text/plain": [
       "96d20f9149053a65f9025817a5e6c1f3.grib:   0%|          | 0.00/3.16M [00:00<?, ?B/s]"
      ]
     },
     "metadata": {},
     "output_type": "display_data"
    },
    {
     "name": "stdout",
     "output_type": "stream",
     "text": [
      "✅ Finished 2001 in 118.74 seconds\n",
      "\n",
      "⬇️ Downloading 10m_v_component_of_wind for 2000...\n"
     ]
    },
    {
     "name": "stderr",
     "output_type": "stream",
     "text": [
      "2025-07-15 03:11:29,610 INFO Request ID is 6494a0de-1032-47d3-96ae-41ff63a49aa9\n",
      "2025-07-15 03:11:29,778 INFO status has been updated to accepted\n",
      "2025-07-15 03:12:21,021 INFO status has been updated to running\n",
      "2025-07-15 03:25:56,720 INFO status has been updated to successful\n"
     ]
    },
    {
     "data": {
      "application/vnd.jupyter.widget-view+json": {
       "model_id": "",
       "version_major": 2,
       "version_minor": 0
      },
      "text/plain": [
       "f29851f22f3c95ea35c02d606efe348d.grib:   0%|          | 0.00/3.17M [00:00<?, ?B/s]"
      ]
     },
     "metadata": {},
     "output_type": "display_data"
    },
    {
     "name": "stdout",
     "output_type": "stream",
     "text": [
      "✅ Finished 2000 in 871.75 seconds\n",
      "\n",
      "⏱️ Total time for 10m_v_component_of_wind: 7452.90 seconds\n"
     ]
    },
    {
     "name": "stderr",
     "output_type": "stream",
     "text": [
      "2025-07-15 03:26:00,950 INFO [2024-09-26T00:00:00] Watch our [Forum](https://forum.ecmwf.int/) for Announcements, news and other discussed topics.\n"
     ]
    },
    {
     "name": "stdout",
     "output_type": "stream",
     "text": [
      "\n",
      "⬇️ Downloading surface_solar_radiation_downwards for 2010...\n"
     ]
    },
    {
     "name": "stderr",
     "output_type": "stream",
     "text": [
      "2025-07-15 03:26:01,816 INFO Request ID is c82d1b80-9fdc-4384-ae74-a4b741a432f0\n",
      "2025-07-15 03:26:01,974 INFO status has been updated to accepted\n",
      "2025-07-15 03:42:28,021 INFO status has been updated to running\n",
      "2025-07-15 03:54:32,743 INFO status has been updated to successful\n"
     ]
    },
    {
     "data": {
      "application/vnd.jupyter.widget-view+json": {
       "model_id": "",
       "version_major": 2,
       "version_minor": 0
      },
      "text/plain": [
       "a2940c008464b64739d90252f5be1543.grib:   0%|          | 0.00/3.16M [00:00<?, ?B/s]"
      ]
     },
     "metadata": {},
     "output_type": "display_data"
    },
    {
     "name": "stdout",
     "output_type": "stream",
     "text": [
      "✅ Finished 2010 in 1714.14 seconds\n",
      "\n",
      "⬇️ Downloading surface_solar_radiation_downwards for 2009...\n"
     ]
    },
    {
     "name": "stderr",
     "output_type": "stream",
     "text": [
      "2025-07-15 03:54:36,332 INFO Request ID is eb8dc646-c41e-4f66-b8ac-cbebf6fb5d81\n",
      "2025-07-15 03:54:36,488 INFO status has been updated to accepted\n",
      "2025-07-15 03:56:31,955 INFO status has been updated to running\n",
      "2025-07-15 04:09:02,067 INFO status has been updated to successful\n"
     ]
    },
    {
     "data": {
      "application/vnd.jupyter.widget-view+json": {
       "model_id": "",
       "version_major": 2,
       "version_minor": 0
      },
      "text/plain": [
       "58660f20d140bdefbc886a58a2fc6bb.grib:   0%|          | 0.00/3.16M [00:00<?, ?B/s]"
      ]
     },
     "metadata": {},
     "output_type": "display_data"
    },
    {
     "name": "stdout",
     "output_type": "stream",
     "text": [
      "✅ Finished 2009 in 869.70 seconds\n",
      "\n",
      "⬇️ Downloading surface_solar_radiation_downwards for 2008...\n"
     ]
    },
    {
     "name": "stderr",
     "output_type": "stream",
     "text": [
      "2025-07-15 04:09:05,448 INFO Request ID is efb983f9-881e-4f86-b747-f4bd11256815\n",
      "2025-07-15 04:09:05,622 INFO status has been updated to accepted\n",
      "2025-07-15 04:09:39,012 INFO status has been updated to running\n",
      "2025-07-15 04:33:32,867 INFO status has been updated to successful\n"
     ]
    },
    {
     "data": {
      "application/vnd.jupyter.widget-view+json": {
       "model_id": "",
       "version_major": 2,
       "version_minor": 0
      },
      "text/plain": [
       "9892b8632be524a33ec7e532d07c13f5.grib:   0%|          | 0.00/3.17M [00:00<?, ?B/s]"
      ]
     },
     "metadata": {},
     "output_type": "display_data"
    },
    {
     "name": "stdout",
     "output_type": "stream",
     "text": [
      "✅ Finished 2008 in 1470.46 seconds\n",
      "\n",
      "⬇️ Downloading surface_solar_radiation_downwards for 2007...\n"
     ]
    },
    {
     "name": "stderr",
     "output_type": "stream",
     "text": [
      "2025-07-15 04:33:36,130 INFO Request ID is e6089d01-af4b-4ca8-ba8d-e01703bbb745\n",
      "2025-07-15 04:33:36,306 INFO status has been updated to accepted\n",
      "2025-07-15 04:37:58,702 INFO status has been updated to running\n",
      "2025-07-15 04:50:05,836 INFO status has been updated to successful\n"
     ]
    },
    {
     "data": {
      "application/vnd.jupyter.widget-view+json": {
       "model_id": "",
       "version_major": 2,
       "version_minor": 0
      },
      "text/plain": [
       "b1d7f494ea5de25ee2cfc22a8e06079e.grib:   0%|          | 0.00/3.16M [00:00<?, ?B/s]"
      ]
     },
     "metadata": {},
     "output_type": "display_data"
    },
    {
     "name": "stdout",
     "output_type": "stream",
     "text": [
      "✅ Finished 2007 in 993.46 seconds\n",
      "\n",
      "⬇️ Downloading surface_solar_radiation_downwards for 2006...\n"
     ]
    },
    {
     "name": "stderr",
     "output_type": "stream",
     "text": [
      "2025-07-15 04:50:09,430 INFO Request ID is c28ba67f-cf3c-4a56-a7b4-fd00d51a0834\n",
      "2025-07-15 04:50:09,593 INFO status has been updated to accepted\n",
      "2025-07-15 04:54:33,943 INFO status has been updated to running\n",
      "2025-07-15 05:06:38,325 INFO status has been updated to successful\n"
     ]
    },
    {
     "data": {
      "application/vnd.jupyter.widget-view+json": {
       "model_id": "",
       "version_major": 2,
       "version_minor": 0
      },
      "text/plain": [
       "20c835fbbc4c45f4028f034bb8ec7032.grib:   0%|          | 0.00/3.16M [00:00<?, ?B/s]"
      ]
     },
     "metadata": {},
     "output_type": "display_data"
    },
    {
     "name": "stdout",
     "output_type": "stream",
     "text": [
      "✅ Finished 2006 in 991.80 seconds\n",
      "\n",
      "⬇️ Downloading surface_solar_radiation_downwards for 2005...\n"
     ]
    },
    {
     "name": "stderr",
     "output_type": "stream",
     "text": [
      "2025-07-15 05:06:41,647 INFO Request ID is 3bc3c261-5736-41ed-9c00-74269b03e956\n",
      "2025-07-15 05:06:41,885 INFO status has been updated to accepted\n",
      "2025-07-15 05:17:04,765 INFO status has been updated to running\n",
      "2025-07-15 05:27:08,853 INFO status has been updated to successful\n"
     ]
    },
    {
     "data": {
      "application/vnd.jupyter.widget-view+json": {
       "model_id": "",
       "version_major": 2,
       "version_minor": 0
      },
      "text/plain": [
       "252113abaf0c8822a6bbbb3c0385c893.grib:   0%|          | 0.00/3.16M [00:00<?, ?B/s]"
      ]
     },
     "metadata": {},
     "output_type": "display_data"
    },
    {
     "name": "stdout",
     "output_type": "stream",
     "text": [
      "✅ Finished 2005 in 1230.82 seconds\n",
      "\n",
      "⬇️ Downloading surface_solar_radiation_downwards for 2004...\n"
     ]
    },
    {
     "name": "stderr",
     "output_type": "stream",
     "text": [
      "2025-07-15 05:27:12,066 INFO Request ID is 0610aea4-14e5-4ce5-8480-0ec2c9690113\n",
      "2025-07-15 05:27:12,215 INFO status has been updated to accepted\n",
      "2025-07-15 06:11:50,253 INFO status has been updated to running\n",
      "2025-07-15 06:19:54,559 INFO status has been updated to accepted\n",
      "2025-07-15 06:23:55,716 INFO status has been updated to running\n",
      "2025-07-15 06:35:59,158 INFO status has been updated to successful\n"
     ]
    },
    {
     "data": {
      "application/vnd.jupyter.widget-view+json": {
       "model_id": "",
       "version_major": 2,
       "version_minor": 0
      },
      "text/plain": [
       "46149d32907c35071a2ef3ce4b2fb02b.grib:   0%|          | 0.00/3.17M [00:00<?, ?B/s]"
      ]
     },
     "metadata": {},
     "output_type": "display_data"
    },
    {
     "name": "stdout",
     "output_type": "stream",
     "text": [
      "✅ Finished 2004 in 4130.53 seconds\n",
      "\n",
      "⬇️ Downloading surface_solar_radiation_downwards for 2003...\n"
     ]
    },
    {
     "name": "stderr",
     "output_type": "stream",
     "text": [
      "2025-07-15 06:36:02,446 INFO Request ID is 6289dcba-6013-44e7-a592-ebdc4fee84df\n",
      "2025-07-15 06:36:02,605 INFO status has been updated to accepted\n",
      "2025-07-15 06:38:56,068 INFO status has been updated to running\n",
      "2025-07-15 06:50:29,824 INFO status has been updated to accepted\n",
      "2025-07-15 06:56:33,022 INFO status has been updated to running\n",
      "2025-07-15 07:10:43,061 INFO status has been updated to successful\n"
     ]
    },
    {
     "data": {
      "application/vnd.jupyter.widget-view+json": {
       "model_id": "",
       "version_major": 2,
       "version_minor": 0
      },
      "text/plain": [
       "142b7d333dc0f4415ebc9cdfff86c495.grib:   0%|          | 0.00/3.16M [00:00<?, ?B/s]"
      ]
     },
     "metadata": {},
     "output_type": "display_data"
    },
    {
     "name": "stdout",
     "output_type": "stream",
     "text": [
      "✅ Finished 2003 in 2085.22 seconds\n",
      "\n",
      "⬇️ Downloading surface_solar_radiation_downwards for 2002...\n"
     ]
    },
    {
     "name": "stderr",
     "output_type": "stream",
     "text": [
      "2025-07-15 07:10:49,149 INFO Request ID is 8c0a3fc8-ac25-464f-a18f-0d1cbbe36fd0\n",
      "2025-07-15 07:10:49,286 INFO status has been updated to accepted\n",
      "2025-07-15 07:15:10,416 INFO status has been updated to running\n",
      "2025-07-15 07:27:14,705 INFO status has been updated to successful\n"
     ]
    },
    {
     "data": {
      "application/vnd.jupyter.widget-view+json": {
       "model_id": "",
       "version_major": 2,
       "version_minor": 0
      },
      "text/plain": [
       "ed6b59920a59862fd7637dbec75f3a0e.grib:   0%|          | 0.00/3.16M [00:00<?, ?B/s]"
      ]
     },
     "metadata": {},
     "output_type": "display_data"
    },
    {
     "name": "stdout",
     "output_type": "stream",
     "text": [
      "✅ Finished 2002 in 989.91 seconds\n",
      "\n",
      "⬇️ Downloading surface_solar_radiation_downwards for 2001...\n"
     ]
    },
    {
     "name": "stderr",
     "output_type": "stream",
     "text": [
      "2025-07-15 07:27:17,592 INFO Request ID is 4c246ea9-e111-447e-9e8b-d468daa556e6\n",
      "2025-07-15 07:27:17,763 INFO status has been updated to accepted\n",
      "2025-07-15 07:35:39,145 INFO status has been updated to running\n",
      "2025-07-15 07:47:46,227 INFO status has been updated to successful\n"
     ]
    },
    {
     "data": {
      "application/vnd.jupyter.widget-view+json": {
       "model_id": "",
       "version_major": 2,
       "version_minor": 0
      },
      "text/plain": [
       "a265e6a7d1566539c0fbf6b2338eef7b.grib:   0%|          | 0.00/3.16M [00:00<?, ?B/s]"
      ]
     },
     "metadata": {},
     "output_type": "display_data"
    },
    {
     "name": "stdout",
     "output_type": "stream",
     "text": [
      "✅ Finished 2001 in 1231.99 seconds\n",
      "\n",
      "⬇️ Downloading surface_solar_radiation_downwards for 2000...\n"
     ]
    },
    {
     "name": "stderr",
     "output_type": "stream",
     "text": [
      "2025-07-15 07:47:49,711 INFO Request ID is a58ea211-f439-4a4b-b258-d63bee0bafb0\n",
      "2025-07-15 07:47:50,020 INFO status has been updated to accepted\n",
      "2025-07-15 07:50:43,289 INFO status has been updated to running\n",
      "2025-07-15 08:04:14,277 INFO status has been updated to successful\n"
     ]
    },
    {
     "data": {
      "application/vnd.jupyter.widget-view+json": {
       "model_id": "",
       "version_major": 2,
       "version_minor": 0
      },
      "text/plain": [
       "679d57dc3bd1c21dc3b5698137d0064a.grib:   0%|          | 0.00/3.17M [00:00<?, ?B/s]"
      ]
     },
     "metadata": {},
     "output_type": "display_data"
    },
    {
     "name": "stdout",
     "output_type": "stream",
     "text": [
      "✅ Finished 2000 in 988.21 seconds\n",
      "\n",
      "⏱️ Total time for surface_solar_radiation_downwards: 16696.25 seconds\n"
     ]
    },
    {
     "name": "stderr",
     "output_type": "stream",
     "text": [
      "2025-07-15 08:04:17,592 INFO [2024-09-26T00:00:00] Watch our [Forum](https://forum.ecmwf.int/) for Announcements, news and other discussed topics.\n"
     ]
    },
    {
     "name": "stdout",
     "output_type": "stream",
     "text": [
      "\n",
      "⬇️ Downloading potential_evaporation for 2010...\n"
     ]
    },
    {
     "name": "stderr",
     "output_type": "stream",
     "text": [
      "2025-07-15 08:04:18,356 INFO Request ID is d55d0564-31ed-43ee-893e-d979f216159d\n",
      "2025-07-15 08:04:18,545 INFO status has been updated to accepted\n",
      "2025-07-15 08:10:42,642 INFO status has been updated to running\n",
      "2025-07-15 08:32:49,115 INFO status has been updated to successful\n"
     ]
    },
    {
     "data": {
      "application/vnd.jupyter.widget-view+json": {
       "model_id": "",
       "version_major": 2,
       "version_minor": 0
      },
      "text/plain": [
       "1488cd3ed06232c824e637197d47a906.grib:   0%|          | 0.00/3.16M [00:00<?, ?B/s]"
      ]
     },
     "metadata": {},
     "output_type": "display_data"
    },
    {
     "name": "stdout",
     "output_type": "stream",
     "text": [
      "✅ Finished 2010 in 1713.74 seconds\n",
      "\n",
      "⬇️ Downloading potential_evaporation for 2009...\n"
     ]
    },
    {
     "name": "stderr",
     "output_type": "stream",
     "text": [
      "2025-07-15 08:32:52,068 INFO Request ID is c1c4e9a6-e1bc-474a-b941-2674196f0065\n",
      "2025-07-15 08:32:52,241 INFO status has been updated to accepted\n",
      "2025-07-15 09:03:24,183 INFO status has been updated to running\n",
      "2025-07-15 09:17:29,586 INFO status has been updated to successful\n"
     ]
    },
    {
     "data": {
      "application/vnd.jupyter.widget-view+json": {
       "model_id": "",
       "version_major": 2,
       "version_minor": 0
      },
      "text/plain": [
       "95f395471474c21cb5e89403925b04dd.grib:   0%|          | 0.00/3.16M [00:00<?, ?B/s]"
      ]
     },
     "metadata": {},
     "output_type": "display_data"
    },
    {
     "name": "stdout",
     "output_type": "stream",
     "text": [
      "✅ Finished 2009 in 2681.74 seconds\n",
      "\n",
      "⬇️ Downloading potential_evaporation for 2008...\n"
     ]
    },
    {
     "name": "stderr",
     "output_type": "stream",
     "text": [
      "2025-07-15 09:17:33,891 INFO Request ID is 19428668-4b1a-4923-998f-c8313b4310f1\n",
      "2025-07-15 09:17:34,106 INFO status has been updated to accepted\n",
      "2025-07-15 10:24:17,880 INFO status has been updated to running\n",
      "2025-07-15 10:36:25,356 INFO status has been updated to successful\n"
     ]
    },
    {
     "data": {
      "application/vnd.jupyter.widget-view+json": {
       "model_id": "",
       "version_major": 2,
       "version_minor": 0
      },
      "text/plain": [
       "d564d3face4645b1e341a3476f5e3240.grib:   0%|          | 0.00/3.17M [00:00<?, ?B/s]"
      ]
     },
     "metadata": {},
     "output_type": "display_data"
    },
    {
     "name": "stdout",
     "output_type": "stream",
     "text": [
      "✅ Finished 2008 in 4734.74 seconds\n",
      "\n",
      "⬇️ Downloading potential_evaporation for 2007...\n"
     ]
    },
    {
     "name": "stderr",
     "output_type": "stream",
     "text": [
      "2025-07-15 10:36:28,687 INFO Request ID is ff86206b-b055-436a-b68d-cae50aba8e8d\n",
      "2025-07-15 10:36:28,858 INFO status has been updated to accepted\n",
      "2025-07-15 10:50:54,128 INFO status has been updated to running\n",
      "2025-07-15 11:04:58,231 INFO status has been updated to successful\n"
     ]
    },
    {
     "data": {
      "application/vnd.jupyter.widget-view+json": {
       "model_id": "",
       "version_major": 2,
       "version_minor": 0
      },
      "text/plain": [
       "27555d317ce257329d0d5b5d12b38bb6.grib:   0%|          | 0.00/3.16M [00:00<?, ?B/s]"
      ]
     },
     "metadata": {},
     "output_type": "display_data"
    },
    {
     "name": "stdout",
     "output_type": "stream",
     "text": [
      "✅ Finished 2007 in 1712.88 seconds\n",
      "\n",
      "⬇️ Downloading potential_evaporation for 2006...\n"
     ]
    },
    {
     "name": "stderr",
     "output_type": "stream",
     "text": [
      "2025-07-15 11:05:01,453 INFO Request ID is 42d6f3d0-22c5-47a1-97d0-c643f871d18f\n",
      "2025-07-15 11:05:01,616 INFO status has been updated to accepted\n",
      "2025-07-15 11:11:24,359 INFO status has been updated to running\n",
      "2025-07-15 11:21:29,367 INFO status has been updated to successful\n"
     ]
    },
    {
     "data": {
      "application/vnd.jupyter.widget-view+json": {
       "model_id": "",
       "version_major": 2,
       "version_minor": 0
      },
      "text/plain": [
       "4d4253438377cc5a9f3335076790150e.grib:   0%|          | 0.00/3.16M [00:00<?, ?B/s]"
      ]
     },
     "metadata": {},
     "output_type": "display_data"
    },
    {
     "name": "stdout",
     "output_type": "stream",
     "text": [
      "✅ Finished 2006 in 991.22 seconds\n",
      "\n",
      "⬇️ Downloading potential_evaporation for 2005...\n"
     ]
    },
    {
     "name": "stderr",
     "output_type": "stream",
     "text": [
      "2025-07-15 11:21:32,488 INFO Request ID is 24280cc6-57a2-4c0a-84b4-b23bce7a7a0e\n",
      "2025-07-15 11:21:32,733 INFO status has been updated to accepted\n",
      "2025-07-15 12:00:03,754 INFO status has been updated to successful\n"
     ]
    },
    {
     "data": {
      "application/vnd.jupyter.widget-view+json": {
       "model_id": "",
       "version_major": 2,
       "version_minor": 0
      },
      "text/plain": [
       "6db5e9e993c340db4e53a2aaa65d8427.grib:   0%|          | 0.00/3.16M [00:00<?, ?B/s]"
      ]
     },
     "metadata": {},
     "output_type": "display_data"
    },
    {
     "name": "stdout",
     "output_type": "stream",
     "text": [
      "✅ Finished 2005 in 2314.28 seconds\n",
      "\n",
      "⬇️ Downloading potential_evaporation for 2004...\n"
     ]
    },
    {
     "name": "stderr",
     "output_type": "stream",
     "text": [
      "2025-07-15 12:00:06,928 INFO Request ID is ec78a8ab-87b4-4657-95e2-1e83db240e03\n",
      "2025-07-15 12:00:07,138 INFO status has been updated to accepted\n",
      "2025-07-15 12:08:29,089 INFO status has been updated to successful\n"
     ]
    },
    {
     "data": {
      "application/vnd.jupyter.widget-view+json": {
       "model_id": "",
       "version_major": 2,
       "version_minor": 0
      },
      "text/plain": [
       "773b4addf6538e0321493d2d9e37dc2a.grib:   0%|          | 0.00/3.17M [00:00<?, ?B/s]"
      ]
     },
     "metadata": {},
     "output_type": "display_data"
    },
    {
     "name": "stdout",
     "output_type": "stream",
     "text": [
      "✅ Finished 2004 in 505.28 seconds\n",
      "\n",
      "⬇️ Downloading potential_evaporation for 2003...\n"
     ]
    },
    {
     "name": "stderr",
     "output_type": "stream",
     "text": [
      "2025-07-15 12:08:32,154 INFO Request ID is 1f378f88-df37-4379-9094-d9b882e6aed5\n",
      "2025-07-15 12:08:32,396 INFO status has been updated to accepted\n",
      "2025-07-15 12:09:22,999 INFO status has been updated to successful\n"
     ]
    },
    {
     "data": {
      "application/vnd.jupyter.widget-view+json": {
       "model_id": "",
       "version_major": 2,
       "version_minor": 0
      },
      "text/plain": [
       "e5709f99fe9bf2d4fa6b0434d8844944.grib:   0%|          | 0.00/3.16M [00:00<?, ?B/s]"
      ]
     },
     "metadata": {},
     "output_type": "display_data"
    },
    {
     "name": "stdout",
     "output_type": "stream",
     "text": [
      "✅ Finished 2003 in 53.66 seconds\n",
      "\n",
      "⬇️ Downloading potential_evaporation for 2002...\n"
     ]
    },
    {
     "name": "stderr",
     "output_type": "stream",
     "text": [
      "2025-07-15 12:09:25,758 INFO Request ID is 401527bd-dd4b-4440-86dd-cb505319bed8\n",
      "2025-07-15 12:09:25,932 INFO status has been updated to accepted\n",
      "2025-07-15 12:11:21,171 INFO status has been updated to running\n",
      "2025-07-15 12:25:50,910 INFO status has been updated to successful\n"
     ]
    },
    {
     "data": {
      "application/vnd.jupyter.widget-view+json": {
       "model_id": "",
       "version_major": 2,
       "version_minor": 0
      },
      "text/plain": [
       "885cf7832dcabeda49a9913bc4cc4239.grib:   0%|          | 0.00/3.16M [00:00<?, ?B/s]"
      ]
     },
     "metadata": {},
     "output_type": "display_data"
    },
    {
     "name": "stdout",
     "output_type": "stream",
     "text": [
      "✅ Finished 2002 in 988.20 seconds\n",
      "\n",
      "⬇️ Downloading potential_evaporation for 2001...\n"
     ]
    },
    {
     "name": "stderr",
     "output_type": "stream",
     "text": [
      "2025-07-15 12:25:53,981 INFO Request ID is 807712f6-17e7-45f4-be59-91ddc0a4942a\n",
      "2025-07-15 12:25:54,240 INFO status has been updated to accepted\n",
      "2025-07-15 12:46:18,228 INFO status has been updated to successful\n"
     ]
    },
    {
     "data": {
      "application/vnd.jupyter.widget-view+json": {
       "model_id": "",
       "version_major": 2,
       "version_minor": 0
      },
      "text/plain": [
       "3978f8cd9b0fe4d7589381e841dcfceb.grib:   0%|          | 0.00/3.16M [00:00<?, ?B/s]"
      ]
     },
     "metadata": {},
     "output_type": "display_data"
    },
    {
     "name": "stdout",
     "output_type": "stream",
     "text": [
      "✅ Finished 2001 in 1227.89 seconds\n",
      "\n",
      "⬇️ Downloading potential_evaporation for 2000...\n"
     ]
    },
    {
     "name": "stderr",
     "output_type": "stream",
     "text": [
      "2025-07-15 12:46:21,793 INFO Request ID is e366f165-d795-4725-819b-403f905ea594\n",
      "2025-07-15 12:46:21,943 INFO status has been updated to accepted\n",
      "2025-07-15 12:48:17,057 INFO status has been updated to running\n",
      "2025-07-15 13:00:44,905 INFO status has been updated to successful\n"
     ]
    },
    {
     "data": {
      "application/vnd.jupyter.widget-view+json": {
       "model_id": "",
       "version_major": 2,
       "version_minor": 0
      },
      "text/plain": [
       "a3a13df1a0a8b94902846e53af6937a6.grib:   0%|          | 0.00/3.17M [00:00<?, ?B/s]"
      ]
     },
     "metadata": {},
     "output_type": "display_data"
    },
    {
     "name": "stdout",
     "output_type": "stream",
     "text": [
      "✅ Finished 2000 in 866.11 seconds\n",
      "\n",
      "⏱️ Total time for potential_evaporation: 17789.74 seconds\n"
     ]
    },
    {
     "name": "stderr",
     "output_type": "stream",
     "text": [
      "2025-07-15 13:00:47,741 INFO [2024-09-26T00:00:00] Watch our [Forum](https://forum.ecmwf.int/) for Announcements, news and other discussed topics.\n"
     ]
    },
    {
     "name": "stdout",
     "output_type": "stream",
     "text": [
      "\n",
      "⬇️ Downloading snow_depth for 2010...\n"
     ]
    },
    {
     "name": "stderr",
     "output_type": "stream",
     "text": [
      "2025-07-15 13:00:48,702 INFO Request ID is 59fc230c-4525-4bf3-8026-1922aae61e73\n",
      "2025-07-15 13:00:48,873 INFO status has been updated to accepted\n",
      "2025-07-15 13:09:10,451 INFO status has been updated to running\n",
      "2025-07-15 13:23:15,018 INFO status has been updated to successful\n"
     ]
    },
    {
     "data": {
      "application/vnd.jupyter.widget-view+json": {
       "model_id": "",
       "version_major": 2,
       "version_minor": 0
      },
      "text/plain": [
       "3cba5454859da1e8f6d689d507a1f8ee.grib:   0%|          | 0.00/4.28M [00:00<?, ?B/s]"
      ]
     },
     "metadata": {},
     "output_type": "display_data"
    },
    {
     "name": "stdout",
     "output_type": "stream",
     "text": [
      "✅ Finished 2010 in 1349.71 seconds\n",
      "\n",
      "⬇️ Downloading snow_depth for 2009...\n"
     ]
    },
    {
     "name": "stderr",
     "output_type": "stream",
     "text": [
      "2025-07-15 13:23:18,144 INFO Request ID is 49d7fa25-2c6c-4817-811c-6c70f41bf75b\n",
      "2025-07-15 13:23:18,300 INFO status has been updated to accepted\n",
      "2025-07-15 13:23:40,468 INFO status has been updated to running\n",
      "2025-07-15 13:39:43,097 INFO status has been updated to successful\n"
     ]
    },
    {
     "data": {
      "application/vnd.jupyter.widget-view+json": {
       "model_id": "",
       "version_major": 2,
       "version_minor": 0
      },
      "text/plain": [
       "bafda28e4b4dd6b1c7159b5cc1497d0d.grib:   0%|          | 0.00/4.28M [00:00<?, ?B/s]"
      ]
     },
     "metadata": {},
     "output_type": "display_data"
    },
    {
     "name": "stdout",
     "output_type": "stream",
     "text": [
      "✅ Finished 2009 in 988.47 seconds\n",
      "\n",
      "⬇️ Downloading snow_depth for 2008...\n"
     ]
    },
    {
     "name": "stderr",
     "output_type": "stream",
     "text": [
      "2025-07-15 13:39:46,666 INFO Request ID is c63e5eae-7c22-4585-b83f-b07df7fbf9a5\n",
      "2025-07-15 13:39:46,822 INFO status has been updated to accepted\n",
      "2025-07-15 13:40:08,898 INFO status has been updated to running\n",
      "2025-07-15 13:56:13,165 INFO status has been updated to successful\n"
     ]
    },
    {
     "data": {
      "application/vnd.jupyter.widget-view+json": {
       "model_id": "",
       "version_major": 2,
       "version_minor": 0
      },
      "text/plain": [
       "c1cb64ec13f666606dd7fed832b5d4c7.grib:   0%|          | 0.00/4.29M [00:00<?, ?B/s]"
      ]
     },
     "metadata": {},
     "output_type": "display_data"
    },
    {
     "name": "stdout",
     "output_type": "stream",
     "text": [
      "✅ Finished 2008 in 989.51 seconds\n",
      "\n",
      "⬇️ Downloading snow_depth for 2007...\n"
     ]
    },
    {
     "name": "stderr",
     "output_type": "stream",
     "text": [
      "2025-07-15 13:56:16,345 INFO Request ID is f88a9375-905d-4ad1-a79a-06e4177a9df2\n",
      "2025-07-15 13:56:16,508 INFO status has been updated to accepted\n",
      "2025-07-15 13:59:10,009 INFO status has been updated to running\n",
      "2025-07-15 14:14:40,527 INFO status has been updated to successful\n"
     ]
    },
    {
     "data": {
      "application/vnd.jupyter.widget-view+json": {
       "model_id": "",
       "version_major": 2,
       "version_minor": 0
      },
      "text/plain": [
       "a601b6f6434296582f85ef4d16d5e860.grib:   0%|          | 0.00/4.28M [00:00<?, ?B/s]"
      ]
     },
     "metadata": {},
     "output_type": "display_data"
    },
    {
     "name": "stdout",
     "output_type": "stream",
     "text": [
      "✅ Finished 2007 in 1107.44 seconds\n",
      "\n",
      "⬇️ Downloading snow_depth for 2006...\n"
     ]
    },
    {
     "name": "stderr",
     "output_type": "stream",
     "text": [
      "2025-07-15 14:14:43,874 INFO Request ID is bd8b9188-7d7e-46cd-b5f4-acd6cfb7be7f\n",
      "2025-07-15 14:14:44,273 INFO status has been updated to accepted\n",
      "2025-07-15 14:17:37,298 INFO status has been updated to running\n",
      "2025-07-15 14:31:08,623 INFO status has been updated to successful\n"
     ]
    },
    {
     "data": {
      "application/vnd.jupyter.widget-view+json": {
       "model_id": "",
       "version_major": 2,
       "version_minor": 0
      },
      "text/plain": [
       "3236fb37f3b8e6bae33d4e190717c068.grib:   0%|          | 0.00/4.28M [00:00<?, ?B/s]"
      ]
     },
     "metadata": {},
     "output_type": "display_data"
    },
    {
     "name": "stdout",
     "output_type": "stream",
     "text": [
      "✅ Finished 2006 in 988.39 seconds\n",
      "\n",
      "⬇️ Downloading snow_depth for 2005...\n"
     ]
    },
    {
     "name": "stderr",
     "output_type": "stream",
     "text": [
      "2025-07-15 14:31:12,706 INFO Request ID is 6e672177-300d-47ff-bda0-0537ce1f8825\n",
      "2025-07-15 14:31:12,856 INFO status has been updated to accepted\n",
      "2025-07-15 14:35:33,110 INFO status has been updated to running\n",
      "2025-07-15 14:51:40,356 INFO status has been updated to successful\n"
     ]
    },
    {
     "data": {
      "application/vnd.jupyter.widget-view+json": {
       "model_id": "",
       "version_major": 2,
       "version_minor": 0
      },
      "text/plain": [
       "e06c1790ee65a19fd53d3b6458ae4774.grib:   0%|          | 0.00/4.28M [00:00<?, ?B/s]"
      ]
     },
     "metadata": {},
     "output_type": "display_data"
    },
    {
     "name": "stdout",
     "output_type": "stream",
     "text": [
      "✅ Finished 2005 in 1231.89 seconds\n",
      "\n",
      "⬇️ Downloading snow_depth for 2004...\n"
     ]
    },
    {
     "name": "stderr",
     "output_type": "stream",
     "text": [
      "2025-07-15 14:51:45,063 INFO Request ID is c006fcf6-859a-4458-884e-4e9cd7baaa87\n",
      "2025-07-15 14:51:45,234 INFO status has been updated to accepted\n",
      "2025-07-15 14:58:08,846 INFO status has been updated to running\n",
      "2025-07-15 15:12:12,548 INFO status has been updated to successful\n"
     ]
    },
    {
     "data": {
      "application/vnd.jupyter.widget-view+json": {
       "model_id": "",
       "version_major": 2,
       "version_minor": 0
      },
      "text/plain": [
       "aadafd7c6d27f05abd4f63effb624f4.grib:   0%|          | 0.00/4.29M [00:00<?, ?B/s]"
      ]
     },
     "metadata": {},
     "output_type": "display_data"
    },
    {
     "name": "stdout",
     "output_type": "stream",
     "text": [
      "✅ Finished 2004 in 1231.63 seconds\n",
      "\n",
      "⬇️ Downloading snow_depth for 2003...\n"
     ]
    },
    {
     "name": "stderr",
     "output_type": "stream",
     "text": [
      "2025-07-15 15:12:15,455 INFO Request ID is b30daa0f-cddf-4fe5-a332-dcb5089ecf13\n",
      "2025-07-15 15:12:15,628 INFO status has been updated to accepted\n",
      "2025-07-15 15:13:32,036 INFO status has been updated to running\n",
      "2025-07-15 15:28:42,869 INFO status has been updated to successful\n"
     ]
    },
    {
     "data": {
      "application/vnd.jupyter.widget-view+json": {
       "model_id": "",
       "version_major": 2,
       "version_minor": 0
      },
      "text/plain": [
       "d628fccde4faa9c890e7f12c9f4bfeb2.grib:   0%|          | 0.00/4.28M [00:00<?, ?B/s]"
      ]
     },
     "metadata": {},
     "output_type": "display_data"
    },
    {
     "name": "stdout",
     "output_type": "stream",
     "text": [
      "✅ Finished 2003 in 990.41 seconds\n",
      "\n",
      "⬇️ Downloading snow_depth for 2002...\n"
     ]
    },
    {
     "name": "stderr",
     "output_type": "stream",
     "text": [
      "2025-07-15 15:28:45,839 INFO Request ID is 6b1348aa-da16-4d57-ba03-b896cf49bb6e\n",
      "2025-07-15 15:28:46,003 INFO status has been updated to accepted\n",
      "2025-07-15 15:35:06,907 INFO status has been updated to successful\n"
     ]
    },
    {
     "data": {
      "application/vnd.jupyter.widget-view+json": {
       "model_id": "",
       "version_major": 2,
       "version_minor": 0
      },
      "text/plain": [
       "29c951f4a40ac2b2108a772f0f8f69d9.grib:   0%|          | 0.00/4.28M [00:00<?, ?B/s]"
      ]
     },
     "metadata": {},
     "output_type": "display_data"
    },
    {
     "name": "stdout",
     "output_type": "stream",
     "text": [
      "✅ Finished 2002 in 384.04 seconds\n",
      "\n",
      "⬇️ Downloading snow_depth for 2001...\n"
     ]
    },
    {
     "name": "stderr",
     "output_type": "stream",
     "text": [
      "2025-07-15 15:35:09,892 INFO Request ID is 96072449-3e7a-425f-99f5-8adaea682705\n",
      "2025-07-15 15:35:10,046 INFO status has been updated to accepted\n",
      "2025-07-15 15:36:00,905 INFO status has been updated to running\n",
      "2025-07-15 15:51:35,003 INFO status has been updated to successful\n"
     ]
    },
    {
     "data": {
      "application/vnd.jupyter.widget-view+json": {
       "model_id": "",
       "version_major": 2,
       "version_minor": 0
      },
      "text/plain": [
       "7356a3c0ae0b718b3314eb47311fcfc.grib:   0%|          | 0.00/4.28M [00:00<?, ?B/s]"
      ]
     },
     "metadata": {},
     "output_type": "display_data"
    },
    {
     "name": "stdout",
     "output_type": "stream",
     "text": [
      "✅ Finished 2001 in 989.46 seconds\n",
      "\n",
      "⬇️ Downloading snow_depth for 2000...\n"
     ]
    },
    {
     "name": "stderr",
     "output_type": "stream",
     "text": [
      "2025-07-15 15:51:39,406 INFO Request ID is 15b69f80-2e25-4436-a6ac-ce747c3e2661\n",
      "2025-07-15 15:51:39,806 INFO status has been updated to accepted\n",
      "2025-07-15 16:00:01,106 INFO status has been updated to running\n",
      "2025-07-15 16:18:12,401 INFO status has been updated to successful\n"
     ]
    },
    {
     "data": {
      "application/vnd.jupyter.widget-view+json": {
       "model_id": "",
       "version_major": 2,
       "version_minor": 0
      },
      "text/plain": [
       "c21ec0847beaa8d6edda804f464d2e1.grib:   0%|          | 0.00/4.29M [00:00<?, ?B/s]"
      ]
     },
     "metadata": {},
     "output_type": "display_data"
    },
    {
     "name": "stdout",
     "output_type": "stream",
     "text": [
      "✅ Finished 2000 in 1596.34 seconds\n",
      "\n",
      "⏱️ Total time for snow_depth: 11847.28 seconds\n"
     ]
    },
    {
     "name": "stderr",
     "output_type": "stream",
     "text": [
      "2025-07-15 16:18:15,411 INFO [2024-09-26T00:00:00] Watch our [Forum](https://forum.ecmwf.int/) for Announcements, news and other discussed topics.\n"
     ]
    },
    {
     "name": "stdout",
     "output_type": "stream",
     "text": [
      "\n",
      "⬇️ Downloading snowmelt for 2010...\n"
     ]
    },
    {
     "name": "stderr",
     "output_type": "stream",
     "text": [
      "2025-07-15 16:18:15,988 INFO Request ID is 796f56b6-4535-4c43-b2d8-80dd6af1eacb\n",
      "2025-07-15 16:18:16,144 INFO status has been updated to accepted\n",
      "2025-07-15 16:18:24,933 INFO status has been updated to running\n",
      "2025-07-15 16:30:38,772 INFO status has been updated to successful\n"
     ]
    },
    {
     "data": {
      "application/vnd.jupyter.widget-view+json": {
       "model_id": "",
       "version_major": 2,
       "version_minor": 0
      },
      "text/plain": [
       "8175c0b244c9c80797fe31def8a9cbf8.grib:   0%|          | 0.00/3.16M [00:00<?, ?B/s]"
      ]
     },
     "metadata": {},
     "output_type": "display_data"
    },
    {
     "name": "stdout",
     "output_type": "stream",
     "text": [
      "✅ Finished 2010 in 745.68 seconds\n",
      "\n",
      "⬇️ Downloading snowmelt for 2009...\n"
     ]
    },
    {
     "name": "stderr",
     "output_type": "stream",
     "text": [
      "2025-07-15 16:30:41,947 INFO Request ID is c8762348-8cd9-4790-89f3-d37ceb2605da\n",
      "2025-07-15 16:30:42,105 INFO status has been updated to accepted\n",
      "2025-07-15 16:31:04,126 INFO status has been updated to running\n",
      "2025-07-15 16:45:06,385 INFO status has been updated to successful\n"
     ]
    },
    {
     "data": {
      "application/vnd.jupyter.widget-view+json": {
       "model_id": "",
       "version_major": 2,
       "version_minor": 0
      },
      "text/plain": [
       "bd4db7d260ce7e0dcbee7ef19e6fb089.grib:   0%|          | 0.00/3.16M [00:00<?, ?B/s]"
      ]
     },
     "metadata": {},
     "output_type": "display_data"
    },
    {
     "name": "stdout",
     "output_type": "stream",
     "text": [
      "✅ Finished 2009 in 867.75 seconds\n",
      "\n",
      "⬇️ Downloading snowmelt for 2008...\n"
     ]
    },
    {
     "name": "stderr",
     "output_type": "stream",
     "text": [
      "2025-07-15 16:45:09,691 INFO Request ID is 330383cf-e24e-4562-a01f-c2c5598647a0\n",
      "2025-07-15 16:45:09,853 INFO status has been updated to accepted\n",
      "2025-07-15 16:48:03,355 INFO status has been updated to running\n",
      "2025-07-15 17:01:36,631 INFO status has been updated to successful\n"
     ]
    },
    {
     "data": {
      "application/vnd.jupyter.widget-view+json": {
       "model_id": "",
       "version_major": 2,
       "version_minor": 0
      },
      "text/plain": [
       "e3785c30462571e9adc628e5006bda07.grib:   0%|          | 0.00/3.17M [00:00<?, ?B/s]"
      ]
     },
     "metadata": {},
     "output_type": "display_data"
    },
    {
     "name": "stdout",
     "output_type": "stream",
     "text": [
      "✅ Finished 2008 in 990.39 seconds\n",
      "\n",
      "⬇️ Downloading snowmelt for 2007...\n"
     ]
    },
    {
     "name": "stderr",
     "output_type": "stream",
     "text": [
      "2025-07-15 17:01:40,191 INFO Request ID is 69a6290c-b720-43bc-81d7-bddf616a89ac\n",
      "2025-07-15 17:01:41,122 INFO status has been updated to accepted\n",
      "2025-07-15 17:01:50,303 INFO status has been updated to running\n",
      "2025-07-15 17:14:04,037 INFO status has been updated to successful\n"
     ]
    },
    {
     "data": {
      "application/vnd.jupyter.widget-view+json": {
       "model_id": "",
       "version_major": 2,
       "version_minor": 0
      },
      "text/plain": [
       "e84abfc08f12f57d8280a34649ee35e6.grib:   0%|          | 0.00/3.16M [00:00<?, ?B/s]"
      ]
     },
     "metadata": {},
     "output_type": "display_data"
    },
    {
     "name": "stdout",
     "output_type": "stream",
     "text": [
      "✅ Finished 2007 in 747.64 seconds\n",
      "\n",
      "⬇️ Downloading snowmelt for 2006...\n"
     ]
    },
    {
     "name": "stderr",
     "output_type": "stream",
     "text": [
      "2025-07-15 17:14:08,767 INFO Request ID is d941e96e-a5a3-41ff-8143-bd1b37a3e951\n",
      "2025-07-15 17:14:08,928 INFO status has been updated to accepted\n",
      "2025-07-15 17:14:17,990 INFO status has been updated to running\n",
      "2025-07-15 17:26:31,646 INFO status has been updated to successful\n"
     ]
    },
    {
     "data": {
      "application/vnd.jupyter.widget-view+json": {
       "model_id": "",
       "version_major": 2,
       "version_minor": 0
      },
      "text/plain": [
       "8ea5741cafd51b4260f059dcfd98e58e.grib:   0%|          | 0.00/3.16M [00:00<?, ?B/s]"
      ]
     },
     "metadata": {},
     "output_type": "display_data"
    },
    {
     "name": "stdout",
     "output_type": "stream",
     "text": [
      "✅ Finished 2006 in 748.09 seconds\n",
      "\n",
      "⬇️ Downloading snowmelt for 2005...\n"
     ]
    },
    {
     "name": "stderr",
     "output_type": "stream",
     "text": [
      "2025-07-15 17:26:35,774 INFO Request ID is 33c46f9b-8932-4e3e-bca4-543a6c2576fc\n",
      "2025-07-15 17:26:36,024 INFO status has been updated to accepted\n",
      "2025-07-15 17:26:50,068 INFO status has been updated to running\n",
      "2025-07-15 17:38:58,513 INFO status has been updated to successful\n"
     ]
    },
    {
     "data": {
      "application/vnd.jupyter.widget-view+json": {
       "model_id": "",
       "version_major": 2,
       "version_minor": 0
      },
      "text/plain": [
       "37b790c4600670eca6f78af4473410f3.grib:   0%|          | 0.00/3.16M [00:00<?, ?B/s]"
      ]
     },
     "metadata": {},
     "output_type": "display_data"
    },
    {
     "name": "stdout",
     "output_type": "stream",
     "text": [
      "✅ Finished 2005 in 746.05 seconds\n",
      "\n",
      "⬇️ Downloading snowmelt for 2004...\n"
     ]
    },
    {
     "name": "stderr",
     "output_type": "stream",
     "text": [
      "2025-07-15 17:39:01,552 INFO Request ID is 64791e90-f2d4-4278-af3d-8193f4bc474b\n",
      "2025-07-15 17:39:01,706 INFO status has been updated to accepted\n",
      "2025-07-15 17:39:16,049 INFO status has been updated to running\n",
      "2025-07-15 17:47:23,046 INFO status has been updated to successful\n"
     ]
    },
    {
     "data": {
      "application/vnd.jupyter.widget-view+json": {
       "model_id": "",
       "version_major": 2,
       "version_minor": 0
      },
      "text/plain": [
       "47c74e014fa7d98243896809539ac44d.grib:   0%|          | 0.00/3.17M [00:00<?, ?B/s]"
      ]
     },
     "metadata": {},
     "output_type": "display_data"
    },
    {
     "name": "stdout",
     "output_type": "stream",
     "text": [
      "✅ Finished 2004 in 504.49 seconds\n",
      "\n",
      "⬇️ Downloading snowmelt for 2003...\n"
     ]
    },
    {
     "name": "stderr",
     "output_type": "stream",
     "text": [
      "2025-07-15 17:47:26,316 INFO Request ID is 14cfeae1-9ffc-420c-808d-a22ed8b47b1a\n",
      "2025-07-15 17:47:26,487 INFO status has been updated to accepted\n",
      "2025-07-15 17:48:17,385 INFO status has been updated to running\n",
      "Recovering from HTTP error [500 Internal Server Error], attempt 1 of 500\n",
      "Retrying in 120 seconds\n",
      "2025-07-15 18:02:02,526 INFO status has been updated to successful\n"
     ]
    },
    {
     "data": {
      "application/vnd.jupyter.widget-view+json": {
       "model_id": "",
       "version_major": 2,
       "version_minor": 0
      },
      "text/plain": [
       "82b8a3b143369905de13d40274c32458.grib:   0%|          | 0.00/3.16M [00:00<?, ?B/s]"
      ]
     },
     "metadata": {},
     "output_type": "display_data"
    },
    {
     "name": "stdout",
     "output_type": "stream",
     "text": [
      "✅ Finished 2003 in 881.95 seconds\n",
      "\n",
      "⬇️ Downloading snowmelt for 2002...\n"
     ]
    },
    {
     "name": "stderr",
     "output_type": "stream",
     "text": [
      "2025-07-15 18:02:12,071 INFO Request ID is 0d675443-0aae-48d7-97f9-ad8d91052deb\n",
      "2025-07-15 18:02:12,997 INFO status has been updated to accepted\n",
      "2025-07-15 18:02:26,464 INFO status has been updated to running\n",
      "2025-07-15 18:02:32,413 INFO status has been updated to accepted\n",
      "2025-07-15 18:02:40,219 INFO status has been updated to running\n",
      "2025-07-15 18:16:50,472 INFO status has been updated to successful\n"
     ]
    },
    {
     "data": {
      "application/vnd.jupyter.widget-view+json": {
       "model_id": "",
       "version_major": 2,
       "version_minor": 0
      },
      "text/plain": [
       "13e30f51b8733615b62f7698b6ad4.grib:   0%|          | 0.00/3.16M [00:00<?, ?B/s]"
      ]
     },
     "metadata": {},
     "output_type": "display_data"
    },
    {
     "name": "stdout",
     "output_type": "stream",
     "text": [
      "✅ Finished 2002 in 886.20 seconds\n",
      "\n",
      "⬇️ Downloading snowmelt for 2001...\n"
     ]
    },
    {
     "name": "stderr",
     "output_type": "stream",
     "text": [
      "2025-07-15 18:16:54,380 INFO Request ID is f74e8687-595e-4211-a564-1306cdb75c9f\n",
      "2025-07-15 18:16:54,530 INFO status has been updated to accepted\n",
      "2025-07-15 18:17:04,294 INFO status has been updated to running\n",
      "2025-07-15 18:29:25,752 INFO status has been updated to successful\n"
     ]
    },
    {
     "data": {
      "application/vnd.jupyter.widget-view+json": {
       "model_id": "",
       "version_major": 2,
       "version_minor": 0
      },
      "text/plain": [
       "fccdb479c4265150e77895b14c7c948.grib:   0%|          | 0.00/3.16M [00:00<?, ?B/s]"
      ]
     },
     "metadata": {},
     "output_type": "display_data"
    },
    {
     "name": "stdout",
     "output_type": "stream",
     "text": [
      "✅ Finished 2001 in 754.57 seconds\n",
      "\n",
      "⬇️ Downloading snowmelt for 2000...\n"
     ]
    },
    {
     "name": "stderr",
     "output_type": "stream",
     "text": [
      "2025-07-15 18:29:29,044 INFO Request ID is eb173383-8913-48c7-9ec8-c37aafc17a81\n",
      "2025-07-15 18:29:29,223 INFO status has been updated to accepted\n",
      "2025-07-15 18:32:22,443 INFO status has been updated to running\n",
      "2025-07-15 18:45:55,971 INFO status has been updated to successful\n"
     ]
    },
    {
     "data": {
      "application/vnd.jupyter.widget-view+json": {
       "model_id": "",
       "version_major": 2,
       "version_minor": 0
      },
      "text/plain": [
       "5a6b018ec33dcfc11474dbe00cf9389f.grib:   0%|          | 0.00/3.17M [00:00<?, ?B/s]"
      ]
     },
     "metadata": {},
     "output_type": "display_data"
    },
    {
     "name": "stdout",
     "output_type": "stream",
     "text": [
      "✅ Finished 2000 in 989.92 seconds\n",
      "\n",
      "⏱️ Total time for snowmelt: 8862.73 seconds\n"
     ]
    },
    {
     "name": "stderr",
     "output_type": "stream",
     "text": [
      "2025-07-15 18:45:58,541 INFO [2024-09-26T00:00:00] Watch our [Forum](https://forum.ecmwf.int/) for Announcements, news and other discussed topics.\n"
     ]
    },
    {
     "name": "stdout",
     "output_type": "stream",
     "text": [
      "\n",
      "⬇️ Downloading soil_temperature_level_1 for 2010...\n"
     ]
    },
    {
     "name": "stderr",
     "output_type": "stream",
     "text": [
      "2025-07-15 18:45:59,179 INFO Request ID is be7bb96f-7abf-4848-9b39-d2e028a9502c\n",
      "2025-07-15 18:45:59,336 INFO status has been updated to accepted\n",
      "2025-07-15 18:46:21,212 INFO status has been updated to running\n",
      "2025-07-15 19:00:22,858 INFO status has been updated to successful\n"
     ]
    },
    {
     "data": {
      "application/vnd.jupyter.widget-view+json": {
       "model_id": "",
       "version_major": 2,
       "version_minor": 0
      },
      "text/plain": [
       "30558c18e8691b8079a69fecd51e3177.grib:   0%|          | 0.00/3.16M [00:00<?, ?B/s]"
      ]
     },
     "metadata": {},
     "output_type": "display_data"
    },
    {
     "name": "stdout",
     "output_type": "stream",
     "text": [
      "✅ Finished 2010 in 867.37 seconds\n",
      "\n",
      "⬇️ Downloading soil_temperature_level_1 for 2009...\n"
     ]
    },
    {
     "name": "stderr",
     "output_type": "stream",
     "text": [
      "2025-07-15 19:00:27,555 INFO Request ID is 6f5c2140-f722-4bd8-8830-b9031398ff04\n",
      "2025-07-15 19:00:27,958 INFO status has been updated to accepted\n",
      "2025-07-15 19:01:44,551 INFO status has been updated to running\n",
      "2025-07-15 19:14:53,708 INFO status has been updated to successful\n"
     ]
    },
    {
     "data": {
      "application/vnd.jupyter.widget-view+json": {
       "model_id": "",
       "version_major": 2,
       "version_minor": 0
      },
      "text/plain": [
       "7c292bd6360ca3d6ec43a0650cda361c.grib:   0%|          | 0.00/3.16M [00:00<?, ?B/s]"
      ]
     },
     "metadata": {},
     "output_type": "display_data"
    },
    {
     "name": "stdout",
     "output_type": "stream",
     "text": [
      "✅ Finished 2009 in 869.99 seconds\n",
      "\n",
      "⬇️ Downloading soil_temperature_level_1 for 2008...\n"
     ]
    },
    {
     "name": "stderr",
     "output_type": "stream",
     "text": [
      "2025-07-15 19:14:56,463 INFO Request ID is 2ce4cbd8-c490-4de5-ad0c-e3eebdf994b0\n",
      "2025-07-15 19:14:56,627 INFO status has been updated to accepted\n",
      "2025-07-15 19:15:10,786 INFO status has been updated to running\n",
      "2025-07-15 19:29:20,830 INFO status has been updated to successful\n"
     ]
    },
    {
     "data": {
      "application/vnd.jupyter.widget-view+json": {
       "model_id": "",
       "version_major": 2,
       "version_minor": 0
      },
      "text/plain": [
       "62a69b9c39a94ef2a8997fd8677e4933.grib:   0%|          | 0.00/3.17M [00:00<?, ?B/s]"
      ]
     },
     "metadata": {},
     "output_type": "display_data"
    },
    {
     "name": "stdout",
     "output_type": "stream",
     "text": [
      "✅ Finished 2008 in 867.27 seconds\n",
      "\n",
      "⬇️ Downloading soil_temperature_level_1 for 2007...\n"
     ]
    },
    {
     "name": "stderr",
     "output_type": "stream",
     "text": [
      "2025-07-15 19:29:24,110 INFO Request ID is c47ca311-5a7b-4f26-90ae-623e68a07578\n",
      "2025-07-15 19:29:24,285 INFO status has been updated to accepted\n",
      "2025-07-15 19:29:33,234 INFO status has been updated to running\n",
      "2025-07-15 19:41:50,329 INFO status has been updated to successful\n"
     ]
    },
    {
     "data": {
      "application/vnd.jupyter.widget-view+json": {
       "model_id": "",
       "version_major": 2,
       "version_minor": 0
      },
      "text/plain": [
       "9e402eab1a63fe88b1c6bec2daf6abb3.grib:   0%|          | 0.00/3.16M [00:00<?, ?B/s]"
      ]
     },
     "metadata": {},
     "output_type": "display_data"
    },
    {
     "name": "stdout",
     "output_type": "stream",
     "text": [
      "✅ Finished 2007 in 749.35 seconds\n",
      "\n",
      "⬇️ Downloading soil_temperature_level_1 for 2006...\n"
     ]
    },
    {
     "name": "stderr",
     "output_type": "stream",
     "text": [
      "2025-07-15 19:41:53,404 INFO Request ID is 88a289bb-d11d-4eb9-be1f-73afa057e60f\n",
      "2025-07-15 19:41:53,575 INFO status has been updated to accepted\n",
      "2025-07-15 19:42:26,815 INFO status has been updated to running\n",
      "2025-07-15 19:54:17,297 INFO status has been updated to successful\n"
     ]
    },
    {
     "data": {
      "application/vnd.jupyter.widget-view+json": {
       "model_id": "",
       "version_major": 2,
       "version_minor": 0
      },
      "text/plain": [
       "9cee1d03010db11aaed6d822c96c05bc.grib:   0%|          | 0.00/3.16M [00:00<?, ?B/s]"
      ]
     },
     "metadata": {},
     "output_type": "display_data"
    },
    {
     "name": "stdout",
     "output_type": "stream",
     "text": [
      "✅ Finished 2006 in 746.93 seconds\n",
      "\n",
      "⬇️ Downloading soil_temperature_level_1 for 2005...\n"
     ]
    },
    {
     "name": "stderr",
     "output_type": "stream",
     "text": [
      "2025-07-15 19:54:20,122 INFO Request ID is 37ff4af4-ac79-4d48-bae5-ac63ba9fc132\n",
      "2025-07-15 19:54:20,433 INFO status has been updated to accepted\n",
      "2025-07-15 19:54:29,573 INFO status has been updated to running\n",
      "2025-07-15 20:06:42,941 INFO status has been updated to successful\n"
     ]
    },
    {
     "data": {
      "application/vnd.jupyter.widget-view+json": {
       "model_id": "",
       "version_major": 2,
       "version_minor": 0
      },
      "text/plain": [
       "6a670bbddee7c8ddb668f1353d753b0c.grib:   0%|          | 0.00/3.16M [00:00<?, ?B/s]"
      ]
     },
     "metadata": {},
     "output_type": "display_data"
    },
    {
     "name": "stdout",
     "output_type": "stream",
     "text": [
      "✅ Finished 2005 in 746.05 seconds\n",
      "\n",
      "⬇️ Downloading soil_temperature_level_1 for 2004...\n"
     ]
    },
    {
     "name": "stderr",
     "output_type": "stream",
     "text": [
      "2025-07-15 20:06:46,314 INFO Request ID is f65c8dbc-d6c2-4ff6-9ed0-1563dbdc7177\n",
      "2025-07-15 20:06:46,481 INFO status has been updated to accepted\n",
      "2025-07-15 20:08:02,976 INFO status has been updated to running\n",
      "2025-07-15 20:21:14,280 INFO status has been updated to successful\n"
     ]
    },
    {
     "data": {
      "application/vnd.jupyter.widget-view+json": {
       "model_id": "",
       "version_major": 2,
       "version_minor": 0
      },
      "text/plain": [
       "a72abad790f15d45c19b8fd7e7e9eb92.grib:   0%|          | 0.00/3.17M [00:00<?, ?B/s]"
      ]
     },
     "metadata": {},
     "output_type": "display_data"
    },
    {
     "name": "stdout",
     "output_type": "stream",
     "text": [
      "✅ Finished 2004 in 871.18 seconds\n",
      "\n",
      "⬇️ Downloading soil_temperature_level_1 for 2003...\n"
     ]
    },
    {
     "name": "stderr",
     "output_type": "stream",
     "text": [
      "2025-07-15 20:21:17,555 INFO Request ID is 269c7fd5-6737-4140-bfa4-6965d3ae1163\n",
      "2025-07-15 20:21:17,734 INFO status has been updated to accepted\n",
      "2025-07-15 20:21:39,591 INFO status has been updated to running\n",
      "2025-07-15 20:35:40,794 INFO status has been updated to successful\n"
     ]
    },
    {
     "data": {
      "application/vnd.jupyter.widget-view+json": {
       "model_id": "",
       "version_major": 2,
       "version_minor": 0
      },
      "text/plain": [
       "8f9edf826c05620f9e5fb8cc6f8b435f.grib:   0%|          | 0.00/3.16M [00:00<?, ?B/s]"
      ]
     },
     "metadata": {},
     "output_type": "display_data"
    },
    {
     "name": "stdout",
     "output_type": "stream",
     "text": [
      "✅ Finished 2003 in 866.86 seconds\n",
      "\n",
      "⬇️ Downloading soil_temperature_level_1 for 2002...\n"
     ]
    },
    {
     "name": "stderr",
     "output_type": "stream",
     "text": [
      "2025-07-15 20:35:44,442 INFO Request ID is 90801070-06e9-4cd2-939a-5062909ab791\n",
      "2025-07-15 20:35:44,606 INFO status has been updated to accepted\n",
      "2025-07-15 20:37:01,123 INFO status has been updated to running\n",
      "2025-07-15 20:50:07,339 INFO status has been updated to successful\n"
     ]
    },
    {
     "data": {
      "application/vnd.jupyter.widget-view+json": {
       "model_id": "",
       "version_major": 2,
       "version_minor": 0
      },
      "text/plain": [
       "e631f7fb508026039987e411046127b6.grib:   0%|          | 0.00/3.16M [00:00<?, ?B/s]"
      ]
     },
     "metadata": {},
     "output_type": "display_data"
    },
    {
     "name": "stdout",
     "output_type": "stream",
     "text": [
      "✅ Finished 2002 in 866.42 seconds\n",
      "\n",
      "⬇️ Downloading soil_temperature_level_1 for 2001...\n"
     ]
    },
    {
     "name": "stderr",
     "output_type": "stream",
     "text": [
      "2025-07-15 20:50:10,773 INFO Request ID is 27ddba46-8e71-47a6-989b-0d201fcb6386\n",
      "2025-07-15 20:50:10,928 INFO status has been updated to accepted\n",
      "2025-07-15 20:50:33,999 INFO status has been updated to running\n",
      "2025-07-15 21:02:36,234 INFO status has been updated to successful\n"
     ]
    },
    {
     "data": {
      "application/vnd.jupyter.widget-view+json": {
       "model_id": "",
       "version_major": 2,
       "version_minor": 0
      },
      "text/plain": [
       "138e87ed406c7d292364d99a3bbe013e.grib:   0%|          | 0.00/3.16M [00:00<?, ?B/s]"
      ]
     },
     "metadata": {},
     "output_type": "display_data"
    },
    {
     "name": "stdout",
     "output_type": "stream",
     "text": [
      "✅ Finished 2001 in 748.63 seconds\n",
      "\n",
      "⬇️ Downloading soil_temperature_level_1 for 2000...\n"
     ]
    },
    {
     "name": "stderr",
     "output_type": "stream",
     "text": [
      "2025-07-15 21:02:39,446 INFO Request ID is 92a76f3f-adcc-4ec1-bdc0-882bfa3f0824\n",
      "2025-07-15 21:02:39,599 INFO status has been updated to accepted\n",
      "2025-07-15 21:03:01,607 INFO status has been updated to running\n",
      "2025-07-15 21:17:02,533 INFO status has been updated to successful\n"
     ]
    },
    {
     "data": {
      "application/vnd.jupyter.widget-view+json": {
       "model_id": "",
       "version_major": 2,
       "version_minor": 0
      },
      "text/plain": [
       "3759bbf86b5bef737c8f2c0cc760e98a.grib:   0%|          | 0.00/3.17M [00:00<?, ?B/s]"
      ]
     },
     "metadata": {},
     "output_type": "display_data"
    },
    {
     "name": "stdout",
     "output_type": "stream",
     "text": [
      "✅ Finished 2000 in 866.17 seconds\n",
      "\n",
      "⏱️ Total time for soil_temperature_level_1: 9066.22 seconds\n"
     ]
    },
    {
     "name": "stderr",
     "output_type": "stream",
     "text": [
      "2025-07-15 21:17:05,178 INFO [2024-09-26T00:00:00] Watch our [Forum](https://forum.ecmwf.int/) for Announcements, news and other discussed topics.\n"
     ]
    },
    {
     "name": "stdout",
     "output_type": "stream",
     "text": [
      "\n",
      "⬇️ Downloading surface_runoff for 2010...\n"
     ]
    },
    {
     "name": "stderr",
     "output_type": "stream",
     "text": [
      "2025-07-15 21:17:05,907 INFO Request ID is e808c1d7-4420-4d71-82d8-c06e4b0ada1e\n",
      "2025-07-15 21:17:06,155 INFO status has been updated to accepted\n",
      "2025-07-15 21:17:40,099 INFO status has been updated to running\n",
      "2025-07-15 21:31:30,058 INFO status has been updated to successful\n"
     ]
    },
    {
     "data": {
      "application/vnd.jupyter.widget-view+json": {
       "model_id": "",
       "version_major": 2,
       "version_minor": 0
      },
      "text/plain": [
       "a753256169bbfd501dd685fae170b7b.grib:   0%|          | 0.00/3.16M [00:00<?, ?B/s]"
      ]
     },
     "metadata": {},
     "output_type": "display_data"
    },
    {
     "name": "stdout",
     "output_type": "stream",
     "text": [
      "✅ Finished 2010 in 867.46 seconds\n",
      "\n",
      "⬇️ Downloading surface_runoff for 2009...\n"
     ]
    },
    {
     "name": "stderr",
     "output_type": "stream",
     "text": [
      "2025-07-15 21:31:33,362 INFO Request ID is 2e7fdb59-880b-4cd0-88a6-57e27dbdb0d2\n",
      "2025-07-15 21:31:33,523 INFO status has been updated to accepted\n",
      "2025-07-15 21:32:07,413 INFO status has been updated to running\n",
      "2025-07-15 21:45:58,715 INFO status has been updated to successful\n"
     ]
    },
    {
     "data": {
      "application/vnd.jupyter.widget-view+json": {
       "model_id": "",
       "version_major": 2,
       "version_minor": 0
      },
      "text/plain": [
       "ca1d7b743a45b61a5d791cb465739b56.grib:   0%|          | 0.00/3.16M [00:00<?, ?B/s]"
      ]
     },
     "metadata": {},
     "output_type": "display_data"
    },
    {
     "name": "stdout",
     "output_type": "stream",
     "text": [
      "✅ Finished 2009 in 868.75 seconds\n",
      "\n",
      "⬇️ Downloading surface_runoff for 2008...\n"
     ]
    },
    {
     "name": "stderr",
     "output_type": "stream",
     "text": [
      "2025-07-15 21:46:02,098 INFO Request ID is 5e5f25b6-5eb2-4e6c-a0d6-a6b5ffcb6354\n",
      "2025-07-15 21:46:02,263 INFO status has been updated to accepted\n",
      "2025-07-15 21:46:52,883 INFO status has been updated to running\n",
      "2025-07-15 22:00:25,356 INFO status has been updated to successful\n"
     ]
    },
    {
     "data": {
      "application/vnd.jupyter.widget-view+json": {
       "model_id": "",
       "version_major": 2,
       "version_minor": 0
      },
      "text/plain": [
       "5a070e9e9fea536154a9b87060b1ba9b.grib:   0%|          | 0.00/3.17M [00:00<?, ?B/s]"
      ]
     },
     "metadata": {},
     "output_type": "display_data"
    },
    {
     "name": "stdout",
     "output_type": "stream",
     "text": [
      "✅ Finished 2008 in 866.19 seconds\n",
      "\n",
      "⬇️ Downloading surface_runoff for 2007...\n"
     ]
    },
    {
     "name": "stderr",
     "output_type": "stream",
     "text": [
      "2025-07-15 22:00:28,416 INFO Request ID is 782c58dd-f3ef-4e25-b1c8-8dc748b2d25b\n",
      "2025-07-15 22:00:28,562 INFO status has been updated to accepted\n",
      "2025-07-15 22:03:22,554 INFO status has been updated to running\n",
      "Recovering from HTTP error [500 Internal Server Error], attempt 1 of 500\n",
      "Retrying in 120 seconds\n",
      "2025-07-15 22:13:04,812 INFO status has been updated to successful\n"
     ]
    },
    {
     "data": {
      "application/vnd.jupyter.widget-view+json": {
       "model_id": "",
       "version_major": 2,
       "version_minor": 0
      },
      "text/plain": [
       "90be38df61b5547596d614441c5274df.grib:   0%|          | 0.00/3.16M [00:00<?, ?B/s]"
      ]
     },
     "metadata": {},
     "output_type": "display_data"
    },
    {
     "name": "stdout",
     "output_type": "stream",
     "text": [
      "✅ Finished 2007 in 767.37 seconds\n",
      "\n",
      "⬇️ Downloading surface_runoff for 2006...\n"
     ]
    },
    {
     "name": "stderr",
     "output_type": "stream",
     "text": [
      "2025-07-15 22:13:15,614 INFO Request ID is cb8c9dd3-5b77-47fc-b8da-dc0c480d4f39\n",
      "2025-07-15 22:13:15,757 INFO status has been updated to accepted\n",
      "2025-07-15 22:15:10,880 INFO status has been updated to running\n",
      "2025-07-15 22:27:40,417 INFO status has been updated to successful\n"
     ]
    },
    {
     "data": {
      "application/vnd.jupyter.widget-view+json": {
       "model_id": "",
       "version_major": 2,
       "version_minor": 0
      },
      "text/plain": [
       "2240d22a34a02b9f65e4b311d1d8f384.grib:   0%|          | 0.00/3.16M [00:00<?, ?B/s]"
      ]
     },
     "metadata": {},
     "output_type": "display_data"
    },
    {
     "name": "stdout",
     "output_type": "stream",
     "text": [
      "✅ Finished 2006 in 867.91 seconds\n",
      "\n",
      "⬇️ Downloading surface_runoff for 2005...\n"
     ]
    },
    {
     "name": "stderr",
     "output_type": "stream",
     "text": [
      "2025-07-15 22:27:43,555 INFO Request ID is b46125eb-fe7c-46b8-9bda-44c9185fa76b\n",
      "2025-07-15 22:27:43,723 INFO status has been updated to accepted\n",
      "2025-07-15 22:28:34,625 INFO status has been updated to running\n",
      "2025-07-15 22:42:12,559 INFO status has been updated to successful\n"
     ]
    },
    {
     "data": {
      "application/vnd.jupyter.widget-view+json": {
       "model_id": "",
       "version_major": 2,
       "version_minor": 0
      },
      "text/plain": [
       "7a21968765544e832fbcc655bbf81f82.grib:   0%|          | 0.00/3.16M [00:00<?, ?B/s]"
      ]
     },
     "metadata": {},
     "output_type": "display_data"
    },
    {
     "name": "stdout",
     "output_type": "stream",
     "text": [
      "✅ Finished 2005 in 872.07 seconds\n",
      "\n",
      "⬇️ Downloading surface_runoff for 2004...\n"
     ]
    },
    {
     "name": "stderr",
     "output_type": "stream",
     "text": [
      "2025-07-15 22:42:16,677 INFO Request ID is 64f9b151-5e8a-4c64-8760-f1ce99dc7b8d\n",
      "2025-07-15 22:42:16,923 INFO status has been updated to accepted\n",
      "2025-07-15 22:42:38,792 INFO status has been updated to running\n",
      "2025-07-15 22:56:40,285 INFO status has been updated to successful\n"
     ]
    },
    {
     "data": {
      "application/vnd.jupyter.widget-view+json": {
       "model_id": "",
       "version_major": 2,
       "version_minor": 0
      },
      "text/plain": [
       "4fd4527bbd22cc7d0d0a52f07b1d2ca0.grib:   0%|          | 0.00/3.17M [00:00<?, ?B/s]"
      ]
     },
     "metadata": {},
     "output_type": "display_data"
    },
    {
     "name": "stdout",
     "output_type": "stream",
     "text": [
      "✅ Finished 2004 in 867.54 seconds\n",
      "\n",
      "⬇️ Downloading surface_runoff for 2003...\n"
     ]
    },
    {
     "name": "stderr",
     "output_type": "stream",
     "text": [
      "2025-07-15 22:56:43,202 INFO Request ID is 5346fbef-644b-402b-ae3d-be4ab5987373\n",
      "2025-07-15 22:56:43,361 INFO status has been updated to accepted\n",
      "2025-07-15 22:59:37,147 INFO status has been updated to running\n",
      "2025-07-15 23:13:08,412 INFO status has been updated to successful\n"
     ]
    },
    {
     "data": {
      "application/vnd.jupyter.widget-view+json": {
       "model_id": "",
       "version_major": 2,
       "version_minor": 0
      },
      "text/plain": [
       "f7ff8a59d66bbb490af6577abc99cd31.grib:   0%|          | 0.00/3.16M [00:00<?, ?B/s]"
      ]
     },
     "metadata": {},
     "output_type": "display_data"
    },
    {
     "name": "stdout",
     "output_type": "stream",
     "text": [
      "✅ Finished 2003 in 988.42 seconds\n",
      "\n",
      "⬇️ Downloading surface_runoff for 2002...\n"
     ]
    },
    {
     "name": "stderr",
     "output_type": "stream",
     "text": [
      "2025-07-15 23:13:11,519 INFO Request ID is 98887def-5f2d-47e4-bbfd-15f8ba502974\n",
      "2025-07-15 23:13:11,696 INFO status has been updated to accepted\n",
      "2025-07-15 23:17:31,950 INFO status has been updated to running\n",
      "2025-07-15 23:29:36,677 INFO status has been updated to successful\n"
     ]
    },
    {
     "data": {
      "application/vnd.jupyter.widget-view+json": {
       "model_id": "",
       "version_major": 2,
       "version_minor": 0
      },
      "text/plain": [
       "8d8e303362cb140376a60e8f2aea53ed.grib:   0%|          | 0.00/3.16M [00:00<?, ?B/s]"
      ]
     },
     "metadata": {},
     "output_type": "display_data"
    },
    {
     "name": "stdout",
     "output_type": "stream",
     "text": [
      "✅ Finished 2002 in 988.06 seconds\n",
      "\n",
      "⬇️ Downloading surface_runoff for 2001...\n"
     ]
    },
    {
     "name": "stderr",
     "output_type": "stream",
     "text": [
      "2025-07-15 23:29:39,711 INFO Request ID is 5e61479e-507a-476a-98b5-0b3cd8c7c56b\n",
      "2025-07-15 23:29:39,874 INFO status has been updated to accepted\n",
      "2025-07-15 23:32:34,799 INFO status has been updated to running\n",
      "2025-07-15 23:44:04,481 INFO status has been updated to successful\n"
     ]
    },
    {
     "data": {
      "application/vnd.jupyter.widget-view+json": {
       "model_id": "",
       "version_major": 2,
       "version_minor": 0
      },
      "text/plain": [
       "ca9cea05236c52fe7d88f725953a7c97.grib:   0%|          | 0.00/3.16M [00:00<?, ?B/s]"
      ]
     },
     "metadata": {},
     "output_type": "display_data"
    },
    {
     "name": "stdout",
     "output_type": "stream",
     "text": [
      "✅ Finished 2001 in 867.94 seconds\n",
      "\n",
      "⬇️ Downloading surface_runoff for 2000...\n"
     ]
    },
    {
     "name": "stderr",
     "output_type": "stream",
     "text": [
      "2025-07-15 23:44:07,544 INFO Request ID is f44a5cba-eeed-4855-b05d-de601217afa3\n",
      "2025-07-15 23:44:07,768 INFO status has been updated to accepted\n",
      "2025-07-15 23:44:29,958 INFO status has been updated to running\n",
      "2025-07-15 23:58:33,097 INFO status has been updated to successful\n"
     ]
    },
    {
     "data": {
      "application/vnd.jupyter.widget-view+json": {
       "model_id": "",
       "version_major": 2,
       "version_minor": 0
      },
      "text/plain": [
       "5edf783741730237144b8c4e9510c784.grib:   0%|          | 0.00/3.17M [00:00<?, ?B/s]"
      ]
     },
     "metadata": {},
     "output_type": "display_data"
    },
    {
     "name": "stdout",
     "output_type": "stream",
     "text": [
      "✅ Finished 2000 in 868.47 seconds\n",
      "\n",
      "⏱️ Total time for surface_runoff: 9690.19 seconds\n"
     ]
    },
    {
     "name": "stderr",
     "output_type": "stream",
     "text": [
      "2025-07-15 23:58:35,810 INFO [2024-09-26T00:00:00] Watch our [Forum](https://forum.ecmwf.int/) for Announcements, news and other discussed topics.\n"
     ]
    },
    {
     "name": "stdout",
     "output_type": "stream",
     "text": [
      "\n",
      "⬇️ Downloading sub_surface_runoff for 2010...\n"
     ]
    },
    {
     "name": "stderr",
     "output_type": "stream",
     "text": [
      "2025-07-15 23:58:36,418 INFO Request ID is e9fccf76-58a4-4f31-a60c-85cbdf7f695d\n",
      "2025-07-15 23:58:36,583 INFO status has been updated to accepted\n",
      "2025-07-15 23:58:42,184 INFO status has been updated to running\n",
      "2025-07-16 00:13:01,560 INFO status has been updated to successful\n"
     ]
    },
    {
     "data": {
      "application/vnd.jupyter.widget-view+json": {
       "model_id": "",
       "version_major": 2,
       "version_minor": 0
      },
      "text/plain": [
       "b2ae8d48ec8272fd5dc6fddcce461fb2.grib:   0%|          | 0.00/3.16M [00:00<?, ?B/s]"
      ]
     },
     "metadata": {},
     "output_type": "display_data"
    },
    {
     "name": "stdout",
     "output_type": "stream",
     "text": [
      "✅ Finished 2010 in 867.96 seconds\n",
      "\n",
      "⬇️ Downloading sub_surface_runoff for 2009...\n"
     ]
    },
    {
     "name": "stderr",
     "output_type": "stream",
     "text": [
      "2025-07-16 00:13:04,560 INFO Request ID is 892b6eb1-c240-4df5-9b77-d7468a6a2e20\n",
      "2025-07-16 00:13:04,895 INFO status has been updated to accepted\n",
      "2025-07-16 00:13:26,880 INFO status has been updated to running\n",
      "2025-07-16 00:27:28,340 INFO status has been updated to successful\n"
     ]
    },
    {
     "data": {
      "application/vnd.jupyter.widget-view+json": {
       "model_id": "",
       "version_major": 2,
       "version_minor": 0
      },
      "text/plain": [
       "4a01295917aa309afc3919f98523f2c7.grib:   0%|          | 0.00/3.16M [00:00<?, ?B/s]"
      ]
     },
     "metadata": {},
     "output_type": "display_data"
    },
    {
     "name": "stdout",
     "output_type": "stream",
     "text": [
      "✅ Finished 2009 in 866.74 seconds\n",
      "\n",
      "⬇️ Downloading sub_surface_runoff for 2008...\n"
     ]
    },
    {
     "name": "stderr",
     "output_type": "stream",
     "text": [
      "2025-07-16 00:27:31,591 INFO Request ID is 8665e2b6-2d6c-43cb-8a07-914c00ae0baa\n",
      "2025-07-16 00:27:31,749 INFO status has been updated to accepted\n",
      "2025-07-16 00:27:46,167 INFO status has been updated to running\n",
      "2025-07-16 00:39:56,749 INFO status has been updated to successful\n"
     ]
    },
    {
     "data": {
      "application/vnd.jupyter.widget-view+json": {
       "model_id": "",
       "version_major": 2,
       "version_minor": 0
      },
      "text/plain": [
       "c5de2a45ebad21ff24519eafcfb0a469.grib:   0%|          | 0.00/3.17M [00:00<?, ?B/s]"
      ]
     },
     "metadata": {},
     "output_type": "display_data"
    },
    {
     "name": "stdout",
     "output_type": "stream",
     "text": [
      "✅ Finished 2008 in 748.53 seconds\n",
      "\n",
      "⬇️ Downloading sub_surface_runoff for 2007...\n"
     ]
    },
    {
     "name": "stderr",
     "output_type": "stream",
     "text": [
      "2025-07-16 00:39:59,721 INFO Request ID is aa318818-faa5-4016-b5ff-11d7e37947c1\n",
      "2025-07-16 00:39:59,868 INFO status has been updated to accepted\n",
      "2025-07-16 00:40:33,158 INFO status has been updated to running\n",
      "2025-07-16 00:52:25,063 INFO status has been updated to successful\n"
     ]
    },
    {
     "data": {
      "application/vnd.jupyter.widget-view+json": {
       "model_id": "",
       "version_major": 2,
       "version_minor": 0
      },
      "text/plain": [
       "9b09d00f830ad54d183b7d0f10d1eec9.grib:   0%|          | 0.00/3.16M [00:00<?, ?B/s]"
      ]
     },
     "metadata": {},
     "output_type": "display_data"
    },
    {
     "name": "stdout",
     "output_type": "stream",
     "text": [
      "✅ Finished 2007 in 748.95 seconds\n",
      "\n",
      "⬇️ Downloading sub_surface_runoff for 2006...\n"
     ]
    },
    {
     "name": "stderr",
     "output_type": "stream",
     "text": [
      "2025-07-16 00:52:28,697 INFO Request ID is 3edb8b78-2bc2-4c0e-a371-6ecd33681521\n",
      "2025-07-16 00:52:28,859 INFO status has been updated to accepted\n",
      "2025-07-16 00:52:38,259 INFO status has been updated to running\n",
      "2025-07-16 01:04:54,165 INFO status has been updated to successful\n"
     ]
    },
    {
     "data": {
      "application/vnd.jupyter.widget-view+json": {
       "model_id": "",
       "version_major": 2,
       "version_minor": 0
      },
      "text/plain": [
       "d734daa30953d082f559b7182993bc20.grib:   0%|          | 0.00/3.16M [00:00<?, ?B/s]"
      ]
     },
     "metadata": {},
     "output_type": "display_data"
    },
    {
     "name": "stdout",
     "output_type": "stream",
     "text": [
      "✅ Finished 2006 in 749.39 seconds\n",
      "\n",
      "⬇️ Downloading sub_surface_runoff for 2005...\n"
     ]
    },
    {
     "name": "stderr",
     "output_type": "stream",
     "text": [
      "2025-07-16 01:04:58,062 INFO Request ID is 16bd5efc-c7e4-4802-bd39-065d5a05fcc9\n",
      "2025-07-16 01:04:58,306 INFO status has been updated to accepted\n",
      "2025-07-16 01:05:07,426 INFO status has been updated to running\n",
      "2025-07-16 01:17:22,421 INFO status has been updated to successful\n"
     ]
    },
    {
     "data": {
      "application/vnd.jupyter.widget-view+json": {
       "model_id": "",
       "version_major": 2,
       "version_minor": 0
      },
      "text/plain": [
       "9449a503426b3d31afe05292e6fac5e6.grib:   0%|          | 0.00/3.16M [00:00<?, ?B/s]"
      ]
     },
     "metadata": {},
     "output_type": "display_data"
    },
    {
     "name": "stdout",
     "output_type": "stream",
     "text": [
      "✅ Finished 2005 in 747.53 seconds\n",
      "\n",
      "⬇️ Downloading sub_surface_runoff for 2004...\n"
     ]
    },
    {
     "name": "stderr",
     "output_type": "stream",
     "text": [
      "2025-07-16 01:17:25,622 INFO Request ID is 5461122a-8b8d-4a3f-bd56-759a9651af11\n",
      "2025-07-16 01:17:25,886 INFO status has been updated to accepted\n",
      "2025-07-16 01:17:39,863 INFO status has been updated to running\n",
      "2025-07-16 01:35:52,710 INFO status has been updated to successful\n"
     ]
    },
    {
     "data": {
      "application/vnd.jupyter.widget-view+json": {
       "model_id": "",
       "version_major": 2,
       "version_minor": 0
      },
      "text/plain": [
       "a2d379c460e3465bfd7d14a208813098.grib:   0%|          | 0.00/3.17M [00:00<?, ?B/s]"
      ]
     },
     "metadata": {},
     "output_type": "display_data"
    },
    {
     "name": "stdout",
     "output_type": "stream",
     "text": [
      "✅ Finished 2004 in 1110.21 seconds\n",
      "\n",
      "⬇️ Downloading sub_surface_runoff for 2003...\n"
     ]
    },
    {
     "name": "stderr",
     "output_type": "stream",
     "text": [
      "2025-07-16 01:35:55,948 INFO Request ID is 9eae1b20-1717-4480-a5c4-42fdc9d67efd\n",
      "2025-07-16 01:35:56,104 INFO status has been updated to accepted\n",
      "2025-07-16 01:36:05,121 INFO status has been updated to running\n",
      "2025-07-16 01:48:19,156 INFO status has been updated to successful\n"
     ]
    },
    {
     "data": {
      "application/vnd.jupyter.widget-view+json": {
       "model_id": "",
       "version_major": 2,
       "version_minor": 0
      },
      "text/plain": [
       "e867af122cd6c162fb97eafb3b3d935d.grib:   0%|          | 0.00/3.16M [00:00<?, ?B/s]"
      ]
     },
     "metadata": {},
     "output_type": "display_data"
    },
    {
     "name": "stdout",
     "output_type": "stream",
     "text": [
      "✅ Finished 2003 in 746.47 seconds\n",
      "\n",
      "⬇️ Downloading sub_surface_runoff for 2002...\n"
     ]
    },
    {
     "name": "stderr",
     "output_type": "stream",
     "text": [
      "2025-07-16 01:48:22,460 INFO Request ID is 521ccf71-02c7-4d1e-9c37-b25a3c5c03d6\n",
      "2025-07-16 01:48:22,635 INFO status has been updated to accepted\n",
      "2025-07-16 01:48:44,486 INFO status has been updated to running\n",
      "2025-07-16 02:00:45,419 INFO status has been updated to successful\n"
     ]
    },
    {
     "data": {
      "application/vnd.jupyter.widget-view+json": {
       "model_id": "",
       "version_major": 2,
       "version_minor": 0
      },
      "text/plain": [
       "6fe8eacff02bdd512eae1cbcfbb0eae5.grib:   0%|          | 0.00/3.16M [00:00<?, ?B/s]"
      ]
     },
     "metadata": {},
     "output_type": "display_data"
    },
    {
     "name": "stdout",
     "output_type": "stream",
     "text": [
      "✅ Finished 2002 in 747.00 seconds\n",
      "\n",
      "⬇️ Downloading sub_surface_runoff for 2001...\n"
     ]
    },
    {
     "name": "stderr",
     "output_type": "stream",
     "text": [
      "2025-07-16 02:00:49,266 INFO Request ID is 72a643e0-91f8-4437-9e19-0c4112b1706a\n",
      "2025-07-16 02:00:49,440 INFO status has been updated to accepted\n",
      "2025-07-16 02:00:58,380 INFO status has been updated to running\n",
      "2025-07-16 02:13:13,731 INFO status has been updated to successful\n"
     ]
    },
    {
     "data": {
      "application/vnd.jupyter.widget-view+json": {
       "model_id": "",
       "version_major": 2,
       "version_minor": 0
      },
      "text/plain": [
       "5b7793b62d245eae0a60ca853959d010.grib:   0%|          | 0.00/3.16M [00:00<?, ?B/s]"
      ]
     },
     "metadata": {},
     "output_type": "display_data"
    },
    {
     "name": "stdout",
     "output_type": "stream",
     "text": [
      "✅ Finished 2001 in 748.21 seconds\n",
      "\n",
      "⬇️ Downloading sub_surface_runoff for 2000...\n"
     ]
    },
    {
     "name": "stderr",
     "output_type": "stream",
     "text": [
      "2025-07-16 02:13:17,564 INFO Request ID is 673138ff-ad4b-445c-be44-1d6a7a59dd30\n",
      "2025-07-16 02:13:17,832 INFO status has been updated to accepted\n",
      "2025-07-16 02:13:26,785 INFO status has been updated to running\n",
      "2025-07-16 02:27:41,215 INFO status has been updated to successful\n"
     ]
    },
    {
     "data": {
      "application/vnd.jupyter.widget-view+json": {
       "model_id": "",
       "version_major": 2,
       "version_minor": 0
      },
      "text/plain": [
       "e22f0db06a8d31e0228bcf6c0a4cc642.grib:   0%|          | 0.00/3.17M [00:00<?, ?B/s]"
      ]
     },
     "metadata": {},
     "output_type": "display_data"
    },
    {
     "name": "stdout",
     "output_type": "stream",
     "text": [
      "✅ Finished 2000 in 866.57 seconds\n",
      "\n",
      "⏱️ Total time for sub_surface_runoff: 8947.56 seconds\n"
     ]
    }
   ],
   "source": [
    "for var in era5_variables:\n",
    "    download_era5_hourly_variable(\n",
    "        variable_name=var,\n",
    "        years=range(2010, 1999, -1)\n",
    "    )"
   ]
  },
  {
   "cell_type": "code",
   "execution_count": null,
   "id": "b68e5040",
   "metadata": {},
   "outputs": [],
   "source": []
  }
 ],
 "metadata": {
  "kernelspec": {
   "display_name": "Python 3 (ipykernel)",
   "language": "python",
   "name": "python3"
  },
  "language_info": {
   "codemirror_mode": {
    "name": "ipython",
    "version": 3
   },
   "file_extension": ".py",
   "mimetype": "text/x-python",
   "name": "python",
   "nbconvert_exporter": "python",
   "pygments_lexer": "ipython3",
   "version": "3.9.12"
  }
 },
 "nbformat": 4,
 "nbformat_minor": 5
}
