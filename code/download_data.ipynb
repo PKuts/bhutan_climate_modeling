{
 "cells": [
  {
   "cell_type": "code",
   "execution_count": 1,
   "id": "e859b959",
   "metadata": {},
   "outputs": [],
   "source": [
    "from era5_hourly_downloader import download_era5_hourly_variable"
   ]
  },
  {
   "cell_type": "code",
   "execution_count": 2,
   "id": "fdc13072",
   "metadata": {},
   "outputs": [],
   "source": [
    "era5_variables = [\n",
    "    \"total_precipitation\",\n",
    "    \"2m_temperature\",\n",
    "    \"2m_dewpoint_temperature\",\n",
    "    \"10m_u_component_of_wind\",\n",
    "    \"10m_v_component_of_wind\",\n",
    "    \"surface_solar_radiation_downwards\",\n",
    "    \"potential_evaporation\",\n",
    "    \"snow_depth\",\n",
    "    \"snowmelt\",\n",
    "    \"soil_temperature_level_1\",\n",
    "    \"surface_runoff\", # to be used as flood indicator proxy\n",
    "    \"sub_surface_runoff\", # to be used as flood indicator proxy\n",
    "]\n",
    "\n",
    "# relative humidity does not exist - need to be derived from 2m_temperature and 2m_dewpoint_temperature\n"
   ]
  },
  {
   "cell_type": "code",
   "execution_count": 3,
   "id": "8345ad26",
   "metadata": {},
   "outputs": [
    {
     "name": "stderr",
     "output_type": "stream",
     "text": [
      "2025-07-13 16:40:42,666 INFO [2024-09-26T00:00:00] Watch our [Forum](https://forum.ecmwf.int/) for Announcements, news and other discussed topics.\n"
     ]
    },
    {
     "name": "stdout",
     "output_type": "stream",
     "text": [
      "✅ Already exists: ../era5_data/total_precipitation/total_precipitation_2025.grib\n",
      "✅ Already exists: ../era5_data/total_precipitation/total_precipitation_2024.grib\n",
      "✅ Already exists: ../era5_data/total_precipitation/total_precipitation_2023.grib\n",
      "✅ Already exists: ../era5_data/total_precipitation/total_precipitation_2022.grib\n",
      "✅ Already exists: ../era5_data/total_precipitation/total_precipitation_2021.grib\n",
      "✅ Already exists: ../era5_data/total_precipitation/total_precipitation_2020.grib\n",
      "✅ Already exists: ../era5_data/total_precipitation/total_precipitation_2019.grib\n",
      "✅ Already exists: ../era5_data/total_precipitation/total_precipitation_2018.grib\n",
      "✅ Already exists: ../era5_data/total_precipitation/total_precipitation_2017.grib\n",
      "✅ Already exists: ../era5_data/total_precipitation/total_precipitation_2016.grib\n",
      "\n",
      "⏱️ Total time for total_precipitation: 0.00 seconds\n"
     ]
    },
    {
     "name": "stderr",
     "output_type": "stream",
     "text": [
      "2025-07-13 16:40:43,069 INFO [2024-09-26T00:00:00] Watch our [Forum](https://forum.ecmwf.int/) for Announcements, news and other discussed topics.\n"
     ]
    },
    {
     "name": "stdout",
     "output_type": "stream",
     "text": [
      "✅ Already exists: ../era5_data/2m_temperature/2m_temperature_2025.grib\n",
      "✅ Already exists: ../era5_data/2m_temperature/2m_temperature_2024.grib\n",
      "✅ Already exists: ../era5_data/2m_temperature/2m_temperature_2023.grib\n",
      "✅ Already exists: ../era5_data/2m_temperature/2m_temperature_2022.grib\n",
      "✅ Already exists: ../era5_data/2m_temperature/2m_temperature_2021.grib\n",
      "✅ Already exists: ../era5_data/2m_temperature/2m_temperature_2020.grib\n",
      "✅ Already exists: ../era5_data/2m_temperature/2m_temperature_2019.grib\n",
      "✅ Already exists: ../era5_data/2m_temperature/2m_temperature_2018.grib\n",
      "✅ Already exists: ../era5_data/2m_temperature/2m_temperature_2017.grib\n",
      "✅ Already exists: ../era5_data/2m_temperature/2m_temperature_2016.grib\n",
      "\n",
      "⏱️ Total time for 2m_temperature: 0.00 seconds\n"
     ]
    },
    {
     "name": "stderr",
     "output_type": "stream",
     "text": [
      "2025-07-13 16:40:43,463 INFO [2024-09-26T00:00:00] Watch our [Forum](https://forum.ecmwf.int/) for Announcements, news and other discussed topics.\n"
     ]
    },
    {
     "name": "stdout",
     "output_type": "stream",
     "text": [
      "✅ Already exists: ../era5_data/2m_dewpoint_temperature/2m_dewpoint_temperature_2025.grib\n",
      "✅ Already exists: ../era5_data/2m_dewpoint_temperature/2m_dewpoint_temperature_2024.grib\n",
      "✅ Already exists: ../era5_data/2m_dewpoint_temperature/2m_dewpoint_temperature_2023.grib\n",
      "✅ Already exists: ../era5_data/2m_dewpoint_temperature/2m_dewpoint_temperature_2022.grib\n",
      "✅ Already exists: ../era5_data/2m_dewpoint_temperature/2m_dewpoint_temperature_2021.grib\n",
      "✅ Already exists: ../era5_data/2m_dewpoint_temperature/2m_dewpoint_temperature_2020.grib\n",
      "✅ Already exists: ../era5_data/2m_dewpoint_temperature/2m_dewpoint_temperature_2019.grib\n",
      "✅ Already exists: ../era5_data/2m_dewpoint_temperature/2m_dewpoint_temperature_2018.grib\n",
      "✅ Already exists: ../era5_data/2m_dewpoint_temperature/2m_dewpoint_temperature_2017.grib\n",
      "✅ Already exists: ../era5_data/2m_dewpoint_temperature/2m_dewpoint_temperature_2016.grib\n",
      "\n",
      "⏱️ Total time for 2m_dewpoint_temperature: 0.00 seconds\n"
     ]
    },
    {
     "name": "stderr",
     "output_type": "stream",
     "text": [
      "2025-07-13 16:40:43,845 INFO [2024-09-26T00:00:00] Watch our [Forum](https://forum.ecmwf.int/) for Announcements, news and other discussed topics.\n"
     ]
    },
    {
     "name": "stdout",
     "output_type": "stream",
     "text": [
      "✅ Already exists: ../era5_data/10m_u_component_of_wind/10m_u_component_of_wind_2025.grib\n",
      "✅ Already exists: ../era5_data/10m_u_component_of_wind/10m_u_component_of_wind_2024.grib\n",
      "✅ Already exists: ../era5_data/10m_u_component_of_wind/10m_u_component_of_wind_2023.grib\n",
      "✅ Already exists: ../era5_data/10m_u_component_of_wind/10m_u_component_of_wind_2022.grib\n",
      "✅ Already exists: ../era5_data/10m_u_component_of_wind/10m_u_component_of_wind_2021.grib\n",
      "✅ Already exists: ../era5_data/10m_u_component_of_wind/10m_u_component_of_wind_2020.grib\n",
      "✅ Already exists: ../era5_data/10m_u_component_of_wind/10m_u_component_of_wind_2019.grib\n",
      "✅ Already exists: ../era5_data/10m_u_component_of_wind/10m_u_component_of_wind_2018.grib\n",
      "✅ Already exists: ../era5_data/10m_u_component_of_wind/10m_u_component_of_wind_2017.grib\n",
      "✅ Already exists: ../era5_data/10m_u_component_of_wind/10m_u_component_of_wind_2016.grib\n",
      "\n",
      "⏱️ Total time for 10m_u_component_of_wind: 0.00 seconds\n"
     ]
    },
    {
     "name": "stderr",
     "output_type": "stream",
     "text": [
      "2025-07-13 16:40:44,235 INFO [2024-09-26T00:00:00] Watch our [Forum](https://forum.ecmwf.int/) for Announcements, news and other discussed topics.\n"
     ]
    },
    {
     "name": "stdout",
     "output_type": "stream",
     "text": [
      "✅ Already exists: ../era5_data/10m_v_component_of_wind/10m_v_component_of_wind_2025.grib\n",
      "✅ Already exists: ../era5_data/10m_v_component_of_wind/10m_v_component_of_wind_2024.grib\n",
      "✅ Already exists: ../era5_data/10m_v_component_of_wind/10m_v_component_of_wind_2023.grib\n",
      "✅ Already exists: ../era5_data/10m_v_component_of_wind/10m_v_component_of_wind_2022.grib\n",
      "✅ Already exists: ../era5_data/10m_v_component_of_wind/10m_v_component_of_wind_2021.grib\n",
      "✅ Already exists: ../era5_data/10m_v_component_of_wind/10m_v_component_of_wind_2020.grib\n",
      "✅ Already exists: ../era5_data/10m_v_component_of_wind/10m_v_component_of_wind_2019.grib\n",
      "✅ Already exists: ../era5_data/10m_v_component_of_wind/10m_v_component_of_wind_2018.grib\n",
      "✅ Already exists: ../era5_data/10m_v_component_of_wind/10m_v_component_of_wind_2017.grib\n",
      "✅ Already exists: ../era5_data/10m_v_component_of_wind/10m_v_component_of_wind_2016.grib\n",
      "\n",
      "⏱️ Total time for 10m_v_component_of_wind: 0.00 seconds\n"
     ]
    },
    {
     "name": "stderr",
     "output_type": "stream",
     "text": [
      "2025-07-13 16:40:44,605 INFO [2024-09-26T00:00:00] Watch our [Forum](https://forum.ecmwf.int/) for Announcements, news and other discussed topics.\n"
     ]
    },
    {
     "name": "stdout",
     "output_type": "stream",
     "text": [
      "✅ Already exists: ../era5_data/surface_solar_radiation_downwards/surface_solar_radiation_downwards_2025.grib\n",
      "✅ Already exists: ../era5_data/surface_solar_radiation_downwards/surface_solar_radiation_downwards_2024.grib\n",
      "✅ Already exists: ../era5_data/surface_solar_radiation_downwards/surface_solar_radiation_downwards_2023.grib\n",
      "✅ Already exists: ../era5_data/surface_solar_radiation_downwards/surface_solar_radiation_downwards_2022.grib\n",
      "✅ Already exists: ../era5_data/surface_solar_radiation_downwards/surface_solar_radiation_downwards_2021.grib\n",
      "✅ Already exists: ../era5_data/surface_solar_radiation_downwards/surface_solar_radiation_downwards_2020.grib\n",
      "✅ Already exists: ../era5_data/surface_solar_radiation_downwards/surface_solar_radiation_downwards_2019.grib\n",
      "✅ Already exists: ../era5_data/surface_solar_radiation_downwards/surface_solar_radiation_downwards_2018.grib\n",
      "✅ Already exists: ../era5_data/surface_solar_radiation_downwards/surface_solar_radiation_downwards_2017.grib\n",
      "✅ Already exists: ../era5_data/surface_solar_radiation_downwards/surface_solar_radiation_downwards_2016.grib\n",
      "\n",
      "⏱️ Total time for surface_solar_radiation_downwards: 0.00 seconds\n"
     ]
    },
    {
     "name": "stderr",
     "output_type": "stream",
     "text": [
      "2025-07-13 16:40:44,993 INFO [2024-09-26T00:00:00] Watch our [Forum](https://forum.ecmwf.int/) for Announcements, news and other discussed topics.\n"
     ]
    },
    {
     "name": "stdout",
     "output_type": "stream",
     "text": [
      "✅ Already exists: ../era5_data/potential_evaporation/potential_evaporation_2025.grib\n",
      "✅ Already exists: ../era5_data/potential_evaporation/potential_evaporation_2024.grib\n",
      "✅ Already exists: ../era5_data/potential_evaporation/potential_evaporation_2023.grib\n",
      "✅ Already exists: ../era5_data/potential_evaporation/potential_evaporation_2022.grib\n",
      "✅ Already exists: ../era5_data/potential_evaporation/potential_evaporation_2021.grib\n",
      "✅ Already exists: ../era5_data/potential_evaporation/potential_evaporation_2020.grib\n",
      "✅ Already exists: ../era5_data/potential_evaporation/potential_evaporation_2019.grib\n",
      "✅ Already exists: ../era5_data/potential_evaporation/potential_evaporation_2018.grib\n",
      "✅ Already exists: ../era5_data/potential_evaporation/potential_evaporation_2017.grib\n",
      "✅ Already exists: ../era5_data/potential_evaporation/potential_evaporation_2016.grib\n",
      "\n",
      "⏱️ Total time for potential_evaporation: 0.00 seconds\n"
     ]
    },
    {
     "name": "stderr",
     "output_type": "stream",
     "text": [
      "2025-07-13 16:40:45,396 INFO [2024-09-26T00:00:00] Watch our [Forum](https://forum.ecmwf.int/) for Announcements, news and other discussed topics.\n"
     ]
    },
    {
     "name": "stdout",
     "output_type": "stream",
     "text": [
      "✅ Already exists: ../era5_data/snow_depth/snow_depth_2025.grib\n",
      "✅ Already exists: ../era5_data/snow_depth/snow_depth_2024.grib\n",
      "✅ Already exists: ../era5_data/snow_depth/snow_depth_2023.grib\n",
      "✅ Already exists: ../era5_data/snow_depth/snow_depth_2022.grib\n",
      "✅ Already exists: ../era5_data/snow_depth/snow_depth_2021.grib\n",
      "✅ Already exists: ../era5_data/snow_depth/snow_depth_2020.grib\n",
      "\n",
      "⬇️ Downloading snow_depth for 2019...\n"
     ]
    },
    {
     "name": "stderr",
     "output_type": "stream",
     "text": [
      "2025-07-13 16:40:46,053 INFO Request ID is b53333f7-85e9-4e2b-aaea-8b0c5e415cb7\n",
      "2025-07-13 16:40:46,210 INFO status has been updated to accepted\n",
      "2025-07-13 16:41:00,327 INFO status has been updated to running\n",
      "2025-07-13 16:59:09,784 INFO status has been updated to successful\n"
     ]
    },
    {
     "data": {
      "application/vnd.jupyter.widget-view+json": {
       "model_id": "",
       "version_major": 2,
       "version_minor": 0
      },
      "text/plain": [
       "47ff7f5aabea61ffd11d02f9bc4e0164.grib:   0%|          | 0.00/4.28M [00:00<?, ?B/s]"
      ]
     },
     "metadata": {},
     "output_type": "display_data"
    },
    {
     "name": "stdout",
     "output_type": "stream",
     "text": [
      "✅ Finished 2019 in 1107.53 seconds\n",
      "\n",
      "⬇️ Downloading snow_depth for 2018...\n"
     ]
    },
    {
     "name": "stderr",
     "output_type": "stream",
     "text": [
      "2025-07-13 16:59:13,541 INFO Request ID is 8653d538-2fce-4259-b040-60d9a0bce4b5\n",
      "2025-07-13 16:59:13,705 INFO status has been updated to accepted\n",
      "2025-07-13 17:00:04,639 INFO status has been updated to running\n",
      "2025-07-13 17:13:38,240 INFO status has been updated to successful\n"
     ]
    },
    {
     "data": {
      "application/vnd.jupyter.widget-view+json": {
       "model_id": "",
       "version_major": 2,
       "version_minor": 0
      },
      "text/plain": [
       "a865b3401ba7a178c7b7d772b2d1a7ad.grib:   0%|          | 0.00/4.28M [00:00<?, ?B/s]"
      ]
     },
     "metadata": {},
     "output_type": "display_data"
    },
    {
     "name": "stdout",
     "output_type": "stream",
     "text": [
      "✅ Finished 2018 in 868.00 seconds\n",
      "\n",
      "⬇️ Downloading snow_depth for 2017...\n"
     ]
    },
    {
     "name": "stderr",
     "output_type": "stream",
     "text": [
      "2025-07-13 17:13:41,609 INFO Request ID is 9463c86a-3755-4693-85e0-a0a648f6da29\n",
      "2025-07-13 17:13:41,766 INFO status has been updated to accepted\n",
      "2025-07-13 17:13:50,529 INFO status has been updated to running\n",
      "2025-07-13 17:28:04,712 INFO status has been updated to successful\n"
     ]
    },
    {
     "data": {
      "application/vnd.jupyter.widget-view+json": {
       "model_id": "",
       "version_major": 2,
       "version_minor": 0
      },
      "text/plain": [
       "67053a0d2a60e83019482a7780691826.grib:   0%|          | 0.00/4.28M [00:00<?, ?B/s]"
      ]
     },
     "metadata": {},
     "output_type": "display_data"
    },
    {
     "name": "stdout",
     "output_type": "stream",
     "text": [
      "✅ Finished 2017 in 866.11 seconds\n",
      "\n",
      "⬇️ Downloading snow_depth for 2016...\n"
     ]
    },
    {
     "name": "stderr",
     "output_type": "stream",
     "text": [
      "2025-07-13 17:28:07,894 INFO Request ID is 64335021-a029-4b41-9387-4500e0f08a15\n",
      "2025-07-13 17:28:08,060 INFO status has been updated to accepted\n",
      "2025-07-13 17:28:13,286 INFO status has been updated to running\n",
      "2025-07-13 17:44:31,391 INFO status has been updated to successful\n"
     ]
    },
    {
     "data": {
      "application/vnd.jupyter.widget-view+json": {
       "model_id": "",
       "version_major": 2,
       "version_minor": 0
      },
      "text/plain": [
       "f2e65763aec1e82b7f3d56deec0160f7.grib:   0%|          | 0.00/4.29M [00:00<?, ?B/s]"
      ]
     },
     "metadata": {},
     "output_type": "display_data"
    },
    {
     "name": "stdout",
     "output_type": "stream",
     "text": [
      "✅ Finished 2016 in 986.69 seconds\n",
      "\n",
      "⏱️ Total time for snow_depth: 3828.32 seconds\n"
     ]
    },
    {
     "name": "stderr",
     "output_type": "stream",
     "text": [
      "2025-07-13 17:44:34,133 INFO [2024-09-26T00:00:00] Watch our [Forum](https://forum.ecmwf.int/) for Announcements, news and other discussed topics.\n"
     ]
    },
    {
     "name": "stdout",
     "output_type": "stream",
     "text": [
      "✅ Already exists: ../era5_data/snowmelt/snowmelt_2025.grib\n",
      "✅ Already exists: ../era5_data/snowmelt/snowmelt_2024.grib\n",
      "✅ Already exists: ../era5_data/snowmelt/snowmelt_2023.grib\n",
      "✅ Already exists: ../era5_data/snowmelt/snowmelt_2022.grib\n",
      "✅ Already exists: ../era5_data/snowmelt/snowmelt_2021.grib\n",
      "✅ Already exists: ../era5_data/snowmelt/snowmelt_2020.grib\n",
      "\n",
      "⬇️ Downloading snowmelt for 2019...\n"
     ]
    },
    {
     "name": "stderr",
     "output_type": "stream",
     "text": [
      "2025-07-13 17:44:34,911 INFO Request ID is e6cc7dd1-3085-47b2-afbb-3319cc682480\n",
      "2025-07-13 17:44:35,046 INFO status has been updated to accepted\n",
      "2025-07-13 17:44:43,787 INFO status has been updated to running\n",
      "2025-07-13 17:56:57,878 INFO status has been updated to successful\n"
     ]
    },
    {
     "data": {
      "application/vnd.jupyter.widget-view+json": {
       "model_id": "",
       "version_major": 2,
       "version_minor": 0
      },
      "text/plain": [
       "e1b421a0e3a28beee895a72395af112c.grib:   0%|          | 0.00/3.16M [00:00<?, ?B/s]"
      ]
     },
     "metadata": {},
     "output_type": "display_data"
    },
    {
     "name": "stdout",
     "output_type": "stream",
     "text": [
      "✅ Finished 2019 in 745.99 seconds\n",
      "\n",
      "⬇️ Downloading snowmelt for 2018...\n"
     ]
    },
    {
     "name": "stderr",
     "output_type": "stream",
     "text": [
      "2025-07-13 17:57:00,712 INFO Request ID is fddaf538-db41-4e27-85e6-7667ee9e7215\n",
      "2025-07-13 17:57:00,865 INFO status has been updated to accepted\n",
      "2025-07-13 17:57:09,769 INFO status has been updated to running\n",
      "2025-07-13 18:09:24,578 INFO status has been updated to successful\n"
     ]
    },
    {
     "data": {
      "application/vnd.jupyter.widget-view+json": {
       "model_id": "",
       "version_major": 2,
       "version_minor": 0
      },
      "text/plain": [
       "8baa9d29e7671a8176faf4ab74516f79.grib:   0%|          | 0.00/3.16M [00:00<?, ?B/s]"
      ]
     },
     "metadata": {},
     "output_type": "display_data"
    },
    {
     "name": "stdout",
     "output_type": "stream",
     "text": [
      "✅ Finished 2018 in 746.73 seconds\n",
      "\n",
      "⬇️ Downloading snowmelt for 2017...\n"
     ]
    },
    {
     "name": "stderr",
     "output_type": "stream",
     "text": [
      "2025-07-13 18:09:29,135 INFO Request ID is 185e8c6a-619c-4e34-a97d-fcce9e1e2994\n",
      "2025-07-13 18:09:29,296 INFO status has been updated to accepted\n",
      "2025-07-13 18:09:38,088 INFO status has been updated to running\n",
      "2025-07-13 18:21:52,818 INFO status has been updated to successful\n"
     ]
    },
    {
     "data": {
      "application/vnd.jupyter.widget-view+json": {
       "model_id": "",
       "version_major": 2,
       "version_minor": 0
      },
      "text/plain": [
       "ee5a8afaa4fc497d1305b4dcb547e191.grib:   0%|          | 0.00/3.16M [00:00<?, ?B/s]"
      ]
     },
     "metadata": {},
     "output_type": "display_data"
    },
    {
     "name": "stdout",
     "output_type": "stream",
     "text": [
      "✅ Finished 2017 in 748.42 seconds\n",
      "\n",
      "⬇️ Downloading snowmelt for 2016...\n"
     ]
    },
    {
     "name": "stderr",
     "output_type": "stream",
     "text": [
      "2025-07-13 18:21:56,574 INFO Request ID is be5ae2d9-fecf-4fef-a5cb-81916efa3295\n",
      "2025-07-13 18:21:56,763 INFO status has been updated to accepted\n",
      "2025-07-13 18:22:05,604 INFO status has been updated to running\n",
      "2025-07-13 18:36:19,863 INFO status has been updated to successful\n"
     ]
    },
    {
     "data": {
      "application/vnd.jupyter.widget-view+json": {
       "model_id": "",
       "version_major": 2,
       "version_minor": 0
      },
      "text/plain": [
       "7f31144da350897943f9f8398b052eb1.grib:   0%|          | 0.00/3.17M [00:00<?, ?B/s]"
      ]
     },
     "metadata": {},
     "output_type": "display_data"
    },
    {
     "name": "stdout",
     "output_type": "stream",
     "text": [
      "✅ Finished 2016 in 866.94 seconds\n",
      "\n",
      "⏱️ Total time for snowmelt: 3108.09 seconds\n"
     ]
    },
    {
     "name": "stderr",
     "output_type": "stream",
     "text": [
      "2025-07-13 18:36:22,623 INFO [2024-09-26T00:00:00] Watch our [Forum](https://forum.ecmwf.int/) for Announcements, news and other discussed topics.\n"
     ]
    },
    {
     "name": "stdout",
     "output_type": "stream",
     "text": [
      "✅ Already exists: ../era5_data/soil_temperature_level_1/soil_temperature_level_1_2025.grib\n",
      "✅ Already exists: ../era5_data/soil_temperature_level_1/soil_temperature_level_1_2024.grib\n",
      "✅ Already exists: ../era5_data/soil_temperature_level_1/soil_temperature_level_1_2023.grib\n",
      "✅ Already exists: ../era5_data/soil_temperature_level_1/soil_temperature_level_1_2022.grib\n",
      "✅ Already exists: ../era5_data/soil_temperature_level_1/soil_temperature_level_1_2021.grib\n",
      "✅ Already exists: ../era5_data/soil_temperature_level_1/soil_temperature_level_1_2020.grib\n",
      "\n",
      "⬇️ Downloading soil_temperature_level_1 for 2019...\n"
     ]
    },
    {
     "name": "stderr",
     "output_type": "stream",
     "text": [
      "2025-07-13 18:36:23,356 INFO Request ID is d788c4b4-2c63-48b1-ae28-13dc5ffdc5f2\n",
      "2025-07-13 18:36:23,548 INFO status has been updated to accepted\n",
      "2025-07-13 18:36:32,389 INFO status has been updated to running\n",
      "2025-07-13 18:48:46,040 INFO status has been updated to successful\n"
     ]
    },
    {
     "data": {
      "application/vnd.jupyter.widget-view+json": {
       "model_id": "",
       "version_major": 2,
       "version_minor": 0
      },
      "text/plain": [
       "7ff75f693084d778823cb75393dd6360.grib:   0%|          | 0.00/3.16M [00:00<?, ?B/s]"
      ]
     },
     "metadata": {},
     "output_type": "display_data"
    },
    {
     "name": "stdout",
     "output_type": "stream",
     "text": [
      "✅ Finished 2019 in 745.55 seconds\n",
      "\n",
      "⬇️ Downloading soil_temperature_level_1 for 2018...\n"
     ]
    },
    {
     "name": "stderr",
     "output_type": "stream",
     "text": [
      "2025-07-13 18:48:49,060 INFO Request ID is f2e0f31f-fbb2-4e28-a92e-519f4373a6e8\n",
      "2025-07-13 18:48:49,618 INFO status has been updated to accepted\n",
      "2025-07-13 18:48:54,854 INFO status has been updated to running\n",
      "2025-07-13 19:01:12,736 INFO status has been updated to successful\n"
     ]
    },
    {
     "data": {
      "application/vnd.jupyter.widget-view+json": {
       "model_id": "",
       "version_major": 2,
       "version_minor": 0
      },
      "text/plain": [
       "3a83ace35fa6ed8009c353f0bed4e315.grib:   0%|          | 0.00/3.16M [00:00<?, ?B/s]"
      ]
     },
     "metadata": {},
     "output_type": "display_data"
    },
    {
     "name": "stdout",
     "output_type": "stream",
     "text": [
      "✅ Finished 2018 in 747.64 seconds\n",
      "\n",
      "⬇️ Downloading soil_temperature_level_1 for 2017...\n"
     ]
    },
    {
     "name": "stderr",
     "output_type": "stream",
     "text": [
      "2025-07-13 19:01:16,709 INFO Request ID is 9a2d5d4d-dc75-472e-ab65-1ee2bcaabea3\n",
      "2025-07-13 19:01:16,880 INFO status has been updated to accepted\n",
      "2025-07-13 19:01:25,985 INFO status has been updated to running\n",
      "2025-07-13 19:17:40,963 INFO status has been updated to successful\n"
     ]
    },
    {
     "data": {
      "application/vnd.jupyter.widget-view+json": {
       "model_id": "",
       "version_major": 2,
       "version_minor": 0
      },
      "text/plain": [
       "36eb2bc993bb6d67c135eb21994dbd85.grib:   0%|          | 0.00/3.16M [00:00<?, ?B/s]"
      ]
     },
     "metadata": {},
     "output_type": "display_data"
    },
    {
     "name": "stdout",
     "output_type": "stream",
     "text": [
      "✅ Finished 2017 in 987.88 seconds\n",
      "\n",
      "⬇️ Downloading soil_temperature_level_1 for 2016...\n"
     ]
    },
    {
     "name": "stderr",
     "output_type": "stream",
     "text": [
      "2025-07-13 19:17:44,513 INFO Request ID is 1a9ee7b0-819e-4a28-bf4b-ea99c64b67bc\n",
      "2025-07-13 19:17:44,668 INFO status has been updated to accepted\n",
      "2025-07-13 19:17:53,785 INFO status has been updated to running\n",
      "2025-07-13 19:30:07,437 INFO status has been updated to successful\n"
     ]
    },
    {
     "data": {
      "application/vnd.jupyter.widget-view+json": {
       "model_id": "",
       "version_major": 2,
       "version_minor": 0
      },
      "text/plain": [
       "1978af6a95c75a21c0d7b395e9212dba.grib:   0%|          | 0.00/3.17M [00:00<?, ?B/s]"
      ]
     },
     "metadata": {},
     "output_type": "display_data"
    },
    {
     "name": "stdout",
     "output_type": "stream",
     "text": [
      "✅ Finished 2016 in 745.92 seconds\n",
      "\n",
      "⏱️ Total time for soil_temperature_level_1: 3226.99 seconds\n"
     ]
    },
    {
     "name": "stderr",
     "output_type": "stream",
     "text": [
      "2025-07-13 19:30:10,016 INFO [2024-09-26T00:00:00] Watch our [Forum](https://forum.ecmwf.int/) for Announcements, news and other discussed topics.\n"
     ]
    },
    {
     "name": "stdout",
     "output_type": "stream",
     "text": [
      "✅ Already exists: ../era5_data/surface_runoff/surface_runoff_2025.grib\n",
      "✅ Already exists: ../era5_data/surface_runoff/surface_runoff_2024.grib\n",
      "✅ Already exists: ../era5_data/surface_runoff/surface_runoff_2023.grib\n",
      "✅ Already exists: ../era5_data/surface_runoff/surface_runoff_2022.grib\n",
      "✅ Already exists: ../era5_data/surface_runoff/surface_runoff_2021.grib\n",
      "✅ Already exists: ../era5_data/surface_runoff/surface_runoff_2020.grib\n",
      "\n",
      "⬇️ Downloading surface_runoff for 2019...\n"
     ]
    },
    {
     "name": "stderr",
     "output_type": "stream",
     "text": [
      "2025-07-13 19:30:10,988 INFO Request ID is b64d6dab-b73a-4810-91d6-041fd77ba082\n",
      "2025-07-13 19:30:11,142 INFO status has been updated to accepted\n",
      "2025-07-13 19:30:19,909 INFO status has been updated to running\n",
      "2025-07-13 19:42:33,990 INFO status has been updated to successful\n"
     ]
    },
    {
     "data": {
      "application/vnd.jupyter.widget-view+json": {
       "model_id": "",
       "version_major": 2,
       "version_minor": 0
      },
      "text/plain": [
       "1f8a0f140452c3d4e090df9988c09377.grib:   0%|          | 0.00/3.16M [00:00<?, ?B/s]"
      ]
     },
     "metadata": {},
     "output_type": "display_data"
    },
    {
     "name": "stdout",
     "output_type": "stream",
     "text": [
      "✅ Finished 2019 in 746.29 seconds\n",
      "\n",
      "⬇️ Downloading surface_runoff for 2018...\n"
     ]
    },
    {
     "name": "stderr",
     "output_type": "stream",
     "text": [
      "2025-07-13 19:42:37,011 INFO Request ID is 76b18f29-ec4b-41da-9bb1-ea82959baa0b\n",
      "2025-07-13 19:42:37,230 INFO status has been updated to accepted\n",
      "2025-07-13 19:42:46,010 INFO status has been updated to running\n",
      "2025-07-13 19:55:00,081 INFO status has been updated to successful\n"
     ]
    },
    {
     "data": {
      "application/vnd.jupyter.widget-view+json": {
       "model_id": "",
       "version_major": 2,
       "version_minor": 0
      },
      "text/plain": [
       "a32c7435a95c70425c8b10a22fef4b54.grib:   0%|          | 0.00/3.16M [00:00<?, ?B/s]"
      ]
     },
     "metadata": {},
     "output_type": "display_data"
    },
    {
     "name": "stdout",
     "output_type": "stream",
     "text": [
      "✅ Finished 2018 in 749.42 seconds\n",
      "\n",
      "⬇️ Downloading surface_runoff for 2017...\n"
     ]
    },
    {
     "name": "stderr",
     "output_type": "stream",
     "text": [
      "2025-07-13 19:55:06,455 INFO Request ID is c118775a-ce8d-48fc-b687-e91b3a9dcd0d\n",
      "2025-07-13 19:55:06,613 INFO status has been updated to accepted\n",
      "2025-07-13 19:55:15,417 INFO status has been updated to running\n",
      "2025-07-13 20:09:28,863 INFO status has been updated to successful\n"
     ]
    },
    {
     "data": {
      "application/vnd.jupyter.widget-view+json": {
       "model_id": "",
       "version_major": 2,
       "version_minor": 0
      },
      "text/plain": [
       "e029d4865167f30be0dbc969942a1ea.grib:   0%|          | 0.00/3.16M [00:00<?, ?B/s]"
      ]
     },
     "metadata": {},
     "output_type": "display_data"
    },
    {
     "name": "stdout",
     "output_type": "stream",
     "text": [
      "✅ Finished 2017 in 865.42 seconds\n",
      "\n",
      "⬇️ Downloading surface_runoff for 2016...\n"
     ]
    },
    {
     "name": "stderr",
     "output_type": "stream",
     "text": [
      "2025-07-13 20:09:31,955 INFO Request ID is 8c6c3d3f-920a-45e6-860f-c5d447b204f5\n",
      "2025-07-13 20:09:32,301 INFO status has been updated to accepted\n",
      "2025-07-13 20:09:41,136 INFO status has been updated to running\n",
      "2025-07-13 20:23:56,936 INFO status has been updated to successful\n"
     ]
    },
    {
     "data": {
      "application/vnd.jupyter.widget-view+json": {
       "model_id": "",
       "version_major": 2,
       "version_minor": 0
      },
      "text/plain": [
       "e7283c64917a221374692322d0125d8.grib:   0%|          | 0.00/3.17M [00:00<?, ?B/s]"
      ]
     },
     "metadata": {},
     "output_type": "display_data"
    },
    {
     "name": "stdout",
     "output_type": "stream",
     "text": [
      "✅ Finished 2016 in 869.46 seconds\n",
      "\n",
      "⏱️ Total time for surface_runoff: 3230.59 seconds\n"
     ]
    },
    {
     "name": "stderr",
     "output_type": "stream",
     "text": [
      "2025-07-13 20:24:01,127 INFO [2024-09-26T00:00:00] Watch our [Forum](https://forum.ecmwf.int/) for Announcements, news and other discussed topics.\n"
     ]
    },
    {
     "name": "stdout",
     "output_type": "stream",
     "text": [
      "✅ Already exists: ../era5_data/sub_surface_runoff/sub_surface_runoff_2025.grib\n",
      "✅ Already exists: ../era5_data/sub_surface_runoff/sub_surface_runoff_2024.grib\n",
      "✅ Already exists: ../era5_data/sub_surface_runoff/sub_surface_runoff_2023.grib\n",
      "✅ Already exists: ../era5_data/sub_surface_runoff/sub_surface_runoff_2022.grib\n",
      "✅ Already exists: ../era5_data/sub_surface_runoff/sub_surface_runoff_2021.grib\n",
      "✅ Already exists: ../era5_data/sub_surface_runoff/sub_surface_runoff_2020.grib\n",
      "\n",
      "⬇️ Downloading sub_surface_runoff for 2019...\n"
     ]
    },
    {
     "name": "stderr",
     "output_type": "stream",
     "text": [
      "2025-07-13 20:24:02,038 INFO Request ID is 5a98e070-58cf-424d-ac14-bd42cdf1e3a7\n",
      "2025-07-13 20:24:02,206 INFO status has been updated to accepted\n",
      "2025-07-13 20:24:11,141 INFO status has been updated to running\n",
      "2025-07-13 20:36:25,427 INFO status has been updated to successful\n"
     ]
    },
    {
     "data": {
      "application/vnd.jupyter.widget-view+json": {
       "model_id": "",
       "version_major": 2,
       "version_minor": 0
      },
      "text/plain": [
       "23b197946c7f0c40cfef2443cd33dd80.grib:   0%|          | 0.00/3.16M [00:00<?, ?B/s]"
      ]
     },
     "metadata": {},
     "output_type": "display_data"
    },
    {
     "name": "stdout",
     "output_type": "stream",
     "text": [
      "✅ Finished 2019 in 746.48 seconds\n",
      "\n",
      "⬇️ Downloading sub_surface_runoff for 2018...\n"
     ]
    },
    {
     "name": "stderr",
     "output_type": "stream",
     "text": [
      "2025-07-13 20:36:28,187 INFO Request ID is 229ff395-6b06-4da8-9cd8-d8ad4251d0ec\n",
      "2025-07-13 20:36:28,338 INFO status has been updated to accepted\n",
      "2025-07-13 20:36:37,478 INFO status has been updated to running\n",
      "2025-07-13 20:48:51,071 INFO status has been updated to successful\n"
     ]
    },
    {
     "data": {
      "application/vnd.jupyter.widget-view+json": {
       "model_id": "",
       "version_major": 2,
       "version_minor": 0
      },
      "text/plain": [
       "2817b35578a8a10ece91fffa21248171.grib:   0%|          | 0.00/3.16M [00:00<?, ?B/s]"
      ]
     },
     "metadata": {},
     "output_type": "display_data"
    },
    {
     "name": "stdout",
     "output_type": "stream",
     "text": [
      "✅ Finished 2018 in 745.85 seconds\n",
      "\n",
      "⬇️ Downloading sub_surface_runoff for 2017...\n"
     ]
    },
    {
     "name": "stderr",
     "output_type": "stream",
     "text": [
      "2025-07-13 20:48:54,180 INFO Request ID is 4c10bfd3-9b52-4a3e-a5a0-0a343a6e7b26\n",
      "2025-07-13 20:48:54,486 INFO status has been updated to accepted\n",
      "2025-07-13 20:48:59,749 INFO status has been updated to running\n",
      "2025-07-13 21:01:17,892 INFO status has been updated to successful\n"
     ]
    },
    {
     "data": {
      "application/vnd.jupyter.widget-view+json": {
       "model_id": "",
       "version_major": 2,
       "version_minor": 0
      },
      "text/plain": [
       "e9d93425ef72d1103778c5a63e7f0de7.grib:   0%|          | 0.00/3.16M [00:00<?, ?B/s]"
      ]
     },
     "metadata": {},
     "output_type": "display_data"
    },
    {
     "name": "stdout",
     "output_type": "stream",
     "text": [
      "✅ Finished 2017 in 746.78 seconds\n",
      "\n",
      "⬇️ Downloading sub_surface_runoff for 2016...\n"
     ]
    },
    {
     "name": "stderr",
     "output_type": "stream",
     "text": [
      "2025-07-13 21:01:21,201 INFO Request ID is f6dd559e-8030-4f74-b421-5689643bca98\n",
      "2025-07-13 21:01:21,362 INFO status has been updated to accepted\n",
      "2025-07-13 21:01:43,520 INFO status has been updated to running\n",
      "2025-07-13 21:15:44,829 INFO status has been updated to successful\n"
     ]
    },
    {
     "data": {
      "application/vnd.jupyter.widget-view+json": {
       "model_id": "",
       "version_major": 2,
       "version_minor": 0
      },
      "text/plain": [
       "1e598a82ee9ba124c77855088df55bef.grib:   0%|          | 0.00/3.17M [00:00<?, ?B/s]"
      ]
     },
     "metadata": {},
     "output_type": "display_data"
    },
    {
     "name": "stdout",
     "output_type": "stream",
     "text": [
      "✅ Finished 2016 in 867.40 seconds\n",
      "\n",
      "⏱️ Total time for sub_surface_runoff: 3106.52 seconds\n"
     ]
    }
   ],
   "source": [
    "for var in era5_variables:\n",
    "    download_era5_hourly_variable(\n",
    "        variable_name=var,\n",
    "        years=range(2025, 2015, -1)\n",
    "    )"
   ]
  },
  {
   "cell_type": "code",
   "execution_count": null,
   "id": "c7ca909b",
   "metadata": {},
   "outputs": [],
   "source": []
  }
 ],
 "metadata": {
  "kernelspec": {
   "display_name": "Python 3 (ipykernel)",
   "language": "python",
   "name": "python3"
  },
  "language_info": {
   "codemirror_mode": {
    "name": "ipython",
    "version": 3
   },
   "file_extension": ".py",
   "mimetype": "text/x-python",
   "name": "python",
   "nbconvert_exporter": "python",
   "pygments_lexer": "ipython3",
   "version": "3.9.12"
  }
 },
 "nbformat": 4,
 "nbformat_minor": 5
}
