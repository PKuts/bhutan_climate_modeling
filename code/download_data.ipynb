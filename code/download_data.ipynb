{
 "cells": [
  {
   "cell_type": "code",
   "execution_count": 1,
   "id": "18a94340",
   "metadata": {},
   "outputs": [],
   "source": [
    "from era5_hourly_downloader import download_era5_hourly_variable"
   ]
  },
  {
   "cell_type": "code",
   "execution_count": 2,
   "id": "6cd87b06",
   "metadata": {},
   "outputs": [],
   "source": [
    "era5_variables = [\n",
    "    \"total_precipitation\",\n",
    "    \"2m_temperature\",\n",
    "    \"2m_dewpoint_temperature\",\n",
    "    \"10m_u_component_of_wind\",\n",
    "    \"10m_v_component_of_wind\",\n",
    "    \"surface_solar_radiation_downwards\",\n",
    "    \"potential_evaporation\",\n",
    "    \"snow_depth\",\n",
    "    \"snowmelt\",\n",
    "    \"soil_temperature_level_1\",\n",
    "    \"surface_runoff\", # to be used as flood indicator proxy\n",
    "    \"sub_surface_runoff\", # to be used as flood indicator proxy\n",
    "]\n",
    "\n",
    "# relative humidity does not exist - need to be derived from 2m_temperature and 2m_dewpoint_temperature\n"
   ]
  },
  {
   "cell_type": "code",
   "execution_count": 3,
   "id": "c192d7c2",
   "metadata": {},
   "outputs": [
    {
     "name": "stderr",
     "output_type": "stream",
     "text": [
      "2025-07-16 21:44:42,924 INFO [2024-09-26T00:00:00] Watch our [Forum](https://forum.ecmwf.int/) for Announcements, news and other discussed topics.\n"
     ]
    },
    {
     "name": "stdout",
     "output_type": "stream",
     "text": [
      "✅ Already exists: ../era5_data_grib_raw/total_precipitation/total_precipitation_1999.grib\n",
      "✅ Already exists: ../era5_data_grib_raw/total_precipitation/total_precipitation_1998.grib\n",
      "✅ Already exists: ../era5_data_grib_raw/total_precipitation/total_precipitation_1997.grib\n",
      "✅ Already exists: ../era5_data_grib_raw/total_precipitation/total_precipitation_1996.grib\n",
      "✅ Already exists: ../era5_data_grib_raw/total_precipitation/total_precipitation_1995.grib\n",
      "✅ Already exists: ../era5_data_grib_raw/total_precipitation/total_precipitation_1994.grib\n",
      "✅ Already exists: ../era5_data_grib_raw/total_precipitation/total_precipitation_1993.grib\n",
      "✅ Already exists: ../era5_data_grib_raw/total_precipitation/total_precipitation_1992.grib\n",
      "✅ Already exists: ../era5_data_grib_raw/total_precipitation/total_precipitation_1991.grib\n",
      "\n",
      "⏱️ Total time for total_precipitation: 0.00 seconds\n"
     ]
    },
    {
     "name": "stderr",
     "output_type": "stream",
     "text": [
      "2025-07-16 21:44:43,326 INFO [2024-09-26T00:00:00] Watch our [Forum](https://forum.ecmwf.int/) for Announcements, news and other discussed topics.\n"
     ]
    },
    {
     "name": "stdout",
     "output_type": "stream",
     "text": [
      "✅ Already exists: ../era5_data_grib_raw/2m_temperature/2m_temperature_1999.grib\n",
      "✅ Already exists: ../era5_data_grib_raw/2m_temperature/2m_temperature_1998.grib\n",
      "✅ Already exists: ../era5_data_grib_raw/2m_temperature/2m_temperature_1997.grib\n",
      "✅ Already exists: ../era5_data_grib_raw/2m_temperature/2m_temperature_1996.grib\n",
      "✅ Already exists: ../era5_data_grib_raw/2m_temperature/2m_temperature_1995.grib\n",
      "✅ Already exists: ../era5_data_grib_raw/2m_temperature/2m_temperature_1994.grib\n",
      "✅ Already exists: ../era5_data_grib_raw/2m_temperature/2m_temperature_1993.grib\n",
      "✅ Already exists: ../era5_data_grib_raw/2m_temperature/2m_temperature_1992.grib\n",
      "✅ Already exists: ../era5_data_grib_raw/2m_temperature/2m_temperature_1991.grib\n",
      "\n",
      "⏱️ Total time for 2m_temperature: 0.00 seconds\n"
     ]
    },
    {
     "name": "stderr",
     "output_type": "stream",
     "text": [
      "2025-07-16 21:44:43,725 INFO [2024-09-26T00:00:00] Watch our [Forum](https://forum.ecmwf.int/) for Announcements, news and other discussed topics.\n"
     ]
    },
    {
     "name": "stdout",
     "output_type": "stream",
     "text": [
      "✅ Already exists: ../era5_data_grib_raw/2m_dewpoint_temperature/2m_dewpoint_temperature_1999.grib\n",
      "✅ Already exists: ../era5_data_grib_raw/2m_dewpoint_temperature/2m_dewpoint_temperature_1998.grib\n",
      "✅ Already exists: ../era5_data_grib_raw/2m_dewpoint_temperature/2m_dewpoint_temperature_1997.grib\n",
      "✅ Already exists: ../era5_data_grib_raw/2m_dewpoint_temperature/2m_dewpoint_temperature_1996.grib\n",
      "✅ Already exists: ../era5_data_grib_raw/2m_dewpoint_temperature/2m_dewpoint_temperature_1995.grib\n",
      "✅ Already exists: ../era5_data_grib_raw/2m_dewpoint_temperature/2m_dewpoint_temperature_1994.grib\n",
      "✅ Already exists: ../era5_data_grib_raw/2m_dewpoint_temperature/2m_dewpoint_temperature_1993.grib\n",
      "✅ Already exists: ../era5_data_grib_raw/2m_dewpoint_temperature/2m_dewpoint_temperature_1992.grib\n",
      "✅ Already exists: ../era5_data_grib_raw/2m_dewpoint_temperature/2m_dewpoint_temperature_1991.grib\n",
      "\n",
      "⏱️ Total time for 2m_dewpoint_temperature: 0.00 seconds\n"
     ]
    },
    {
     "name": "stderr",
     "output_type": "stream",
     "text": [
      "2025-07-16 21:44:44,112 INFO [2024-09-26T00:00:00] Watch our [Forum](https://forum.ecmwf.int/) for Announcements, news and other discussed topics.\n"
     ]
    },
    {
     "name": "stdout",
     "output_type": "stream",
     "text": [
      "✅ Already exists: ../era5_data_grib_raw/10m_u_component_of_wind/10m_u_component_of_wind_1999.grib\n",
      "✅ Already exists: ../era5_data_grib_raw/10m_u_component_of_wind/10m_u_component_of_wind_1998.grib\n",
      "✅ Already exists: ../era5_data_grib_raw/10m_u_component_of_wind/10m_u_component_of_wind_1997.grib\n",
      "✅ Already exists: ../era5_data_grib_raw/10m_u_component_of_wind/10m_u_component_of_wind_1996.grib\n",
      "✅ Already exists: ../era5_data_grib_raw/10m_u_component_of_wind/10m_u_component_of_wind_1995.grib\n",
      "✅ Already exists: ../era5_data_grib_raw/10m_u_component_of_wind/10m_u_component_of_wind_1994.grib\n",
      "✅ Already exists: ../era5_data_grib_raw/10m_u_component_of_wind/10m_u_component_of_wind_1993.grib\n",
      "✅ Already exists: ../era5_data_grib_raw/10m_u_component_of_wind/10m_u_component_of_wind_1992.grib\n",
      "✅ Already exists: ../era5_data_grib_raw/10m_u_component_of_wind/10m_u_component_of_wind_1991.grib\n",
      "\n",
      "⏱️ Total time for 10m_u_component_of_wind: 0.00 seconds\n"
     ]
    },
    {
     "name": "stderr",
     "output_type": "stream",
     "text": [
      "2025-07-16 21:44:44,530 INFO [2024-09-26T00:00:00] Watch our [Forum](https://forum.ecmwf.int/) for Announcements, news and other discussed topics.\n"
     ]
    },
    {
     "name": "stdout",
     "output_type": "stream",
     "text": [
      "✅ Already exists: ../era5_data_grib_raw/10m_v_component_of_wind/10m_v_component_of_wind_1999.grib\n",
      "✅ Already exists: ../era5_data_grib_raw/10m_v_component_of_wind/10m_v_component_of_wind_1998.grib\n",
      "✅ Already exists: ../era5_data_grib_raw/10m_v_component_of_wind/10m_v_component_of_wind_1997.grib\n",
      "✅ Already exists: ../era5_data_grib_raw/10m_v_component_of_wind/10m_v_component_of_wind_1996.grib\n",
      "✅ Already exists: ../era5_data_grib_raw/10m_v_component_of_wind/10m_v_component_of_wind_1995.grib\n",
      "✅ Already exists: ../era5_data_grib_raw/10m_v_component_of_wind/10m_v_component_of_wind_1994.grib\n",
      "✅ Already exists: ../era5_data_grib_raw/10m_v_component_of_wind/10m_v_component_of_wind_1993.grib\n",
      "✅ Already exists: ../era5_data_grib_raw/10m_v_component_of_wind/10m_v_component_of_wind_1992.grib\n",
      "✅ Already exists: ../era5_data_grib_raw/10m_v_component_of_wind/10m_v_component_of_wind_1991.grib\n",
      "\n",
      "⏱️ Total time for 10m_v_component_of_wind: 0.00 seconds\n"
     ]
    },
    {
     "name": "stderr",
     "output_type": "stream",
     "text": [
      "2025-07-16 21:44:44,904 INFO [2024-09-26T00:00:00] Watch our [Forum](https://forum.ecmwf.int/) for Announcements, news and other discussed topics.\n"
     ]
    },
    {
     "name": "stdout",
     "output_type": "stream",
     "text": [
      "✅ Already exists: ../era5_data_grib_raw/surface_solar_radiation_downwards/surface_solar_radiation_downwards_1999.grib\n",
      "✅ Already exists: ../era5_data_grib_raw/surface_solar_radiation_downwards/surface_solar_radiation_downwards_1998.grib\n",
      "✅ Already exists: ../era5_data_grib_raw/surface_solar_radiation_downwards/surface_solar_radiation_downwards_1997.grib\n",
      "✅ Already exists: ../era5_data_grib_raw/surface_solar_radiation_downwards/surface_solar_radiation_downwards_1996.grib\n",
      "✅ Already exists: ../era5_data_grib_raw/surface_solar_radiation_downwards/surface_solar_radiation_downwards_1995.grib\n",
      "✅ Already exists: ../era5_data_grib_raw/surface_solar_radiation_downwards/surface_solar_radiation_downwards_1994.grib\n",
      "\n",
      "⬇️ Downloading surface_solar_radiation_downwards for 1993...\n"
     ]
    },
    {
     "name": "stderr",
     "output_type": "stream",
     "text": [
      "2025-07-16 21:44:45,570 INFO Request ID is 9a398e27-85a7-4ab1-a031-2e31b4fe313d\n",
      "2025-07-16 21:44:45,720 INFO status has been updated to accepted\n",
      "2025-07-16 21:46:03,047 INFO status has been updated to successful\n"
     ]
    },
    {
     "data": {
      "application/vnd.jupyter.widget-view+json": {
       "model_id": "",
       "version_major": 2,
       "version_minor": 0
      },
      "text/plain": [
       "ff9b00e355322f162a2d48e4e24d15b0.grib:   0%|          | 0.00/3.16M [00:00<?, ?B/s]"
      ]
     },
     "metadata": {},
     "output_type": "display_data"
    },
    {
     "name": "stdout",
     "output_type": "stream",
     "text": [
      "✅ Finished 1993 in 80.56 seconds\n",
      "\n",
      "⬇️ Downloading surface_solar_radiation_downwards for 1992...\n"
     ]
    },
    {
     "name": "stderr",
     "output_type": "stream",
     "text": [
      "2025-07-16 21:46:06,204 INFO Request ID is c3c11eed-d540-434d-9278-499da4e124b2\n",
      "2025-07-16 21:46:06,416 INFO status has been updated to accepted\n",
      "2025-07-16 21:46:20,435 INFO status has been updated to running\n",
      "2025-07-16 22:00:29,016 INFO status has been updated to successful\n"
     ]
    },
    {
     "data": {
      "application/vnd.jupyter.widget-view+json": {
       "model_id": "",
       "version_major": 2,
       "version_minor": 0
      },
      "text/plain": [
       "70a73f3db8ef3e4b6e8dae2a982aebec.grib:   0%|          | 0.00/3.17M [00:00<?, ?B/s]"
      ]
     },
     "metadata": {},
     "output_type": "display_data"
    },
    {
     "name": "stdout",
     "output_type": "stream",
     "text": [
      "✅ Finished 1992 in 866.17 seconds\n",
      "\n",
      "⬇️ Downloading surface_solar_radiation_downwards for 1991...\n"
     ]
    },
    {
     "name": "stderr",
     "output_type": "stream",
     "text": [
      "2025-07-16 22:00:32,421 INFO Request ID is 9e70a809-97fb-4a15-a445-ee0ed5cc31f4\n",
      "2025-07-16 22:00:32,588 INFO status has been updated to accepted\n",
      "2025-07-16 22:01:23,137 INFO status has been updated to running\n",
      "2025-07-16 22:01:48,931 INFO status has been updated to accepted\n",
      "2025-07-16 22:02:27,552 INFO status has been updated to running\n",
      "2025-07-16 22:14:55,829 INFO status has been updated to successful\n"
     ]
    },
    {
     "data": {
      "application/vnd.jupyter.widget-view+json": {
       "model_id": "",
       "version_major": 2,
       "version_minor": 0
      },
      "text/plain": [
       "ae6189d5f6d1da226ac5495c0a0d5523.grib:   0%|          | 0.00/3.16M [00:00<?, ?B/s]"
      ]
     },
     "metadata": {},
     "output_type": "display_data"
    },
    {
     "name": "stdout",
     "output_type": "stream",
     "text": [
      "✅ Finished 1991 in 866.83 seconds\n",
      "\n",
      "⏱️ Total time for surface_solar_radiation_downwards: 1813.56 seconds\n"
     ]
    },
    {
     "name": "stderr",
     "output_type": "stream",
     "text": [
      "2025-07-16 22:14:58,856 INFO [2024-09-26T00:00:00] Watch our [Forum](https://forum.ecmwf.int/) for Announcements, news and other discussed topics.\n"
     ]
    },
    {
     "name": "stdout",
     "output_type": "stream",
     "text": [
      "\n",
      "⬇️ Downloading potential_evaporation for 1999...\n"
     ]
    },
    {
     "name": "stderr",
     "output_type": "stream",
     "text": [
      "2025-07-16 22:14:59,533 INFO Request ID is dc2a6ed1-ef62-4d62-8f2f-1fa23740180d\n",
      "2025-07-16 22:14:59,943 INFO status has been updated to accepted\n",
      "2025-07-16 22:15:33,215 INFO status has been updated to running\n",
      "2025-07-16 22:29:23,928 INFO status has been updated to successful\n"
     ]
    },
    {
     "data": {
      "application/vnd.jupyter.widget-view+json": {
       "model_id": "",
       "version_major": 2,
       "version_minor": 0
      },
      "text/plain": [
       "2c55e6f612e4b777af8d20c7a28058de.grib:   0%|          | 0.00/3.16M [00:00<?, ?B/s]"
      ]
     },
     "metadata": {},
     "output_type": "display_data"
    },
    {
     "name": "stdout",
     "output_type": "stream",
     "text": [
      "✅ Finished 1999 in 867.45 seconds\n",
      "\n",
      "⬇️ Downloading potential_evaporation for 1998...\n"
     ]
    },
    {
     "name": "stderr",
     "output_type": "stream",
     "text": [
      "2025-07-16 22:29:27,081 INFO Request ID is e29bfcd5-bfa3-4f9d-8be3-0b3436219fb6\n",
      "2025-07-16 22:29:27,255 INFO status has been updated to accepted\n",
      "2025-07-16 22:29:36,044 INFO status has been updated to running\n",
      "2025-07-16 22:43:51,747 INFO status has been updated to successful\n"
     ]
    },
    {
     "data": {
      "application/vnd.jupyter.widget-view+json": {
       "model_id": "",
       "version_major": 2,
       "version_minor": 0
      },
      "text/plain": [
       "72482f8f446cce55b3e9fcf7c30e314.grib:   0%|          | 0.00/3.16M [00:00<?, ?B/s]"
      ]
     },
     "metadata": {},
     "output_type": "display_data"
    },
    {
     "name": "stdout",
     "output_type": "stream",
     "text": [
      "✅ Finished 1998 in 867.59 seconds\n",
      "\n",
      "⬇️ Downloading potential_evaporation for 1997...\n"
     ]
    },
    {
     "name": "stderr",
     "output_type": "stream",
     "text": [
      "2025-07-16 22:43:54,801 INFO Request ID is 00422e4a-f153-4917-9a97-8b7b64009c94\n",
      "2025-07-16 22:43:55,084 INFO status has been updated to accepted\n",
      "2025-07-16 22:44:16,968 INFO status has been updated to running\n",
      "2025-07-16 22:58:18,204 INFO status has been updated to successful\n"
     ]
    },
    {
     "data": {
      "application/vnd.jupyter.widget-view+json": {
       "model_id": "",
       "version_major": 2,
       "version_minor": 0
      },
      "text/plain": [
       "9ac95608b79e2653be6e8ece7d39b745.grib:   0%|          | 0.00/3.16M [00:00<?, ?B/s]"
      ]
     },
     "metadata": {},
     "output_type": "display_data"
    },
    {
     "name": "stdout",
     "output_type": "stream",
     "text": [
      "✅ Finished 1997 in 868.49 seconds\n",
      "\n",
      "⬇️ Downloading potential_evaporation for 1996...\n"
     ]
    },
    {
     "name": "stderr",
     "output_type": "stream",
     "text": [
      "2025-07-16 22:58:22,992 INFO Request ID is fb3aadfa-0975-47ea-845a-07876e4a7d25\n",
      "2025-07-16 22:58:23,184 INFO status has been updated to accepted\n",
      "2025-07-16 22:58:32,350 INFO status has been updated to running\n",
      "2025-07-16 23:12:47,933 INFO status has been updated to successful\n"
     ]
    },
    {
     "data": {
      "application/vnd.jupyter.widget-view+json": {
       "model_id": "",
       "version_major": 2,
       "version_minor": 0
      },
      "text/plain": [
       "f72f701847bd637a03374dad21360741.grib:   0%|          | 0.00/3.17M [00:00<?, ?B/s]"
      ]
     },
     "metadata": {},
     "output_type": "display_data"
    },
    {
     "name": "stdout",
     "output_type": "stream",
     "text": [
      "✅ Finished 1996 in 868.04 seconds\n",
      "\n",
      "⬇️ Downloading potential_evaporation for 1995...\n"
     ]
    },
    {
     "name": "stderr",
     "output_type": "stream",
     "text": [
      "2025-07-16 23:12:51,164 INFO Request ID is 67ef765f-3b5d-4932-8bbc-a01d5fafbfda\n",
      "2025-07-16 23:12:51,369 INFO status has been updated to accepted\n",
      "2025-07-16 23:13:05,384 INFO status has been updated to running\n",
      "2025-07-16 23:27:13,970 INFO status has been updated to successful\n"
     ]
    },
    {
     "data": {
      "application/vnd.jupyter.widget-view+json": {
       "model_id": "",
       "version_major": 2,
       "version_minor": 0
      },
      "text/plain": [
       "b9e6184cb9b3a31b519cf4f5204c1495.grib:   0%|          | 0.00/3.16M [00:00<?, ?B/s]"
      ]
     },
     "metadata": {},
     "output_type": "display_data"
    },
    {
     "name": "stdout",
     "output_type": "stream",
     "text": [
      "✅ Finished 1995 in 866.19 seconds\n",
      "\n",
      "⬇️ Downloading potential_evaporation for 1994...\n"
     ]
    },
    {
     "name": "stderr",
     "output_type": "stream",
     "text": [
      "2025-07-16 23:27:17,370 INFO Request ID is 263f55dc-4e2f-4f9c-869f-1ea0b48cf6ec\n",
      "2025-07-16 23:27:17,791 INFO status has been updated to accepted\n",
      "2025-07-16 23:27:23,057 INFO status has been updated to running\n",
      "2025-07-16 23:41:40,185 INFO status has been updated to successful\n"
     ]
    },
    {
     "data": {
      "application/vnd.jupyter.widget-view+json": {
       "model_id": "",
       "version_major": 2,
       "version_minor": 0
      },
      "text/plain": [
       "bc34b24dbab6d92bcaf28c80d9256783.grib:   0%|          | 0.00/3.16M [00:00<?, ?B/s]"
      ]
     },
     "metadata": {},
     "output_type": "display_data"
    },
    {
     "name": "stdout",
     "output_type": "stream",
     "text": [
      "✅ Finished 1994 in 865.71 seconds\n",
      "\n",
      "⬇️ Downloading potential_evaporation for 1993...\n"
     ]
    },
    {
     "name": "stderr",
     "output_type": "stream",
     "text": [
      "2025-07-16 23:41:43,031 INFO Request ID is 3f486e50-a39e-4f85-8185-9be46c4cd06f\n",
      "2025-07-16 23:41:43,180 INFO status has been updated to accepted\n",
      "2025-07-16 23:41:51,921 INFO status has been updated to running\n",
      "2025-07-16 23:56:07,441 INFO status has been updated to successful\n"
     ]
    },
    {
     "data": {
      "application/vnd.jupyter.widget-view+json": {
       "model_id": "",
       "version_major": 2,
       "version_minor": 0
      },
      "text/plain": [
       "c178bdc1ba529a2f083d365e39e6d93d.grib:   0%|          | 0.00/3.16M [00:00<?, ?B/s]"
      ]
     },
     "metadata": {},
     "output_type": "display_data"
    },
    {
     "name": "stdout",
     "output_type": "stream",
     "text": [
      "✅ Finished 1993 in 867.47 seconds\n",
      "\n",
      "⬇️ Downloading potential_evaporation for 1992...\n"
     ]
    },
    {
     "name": "stderr",
     "output_type": "stream",
     "text": [
      "2025-07-16 23:56:10,412 INFO Request ID is 96401feb-4a45-4e4b-b65b-2dc548bdc61b\n",
      "2025-07-16 23:56:10,615 INFO status has been updated to accepted\n",
      "2025-07-16 23:56:44,466 INFO status has been updated to running\n",
      "2025-07-17 00:10:35,463 INFO status has been updated to successful\n"
     ]
    },
    {
     "data": {
      "application/vnd.jupyter.widget-view+json": {
       "model_id": "",
       "version_major": 2,
       "version_minor": 0
      },
      "text/plain": [
       "5fd3697e91ee56c3b5c852cdaf94a4bc.grib:   0%|          | 0.00/3.17M [00:00<?, ?B/s]"
      ]
     },
     "metadata": {},
     "output_type": "display_data"
    },
    {
     "name": "stdout",
     "output_type": "stream",
     "text": [
      "✅ Finished 1992 in 867.82 seconds\n",
      "\n",
      "⬇️ Downloading potential_evaporation for 1991...\n"
     ]
    },
    {
     "name": "stderr",
     "output_type": "stream",
     "text": [
      "2025-07-17 00:10:38,227 INFO Request ID is 80316b49-0e62-4348-8540-aa1768f6d0e6\n",
      "2025-07-17 00:10:38,383 INFO status has been updated to accepted\n",
      "2025-07-17 00:10:52,640 INFO status has been updated to running\n",
      "2025-07-17 00:11:00,391 INFO status has been updated to accepted\n",
      "2025-07-17 00:11:11,935 INFO status has been updated to running\n",
      "2025-07-17 00:25:05,213 INFO status has been updated to successful\n"
     ]
    },
    {
     "data": {
      "application/vnd.jupyter.widget-view+json": {
       "model_id": "",
       "version_major": 2,
       "version_minor": 0
      },
      "text/plain": [
       "3998850e70af3a3881f96fd690ca8587.grib:   0%|          | 0.00/3.16M [00:00<?, ?B/s]"
      ]
     },
     "metadata": {},
     "output_type": "display_data"
    },
    {
     "name": "stdout",
     "output_type": "stream",
     "text": [
      "✅ Finished 1991 in 870.04 seconds\n",
      "\n",
      "⏱️ Total time for potential_evaporation: 7808.81 seconds\n"
     ]
    },
    {
     "name": "stderr",
     "output_type": "stream",
     "text": [
      "2025-07-17 00:25:08,038 INFO [2024-09-26T00:00:00] Watch our [Forum](https://forum.ecmwf.int/) for Announcements, news and other discussed topics.\n"
     ]
    },
    {
     "name": "stdout",
     "output_type": "stream",
     "text": [
      "\n",
      "⬇️ Downloading snow_depth for 1999...\n"
     ]
    },
    {
     "name": "stderr",
     "output_type": "stream",
     "text": [
      "2025-07-17 00:25:08,892 INFO Request ID is 811540bc-6a47-44ba-808a-d0562bdccbb0\n",
      "2025-07-17 00:25:09,096 INFO status has been updated to accepted\n",
      "2025-07-17 00:25:18,035 INFO status has been updated to running\n",
      "2025-07-17 00:41:32,726 INFO status has been updated to successful\n"
     ]
    },
    {
     "data": {
      "application/vnd.jupyter.widget-view+json": {
       "model_id": "",
       "version_major": 2,
       "version_minor": 0
      },
      "text/plain": [
       "af05f0ed0703bce22b40856c263989e9.grib:   0%|          | 0.00/4.28M [00:00<?, ?B/s]"
      ]
     },
     "metadata": {},
     "output_type": "display_data"
    },
    {
     "name": "stdout",
     "output_type": "stream",
     "text": [
      "✅ Finished 1999 in 987.05 seconds\n",
      "\n",
      "⬇️ Downloading snow_depth for 1998...\n"
     ]
    },
    {
     "name": "stderr",
     "output_type": "stream",
     "text": [
      "2025-07-17 00:41:35,716 INFO Request ID is ee1889e2-c189-4016-9995-8e2b89ea3d8a\n",
      "2025-07-17 00:41:35,890 INFO status has been updated to accepted\n",
      "2025-07-17 00:41:50,423 INFO status has been updated to running\n",
      "2025-07-17 00:55:59,536 INFO status has been updated to successful\n"
     ]
    },
    {
     "data": {
      "application/vnd.jupyter.widget-view+json": {
       "model_id": "",
       "version_major": 2,
       "version_minor": 0
      },
      "text/plain": [
       "3e69a9f10c68391c961a403d0082b9f.grib:   0%|          | 0.00/4.28M [00:00<?, ?B/s]"
      ]
     },
     "metadata": {},
     "output_type": "display_data"
    },
    {
     "name": "stdout",
     "output_type": "stream",
     "text": [
      "✅ Finished 1998 in 875.49 seconds\n",
      "\n",
      "⬇️ Downloading snow_depth for 1997...\n"
     ]
    },
    {
     "name": "stderr",
     "output_type": "stream",
     "text": [
      "2025-07-17 00:56:11,323 INFO Request ID is 01bc176d-4c79-4403-958d-953c1ecfc71d\n",
      "2025-07-17 00:56:11,482 INFO status has been updated to accepted\n",
      "2025-07-17 00:56:16,812 INFO status has been updated to running\n",
      "2025-07-17 01:12:37,353 INFO status has been updated to successful\n"
     ]
    },
    {
     "data": {
      "application/vnd.jupyter.widget-view+json": {
       "model_id": "",
       "version_major": 2,
       "version_minor": 0
      },
      "text/plain": [
       "6a05ba3061b83d9ca3af10e01a5391d2.grib:   0%|          | 0.00/4.28M [00:00<?, ?B/s]"
      ]
     },
     "metadata": {},
     "output_type": "display_data"
    },
    {
     "name": "stdout",
     "output_type": "stream",
     "text": [
      "✅ Finished 1997 in 989.22 seconds\n",
      "\n",
      "⬇️ Downloading snow_depth for 1996...\n"
     ]
    },
    {
     "name": "stderr",
     "output_type": "stream",
     "text": [
      "2025-07-17 01:12:40,563 INFO Request ID is c16ace62-be3d-472b-8bb6-1592e556ff9d\n",
      "2025-07-17 01:12:40,720 INFO status has been updated to accepted\n",
      "2025-07-17 01:12:54,727 INFO status has been updated to running\n",
      "2025-07-17 01:13:02,509 INFO status has been updated to accepted\n",
      "2025-07-17 01:13:14,071 INFO status has been updated to running\n",
      "2025-07-17 01:29:06,639 INFO status has been updated to successful\n"
     ]
    },
    {
     "data": {
      "application/vnd.jupyter.widget-view+json": {
       "model_id": "",
       "version_major": 2,
       "version_minor": 0
      },
      "text/plain": [
       "8231f52ea0eeb42d810ec4ae23548ce4.grib:   0%|          | 0.00/4.29M [00:00<?, ?B/s]"
      ]
     },
     "metadata": {},
     "output_type": "display_data"
    },
    {
     "name": "stdout",
     "output_type": "stream",
     "text": [
      "✅ Finished 1996 in 989.57 seconds\n",
      "\n",
      "⬇️ Downloading snow_depth for 1995...\n"
     ]
    },
    {
     "name": "stderr",
     "output_type": "stream",
     "text": [
      "2025-07-17 01:29:10,094 INFO Request ID is 20f2f438-1c58-4250-b979-648b82d0fcd0\n",
      "2025-07-17 01:29:10,259 INFO status has been updated to accepted\n",
      "2025-07-17 01:29:24,732 INFO status has been updated to running\n",
      "2025-07-17 01:43:35,832 INFO status has been updated to successful\n"
     ]
    },
    {
     "data": {
      "application/vnd.jupyter.widget-view+json": {
       "model_id": "",
       "version_major": 2,
       "version_minor": 0
      },
      "text/plain": [
       "6fa4b9fde93fd48bc11392063e3b4124.grib:   0%|          | 0.00/4.28M [00:00<?, ?B/s]"
      ]
     },
     "metadata": {},
     "output_type": "display_data"
    },
    {
     "name": "stdout",
     "output_type": "stream",
     "text": [
      "✅ Finished 1995 in 869.07 seconds\n",
      "\n",
      "⬇️ Downloading snow_depth for 1994...\n"
     ]
    },
    {
     "name": "stderr",
     "output_type": "stream",
     "text": [
      "2025-07-17 01:43:39,054 INFO Request ID is 02453ed8-087a-4816-a249-566f7d97313c\n",
      "2025-07-17 01:43:39,251 INFO status has been updated to accepted\n",
      "2025-07-17 01:43:48,081 INFO status has been updated to running\n",
      "2025-07-17 01:58:02,918 INFO status has been updated to successful\n"
     ]
    },
    {
     "data": {
      "application/vnd.jupyter.widget-view+json": {
       "model_id": "",
       "version_major": 2,
       "version_minor": 0
      },
      "text/plain": [
       "2fa620db71b34db43c931e4d9067dc5c.grib:   0%|          | 0.00/4.28M [00:00<?, ?B/s]"
      ]
     },
     "metadata": {},
     "output_type": "display_data"
    },
    {
     "name": "stdout",
     "output_type": "stream",
     "text": [
      "✅ Finished 1994 in 867.08 seconds\n",
      "\n",
      "⬇️ Downloading snow_depth for 1993...\n"
     ]
    },
    {
     "name": "stderr",
     "output_type": "stream",
     "text": [
      "2025-07-17 01:58:06,329 INFO Request ID is ea055486-ec30-4b64-a1f2-27d67ddb1eb0\n",
      "2025-07-17 01:58:06,629 INFO status has been updated to accepted\n",
      "2025-07-17 01:58:28,514 INFO status has been updated to running\n",
      "2025-07-17 02:14:33,009 INFO status has been updated to successful\n"
     ]
    },
    {
     "data": {
      "application/vnd.jupyter.widget-view+json": {
       "model_id": "",
       "version_major": 2,
       "version_minor": 0
      },
      "text/plain": [
       "875c52e5beeb392a7d528e1e76440022.grib:   0%|          | 0.00/4.28M [00:00<?, ?B/s]"
      ]
     },
     "metadata": {},
     "output_type": "display_data"
    },
    {
     "name": "stdout",
     "output_type": "stream",
     "text": [
      "✅ Finished 1993 in 989.83 seconds\n",
      "\n",
      "⬇️ Downloading snow_depth for 1992...\n"
     ]
    },
    {
     "name": "stderr",
     "output_type": "stream",
     "text": [
      "2025-07-17 02:14:36,010 INFO Request ID is 90ab74d8-15b4-4115-8e3b-2ae092b65e20\n",
      "2025-07-17 02:14:36,161 INFO status has been updated to accepted\n",
      "2025-07-17 02:14:58,112 INFO status has been updated to running\n",
      "2025-07-17 02:31:01,476 INFO status has been updated to successful\n"
     ]
    },
    {
     "data": {
      "application/vnd.jupyter.widget-view+json": {
       "model_id": "",
       "version_major": 2,
       "version_minor": 0
      },
      "text/plain": [
       "db5b7b5b1eb33360b154c72354f7ecc1.grib:   0%|          | 0.00/4.29M [00:00<?, ?B/s]"
      ]
     },
     "metadata": {},
     "output_type": "display_data"
    },
    {
     "name": "stdout",
     "output_type": "stream",
     "text": [
      "✅ Finished 1992 in 988.67 seconds\n",
      "\n",
      "⬇️ Downloading snow_depth for 1991...\n"
     ]
    },
    {
     "name": "stderr",
     "output_type": "stream",
     "text": [
      "2025-07-17 02:31:04,680 INFO Request ID is 5495e453-43ef-4cb3-b801-0af6e157a110\n",
      "2025-07-17 02:31:04,824 INFO status has been updated to accepted\n",
      "2025-07-17 02:31:13,549 INFO status has been updated to running\n",
      "2025-07-17 02:45:27,455 INFO status has been updated to successful\n"
     ]
    },
    {
     "data": {
      "application/vnd.jupyter.widget-view+json": {
       "model_id": "",
       "version_major": 2,
       "version_minor": 0
      },
      "text/plain": [
       "967e6b4b2a999a1eb2dab7a078b4729d.grib:   0%|          | 0.00/4.28M [00:00<?, ?B/s]"
      ]
     },
     "metadata": {},
     "output_type": "display_data"
    },
    {
     "name": "stdout",
     "output_type": "stream",
     "text": [
      "✅ Finished 1991 in 865.93 seconds\n",
      "\n",
      "⏱️ Total time for snow_depth: 8421.92 seconds\n"
     ]
    },
    {
     "name": "stderr",
     "output_type": "stream",
     "text": [
      "2025-07-17 02:45:30,347 INFO [2024-09-26T00:00:00] Watch our [Forum](https://forum.ecmwf.int/) for Announcements, news and other discussed topics.\n"
     ]
    },
    {
     "name": "stdout",
     "output_type": "stream",
     "text": [
      "\n",
      "⬇️ Downloading snowmelt for 1999...\n"
     ]
    },
    {
     "name": "stderr",
     "output_type": "stream",
     "text": [
      "2025-07-17 02:45:31,255 INFO Request ID is 11d9d356-be7f-41cd-abdc-0ee3d549c175\n",
      "2025-07-17 02:45:31,408 INFO status has been updated to accepted\n",
      "2025-07-17 02:45:40,270 INFO status has been updated to running\n",
      "2025-07-17 02:59:55,948 INFO status has been updated to successful\n"
     ]
    },
    {
     "data": {
      "application/vnd.jupyter.widget-view+json": {
       "model_id": "",
       "version_major": 2,
       "version_minor": 0
      },
      "text/plain": [
       "6e4fbf5823757dc371e22b7d35c6ca7a.grib:   0%|          | 0.00/3.16M [00:00<?, ?B/s]"
      ]
     },
     "metadata": {},
     "output_type": "display_data"
    },
    {
     "name": "stdout",
     "output_type": "stream",
     "text": [
      "✅ Finished 1999 in 877.63 seconds\n",
      "\n",
      "⬇️ Downloading snowmelt for 1998...\n"
     ]
    },
    {
     "name": "stderr",
     "output_type": "stream",
     "text": [
      "2025-07-17 03:00:08,831 INFO Request ID is e2f8d82a-7ea2-4215-ade1-a16911d52817\n",
      "2025-07-17 03:00:09,066 INFO status has been updated to accepted\n",
      "2025-07-17 03:01:25,754 INFO status has been updated to running\n",
      "2025-07-17 03:14:32,148 INFO status has been updated to successful\n"
     ]
    },
    {
     "data": {
      "application/vnd.jupyter.widget-view+json": {
       "model_id": "",
       "version_major": 2,
       "version_minor": 0
      },
      "text/plain": [
       "e45d9738fca89572cc85e48ec7ec8cae.grib:   0%|          | 0.00/3.16M [00:00<?, ?B/s]"
      ]
     },
     "metadata": {},
     "output_type": "display_data"
    },
    {
     "name": "stdout",
     "output_type": "stream",
     "text": [
      "✅ Finished 1998 in 866.30 seconds\n",
      "\n",
      "⬇️ Downloading snowmelt for 1997...\n"
     ]
    },
    {
     "name": "stderr",
     "output_type": "stream",
     "text": [
      "2025-07-17 03:14:34,901 INFO Request ID is 15659858-ac87-4ddb-9f76-a7f5f2f4e84e\n",
      "2025-07-17 03:14:35,208 INFO status has been updated to accepted\n",
      "2025-07-17 03:14:49,416 INFO status has been updated to running\n",
      "2025-07-17 03:29:01,748 INFO status has been updated to successful\n"
     ]
    },
    {
     "data": {
      "application/vnd.jupyter.widget-view+json": {
       "model_id": "",
       "version_major": 2,
       "version_minor": 0
      },
      "text/plain": [
       "b81a210592567af538fbfef781a09c2.grib:   0%|          | 0.00/3.16M [00:00<?, ?B/s]"
      ]
     },
     "metadata": {},
     "output_type": "display_data"
    },
    {
     "name": "stdout",
     "output_type": "stream",
     "text": [
      "✅ Finished 1997 in 873.40 seconds\n",
      "\n",
      "⬇️ Downloading snowmelt for 1996...\n"
     ]
    },
    {
     "name": "stderr",
     "output_type": "stream",
     "text": [
      "2025-07-17 03:29:08,555 INFO Request ID is f8b53543-8bc3-410b-b028-4b4d1a16b3e3\n",
      "2025-07-17 03:29:08,721 INFO status has been updated to accepted\n",
      "2025-07-17 03:29:17,715 INFO status has been updated to running\n",
      "2025-07-17 03:43:34,562 INFO status has been updated to successful\n"
     ]
    },
    {
     "data": {
      "application/vnd.jupyter.widget-view+json": {
       "model_id": "",
       "version_major": 2,
       "version_minor": 0
      },
      "text/plain": [
       "18e1400870ff529291468381eada724a.grib:   0%|          | 0.00/3.17M [00:00<?, ?B/s]"
      ]
     },
     "metadata": {},
     "output_type": "display_data"
    },
    {
     "name": "stdout",
     "output_type": "stream",
     "text": [
      "✅ Finished 1996 in 869.05 seconds\n",
      "\n",
      "⬇️ Downloading snowmelt for 1995...\n"
     ]
    },
    {
     "name": "stderr",
     "output_type": "stream",
     "text": [
      "2025-07-17 03:43:38,005 INFO Request ID is daa6602e-9d90-4de4-8ee1-2230a5f9565c\n",
      "2025-07-17 03:43:38,268 INFO status has been updated to accepted\n",
      "2025-07-17 03:43:47,409 INFO status has been updated to running\n",
      "2025-07-17 03:58:04,475 INFO status has been updated to successful\n"
     ]
    },
    {
     "data": {
      "application/vnd.jupyter.widget-view+json": {
       "model_id": "",
       "version_major": 2,
       "version_minor": 0
      },
      "text/plain": [
       "fa5e057636eb121612aa199cf9291acd.grib:   0%|          | 0.00/3.16M [00:00<?, ?B/s]"
      ]
     },
     "metadata": {},
     "output_type": "display_data"
    },
    {
     "name": "stdout",
     "output_type": "stream",
     "text": [
      "✅ Finished 1995 in 870.74 seconds\n",
      "\n",
      "⬇️ Downloading snowmelt for 1994...\n"
     ]
    },
    {
     "name": "stderr",
     "output_type": "stream",
     "text": [
      "2025-07-17 03:58:08,436 INFO Request ID is a2d6130c-32aa-4210-8b37-07f55b7f7501\n",
      "2025-07-17 03:58:08,594 INFO status has been updated to accepted\n",
      "2025-07-17 03:58:30,410 INFO status has been updated to running\n",
      "2025-07-17 04:12:33,538 INFO status has been updated to successful\n"
     ]
    },
    {
     "data": {
      "application/vnd.jupyter.widget-view+json": {
       "model_id": "",
       "version_major": 2,
       "version_minor": 0
      },
      "text/plain": [
       "8730950b07421155f7f44404d781c204.grib:   0%|          | 0.00/3.16M [00:00<?, ?B/s]"
      ]
     },
     "metadata": {},
     "output_type": "display_data"
    },
    {
     "name": "stdout",
     "output_type": "stream",
     "text": [
      "✅ Finished 1994 in 868.81 seconds\n",
      "\n",
      "⬇️ Downloading snowmelt for 1993...\n"
     ]
    },
    {
     "name": "stderr",
     "output_type": "stream",
     "text": [
      "2025-07-17 04:12:37,062 INFO Request ID is 69a347ca-2af8-45ba-a1a8-aff6781689dd\n",
      "2025-07-17 04:12:37,220 INFO status has been updated to accepted\n",
      "2025-07-17 04:14:32,570 INFO status has been updated to running\n",
      "2025-07-17 04:27:01,626 INFO status has been updated to successful\n"
     ]
    },
    {
     "data": {
      "application/vnd.jupyter.widget-view+json": {
       "model_id": "",
       "version_major": 2,
       "version_minor": 0
      },
      "text/plain": [
       "b45e5c1cbb43c9f9f3aa894cbe24e356.grib:   0%|          | 0.00/3.16M [00:00<?, ?B/s]"
      ]
     },
     "metadata": {},
     "output_type": "display_data"
    },
    {
     "name": "stdout",
     "output_type": "stream",
     "text": [
      "✅ Finished 1993 in 867.76 seconds\n",
      "\n",
      "⬇️ Downloading snowmelt for 1992...\n"
     ]
    },
    {
     "name": "stderr",
     "output_type": "stream",
     "text": [
      "2025-07-17 04:27:04,824 INFO Request ID is 65090306-f665-4bc4-8f92-eff58eb0cd6d\n",
      "2025-07-17 04:27:05,000 INFO status has been updated to accepted\n",
      "2025-07-17 04:27:55,983 INFO status has been updated to running\n",
      "2025-07-17 04:41:31,489 INFO status has been updated to successful\n"
     ]
    },
    {
     "data": {
      "application/vnd.jupyter.widget-view+json": {
       "model_id": "",
       "version_major": 2,
       "version_minor": 0
      },
      "text/plain": [
       "3a8f725370ef48b997d00677e1f3d02.grib:   0%|          | 0.00/3.17M [00:00<?, ?B/s]"
      ]
     },
     "metadata": {},
     "output_type": "display_data"
    },
    {
     "name": "stdout",
     "output_type": "stream",
     "text": [
      "✅ Finished 1992 in 870.45 seconds\n",
      "\n",
      "⬇️ Downloading snowmelt for 1991...\n"
     ]
    },
    {
     "name": "stderr",
     "output_type": "stream",
     "text": [
      "2025-07-17 04:41:35,766 INFO Request ID is 0b256cbc-2f29-4d10-80ec-36704422cf17\n",
      "2025-07-17 04:41:35,926 INFO status has been updated to accepted\n",
      "2025-07-17 04:44:29,712 INFO status has been updated to running\n",
      "2025-07-17 04:56:01,530 INFO status has been updated to successful\n"
     ]
    },
    {
     "data": {
      "application/vnd.jupyter.widget-view+json": {
       "model_id": "",
       "version_major": 2,
       "version_minor": 0
      },
      "text/plain": [
       "8f0b4533e9640e79af5c71939cb321d2.grib:   0%|          | 0.00/3.16M [00:00<?, ?B/s]"
      ]
     },
     "metadata": {},
     "output_type": "display_data"
    },
    {
     "name": "stdout",
     "output_type": "stream",
     "text": [
      "✅ Finished 1991 in 869.49 seconds\n",
      "\n",
      "⏱️ Total time for snowmelt: 7833.63 seconds\n"
     ]
    },
    {
     "name": "stderr",
     "output_type": "stream",
     "text": [
      "2025-07-17 04:56:04,368 INFO [2024-09-26T00:00:00] Watch our [Forum](https://forum.ecmwf.int/) for Announcements, news and other discussed topics.\n"
     ]
    },
    {
     "name": "stdout",
     "output_type": "stream",
     "text": [
      "\n",
      "⬇️ Downloading soil_temperature_level_1 for 1999...\n"
     ]
    },
    {
     "name": "stderr",
     "output_type": "stream",
     "text": [
      "2025-07-17 04:56:05,132 INFO Request ID is 9eb61fd9-6512-45c4-a37f-0e3fc33ab314\n",
      "2025-07-17 04:56:05,271 INFO status has been updated to accepted\n",
      "2025-07-17 04:58:00,480 INFO status has been updated to running\n",
      "2025-07-17 05:12:29,927 INFO status has been updated to successful\n"
     ]
    },
    {
     "data": {
      "application/vnd.jupyter.widget-view+json": {
       "model_id": "",
       "version_major": 2,
       "version_minor": 0
      },
      "text/plain": [
       "ac417f38fee58455b162ce61f55dd2d4.grib:   0%|          | 0.00/3.16M [00:00<?, ?B/s]"
      ]
     },
     "metadata": {},
     "output_type": "display_data"
    },
    {
     "name": "stdout",
     "output_type": "stream",
     "text": [
      "✅ Finished 1999 in 988.19 seconds\n",
      "\n",
      "⬇️ Downloading soil_temperature_level_1 for 1998...\n"
     ]
    },
    {
     "name": "stderr",
     "output_type": "stream",
     "text": [
      "2025-07-17 05:12:33,223 INFO Request ID is 75aa1bef-2fff-4534-bb21-65b7915377b3\n",
      "2025-07-17 05:12:33,381 INFO status has been updated to accepted\n",
      "2025-07-17 05:13:50,136 INFO status has been updated to running\n",
      "2025-07-17 05:26:56,631 INFO status has been updated to successful\n"
     ]
    },
    {
     "data": {
      "application/vnd.jupyter.widget-view+json": {
       "model_id": "",
       "version_major": 2,
       "version_minor": 0
      },
      "text/plain": [
       "9d4a0ecfabfd6459f0f50e25f53cbc9e.grib:   0%|          | 0.00/3.16M [00:00<?, ?B/s]"
      ]
     },
     "metadata": {},
     "output_type": "display_data"
    },
    {
     "name": "stdout",
     "output_type": "stream",
     "text": [
      "✅ Finished 1998 in 867.13 seconds\n",
      "\n",
      "⬇️ Downloading soil_temperature_level_1 for 1997...\n"
     ]
    },
    {
     "name": "stderr",
     "output_type": "stream",
     "text": [
      "2025-07-17 05:27:01,036 INFO Request ID is 16925f38-e8ce-4b16-872f-a05b5316a931\n",
      "2025-07-17 05:27:01,187 INFO status has been updated to accepted\n",
      "2025-07-17 05:29:54,467 INFO status has been updated to running\n",
      "2025-07-17 05:35:22,836 INFO status has been updated to accepted\n",
      "2025-07-17 05:43:24,800 INFO status has been updated to running\n",
      "2025-07-17 05:55:29,755 INFO status has been updated to successful\n"
     ]
    },
    {
     "data": {
      "application/vnd.jupyter.widget-view+json": {
       "model_id": "",
       "version_major": 2,
       "version_minor": 0
      },
      "text/plain": [
       "a6aea84a37853e86371648ace898c97.grib:   0%|          | 0.00/3.16M [00:00<?, ?B/s]"
      ]
     },
     "metadata": {},
     "output_type": "display_data"
    },
    {
     "name": "stdout",
     "output_type": "stream",
     "text": [
      "✅ Finished 1997 in 1712.45 seconds\n",
      "\n",
      "⬇️ Downloading soil_temperature_level_1 for 1996...\n"
     ]
    },
    {
     "name": "stderr",
     "output_type": "stream",
     "text": [
      "2025-07-17 05:55:32,905 INFO Request ID is 7a187513-db14-4489-bbe5-40736ebcd653\n",
      "2025-07-17 05:55:33,090 INFO status has been updated to accepted\n",
      "2025-07-17 05:58:29,815 INFO status has been updated to running\n",
      "2025-07-17 06:12:01,257 INFO status has been updated to successful\n"
     ]
    },
    {
     "data": {
      "application/vnd.jupyter.widget-view+json": {
       "model_id": "",
       "version_major": 2,
       "version_minor": 0
      },
      "text/plain": [
       "ff02a10be098c31277ed73aaaa074f81.grib:   0%|          | 0.00/3.17M [00:00<?, ?B/s]"
      ]
     },
     "metadata": {},
     "output_type": "display_data"
    },
    {
     "name": "stdout",
     "output_type": "stream",
     "text": [
      "✅ Finished 1996 in 991.81 seconds\n",
      "\n",
      "⬇️ Downloading soil_temperature_level_1 for 1995...\n"
     ]
    },
    {
     "name": "stderr",
     "output_type": "stream",
     "text": [
      "2025-07-17 06:12:04,652 INFO Request ID is 4a904540-a294-4c75-86b1-eb9586db3b6e\n",
      "2025-07-17 06:12:04,801 INFO status has been updated to accepted\n",
      "2025-07-17 06:34:29,951 INFO status has been updated to running\n",
      "2025-07-17 06:48:33,478 INFO status has been updated to successful\n"
     ]
    },
    {
     "data": {
      "application/vnd.jupyter.widget-view+json": {
       "model_id": "",
       "version_major": 2,
       "version_minor": 0
      },
      "text/plain": [
       "3e5d7107ea8226e68a067fa8572b6531.grib:   0%|          | 0.00/3.16M [00:00<?, ?B/s]"
      ]
     },
     "metadata": {},
     "output_type": "display_data"
    },
    {
     "name": "stdout",
     "output_type": "stream",
     "text": [
      "✅ Finished 1995 in 2192.02 seconds\n",
      "\n",
      "⬇️ Downloading soil_temperature_level_1 for 1994...\n"
     ]
    },
    {
     "name": "stderr",
     "output_type": "stream",
     "text": [
      "2025-07-17 06:48:37,093 INFO Request ID is b16b7bc7-d22f-4b33-85bf-ad6e16043b82\n",
      "2025-07-17 06:48:37,374 INFO status has been updated to accepted\n",
      "2025-07-17 06:59:01,285 INFO status has been updated to running\n",
      "2025-07-17 07:11:06,776 INFO status has been updated to successful\n"
     ]
    },
    {
     "data": {
      "application/vnd.jupyter.widget-view+json": {
       "model_id": "",
       "version_major": 2,
       "version_minor": 0
      },
      "text/plain": [
       "32784f9a736283c4bf253dccab49f58e.grib:   0%|          | 0.00/3.16M [00:00<?, ?B/s]"
      ]
     },
     "metadata": {},
     "output_type": "display_data"
    },
    {
     "name": "stdout",
     "output_type": "stream",
     "text": [
      "✅ Finished 1994 in 1353.59 seconds\n",
      "\n",
      "⬇️ Downloading soil_temperature_level_1 for 1993...\n"
     ]
    },
    {
     "name": "stderr",
     "output_type": "stream",
     "text": [
      "2025-07-17 07:11:10,372 INFO Request ID is 081e40b9-d13b-4aaa-abac-8b215a483fd2\n",
      "2025-07-17 07:11:10,873 INFO status has been updated to accepted\n"
     ]
    },
    {
     "ename": "KeyboardInterrupt",
     "evalue": "",
     "output_type": "error",
     "traceback": [
      "\u001b[0;31m---------------------------------------------------------------------------\u001b[0m",
      "\u001b[0;31mKeyboardInterrupt\u001b[0m                         Traceback (most recent call last)",
      "Input \u001b[0;32mIn [3]\u001b[0m, in \u001b[0;36m<cell line: 1>\u001b[0;34m()\u001b[0m\n\u001b[1;32m      1\u001b[0m \u001b[38;5;28;01mfor\u001b[39;00m var \u001b[38;5;129;01min\u001b[39;00m era5_variables:\n\u001b[0;32m----> 2\u001b[0m     \u001b[43mdownload_era5_hourly_variable\u001b[49m\u001b[43m(\u001b[49m\n\u001b[1;32m      3\u001b[0m \u001b[43m        \u001b[49m\u001b[43mvariable_name\u001b[49m\u001b[38;5;241;43m=\u001b[39;49m\u001b[43mvar\u001b[49m\u001b[43m,\u001b[49m\n\u001b[1;32m      4\u001b[0m \u001b[43m        \u001b[49m\u001b[43myears\u001b[49m\u001b[38;5;241;43m=\u001b[39;49m\u001b[38;5;28;43mrange\u001b[39;49m\u001b[43m(\u001b[49m\u001b[38;5;241;43m1999\u001b[39;49m\u001b[43m,\u001b[49m\u001b[43m \u001b[49m\u001b[38;5;241;43m1990\u001b[39;49m\u001b[43m,\u001b[49m\u001b[43m \u001b[49m\u001b[38;5;241;43m-\u001b[39;49m\u001b[38;5;241;43m1\u001b[39;49m\u001b[43m)\u001b[49m\n\u001b[1;32m      5\u001b[0m \u001b[43m    \u001b[49m\u001b[43m)\u001b[49m\n",
      "File \u001b[0;32m~/bhutan_climate_modeling/code/era5_hourly_downloader.py:42\u001b[0m, in \u001b[0;36mdownload_era5_hourly_variable\u001b[0;34m(variable_name, years, base_data_dir, area)\u001b[0m\n\u001b[1;32m     39\u001b[0m year_start \u001b[38;5;241m=\u001b[39m time\u001b[38;5;241m.\u001b[39mtime()\n\u001b[1;32m     41\u001b[0m \u001b[38;5;28;01mtry\u001b[39;00m:\n\u001b[0;32m---> 42\u001b[0m     \u001b[43mc\u001b[49m\u001b[38;5;241;43m.\u001b[39;49m\u001b[43mretrieve\u001b[49m\u001b[43m(\u001b[49m\n\u001b[1;32m     43\u001b[0m \u001b[43m        \u001b[49m\u001b[38;5;124;43m'\u001b[39;49m\u001b[38;5;124;43mreanalysis-era5-single-levels\u001b[39;49m\u001b[38;5;124;43m'\u001b[39;49m\u001b[43m,\u001b[49m\n\u001b[1;32m     44\u001b[0m \u001b[43m        \u001b[49m\u001b[43m{\u001b[49m\n\u001b[1;32m     45\u001b[0m \u001b[43m            \u001b[49m\u001b[38;5;124;43m'\u001b[39;49m\u001b[38;5;124;43mproduct_type\u001b[39;49m\u001b[38;5;124;43m'\u001b[39;49m\u001b[43m:\u001b[49m\u001b[43m \u001b[49m\u001b[38;5;124;43m'\u001b[39;49m\u001b[38;5;124;43mreanalysis\u001b[39;49m\u001b[38;5;124;43m'\u001b[39;49m\u001b[43m,\u001b[49m\n\u001b[1;32m     46\u001b[0m \u001b[43m            \u001b[49m\u001b[38;5;124;43m'\u001b[39;49m\u001b[38;5;124;43mformat\u001b[39;49m\u001b[38;5;124;43m'\u001b[39;49m\u001b[43m:\u001b[49m\u001b[43m \u001b[49m\u001b[38;5;124;43m'\u001b[39;49m\u001b[38;5;124;43mgrib\u001b[39;49m\u001b[38;5;124;43m'\u001b[39;49m\u001b[43m,\u001b[49m\n\u001b[1;32m     47\u001b[0m \u001b[43m            \u001b[49m\u001b[38;5;124;43m'\u001b[39;49m\u001b[38;5;124;43mvariable\u001b[39;49m\u001b[38;5;124;43m'\u001b[39;49m\u001b[43m:\u001b[49m\u001b[43m \u001b[49m\u001b[43m[\u001b[49m\u001b[43mvariable_name\u001b[49m\u001b[43m]\u001b[49m\u001b[43m,\u001b[49m\n\u001b[1;32m     48\u001b[0m \u001b[43m            \u001b[49m\u001b[38;5;124;43m'\u001b[39;49m\u001b[38;5;124;43myear\u001b[39;49m\u001b[38;5;124;43m'\u001b[39;49m\u001b[43m:\u001b[49m\u001b[43m \u001b[49m\u001b[43myear\u001b[49m\u001b[43m,\u001b[49m\n\u001b[1;32m     49\u001b[0m \u001b[43m            \u001b[49m\u001b[38;5;124;43m'\u001b[39;49m\u001b[38;5;124;43mmonth\u001b[39;49m\u001b[38;5;124;43m'\u001b[39;49m\u001b[43m:\u001b[49m\u001b[43m \u001b[49m\u001b[43mmonths\u001b[49m\u001b[43m,\u001b[49m\n\u001b[1;32m     50\u001b[0m \u001b[43m            \u001b[49m\u001b[38;5;124;43m'\u001b[39;49m\u001b[38;5;124;43mday\u001b[39;49m\u001b[38;5;124;43m'\u001b[39;49m\u001b[43m:\u001b[49m\u001b[43m \u001b[49m\u001b[43mdays\u001b[49m\u001b[43m,\u001b[49m\n\u001b[1;32m     51\u001b[0m \u001b[43m            \u001b[49m\u001b[38;5;124;43m'\u001b[39;49m\u001b[38;5;124;43mtime\u001b[39;49m\u001b[38;5;124;43m'\u001b[39;49m\u001b[43m:\u001b[49m\u001b[43m \u001b[49m\u001b[43mhours\u001b[49m\u001b[43m,\u001b[49m\n\u001b[1;32m     52\u001b[0m \u001b[43m            \u001b[49m\u001b[38;5;124;43m'\u001b[39;49m\u001b[38;5;124;43marea\u001b[39;49m\u001b[38;5;124;43m'\u001b[39;49m\u001b[43m:\u001b[49m\u001b[43m \u001b[49m\u001b[43marea\u001b[49m\u001b[43m,\u001b[49m\n\u001b[1;32m     53\u001b[0m \u001b[43m        \u001b[49m\u001b[43m}\u001b[49m\u001b[43m,\u001b[49m\n\u001b[1;32m     54\u001b[0m \u001b[43m        \u001b[49m\u001b[43moutput_file\u001b[49m\n\u001b[1;32m     55\u001b[0m \u001b[43m    \u001b[49m\u001b[43m)\u001b[49m\n\u001b[1;32m     56\u001b[0m     \u001b[38;5;28mprint\u001b[39m(\u001b[38;5;124mf\u001b[39m\u001b[38;5;124m\"\u001b[39m\u001b[38;5;124m✅ Finished \u001b[39m\u001b[38;5;132;01m{\u001b[39;00myear\u001b[38;5;132;01m}\u001b[39;00m\u001b[38;5;124m in \u001b[39m\u001b[38;5;132;01m{\u001b[39;00mtime\u001b[38;5;241m.\u001b[39mtime()\u001b[38;5;250m \u001b[39m\u001b[38;5;241m-\u001b[39m\u001b[38;5;250m \u001b[39myear_start\u001b[38;5;132;01m:\u001b[39;00m\u001b[38;5;124m.2f\u001b[39m\u001b[38;5;132;01m}\u001b[39;00m\u001b[38;5;124m seconds\u001b[39m\u001b[38;5;124m\"\u001b[39m)\n\u001b[1;32m     57\u001b[0m \u001b[38;5;28;01mexcept\u001b[39;00m \u001b[38;5;167;01mException\u001b[39;00m \u001b[38;5;28;01mas\u001b[39;00m e:\n",
      "File \u001b[0;32m~/opt/anaconda3/lib/python3.9/site-packages/ecmwf/datastores/legacy_client.py:167\u001b[0m, in \u001b[0;36mLegacyClient.retrieve\u001b[0;34m(self, name, request, target)\u001b[0m\n\u001b[1;32m    165\u001b[0m submitted: datastores\u001b[38;5;241m.\u001b[39mRemote \u001b[38;5;241m|\u001b[39m datastores\u001b[38;5;241m.\u001b[39mResults\n\u001b[1;32m    166\u001b[0m \u001b[38;5;28;01mif\u001b[39;00m \u001b[38;5;28mself\u001b[39m\u001b[38;5;241m.\u001b[39mwait_until_complete:\n\u001b[0;32m--> 167\u001b[0m     submitted \u001b[38;5;241m=\u001b[39m \u001b[38;5;28;43mself\u001b[39;49m\u001b[38;5;241;43m.\u001b[39;49m\u001b[43mclient\u001b[49m\u001b[38;5;241;43m.\u001b[39;49m\u001b[43msubmit_and_wait_on_results\u001b[49m\u001b[43m(\u001b[49m\n\u001b[1;32m    168\u001b[0m \u001b[43m        \u001b[49m\u001b[43mcollection_id\u001b[49m\u001b[38;5;241;43m=\u001b[39;49m\u001b[43mname\u001b[49m\u001b[43m,\u001b[49m\n\u001b[1;32m    169\u001b[0m \u001b[43m        \u001b[49m\u001b[43mrequest\u001b[49m\u001b[38;5;241;43m=\u001b[39;49m\u001b[43mrequest\u001b[49m\u001b[43m,\u001b[49m\n\u001b[1;32m    170\u001b[0m \u001b[43m    \u001b[49m\u001b[43m)\u001b[49m\n\u001b[1;32m    171\u001b[0m \u001b[38;5;28;01melse\u001b[39;00m:\n\u001b[1;32m    172\u001b[0m     submitted \u001b[38;5;241m=\u001b[39m \u001b[38;5;28mself\u001b[39m\u001b[38;5;241m.\u001b[39mclient\u001b[38;5;241m.\u001b[39msubmit(\n\u001b[1;32m    173\u001b[0m         collection_id\u001b[38;5;241m=\u001b[39mname,\n\u001b[1;32m    174\u001b[0m         request\u001b[38;5;241m=\u001b[39mrequest,\n\u001b[1;32m    175\u001b[0m     )\n",
      "File \u001b[0;32m~/opt/anaconda3/lib/python3.9/site-packages/ecmwf/datastores/client.py:397\u001b[0m, in \u001b[0;36mClient.submit_and_wait_on_results\u001b[0;34m(self, collection_id, request)\u001b[0m\n\u001b[1;32m    381\u001b[0m \u001b[38;5;28;01mdef\u001b[39;00m \u001b[38;5;21msubmit_and_wait_on_results\u001b[39m(\n\u001b[1;32m    382\u001b[0m     \u001b[38;5;28mself\u001b[39m, collection_id: \u001b[38;5;28mstr\u001b[39m, request: \u001b[38;5;28mdict\u001b[39m[\u001b[38;5;28mstr\u001b[39m, Any]\n\u001b[1;32m    383\u001b[0m ) \u001b[38;5;241m-\u001b[39m\u001b[38;5;241m>\u001b[39m datastores\u001b[38;5;241m.\u001b[39mResults:\n\u001b[1;32m    384\u001b[0m \u001b[38;5;250m    \u001b[39m\u001b[38;5;124;03m\"\"\"Submit a request and wait for the results to be ready.\u001b[39;00m\n\u001b[1;32m    385\u001b[0m \n\u001b[1;32m    386\u001b[0m \u001b[38;5;124;03m    Parameters\u001b[39;00m\n\u001b[0;32m   (...)\u001b[0m\n\u001b[1;32m    395\u001b[0m \u001b[38;5;124;03m    datastores.Results\u001b[39;00m\n\u001b[1;32m    396\u001b[0m \u001b[38;5;124;03m    \"\"\"\u001b[39;00m\n\u001b[0;32m--> 397\u001b[0m     \u001b[38;5;28;01mreturn\u001b[39;00m \u001b[38;5;28;43mself\u001b[39;49m\u001b[38;5;241;43m.\u001b[39;49m\u001b[43m_retrieve_api\u001b[49m\u001b[38;5;241;43m.\u001b[39;49m\u001b[43msubmit\u001b[49m\u001b[43m(\u001b[49m\u001b[43mcollection_id\u001b[49m\u001b[43m,\u001b[49m\u001b[43m \u001b[49m\u001b[43mrequest\u001b[49m\u001b[43m)\u001b[49m\u001b[38;5;241;43m.\u001b[39;49m\u001b[43mget_results\u001b[49m\u001b[43m(\u001b[49m\u001b[43m)\u001b[49m\n",
      "File \u001b[0;32m~/opt/anaconda3/lib/python3.9/site-packages/ecmwf/datastores/processing.py:495\u001b[0m, in \u001b[0;36mRemote.get_results\u001b[0;34m(self)\u001b[0m\n\u001b[1;32m    488\u001b[0m \u001b[38;5;28;01mdef\u001b[39;00m \u001b[38;5;21mget_results\u001b[39m(\u001b[38;5;28mself\u001b[39m) \u001b[38;5;241m-\u001b[39m\u001b[38;5;241m>\u001b[39m Results:\n\u001b[1;32m    489\u001b[0m \u001b[38;5;250m    \u001b[39m\u001b[38;5;124;03m\"\"\"Retrieve results.\u001b[39;00m\n\u001b[1;32m    490\u001b[0m \n\u001b[1;32m    491\u001b[0m \u001b[38;5;124;03m    Returns\u001b[39;00m\n\u001b[1;32m    492\u001b[0m \u001b[38;5;124;03m    -------\u001b[39;00m\n\u001b[1;32m    493\u001b[0m \u001b[38;5;124;03m    datastores.Results\u001b[39;00m\n\u001b[1;32m    494\u001b[0m \u001b[38;5;124;03m    \"\"\"\u001b[39;00m\n\u001b[0;32m--> 495\u001b[0m     \u001b[38;5;28;01mreturn\u001b[39;00m \u001b[38;5;28;43mself\u001b[39;49m\u001b[38;5;241;43m.\u001b[39;49m\u001b[43m_make_results\u001b[49m\u001b[43m(\u001b[49m\u001b[43mwait\u001b[49m\u001b[38;5;241;43m=\u001b[39;49m\u001b[38;5;28;43;01mTrue\u001b[39;49;00m\u001b[43m)\u001b[49m\n",
      "File \u001b[0;32m~/opt/anaconda3/lib/python3.9/site-packages/ecmwf/datastores/processing.py:479\u001b[0m, in \u001b[0;36mRemote._make_results\u001b[0;34m(self, wait)\u001b[0m\n\u001b[1;32m    477\u001b[0m \u001b[38;5;28;01mdef\u001b[39;00m \u001b[38;5;21m_make_results\u001b[39m(\u001b[38;5;28mself\u001b[39m, wait: \u001b[38;5;28mbool\u001b[39m) \u001b[38;5;241m-\u001b[39m\u001b[38;5;241m>\u001b[39m Results:\n\u001b[1;32m    478\u001b[0m     \u001b[38;5;28;01mif\u001b[39;00m wait:\n\u001b[0;32m--> 479\u001b[0m         \u001b[38;5;28;43mself\u001b[39;49m\u001b[38;5;241;43m.\u001b[39;49m\u001b[43m_wait_on_results\u001b[49m\u001b[43m(\u001b[49m\u001b[43m)\u001b[49m\n\u001b[1;32m    480\u001b[0m     response \u001b[38;5;241m=\u001b[39m \u001b[38;5;28mself\u001b[39m\u001b[38;5;241m.\u001b[39m_get_api_response(\u001b[38;5;124m\"\u001b[39m\u001b[38;5;124mget\u001b[39m\u001b[38;5;124m\"\u001b[39m)\n\u001b[1;32m    481\u001b[0m     \u001b[38;5;28;01mtry\u001b[39;00m:\n",
      "File \u001b[0;32m~/opt/anaconda3/lib/python3.9/site-packages/ecmwf/datastores/processing.py:459\u001b[0m, in \u001b[0;36mRemote._wait_on_results\u001b[0;34m(self)\u001b[0m\n\u001b[1;32m    457\u001b[0m \u001b[38;5;28;01mwhile\u001b[39;00m \u001b[38;5;129;01mnot\u001b[39;00m \u001b[38;5;28mself\u001b[39m\u001b[38;5;241m.\u001b[39mresults_ready:\n\u001b[1;32m    458\u001b[0m     \u001b[38;5;28mself\u001b[39m\u001b[38;5;241m.\u001b[39mdebug(\u001b[38;5;124mf\u001b[39m\u001b[38;5;124m\"\u001b[39m\u001b[38;5;124mresults not ready, waiting for \u001b[39m\u001b[38;5;132;01m{\u001b[39;00msleep\u001b[38;5;132;01m}\u001b[39;00m\u001b[38;5;124m seconds\u001b[39m\u001b[38;5;124m\"\u001b[39m)\n\u001b[0;32m--> 459\u001b[0m     \u001b[43mtime\u001b[49m\u001b[38;5;241;43m.\u001b[39;49m\u001b[43msleep\u001b[49m\u001b[43m(\u001b[49m\u001b[43msleep\u001b[49m\u001b[43m)\u001b[49m\n\u001b[1;32m    460\u001b[0m     sleep \u001b[38;5;241m=\u001b[39m \u001b[38;5;28mmin\u001b[39m(sleep \u001b[38;5;241m*\u001b[39m \u001b[38;5;241m1.5\u001b[39m, \u001b[38;5;28mself\u001b[39m\u001b[38;5;241m.\u001b[39msleep_max)\n",
      "\u001b[0;31mKeyboardInterrupt\u001b[0m: "
     ]
    }
   ],
   "source": [
    "for var in era5_variables:\n",
    "    download_era5_hourly_variable(\n",
    "        variable_name=var,\n",
    "        years=range(1999, 1990, -1)\n",
    "    )"
   ]
  },
  {
   "cell_type": "code",
   "execution_count": null,
   "id": "b68e5040",
   "metadata": {},
   "outputs": [],
   "source": [
    "for var in era5_variables:\n",
    "    download_era5_hourly_variable(\n",
    "        variable_name=var,\n",
    "        years=range(1990, 1985, -1)\n",
    "    )"
   ]
  },
  {
   "cell_type": "code",
   "execution_count": null,
   "id": "ace471ce",
   "metadata": {},
   "outputs": [],
   "source": []
  }
 ],
 "metadata": {
  "kernelspec": {
   "display_name": "Python 3 (ipykernel)",
   "language": "python",
   "name": "python3"
  },
  "language_info": {
   "codemirror_mode": {
    "name": "ipython",
    "version": 3
   },
   "file_extension": ".py",
   "mimetype": "text/x-python",
   "name": "python",
   "nbconvert_exporter": "python",
   "pygments_lexer": "ipython3",
   "version": "3.9.12"
  }
 },
 "nbformat": 4,
 "nbformat_minor": 5
}
