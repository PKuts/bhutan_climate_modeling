{
 "cells": [
  {
   "cell_type": "code",
   "execution_count": null,
   "id": "0c5a91f6",
   "metadata": {},
   "outputs": [],
   "source": [
    "from era5_hourly_downloader import download_era5_hourly_variable"
   ]
  },
  {
   "cell_type": "code",
   "execution_count": 5,
   "id": "7645dc9e",
   "metadata": {},
   "outputs": [],
   "source": [
    "era5_variables = [\n",
    "    \"Total_precipitation\",\n",
    "    \"2m_temperature\",\n",
    "    \"2m_dewpoint_temperature\",\n",
    "    \"10m_u_component_of_wind\",\n",
    "    \"10m_v_component_of_wind\",\n",
    "    \"surface_solar_radiation_downwards\",\n",
    "    \"potential_evaporation\",\n",
    "    \"snow_depth\",\n",
    "    \"snowmelt\",\n",
    "    \"soil_temperature_level_1\",\n",
    "    \"relative_humidity\",\n",
    "    \"surface_runoff\",\n",
    "    \"sub_surface_runoff\",\n",
    "]\n"
   ]
  },
  {
   "cell_type": "code",
   "execution_count": null,
   "id": "1c5236d1",
   "metadata": {},
   "outputs": [
    {
     "name": "stderr",
     "output_type": "stream",
     "text": [
      "2025-07-12 18:15:42,451 INFO [2024-09-26T00:00:00] Watch our [Forum](https://forum.ecmwf.int/) for Announcements, news and other discussed topics.\n"
     ]
    },
    {
     "name": "stdout",
     "output_type": "stream",
     "text": [
      "✅ Already exists: ../era5_data/Total_precipitation/Total_precipitation_1979.grib\n",
      "\n",
      "⏱️ Total time for Total_precipitation: 0.00 seconds\n"
     ]
    },
    {
     "name": "stderr",
     "output_type": "stream",
     "text": [
      "2025-07-12 18:15:42,851 INFO [2024-09-26T00:00:00] Watch our [Forum](https://forum.ecmwf.int/) for Announcements, news and other discussed topics.\n"
     ]
    },
    {
     "name": "stdout",
     "output_type": "stream",
     "text": [
      "✅ Already exists: ../era5_data/2m_temperature/2m_temperature_1979.grib\n",
      "\n",
      "⏱️ Total time for 2m_temperature: 0.00 seconds\n"
     ]
    },
    {
     "name": "stderr",
     "output_type": "stream",
     "text": [
      "2025-07-12 18:15:43,241 INFO [2024-09-26T00:00:00] Watch our [Forum](https://forum.ecmwf.int/) for Announcements, news and other discussed topics.\n"
     ]
    },
    {
     "name": "stdout",
     "output_type": "stream",
     "text": [
      "\n",
      "⬇️ Downloading 10m_u_component_of_wind for 1979...\n"
     ]
    },
    {
     "name": "stderr",
     "output_type": "stream",
     "text": [
      "2025-07-12 18:15:44,028 INFO Request ID is 173d04ea-59b2-4ce0-a713-8ffde44527d0\n",
      "2025-07-12 18:15:44,195 INFO status has been updated to accepted\n",
      "2025-07-12 18:15:53,110 INFO status has been updated to running\n"
     ]
    }
   ],
   "source": [
    "for var in era5_variables:\n",
    "    download_era5_hourly_variable(\n",
    "        variable_name=var,\n",
    "        years=[\"1979\"] # we need 1979-2025, here is only 1979 to test each variable is downloadable\n",
    "    )"
   ]
  },
  {
   "cell_type": "code",
   "execution_count": null,
   "id": "27565a9a",
   "metadata": {},
   "outputs": [],
   "source": []
  }
 ],
 "metadata": {
  "kernelspec": {
   "display_name": "Python 3 (ipykernel)",
   "language": "python",
   "name": "python3"
  },
  "language_info": {
   "codemirror_mode": {
    "name": "ipython",
    "version": 3
   },
   "file_extension": ".py",
   "mimetype": "text/x-python",
   "name": "python",
   "nbconvert_exporter": "python",
   "pygments_lexer": "ipython3",
   "version": "3.9.12"
  }
 },
 "nbformat": 4,
 "nbformat_minor": 5
}
