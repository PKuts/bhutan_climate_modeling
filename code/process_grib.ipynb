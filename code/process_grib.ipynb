{
 "cells": [
  {
   "cell_type": "code",
   "execution_count": null,
   "id": "611687af",
   "metadata": {},
   "outputs": [],
   "source": [
    "import xarray as xr\n",
    "import numpy as np\n",
    "\n",
    "# Load dataset\n",
    "ds = xr.open_dataset('era5_bhutan_variables/2m_temperature_2020.grib', engine='cfgrib')\n",
    "temp_celsius = ds['t2m'] - 273.15\n",
    "\n",
    "# Target location\n",
    "target_lat, target_lon = 27.5, 90.5\n",
    "\n",
    "# Get arrays of actual coordinates\n",
    "lat_vals = ds.latitude.values\n",
    "lon_vals = ds.longitude.values\n",
    "\n",
    "# Get index of nearest values\n",
    "lat_idx = np.abs(lat_vals - target_lat).argmin()\n",
    "lon_idx = np.abs(lon_vals - target_lon).argmin()\n",
    "\n",
    "# Access via .isel instead of .sel\n",
    "temp_series = temp_celsius.isel(latitude=lat_idx, longitude=lon_idx)\n",
    "\n",
    "# Optional: get actual lat/lon used\n",
    "actual_lat = lat_vals[lat_idx]\n",
    "actual_lon = lon_vals[lon_idx]\n",
    "print(f\"Using grid point at lat: {actual_lat}, lon: {actual_lon}\")\n",
    "\n",
    "# Plot\n",
    "temp_series.plot()\n"
   ]
  }
 ],
 "metadata": {
  "kernelspec": {
   "display_name": "Python 3 (ipykernel)",
   "language": "python",
   "name": "python3"
  },
  "language_info": {
   "codemirror_mode": {
    "name": "ipython",
    "version": 3
   },
   "file_extension": ".py",
   "mimetype": "text/x-python",
   "name": "python",
   "nbconvert_exporter": "python",
   "pygments_lexer": "ipython3",
   "version": "3.9.12"
  }
 },
 "nbformat": 4,
 "nbformat_minor": 5
}
