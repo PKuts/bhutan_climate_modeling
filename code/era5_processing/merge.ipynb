{
 "cells": [
  {
   "cell_type": "markdown",
   "id": "ee053470",
   "metadata": {},
   "source": [
    "### This code reads the era5 excel data and merge into a single file for later processing.\n",
    "- Note the size of this file is more than 90MB"
   ]
  },
  {
   "cell_type": "code",
   "execution_count": 42,
   "id": "a2fcd57a",
   "metadata": {},
   "outputs": [],
   "source": [
    "import pandas as pd\n",
    "import os\n",
    "from openpyxl import load_workbook\n",
    "from tqdm import tqdm\n",
    "from functools import reduce"
   ]
  },
  {
   "cell_type": "code",
   "execution_count": 43,
   "id": "55006cd7",
   "metadata": {},
   "outputs": [],
   "source": [
    "# 📁 Path to your Excel folder\n",
    "excel_dir = \"../../era5_data_excel\"\n",
    "\n",
    "# 📂 Mapping of variable names to filenames\n",
    "variable_files = {\n",
    "    \"temperature\": \"2m_temperature_6hour_2000_2025.xlsx\",\n",
    "    \"wind_u\": \"10m_u_component_of_wind_6hour_2000_2025.xlsx\",\n",
    "    \"wind_v\": \"10m_v_component_of_wind_6hour_2000_2025.xlsx\",\n",
    "    \"precipitation\": \"total_precipitation_6hour_2000_2025.xlsx\",\n",
    "    \"surface_runoff\": \"surface_runoff_6hour_2000_2025.xlsx\"\n",
    "}"
   ]
  },
  {
   "cell_type": "code",
   "execution_count": 44,
   "id": "64d04013",
   "metadata": {},
   "outputs": [],
   "source": [
    "# 🔁 Function to load and reshape each Excel file\n",
    "def read_and_melt_variable(filepath, var_name):\n",
    "    all_years = []\n",
    "    wb = load_workbook(filename=filepath, read_only=True)\n",
    "    for sheet in tqdm(wb.sheetnames, desc=f\"Loading {var_name}\"):\n",
    "        df = pd.read_excel(filepath, sheet_name=sheet)\n",
    "        # Reshape: latitude, longitude, datetime, value\n",
    "        melted = df.melt(id_vars=[\"latitude\", \"longitude\"],\n",
    "                         var_name=\"datetime\",\n",
    "                         value_name=var_name)\n",
    "        all_years.append(melted)\n",
    "    result = pd.concat(all_years, ignore_index=True)\n",
    "    return result"
   ]
  },
  {
   "cell_type": "code",
   "execution_count": 45,
   "id": "ba3a9b22",
   "metadata": {},
   "outputs": [
    {
     "name": "stderr",
     "output_type": "stream",
     "text": [
      "Loading temperature: 100%|█████████████████████████████████████████████████████████████████████████████████████████████████| 26/26 [00:59<00:00,  2.28s/it]\n",
      "Loading wind_u: 100%|██████████████████████████████████████████████████████████████████████████████████████████████████████| 26/26 [00:58<00:00,  2.26s/it]\n",
      "Loading wind_v: 100%|██████████████████████████████████████████████████████████████████████████████████████████████████████| 26/26 [00:58<00:00,  2.25s/it]\n",
      "Loading precipitation: 100%|███████████████████████████████████████████████████████████████████████████████████████████████| 26/26 [00:57<00:00,  2.19s/it]\n",
      "Loading surface_runoff: 100%|██████████████████████████████████████████████████████████████████████████████████████████████| 26/26 [00:56<00:00,  2.18s/it]\n"
     ]
    }
   ],
   "source": [
    "# 📥 Load all variables into long-form DataFrames\n",
    "dfs = {}\n",
    "for var, fname in variable_files.items():\n",
    "    full_path = os.path.join(excel_dir, fname)\n",
    "    dfs[var] = read_and_melt_variable(full_path, var)\n",
    "    \n",
    "    "
   ]
  },
  {
   "cell_type": "code",
   "execution_count": 46,
   "id": "0c0823a7",
   "metadata": {},
   "outputs": [
    {
     "name": "stdout",
     "output_type": "stream",
     "text": [
      "Merged data shape: (5032800, 8)\n"
     ]
    },
    {
     "data": {
      "text/html": [
       "<div>\n",
       "<style scoped>\n",
       "    .dataframe tbody tr th:only-of-type {\n",
       "        vertical-align: middle;\n",
       "    }\n",
       "\n",
       "    .dataframe tbody tr th {\n",
       "        vertical-align: top;\n",
       "    }\n",
       "\n",
       "    .dataframe thead th {\n",
       "        text-align: right;\n",
       "    }\n",
       "</style>\n",
       "<table border=\"1\" class=\"dataframe\">\n",
       "  <thead>\n",
       "    <tr style=\"text-align: right;\">\n",
       "      <th></th>\n",
       "      <th>latitude</th>\n",
       "      <th>longitude</th>\n",
       "      <th>datetime</th>\n",
       "      <th>temperature</th>\n",
       "      <th>wind_u</th>\n",
       "      <th>wind_v</th>\n",
       "      <th>precipitation</th>\n",
       "      <th>surface_runoff</th>\n",
       "    </tr>\n",
       "  </thead>\n",
       "  <tbody>\n",
       "    <tr>\n",
       "      <th>0</th>\n",
       "      <td>26.5</td>\n",
       "      <td>88.50</td>\n",
       "      <td>2000-01-01</td>\n",
       "      <td>8.190887</td>\n",
       "      <td>1.027008</td>\n",
       "      <td>-0.727951</td>\n",
       "      <td>0.0</td>\n",
       "      <td>0.0</td>\n",
       "    </tr>\n",
       "    <tr>\n",
       "      <th>1</th>\n",
       "      <td>26.5</td>\n",
       "      <td>88.75</td>\n",
       "      <td>2000-01-01</td>\n",
       "      <td>10.087372</td>\n",
       "      <td>1.219391</td>\n",
       "      <td>0.198807</td>\n",
       "      <td>0.0</td>\n",
       "      <td>0.0</td>\n",
       "    </tr>\n",
       "    <tr>\n",
       "      <th>2</th>\n",
       "      <td>26.5</td>\n",
       "      <td>89.00</td>\n",
       "      <td>2000-01-01</td>\n",
       "      <td>10.237762</td>\n",
       "      <td>1.422516</td>\n",
       "      <td>-0.077560</td>\n",
       "      <td>0.0</td>\n",
       "      <td>0.0</td>\n",
       "    </tr>\n",
       "    <tr>\n",
       "      <th>3</th>\n",
       "      <td>26.5</td>\n",
       "      <td>89.25</td>\n",
       "      <td>2000-01-01</td>\n",
       "      <td>10.550262</td>\n",
       "      <td>0.732086</td>\n",
       "      <td>-0.710373</td>\n",
       "      <td>0.0</td>\n",
       "      <td>0.0</td>\n",
       "    </tr>\n",
       "    <tr>\n",
       "      <th>4</th>\n",
       "      <td>26.5</td>\n",
       "      <td>89.50</td>\n",
       "      <td>2000-01-01</td>\n",
       "      <td>10.694794</td>\n",
       "      <td>-0.489594</td>\n",
       "      <td>-1.047287</td>\n",
       "      <td>0.0</td>\n",
       "      <td>0.0</td>\n",
       "    </tr>\n",
       "  </tbody>\n",
       "</table>\n",
       "</div>"
      ],
      "text/plain": [
       "   latitude  longitude   datetime  temperature    wind_u    wind_v  \\\n",
       "0      26.5      88.50 2000-01-01     8.190887  1.027008 -0.727951   \n",
       "1      26.5      88.75 2000-01-01    10.087372  1.219391  0.198807   \n",
       "2      26.5      89.00 2000-01-01    10.237762  1.422516 -0.077560   \n",
       "3      26.5      89.25 2000-01-01    10.550262  0.732086 -0.710373   \n",
       "4      26.5      89.50 2000-01-01    10.694794 -0.489594 -1.047287   \n",
       "\n",
       "   precipitation  surface_runoff  \n",
       "0            0.0             0.0  \n",
       "1            0.0             0.0  \n",
       "2            0.0             0.0  \n",
       "3            0.0             0.0  \n",
       "4            0.0             0.0  "
      ]
     },
     "execution_count": 46,
     "metadata": {},
     "output_type": "execute_result"
    }
   ],
   "source": [
    "# 🔗 Merge all variables on lat, lon, datetime\n",
    "merged_df = reduce(lambda left, right: pd.merge(left, right, on=[\"latitude\", \"longitude\", \"datetime\"], how=\"inner\"), dfs.values())\n",
    "\n",
    "# 🕒 Convert datetime from string to actual datetime\n",
    "merged_df[\"datetime\"] = pd.to_datetime(merged_df[\"datetime\"])\n",
    "\n",
    "# ✅ Output shape and preview\n",
    "print(\"Merged data shape:\", merged_df.shape)\n",
    "merged_df.head()"
   ]
  },
  {
   "cell_type": "code",
   "execution_count": 47,
   "id": "4c161329",
   "metadata": {},
   "outputs": [],
   "source": [
    "import os\n",
    "\n",
    "# Create folder if it doesn't exist\n",
    "os.makedirs(\"../../data/merged_era5data\", exist_ok=True)\n",
    "\n",
    "# Save merged_df to Parquet\n",
    "output_path = \"../../data/merged_era5data/merged_df.parquet\"\n",
    "merged_df.to_parquet(output_path)\n"
   ]
  },
  {
   "cell_type": "code",
   "execution_count": null,
   "id": "1e32a25c",
   "metadata": {},
   "outputs": [],
   "source": []
  }
 ],
 "metadata": {
  "kernelspec": {
   "display_name": "Python 3 (ipykernel)",
   "language": "python",
   "name": "python3"
  },
  "language_info": {
   "codemirror_mode": {
    "name": "ipython",
    "version": 3
   },
   "file_extension": ".py",
   "mimetype": "text/x-python",
   "name": "python",
   "nbconvert_exporter": "python",
   "pygments_lexer": "ipython3",
   "version": "3.9.12"
  }
 },
 "nbformat": 4,
 "nbformat_minor": 5
}
