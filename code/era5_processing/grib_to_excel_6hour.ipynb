{
 "cells": [
  {
   "cell_type": "markdown",
   "id": "e224ecbd",
   "metadata": {},
   "source": [
    "## This code converts grib files to excel files"
   ]
  },
  {
   "cell_type": "code",
   "execution_count": 33,
   "id": "91142a5c",
   "metadata": {},
   "outputs": [],
   "source": [
    "import os\n",
    "import re\n",
    "import xarray as xr\n",
    "import pandas as pd"
   ]
  },
  {
   "cell_type": "code",
   "execution_count": 34,
   "id": "f2acaa66",
   "metadata": {},
   "outputs": [],
   "source": [
    "def convert_ds_to_df_wide(ds, downsample_every=6):\n",
    "    \"\"\"\n",
    "    Convert an xarray dataset with time/step dimensions to a wide-format DataFrame.\n",
    "\n",
    "    Parameters:\n",
    "    - ds: xarray.Dataset\n",
    "    - downsample_every: int, how often to sample from time steps (e.g., every 6 hours)\n",
    "\n",
    "    Returns:\n",
    "    - df_wide: pd.DataFrame, columns are datetime, rows are latitude/longitude grid\n",
    "    \"\"\"\n",
    "    var = list(ds.data_vars)[0]\n",
    "    da = ds[var]\n",
    "\n",
    "    if \"step\" in da.dims:\n",
    "        # Handle time+step combination (e.g., surface_runoff)\n",
    "        # ERA5 forecast variables (e.g., runoff) have both 'time' and 'step' dimensions.\n",
    "        # 'valid_time' combines them to give the actual timestamp for each data point.\n",
    "        # We use 'valid_time' to flatten and downsample the data along real time.\n",
    "        valid_times = ds[\"valid_time\"].values.flatten()\n",
    "        da_reshaped = da.stack(datetime=(\"time\", \"step\"))\n",
    "        da_reshaped = da_reshaped.assign_coords(datetime=(\"datetime\", valid_times))\n",
    "        da_reshaped = da_reshaped.transpose(\"latitude\", \"longitude\", \"datetime\")\n",
    "        da_downsampled = da_reshaped.sel(datetime=da_reshaped.datetime[::downsample_every])\n",
    "    else:\n",
    "        da_downsampled = da.sel(time=da.time[::downsample_every])\n",
    "        da_downsampled = da_downsampled.rename({\"time\": \"datetime\"})\n",
    "        da_downsampled = da_downsampled.transpose(\"latitude\", \"longitude\", \"datetime\")\n",
    "\n",
    "    # Convert to wide DataFrame\n",
    "    df = da_downsampled.to_dataframe().reset_index()\n",
    "    df_wide = df.pivot_table(index=[\"latitude\", \"longitude\"], columns=\"datetime\", values=var).reset_index()\n",
    "    df_wide.columns.name = None\n",
    "    df_wide = df_wide.rename_axis(None, axis=0)\n",
    "    df_wide = df_wide[['latitude', 'longitude'] + [col for col in df_wide.columns if col not in ['latitude', 'longitude']]]\n",
    "\n",
    "    return df_wide\n"
   ]
  },
  {
   "cell_type": "code",
   "execution_count": 35,
   "id": "d6e30864",
   "metadata": {},
   "outputs": [],
   "source": [
    "def process_variable_to_excel(variable_name, input_base, output_base, start_year, end_year):\n",
    "    input_folder = os.path.join(input_base, variable_name)\n",
    "    output_path = os.path.join(output_base, f\"{variable_name}_6hour_{start_year}_{end_year}.xlsx\")\n",
    "    os.makedirs(output_base, exist_ok=True)\n",
    "\n",
    "    print(f\"\\n📂 Processing variable: {variable_name}\")\n",
    "    print(f\"📁 Input folder: {input_folder}\")\n",
    "    print(f\"💾 Output Excel: {output_path}\\n\")\n",
    "\n",
    "    writer = pd.ExcelWriter(output_path, engine=\"openpyxl\")\n",
    "    success_count = 0\n",
    "\n",
    "    for year in range(start_year, end_year + 1):\n",
    "        filename = f\"{variable_name}_{year}.grib\"\n",
    "        file_path = os.path.join(input_folder, filename)\n",
    "\n",
    "        if not os.path.exists(file_path):\n",
    "            print(f\"❌ Missing: {file_path}\")\n",
    "            continue\n",
    "\n",
    "        print(f\"📥 Loading: {file_path}\")\n",
    "        try:\n",
    "            ds = xr.open_dataset(file_path, engine=\"cfgrib\")\n",
    "            df_wide = convert_ds_to_df_wide(ds)\n",
    "\n",
    "            df_wide.to_excel(writer, sheet_name=str(year), index=False)\n",
    "            print(f\"✅ Saved sheet '{year}' — shape: {df_wide.shape}\")\n",
    "            success_count += 1\n",
    "\n",
    "        except Exception as e:\n",
    "            print(f\"❌ Failed for {file_path}: {e}\")\n",
    "\n",
    "    writer.close()\n",
    "    print(f\"\\n✅ Done. {success_count} years saved for '{variable_name}'\")\n",
    "    \n",
    "    \n",
    "    "
   ]
  },
  {
   "cell_type": "code",
   "execution_count": null,
   "id": "b46ff31c",
   "metadata": {},
   "outputs": [
    {
     "name": "stderr",
     "output_type": "stream",
     "text": [
      "Ignoring index file '../../era5_data_grib_raw/surface_runoff/surface_runoff_2000.grib.5b7b6.idx' incompatible with GRIB file\n"
     ]
    },
    {
     "name": "stdout",
     "output_type": "stream",
     "text": [
      "\n",
      "📂 Processing variable: surface_runoff\n",
      "📁 Input folder: ../../era5_data_grib_raw/surface_runoff\n",
      "💾 Output Excel: ../../era5_data_excel/surface_runoff_6hour_2000_2025.xlsx\n",
      "\n",
      "📥 Loading: ../../era5_data_grib_raw/surface_runoff/surface_runoff_2000.grib\n"
     ]
    },
    {
     "name": "stderr",
     "output_type": "stream",
     "text": [
      "Ignoring index file '../../era5_data_grib_raw/surface_runoff/surface_runoff_2001.grib.5b7b6.idx' incompatible with GRIB file\n"
     ]
    },
    {
     "name": "stdout",
     "output_type": "stream",
     "text": [
      "✅ Saved sheet '2000' — shape: (135, 1466)\n",
      "📥 Loading: ../../era5_data_grib_raw/surface_runoff/surface_runoff_2001.grib\n"
     ]
    },
    {
     "name": "stderr",
     "output_type": "stream",
     "text": [
      "Ignoring index file '../../era5_data_grib_raw/surface_runoff/surface_runoff_2002.grib.5b7b6.idx' incompatible with GRIB file\n"
     ]
    },
    {
     "name": "stdout",
     "output_type": "stream",
     "text": [
      "✅ Saved sheet '2001' — shape: (135, 1462)\n",
      "📥 Loading: ../../era5_data_grib_raw/surface_runoff/surface_runoff_2002.grib\n"
     ]
    },
    {
     "name": "stderr",
     "output_type": "stream",
     "text": [
      "Ignoring index file '../../era5_data_grib_raw/surface_runoff/surface_runoff_2003.grib.5b7b6.idx' incompatible with GRIB file\n"
     ]
    },
    {
     "name": "stdout",
     "output_type": "stream",
     "text": [
      "✅ Saved sheet '2002' — shape: (135, 1462)\n",
      "📥 Loading: ../../era5_data_grib_raw/surface_runoff/surface_runoff_2003.grib\n"
     ]
    },
    {
     "name": "stderr",
     "output_type": "stream",
     "text": [
      "Ignoring index file '../../era5_data_grib_raw/surface_runoff/surface_runoff_2004.grib.5b7b6.idx' incompatible with GRIB file\n"
     ]
    },
    {
     "name": "stdout",
     "output_type": "stream",
     "text": [
      "✅ Saved sheet '2003' — shape: (135, 1462)\n",
      "📥 Loading: ../../era5_data_grib_raw/surface_runoff/surface_runoff_2004.grib\n"
     ]
    },
    {
     "name": "stderr",
     "output_type": "stream",
     "text": [
      "Ignoring index file '../../era5_data_grib_raw/surface_runoff/surface_runoff_2005.grib.5b7b6.idx' incompatible with GRIB file\n"
     ]
    },
    {
     "name": "stdout",
     "output_type": "stream",
     "text": [
      "✅ Saved sheet '2004' — shape: (135, 1466)\n",
      "📥 Loading: ../../era5_data_grib_raw/surface_runoff/surface_runoff_2005.grib\n"
     ]
    },
    {
     "name": "stderr",
     "output_type": "stream",
     "text": [
      "Ignoring index file '../../era5_data_grib_raw/surface_runoff/surface_runoff_2006.grib.5b7b6.idx' incompatible with GRIB file\n"
     ]
    },
    {
     "name": "stdout",
     "output_type": "stream",
     "text": [
      "✅ Saved sheet '2005' — shape: (135, 1462)\n",
      "📥 Loading: ../../era5_data_grib_raw/surface_runoff/surface_runoff_2006.grib\n"
     ]
    },
    {
     "name": "stderr",
     "output_type": "stream",
     "text": [
      "Ignoring index file '../../era5_data_grib_raw/surface_runoff/surface_runoff_2007.grib.5b7b6.idx' incompatible with GRIB file\n"
     ]
    },
    {
     "name": "stdout",
     "output_type": "stream",
     "text": [
      "✅ Saved sheet '2006' — shape: (135, 1462)\n",
      "📥 Loading: ../../era5_data_grib_raw/surface_runoff/surface_runoff_2007.grib\n"
     ]
    },
    {
     "name": "stderr",
     "output_type": "stream",
     "text": [
      "Ignoring index file '../../era5_data_grib_raw/surface_runoff/surface_runoff_2008.grib.5b7b6.idx' incompatible with GRIB file\n"
     ]
    },
    {
     "name": "stdout",
     "output_type": "stream",
     "text": [
      "✅ Saved sheet '2007' — shape: (135, 1462)\n",
      "📥 Loading: ../../era5_data_grib_raw/surface_runoff/surface_runoff_2008.grib\n"
     ]
    },
    {
     "name": "stderr",
     "output_type": "stream",
     "text": [
      "Ignoring index file '../../era5_data_grib_raw/surface_runoff/surface_runoff_2009.grib.5b7b6.idx' incompatible with GRIB file\n"
     ]
    },
    {
     "name": "stdout",
     "output_type": "stream",
     "text": [
      "✅ Saved sheet '2008' — shape: (135, 1466)\n",
      "📥 Loading: ../../era5_data_grib_raw/surface_runoff/surface_runoff_2009.grib\n"
     ]
    },
    {
     "name": "stderr",
     "output_type": "stream",
     "text": [
      "Ignoring index file '../../era5_data_grib_raw/surface_runoff/surface_runoff_2010.grib.5b7b6.idx' incompatible with GRIB file\n"
     ]
    },
    {
     "name": "stdout",
     "output_type": "stream",
     "text": [
      "✅ Saved sheet '2009' — shape: (135, 1462)\n",
      "📥 Loading: ../../era5_data_grib_raw/surface_runoff/surface_runoff_2010.grib\n"
     ]
    },
    {
     "name": "stderr",
     "output_type": "stream",
     "text": [
      "Ignoring index file '../../era5_data_grib_raw/surface_runoff/surface_runoff_2011.grib.5b7b6.idx' incompatible with GRIB file\n"
     ]
    },
    {
     "name": "stdout",
     "output_type": "stream",
     "text": [
      "✅ Saved sheet '2010' — shape: (135, 1462)\n",
      "📥 Loading: ../../era5_data_grib_raw/surface_runoff/surface_runoff_2011.grib\n"
     ]
    },
    {
     "name": "stderr",
     "output_type": "stream",
     "text": [
      "Ignoring index file '../../era5_data_grib_raw/surface_runoff/surface_runoff_2012.grib.5b7b6.idx' incompatible with GRIB file\n"
     ]
    },
    {
     "name": "stdout",
     "output_type": "stream",
     "text": [
      "✅ Saved sheet '2011' — shape: (135, 1462)\n",
      "📥 Loading: ../../era5_data_grib_raw/surface_runoff/surface_runoff_2012.grib\n"
     ]
    },
    {
     "name": "stderr",
     "output_type": "stream",
     "text": [
      "Ignoring index file '../../era5_data_grib_raw/surface_runoff/surface_runoff_2013.grib.5b7b6.idx' incompatible with GRIB file\n"
     ]
    },
    {
     "name": "stdout",
     "output_type": "stream",
     "text": [
      "✅ Saved sheet '2012' — shape: (135, 1466)\n",
      "📥 Loading: ../../era5_data_grib_raw/surface_runoff/surface_runoff_2013.grib\n"
     ]
    },
    {
     "name": "stderr",
     "output_type": "stream",
     "text": [
      "Ignoring index file '../../era5_data_grib_raw/surface_runoff/surface_runoff_2014.grib.5b7b6.idx' incompatible with GRIB file\n"
     ]
    },
    {
     "name": "stdout",
     "output_type": "stream",
     "text": [
      "✅ Saved sheet '2013' — shape: (135, 1462)\n",
      "📥 Loading: ../../era5_data_grib_raw/surface_runoff/surface_runoff_2014.grib\n"
     ]
    },
    {
     "name": "stderr",
     "output_type": "stream",
     "text": [
      "Ignoring index file '../../era5_data_grib_raw/surface_runoff/surface_runoff_2015.grib.5b7b6.idx' incompatible with GRIB file\n"
     ]
    },
    {
     "name": "stdout",
     "output_type": "stream",
     "text": [
      "✅ Saved sheet '2014' — shape: (135, 1462)\n",
      "📥 Loading: ../../era5_data_grib_raw/surface_runoff/surface_runoff_2015.grib\n"
     ]
    },
    {
     "name": "stderr",
     "output_type": "stream",
     "text": [
      "Ignoring index file '../../era5_data_grib_raw/surface_runoff/surface_runoff_2016.grib.5b7b6.idx' incompatible with GRIB file\n"
     ]
    },
    {
     "name": "stdout",
     "output_type": "stream",
     "text": [
      "✅ Saved sheet '2015' — shape: (135, 1462)\n",
      "📥 Loading: ../../era5_data_grib_raw/surface_runoff/surface_runoff_2016.grib\n"
     ]
    },
    {
     "name": "stderr",
     "output_type": "stream",
     "text": [
      "Ignoring index file '../../era5_data_grib_raw/surface_runoff/surface_runoff_2017.grib.5b7b6.idx' incompatible with GRIB file\n"
     ]
    },
    {
     "name": "stdout",
     "output_type": "stream",
     "text": [
      "✅ Saved sheet '2016' — shape: (135, 1466)\n",
      "📥 Loading: ../../era5_data_grib_raw/surface_runoff/surface_runoff_2017.grib\n"
     ]
    },
    {
     "name": "stderr",
     "output_type": "stream",
     "text": [
      "Ignoring index file '../../era5_data_grib_raw/surface_runoff/surface_runoff_2018.grib.5b7b6.idx' incompatible with GRIB file\n"
     ]
    },
    {
     "name": "stdout",
     "output_type": "stream",
     "text": [
      "✅ Saved sheet '2017' — shape: (135, 1462)\n",
      "📥 Loading: ../../era5_data_grib_raw/surface_runoff/surface_runoff_2018.grib\n"
     ]
    },
    {
     "name": "stderr",
     "output_type": "stream",
     "text": [
      "Ignoring index file '../../era5_data_grib_raw/surface_runoff/surface_runoff_2019.grib.5b7b6.idx' incompatible with GRIB file\n"
     ]
    },
    {
     "name": "stdout",
     "output_type": "stream",
     "text": [
      "✅ Saved sheet '2018' — shape: (135, 1462)\n",
      "📥 Loading: ../../era5_data_grib_raw/surface_runoff/surface_runoff_2019.grib\n"
     ]
    }
   ],
   "source": [
    "# === Run for all target variables ===\n",
    "\n",
    "input_base = \"../../era5_data_grib_raw\"\n",
    "output_base = \"../../era5_data_excel\"\n",
    "\n",
    "variables = [\n",
    "    #\"total_precipitation\",\n",
    "    #\"2m_temperature\",\n",
    "    #\"10m_u_component_of_wind\",\n",
    "    #\"10m_v_component_of_wind\",\n",
    "    \"surface_runoff\",\n",
    "    #\"sub_surface_runoff\",\n",
    "]\n",
    "\n",
    "for var in variables:\n",
    "    process_variable_to_excel(var, input_base, output_base, start_year=2000, end_year=2025)"
   ]
  },
  {
   "cell_type": "code",
   "execution_count": null,
   "id": "f12121f0",
   "metadata": {},
   "outputs": [],
   "source": []
  },
  {
   "cell_type": "code",
   "execution_count": null,
   "id": "6d19a167",
   "metadata": {},
   "outputs": [],
   "source": []
  }
 ],
 "metadata": {
  "kernelspec": {
   "display_name": "Python 3 (ipykernel)",
   "language": "python",
   "name": "python3"
  },
  "language_info": {
   "codemirror_mode": {
    "name": "ipython",
    "version": 3
   },
   "file_extension": ".py",
   "mimetype": "text/x-python",
   "name": "python",
   "nbconvert_exporter": "python",
   "pygments_lexer": "ipython3",
   "version": "3.9.12"
  }
 },
 "nbformat": 4,
 "nbformat_minor": 5
}
