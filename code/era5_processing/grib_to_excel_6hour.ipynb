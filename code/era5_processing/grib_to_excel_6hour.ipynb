{
 "cells": [
  {
   "cell_type": "markdown",
   "id": "c2047e6d",
   "metadata": {},
   "source": [
    "### 📘 GRIB to Excel Converter with 6-Hour Downsampling\n",
    "\n",
    "This script processes GRIB files containing ERA5 weather variables and converts them into Excel files for analysis and visualization.\n",
    "\n",
    "#### ✅ Key Features:\n",
    "- 📥 **Loads** `.grib` files for a specific variable and year range\n",
    "- ⏬ **Downsamples** to every 6 hours to reduce file size and match GraphCast frequency\n",
    "- 📊 **Reshapes** data to wide-format:\n",
    "  - Rows: `(latitude, longitude)`\n",
    "  - Columns: hourly timestamps\n",
    "- 📁 **Saves output** as a multi-sheet Excel file (one sheet per year)\n",
    "\n",
    "This is useful for long-term climate or weather modeling, especially for applications like flood prediction in Bhutan.\n"
   ]
  },
  {
   "cell_type": "code",
   "execution_count": 1,
   "id": "6e0f6bc2",
   "metadata": {},
   "outputs": [],
   "source": [
    "import os\n",
    "import re\n",
    "import xarray as xr\n",
    "import pandas as pd"
   ]
  },
  {
   "cell_type": "code",
   "execution_count": 2,
   "id": "744c279e",
   "metadata": {},
   "outputs": [],
   "source": [
    "def convert_ds_to_df_wide(ds, downsample_every=6):\n",
    "    \"\"\"\n",
    "    Convert an xarray dataset with time/step dimensions to a wide-format DataFrame.\n",
    "\n",
    "    Parameters:\n",
    "    - ds: xarray.Dataset\n",
    "    - downsample_every: int, how often to sample from time steps (e.g., every 6 hours)\n",
    "\n",
    "    Returns:\n",
    "    - df_wide: pd.DataFrame, columns are datetime, rows are latitude/longitude grid\n",
    "    \"\"\"\n",
    "    var = list(ds.data_vars)[0]\n",
    "    da = ds[var]\n",
    "\n",
    "    if \"step\" in da.dims:\n",
    "        # Handle time+step combination (e.g., surface_runoff)\n",
    "        # ERA5 forecast variables (e.g., runoff) have both 'time' and 'step' dimensions.\n",
    "        # 'valid_time' combines them to give the actual timestamp for each data point.\n",
    "        # We use 'valid_time' to flatten and downsample the data along real time.\n",
    "        valid_times = ds[\"valid_time\"].values.flatten()\n",
    "        da_reshaped = da.stack(datetime=(\"time\", \"step\"))\n",
    "        da_reshaped = da_reshaped.assign_coords(datetime=(\"datetime\", valid_times))\n",
    "        da_reshaped = da_reshaped.transpose(\"latitude\", \"longitude\", \"datetime\")\n",
    "        da_downsampled = da_reshaped.sel(datetime=da_reshaped.datetime[::downsample_every])\n",
    "    else:\n",
    "        da_downsampled = da.sel(time=da.time[::downsample_every])\n",
    "        da_downsampled = da_downsampled.rename({\"time\": \"datetime\"})\n",
    "        da_downsampled = da_downsampled.transpose(\"latitude\", \"longitude\", \"datetime\")\n",
    "        \n",
    "    # Convert temperature from Kelvin to Celsius if applicable\n",
    "    if var in [\"2m_temperature\", \"t2m\"]:\n",
    "        da_downsampled = da_downsampled - 273.15\n",
    "\n",
    "    # Convert to wide DataFrame\n",
    "    df = da_downsampled.to_dataframe().reset_index()\n",
    "    df_wide = df.pivot_table(index=[\"latitude\", \"longitude\"], columns=\"datetime\", values=var).reset_index()\n",
    "    df_wide.columns.name = None\n",
    "    df_wide = df_wide.rename_axis(None, axis=0)\n",
    "    df_wide = df_wide[['latitude', 'longitude'] + [col for col in df_wide.columns if col not in ['latitude', 'longitude']]]\n",
    "\n",
    "    # rounds all datetime columns (after pivot) to a common 6-hour grid.\n",
    "    # Ensures that 01:00, 07:00, etc., become 00:00, 06:00, etc.\n",
    "    df_wide.columns = (\n",
    "    df_wide.columns[:2].tolist() +\n",
    "    [pd.to_datetime(col).round(\"6h\") if isinstance(col, pd.Timestamp) else col\n",
    "     for col in df_wide.columns[2:]]\n",
    "    )\n",
    "\n",
    "    return df_wide\n"
   ]
  },
  {
   "cell_type": "code",
   "execution_count": 3,
   "id": "47949143",
   "metadata": {},
   "outputs": [],
   "source": [
    "def process_variable_to_excel(variable_name, input_base, output_base, start_year, end_year):\n",
    "    input_folder = os.path.join(input_base, variable_name)\n",
    "    output_path = os.path.join(output_base, f\"{variable_name}_6hour_{start_year}_{end_year}.xlsx\")\n",
    "    os.makedirs(output_base, exist_ok=True)\n",
    "    \n",
    "    # Check if output file already exists and is larger than 10MB\n",
    "    if os.path.exists(output_path) and os.path.getsize(output_path) > 10 * 1024 * 1024:\n",
    "        print(f\"⚠️ Skipping {variable_name} — Excel file already exists and is >10MB\")\n",
    "        return\n",
    "\n",
    "    print(f\"\\n📂 Processing variable: {variable_name}\")\n",
    "    print(f\"📁 Input folder: {input_folder}\")\n",
    "    print(f\"💾 Output Excel: {output_path}\\n\")\n",
    "\n",
    "    writer = pd.ExcelWriter(output_path, engine=\"openpyxl\")\n",
    "    success_count = 0\n",
    "\n",
    "    for year in range(start_year, end_year + 1):\n",
    "        filename = f\"{variable_name}_{year}.grib\"\n",
    "        file_path = os.path.join(input_folder, filename)\n",
    "\n",
    "        if not os.path.exists(file_path):\n",
    "            print(f\"❌ Missing: {file_path}\")\n",
    "            continue\n",
    "\n",
    "        print(f\"📥 Loading: {file_path}\")\n",
    "        try:\n",
    "            ds = xr.open_dataset(file_path, engine=\"cfgrib\")\n",
    "            df_wide = convert_ds_to_df_wide(ds)\n",
    "\n",
    "            df_wide.to_excel(writer, sheet_name=str(year), index=False)\n",
    "            print(f\"✅ Saved sheet '{year}' — shape: {df_wide.shape}\")\n",
    "            success_count += 1\n",
    "\n",
    "        except Exception as e:\n",
    "            print(f\"❌ Failed for {file_path}: {e}\")\n",
    "\n",
    "    writer.close()\n",
    "    print(f\"\\n✅ Done. {success_count} years saved for '{variable_name}'\")\n",
    "    \n",
    "    \n",
    "    "
   ]
  },
  {
   "cell_type": "code",
   "execution_count": 4,
   "id": "fdb131b4",
   "metadata": {},
   "outputs": [
    {
     "name": "stdout",
     "output_type": "stream",
     "text": [
      "\n",
      "📂 Processing variable: total_precipitation\n",
      "📁 Input folder: ../../era5_data_grib_raw/total_precipitation\n",
      "💾 Output Excel: ../../era5_data_excel/total_precipitation_6hour_2000_2025.xlsx\n",
      "\n"
     ]
    },
    {
     "name": "stderr",
     "output_type": "stream",
     "text": [
      "Ignoring index file '../../era5_data_grib_raw/total_precipitation/total_precipitation_2000.grib.5b7b6.idx' incompatible with GRIB file\n"
     ]
    },
    {
     "name": "stdout",
     "output_type": "stream",
     "text": [
      "📥 Loading: ../../era5_data_grib_raw/total_precipitation/total_precipitation_2000.grib\n"
     ]
    },
    {
     "name": "stderr",
     "output_type": "stream",
     "text": [
      "Ignoring index file '../../era5_data_grib_raw/total_precipitation/total_precipitation_2001.grib.5b7b6.idx' incompatible with GRIB file\n"
     ]
    },
    {
     "name": "stdout",
     "output_type": "stream",
     "text": [
      "✅ Saved sheet '2000' — shape: (135, 1466)\n",
      "📥 Loading: ../../era5_data_grib_raw/total_precipitation/total_precipitation_2001.grib\n"
     ]
    },
    {
     "name": "stderr",
     "output_type": "stream",
     "text": [
      "Ignoring index file '../../era5_data_grib_raw/total_precipitation/total_precipitation_2002.grib.5b7b6.idx' incompatible with GRIB file\n"
     ]
    },
    {
     "name": "stdout",
     "output_type": "stream",
     "text": [
      "✅ Saved sheet '2001' — shape: (135, 1462)\n",
      "📥 Loading: ../../era5_data_grib_raw/total_precipitation/total_precipitation_2002.grib\n"
     ]
    },
    {
     "name": "stderr",
     "output_type": "stream",
     "text": [
      "Ignoring index file '../../era5_data_grib_raw/total_precipitation/total_precipitation_2003.grib.5b7b6.idx' incompatible with GRIB file\n"
     ]
    },
    {
     "name": "stdout",
     "output_type": "stream",
     "text": [
      "✅ Saved sheet '2002' — shape: (135, 1462)\n",
      "📥 Loading: ../../era5_data_grib_raw/total_precipitation/total_precipitation_2003.grib\n"
     ]
    },
    {
     "name": "stderr",
     "output_type": "stream",
     "text": [
      "Ignoring index file '../../era5_data_grib_raw/total_precipitation/total_precipitation_2004.grib.5b7b6.idx' incompatible with GRIB file\n"
     ]
    },
    {
     "name": "stdout",
     "output_type": "stream",
     "text": [
      "✅ Saved sheet '2003' — shape: (135, 1462)\n",
      "📥 Loading: ../../era5_data_grib_raw/total_precipitation/total_precipitation_2004.grib\n"
     ]
    },
    {
     "name": "stderr",
     "output_type": "stream",
     "text": [
      "Ignoring index file '../../era5_data_grib_raw/total_precipitation/total_precipitation_2005.grib.5b7b6.idx' incompatible with GRIB file\n"
     ]
    },
    {
     "name": "stdout",
     "output_type": "stream",
     "text": [
      "✅ Saved sheet '2004' — shape: (135, 1466)\n",
      "📥 Loading: ../../era5_data_grib_raw/total_precipitation/total_precipitation_2005.grib\n"
     ]
    },
    {
     "name": "stderr",
     "output_type": "stream",
     "text": [
      "Ignoring index file '../../era5_data_grib_raw/total_precipitation/total_precipitation_2006.grib.5b7b6.idx' incompatible with GRIB file\n"
     ]
    },
    {
     "name": "stdout",
     "output_type": "stream",
     "text": [
      "✅ Saved sheet '2005' — shape: (135, 1462)\n",
      "📥 Loading: ../../era5_data_grib_raw/total_precipitation/total_precipitation_2006.grib\n"
     ]
    },
    {
     "name": "stderr",
     "output_type": "stream",
     "text": [
      "Ignoring index file '../../era5_data_grib_raw/total_precipitation/total_precipitation_2007.grib.5b7b6.idx' incompatible with GRIB file\n"
     ]
    },
    {
     "name": "stdout",
     "output_type": "stream",
     "text": [
      "✅ Saved sheet '2006' — shape: (135, 1462)\n",
      "📥 Loading: ../../era5_data_grib_raw/total_precipitation/total_precipitation_2007.grib\n"
     ]
    },
    {
     "name": "stderr",
     "output_type": "stream",
     "text": [
      "Ignoring index file '../../era5_data_grib_raw/total_precipitation/total_precipitation_2008.grib.5b7b6.idx' incompatible with GRIB file\n"
     ]
    },
    {
     "name": "stdout",
     "output_type": "stream",
     "text": [
      "✅ Saved sheet '2007' — shape: (135, 1462)\n",
      "📥 Loading: ../../era5_data_grib_raw/total_precipitation/total_precipitation_2008.grib\n"
     ]
    },
    {
     "name": "stderr",
     "output_type": "stream",
     "text": [
      "Ignoring index file '../../era5_data_grib_raw/total_precipitation/total_precipitation_2009.grib.5b7b6.idx' incompatible with GRIB file\n"
     ]
    },
    {
     "name": "stdout",
     "output_type": "stream",
     "text": [
      "✅ Saved sheet '2008' — shape: (135, 1466)\n",
      "📥 Loading: ../../era5_data_grib_raw/total_precipitation/total_precipitation_2009.grib\n"
     ]
    },
    {
     "name": "stderr",
     "output_type": "stream",
     "text": [
      "Ignoring index file '../../era5_data_grib_raw/total_precipitation/total_precipitation_2010.grib.5b7b6.idx' incompatible with GRIB file\n"
     ]
    },
    {
     "name": "stdout",
     "output_type": "stream",
     "text": [
      "✅ Saved sheet '2009' — shape: (135, 1462)\n",
      "📥 Loading: ../../era5_data_grib_raw/total_precipitation/total_precipitation_2010.grib\n"
     ]
    },
    {
     "name": "stderr",
     "output_type": "stream",
     "text": [
      "Can't read index file '../../era5_data_grib_raw/total_precipitation/total_precipitation_2011.grib.5b7b6.idx'\n",
      "Traceback (most recent call last):\n",
      "  File \"/Users/qingfangliu/opt/anaconda3/lib/python3.9/site-packages/cfgrib/messages.py\", line 551, in from_indexpath_or_filestream\n",
      "    self = cls.from_indexpath(indexpath)\n",
      "  File \"/Users/qingfangliu/opt/anaconda3/lib/python3.9/site-packages/cfgrib/messages.py\", line 430, in from_indexpath\n",
      "    index = pickle.load(file)\n",
      "EOFError: Ran out of input\n"
     ]
    },
    {
     "name": "stdout",
     "output_type": "stream",
     "text": [
      "✅ Saved sheet '2010' — shape: (135, 1462)\n",
      "📥 Loading: ../../era5_data_grib_raw/total_precipitation/total_precipitation_2011.grib\n",
      "✅ Saved sheet '2011' — shape: (135, 1462)\n",
      "📥 Loading: ../../era5_data_grib_raw/total_precipitation/total_precipitation_2012.grib\n",
      "✅ Saved sheet '2012' — shape: (135, 1466)\n",
      "📥 Loading: ../../era5_data_grib_raw/total_precipitation/total_precipitation_2013.grib\n",
      "✅ Saved sheet '2013' — shape: (135, 1462)\n",
      "📥 Loading: ../../era5_data_grib_raw/total_precipitation/total_precipitation_2014.grib\n",
      "✅ Saved sheet '2014' — shape: (135, 1462)\n",
      "📥 Loading: ../../era5_data_grib_raw/total_precipitation/total_precipitation_2015.grib\n",
      "✅ Saved sheet '2015' — shape: (135, 1462)\n",
      "📥 Loading: ../../era5_data_grib_raw/total_precipitation/total_precipitation_2016.grib\n",
      "✅ Saved sheet '2016' — shape: (135, 1466)\n",
      "📥 Loading: ../../era5_data_grib_raw/total_precipitation/total_precipitation_2017.grib\n",
      "✅ Saved sheet '2017' — shape: (135, 1462)\n",
      "📥 Loading: ../../era5_data_grib_raw/total_precipitation/total_precipitation_2018.grib\n",
      "✅ Saved sheet '2018' — shape: (135, 1462)\n",
      "📥 Loading: ../../era5_data_grib_raw/total_precipitation/total_precipitation_2019.grib\n",
      "✅ Saved sheet '2019' — shape: (135, 1462)\n",
      "📥 Loading: ../../era5_data_grib_raw/total_precipitation/total_precipitation_2020.grib\n",
      "✅ Saved sheet '2020' — shape: (135, 1466)\n",
      "📥 Loading: ../../era5_data_grib_raw/total_precipitation/total_precipitation_2021.grib\n",
      "✅ Saved sheet '2021' — shape: (135, 1462)\n",
      "📥 Loading: ../../era5_data_grib_raw/total_precipitation/total_precipitation_2022.grib\n",
      "✅ Saved sheet '2022' — shape: (135, 1462)\n",
      "📥 Loading: ../../era5_data_grib_raw/total_precipitation/total_precipitation_2023.grib\n",
      "✅ Saved sheet '2023' — shape: (135, 1462)\n",
      "📥 Loading: ../../era5_data_grib_raw/total_precipitation/total_precipitation_2024.grib\n",
      "✅ Saved sheet '2024' — shape: (135, 1466)\n",
      "📥 Loading: ../../era5_data_grib_raw/total_precipitation/total_precipitation_2025.grib\n",
      "✅ Saved sheet '2025' — shape: (135, 754)\n"
     ]
    },
    {
     "name": "stderr",
     "output_type": "stream",
     "text": [
      "Ignoring index file '../../era5_data_grib_raw/surface_runoff/surface_runoff_2000.grib.5b7b6.idx' incompatible with GRIB file\n"
     ]
    },
    {
     "name": "stdout",
     "output_type": "stream",
     "text": [
      "\n",
      "✅ Done. 26 years saved for 'total_precipitation'\n",
      "⚠️ Skipping 2m_temperature — Excel file already exists and is >10MB\n",
      "⚠️ Skipping 10m_u_component_of_wind — Excel file already exists and is >10MB\n",
      "⚠️ Skipping 10m_v_component_of_wind — Excel file already exists and is >10MB\n",
      "\n",
      "📂 Processing variable: surface_runoff\n",
      "📁 Input folder: ../../era5_data_grib_raw/surface_runoff\n",
      "💾 Output Excel: ../../era5_data_excel/surface_runoff_6hour_2000_2025.xlsx\n",
      "\n",
      "📥 Loading: ../../era5_data_grib_raw/surface_runoff/surface_runoff_2000.grib\n"
     ]
    },
    {
     "name": "stderr",
     "output_type": "stream",
     "text": [
      "Ignoring index file '../../era5_data_grib_raw/surface_runoff/surface_runoff_2001.grib.5b7b6.idx' incompatible with GRIB file\n"
     ]
    },
    {
     "name": "stdout",
     "output_type": "stream",
     "text": [
      "✅ Saved sheet '2000' — shape: (135, 1466)\n",
      "📥 Loading: ../../era5_data_grib_raw/surface_runoff/surface_runoff_2001.grib\n"
     ]
    },
    {
     "name": "stderr",
     "output_type": "stream",
     "text": [
      "Ignoring index file '../../era5_data_grib_raw/surface_runoff/surface_runoff_2002.grib.5b7b6.idx' incompatible with GRIB file\n"
     ]
    },
    {
     "name": "stdout",
     "output_type": "stream",
     "text": [
      "✅ Saved sheet '2001' — shape: (135, 1462)\n",
      "📥 Loading: ../../era5_data_grib_raw/surface_runoff/surface_runoff_2002.grib\n"
     ]
    },
    {
     "name": "stderr",
     "output_type": "stream",
     "text": [
      "Ignoring index file '../../era5_data_grib_raw/surface_runoff/surface_runoff_2003.grib.5b7b6.idx' incompatible with GRIB file\n"
     ]
    },
    {
     "name": "stdout",
     "output_type": "stream",
     "text": [
      "✅ Saved sheet '2002' — shape: (135, 1462)\n",
      "📥 Loading: ../../era5_data_grib_raw/surface_runoff/surface_runoff_2003.grib\n"
     ]
    },
    {
     "name": "stderr",
     "output_type": "stream",
     "text": [
      "Ignoring index file '../../era5_data_grib_raw/surface_runoff/surface_runoff_2004.grib.5b7b6.idx' incompatible with GRIB file\n"
     ]
    },
    {
     "name": "stdout",
     "output_type": "stream",
     "text": [
      "✅ Saved sheet '2003' — shape: (135, 1462)\n",
      "📥 Loading: ../../era5_data_grib_raw/surface_runoff/surface_runoff_2004.grib\n"
     ]
    },
    {
     "name": "stderr",
     "output_type": "stream",
     "text": [
      "Ignoring index file '../../era5_data_grib_raw/surface_runoff/surface_runoff_2005.grib.5b7b6.idx' incompatible with GRIB file\n"
     ]
    },
    {
     "name": "stdout",
     "output_type": "stream",
     "text": [
      "✅ Saved sheet '2004' — shape: (135, 1466)\n",
      "📥 Loading: ../../era5_data_grib_raw/surface_runoff/surface_runoff_2005.grib\n"
     ]
    },
    {
     "name": "stderr",
     "output_type": "stream",
     "text": [
      "Ignoring index file '../../era5_data_grib_raw/surface_runoff/surface_runoff_2006.grib.5b7b6.idx' incompatible with GRIB file\n"
     ]
    },
    {
     "name": "stdout",
     "output_type": "stream",
     "text": [
      "✅ Saved sheet '2005' — shape: (135, 1462)\n",
      "📥 Loading: ../../era5_data_grib_raw/surface_runoff/surface_runoff_2006.grib\n"
     ]
    },
    {
     "name": "stderr",
     "output_type": "stream",
     "text": [
      "Ignoring index file '../../era5_data_grib_raw/surface_runoff/surface_runoff_2007.grib.5b7b6.idx' incompatible with GRIB file\n"
     ]
    },
    {
     "name": "stdout",
     "output_type": "stream",
     "text": [
      "✅ Saved sheet '2006' — shape: (135, 1462)\n",
      "📥 Loading: ../../era5_data_grib_raw/surface_runoff/surface_runoff_2007.grib\n"
     ]
    },
    {
     "name": "stderr",
     "output_type": "stream",
     "text": [
      "Ignoring index file '../../era5_data_grib_raw/surface_runoff/surface_runoff_2008.grib.5b7b6.idx' incompatible with GRIB file\n"
     ]
    },
    {
     "name": "stdout",
     "output_type": "stream",
     "text": [
      "✅ Saved sheet '2007' — shape: (135, 1462)\n",
      "📥 Loading: ../../era5_data_grib_raw/surface_runoff/surface_runoff_2008.grib\n"
     ]
    },
    {
     "name": "stderr",
     "output_type": "stream",
     "text": [
      "Ignoring index file '../../era5_data_grib_raw/surface_runoff/surface_runoff_2009.grib.5b7b6.idx' incompatible with GRIB file\n"
     ]
    },
    {
     "name": "stdout",
     "output_type": "stream",
     "text": [
      "✅ Saved sheet '2008' — shape: (135, 1466)\n",
      "📥 Loading: ../../era5_data_grib_raw/surface_runoff/surface_runoff_2009.grib\n"
     ]
    },
    {
     "name": "stderr",
     "output_type": "stream",
     "text": [
      "Ignoring index file '../../era5_data_grib_raw/surface_runoff/surface_runoff_2010.grib.5b7b6.idx' incompatible with GRIB file\n"
     ]
    },
    {
     "name": "stdout",
     "output_type": "stream",
     "text": [
      "✅ Saved sheet '2009' — shape: (135, 1462)\n",
      "📥 Loading: ../../era5_data_grib_raw/surface_runoff/surface_runoff_2010.grib\n"
     ]
    },
    {
     "name": "stderr",
     "output_type": "stream",
     "text": [
      "Ignoring index file '../../era5_data_grib_raw/surface_runoff/surface_runoff_2011.grib.5b7b6.idx' incompatible with GRIB file\n"
     ]
    },
    {
     "name": "stdout",
     "output_type": "stream",
     "text": [
      "✅ Saved sheet '2010' — shape: (135, 1462)\n",
      "📥 Loading: ../../era5_data_grib_raw/surface_runoff/surface_runoff_2011.grib\n"
     ]
    },
    {
     "name": "stderr",
     "output_type": "stream",
     "text": [
      "Ignoring index file '../../era5_data_grib_raw/surface_runoff/surface_runoff_2012.grib.5b7b6.idx' incompatible with GRIB file\n"
     ]
    },
    {
     "name": "stdout",
     "output_type": "stream",
     "text": [
      "✅ Saved sheet '2011' — shape: (135, 1462)\n",
      "📥 Loading: ../../era5_data_grib_raw/surface_runoff/surface_runoff_2012.grib\n"
     ]
    },
    {
     "name": "stderr",
     "output_type": "stream",
     "text": [
      "Ignoring index file '../../era5_data_grib_raw/surface_runoff/surface_runoff_2013.grib.5b7b6.idx' incompatible with GRIB file\n"
     ]
    },
    {
     "name": "stdout",
     "output_type": "stream",
     "text": [
      "✅ Saved sheet '2012' — shape: (135, 1466)\n",
      "📥 Loading: ../../era5_data_grib_raw/surface_runoff/surface_runoff_2013.grib\n"
     ]
    },
    {
     "name": "stderr",
     "output_type": "stream",
     "text": [
      "Ignoring index file '../../era5_data_grib_raw/surface_runoff/surface_runoff_2014.grib.5b7b6.idx' incompatible with GRIB file\n"
     ]
    },
    {
     "name": "stdout",
     "output_type": "stream",
     "text": [
      "✅ Saved sheet '2013' — shape: (135, 1462)\n",
      "📥 Loading: ../../era5_data_grib_raw/surface_runoff/surface_runoff_2014.grib\n"
     ]
    },
    {
     "name": "stderr",
     "output_type": "stream",
     "text": [
      "Ignoring index file '../../era5_data_grib_raw/surface_runoff/surface_runoff_2015.grib.5b7b6.idx' incompatible with GRIB file\n"
     ]
    },
    {
     "name": "stdout",
     "output_type": "stream",
     "text": [
      "✅ Saved sheet '2014' — shape: (135, 1462)\n",
      "📥 Loading: ../../era5_data_grib_raw/surface_runoff/surface_runoff_2015.grib\n"
     ]
    },
    {
     "name": "stderr",
     "output_type": "stream",
     "text": [
      "Ignoring index file '../../era5_data_grib_raw/surface_runoff/surface_runoff_2016.grib.5b7b6.idx' incompatible with GRIB file\n"
     ]
    },
    {
     "name": "stdout",
     "output_type": "stream",
     "text": [
      "✅ Saved sheet '2015' — shape: (135, 1462)\n",
      "📥 Loading: ../../era5_data_grib_raw/surface_runoff/surface_runoff_2016.grib\n"
     ]
    },
    {
     "name": "stderr",
     "output_type": "stream",
     "text": [
      "Ignoring index file '../../era5_data_grib_raw/surface_runoff/surface_runoff_2017.grib.5b7b6.idx' incompatible with GRIB file\n"
     ]
    },
    {
     "name": "stdout",
     "output_type": "stream",
     "text": [
      "✅ Saved sheet '2016' — shape: (135, 1466)\n",
      "📥 Loading: ../../era5_data_grib_raw/surface_runoff/surface_runoff_2017.grib\n"
     ]
    },
    {
     "name": "stderr",
     "output_type": "stream",
     "text": [
      "Ignoring index file '../../era5_data_grib_raw/surface_runoff/surface_runoff_2018.grib.5b7b6.idx' incompatible with GRIB file\n"
     ]
    },
    {
     "name": "stdout",
     "output_type": "stream",
     "text": [
      "✅ Saved sheet '2017' — shape: (135, 1462)\n",
      "📥 Loading: ../../era5_data_grib_raw/surface_runoff/surface_runoff_2018.grib\n"
     ]
    },
    {
     "name": "stderr",
     "output_type": "stream",
     "text": [
      "Ignoring index file '../../era5_data_grib_raw/surface_runoff/surface_runoff_2019.grib.5b7b6.idx' incompatible with GRIB file\n"
     ]
    },
    {
     "name": "stdout",
     "output_type": "stream",
     "text": [
      "✅ Saved sheet '2018' — shape: (135, 1462)\n",
      "📥 Loading: ../../era5_data_grib_raw/surface_runoff/surface_runoff_2019.grib\n"
     ]
    },
    {
     "name": "stderr",
     "output_type": "stream",
     "text": [
      "Ignoring index file '../../era5_data_grib_raw/surface_runoff/surface_runoff_2020.grib.5b7b6.idx' incompatible with GRIB file\n"
     ]
    },
    {
     "name": "stdout",
     "output_type": "stream",
     "text": [
      "✅ Saved sheet '2019' — shape: (135, 1462)\n",
      "📥 Loading: ../../era5_data_grib_raw/surface_runoff/surface_runoff_2020.grib\n"
     ]
    },
    {
     "name": "stderr",
     "output_type": "stream",
     "text": [
      "Ignoring index file '../../era5_data_grib_raw/surface_runoff/surface_runoff_2021.grib.5b7b6.idx' incompatible with GRIB file\n"
     ]
    },
    {
     "name": "stdout",
     "output_type": "stream",
     "text": [
      "✅ Saved sheet '2020' — shape: (135, 1466)\n",
      "📥 Loading: ../../era5_data_grib_raw/surface_runoff/surface_runoff_2021.grib\n"
     ]
    },
    {
     "name": "stderr",
     "output_type": "stream",
     "text": [
      "Ignoring index file '../../era5_data_grib_raw/surface_runoff/surface_runoff_2022.grib.5b7b6.idx' incompatible with GRIB file\n"
     ]
    },
    {
     "name": "stdout",
     "output_type": "stream",
     "text": [
      "✅ Saved sheet '2021' — shape: (135, 1462)\n",
      "📥 Loading: ../../era5_data_grib_raw/surface_runoff/surface_runoff_2022.grib\n"
     ]
    },
    {
     "name": "stderr",
     "output_type": "stream",
     "text": [
      "Ignoring index file '../../era5_data_grib_raw/surface_runoff/surface_runoff_2023.grib.5b7b6.idx' incompatible with GRIB file\n"
     ]
    },
    {
     "name": "stdout",
     "output_type": "stream",
     "text": [
      "✅ Saved sheet '2022' — shape: (135, 1462)\n",
      "📥 Loading: ../../era5_data_grib_raw/surface_runoff/surface_runoff_2023.grib\n"
     ]
    },
    {
     "name": "stderr",
     "output_type": "stream",
     "text": [
      "Ignoring index file '../../era5_data_grib_raw/surface_runoff/surface_runoff_2024.grib.5b7b6.idx' incompatible with GRIB file\n"
     ]
    },
    {
     "name": "stdout",
     "output_type": "stream",
     "text": [
      "✅ Saved sheet '2023' — shape: (135, 1462)\n",
      "📥 Loading: ../../era5_data_grib_raw/surface_runoff/surface_runoff_2024.grib\n"
     ]
    },
    {
     "name": "stderr",
     "output_type": "stream",
     "text": [
      "Ignoring index file '../../era5_data_grib_raw/surface_runoff/surface_runoff_2025.grib.5b7b6.idx' incompatible with GRIB file\n"
     ]
    },
    {
     "name": "stdout",
     "output_type": "stream",
     "text": [
      "✅ Saved sheet '2024' — shape: (135, 1466)\n",
      "📥 Loading: ../../era5_data_grib_raw/surface_runoff/surface_runoff_2025.grib\n",
      "✅ Saved sheet '2025' — shape: (135, 755)\n",
      "\n",
      "✅ Done. 26 years saved for 'surface_runoff'\n",
      "\n",
      "📂 Processing variable: sub_surface_runoff\n",
      "📁 Input folder: ../../era5_data_grib_raw/sub_surface_runoff\n",
      "💾 Output Excel: ../../era5_data_excel/sub_surface_runoff_6hour_2000_2025.xlsx\n",
      "\n",
      "📥 Loading: ../../era5_data_grib_raw/sub_surface_runoff/sub_surface_runoff_2000.grib\n",
      "✅ Saved sheet '2000' — shape: (135, 1466)\n",
      "📥 Loading: ../../era5_data_grib_raw/sub_surface_runoff/sub_surface_runoff_2001.grib\n",
      "✅ Saved sheet '2001' — shape: (135, 1462)\n",
      "📥 Loading: ../../era5_data_grib_raw/sub_surface_runoff/sub_surface_runoff_2002.grib\n",
      "✅ Saved sheet '2002' — shape: (135, 1462)\n",
      "📥 Loading: ../../era5_data_grib_raw/sub_surface_runoff/sub_surface_runoff_2003.grib\n",
      "✅ Saved sheet '2003' — shape: (135, 1462)\n",
      "📥 Loading: ../../era5_data_grib_raw/sub_surface_runoff/sub_surface_runoff_2004.grib\n",
      "✅ Saved sheet '2004' — shape: (135, 1466)\n",
      "📥 Loading: ../../era5_data_grib_raw/sub_surface_runoff/sub_surface_runoff_2005.grib\n",
      "✅ Saved sheet '2005' — shape: (135, 1462)\n",
      "📥 Loading: ../../era5_data_grib_raw/sub_surface_runoff/sub_surface_runoff_2006.grib\n",
      "✅ Saved sheet '2006' — shape: (135, 1462)\n",
      "📥 Loading: ../../era5_data_grib_raw/sub_surface_runoff/sub_surface_runoff_2007.grib\n",
      "✅ Saved sheet '2007' — shape: (135, 1462)\n",
      "📥 Loading: ../../era5_data_grib_raw/sub_surface_runoff/sub_surface_runoff_2008.grib\n",
      "✅ Saved sheet '2008' — shape: (135, 1466)\n",
      "📥 Loading: ../../era5_data_grib_raw/sub_surface_runoff/sub_surface_runoff_2009.grib\n",
      "✅ Saved sheet '2009' — shape: (135, 1462)\n",
      "📥 Loading: ../../era5_data_grib_raw/sub_surface_runoff/sub_surface_runoff_2010.grib\n",
      "✅ Saved sheet '2010' — shape: (135, 1462)\n",
      "📥 Loading: ../../era5_data_grib_raw/sub_surface_runoff/sub_surface_runoff_2011.grib\n",
      "✅ Saved sheet '2011' — shape: (135, 1462)\n",
      "📥 Loading: ../../era5_data_grib_raw/sub_surface_runoff/sub_surface_runoff_2012.grib\n",
      "✅ Saved sheet '2012' — shape: (135, 1466)\n",
      "📥 Loading: ../../era5_data_grib_raw/sub_surface_runoff/sub_surface_runoff_2013.grib\n",
      "✅ Saved sheet '2013' — shape: (135, 1462)\n",
      "📥 Loading: ../../era5_data_grib_raw/sub_surface_runoff/sub_surface_runoff_2014.grib\n",
      "✅ Saved sheet '2014' — shape: (135, 1462)\n",
      "📥 Loading: ../../era5_data_grib_raw/sub_surface_runoff/sub_surface_runoff_2015.grib\n",
      "✅ Saved sheet '2015' — shape: (135, 1462)\n",
      "📥 Loading: ../../era5_data_grib_raw/sub_surface_runoff/sub_surface_runoff_2016.grib\n",
      "✅ Saved sheet '2016' — shape: (135, 1466)\n",
      "📥 Loading: ../../era5_data_grib_raw/sub_surface_runoff/sub_surface_runoff_2017.grib\n",
      "✅ Saved sheet '2017' — shape: (135, 1462)\n",
      "📥 Loading: ../../era5_data_grib_raw/sub_surface_runoff/sub_surface_runoff_2018.grib\n",
      "✅ Saved sheet '2018' — shape: (135, 1462)\n",
      "📥 Loading: ../../era5_data_grib_raw/sub_surface_runoff/sub_surface_runoff_2019.grib\n",
      "✅ Saved sheet '2019' — shape: (135, 1462)\n",
      "📥 Loading: ../../era5_data_grib_raw/sub_surface_runoff/sub_surface_runoff_2020.grib\n",
      "✅ Saved sheet '2020' — shape: (135, 1466)\n",
      "📥 Loading: ../../era5_data_grib_raw/sub_surface_runoff/sub_surface_runoff_2021.grib\n",
      "✅ Saved sheet '2021' — shape: (135, 1462)\n",
      "📥 Loading: ../../era5_data_grib_raw/sub_surface_runoff/sub_surface_runoff_2022.grib\n",
      "✅ Saved sheet '2022' — shape: (135, 1462)\n",
      "📥 Loading: ../../era5_data_grib_raw/sub_surface_runoff/sub_surface_runoff_2023.grib\n",
      "✅ Saved sheet '2023' — shape: (135, 1462)\n",
      "📥 Loading: ../../era5_data_grib_raw/sub_surface_runoff/sub_surface_runoff_2024.grib\n",
      "✅ Saved sheet '2024' — shape: (135, 1466)\n",
      "📥 Loading: ../../era5_data_grib_raw/sub_surface_runoff/sub_surface_runoff_2025.grib\n",
      "✅ Saved sheet '2025' — shape: (135, 755)\n",
      "\n",
      "✅ Done. 26 years saved for 'sub_surface_runoff'\n"
     ]
    }
   ],
   "source": [
    "# === Run for all target variables ===\n",
    "\n",
    "input_base = \"../../era5_data_grib_raw\"\n",
    "output_base = \"../../era5_data_excel\"\n",
    "\n",
    "variables = [\n",
    "    \"total_precipitation\",\n",
    "    \"2m_temperature\",\n",
    "    \"10m_u_component_of_wind\",\n",
    "    \"10m_v_component_of_wind\",\n",
    "    \"surface_runoff\",\n",
    "    \"sub_surface_runoff\",\n",
    "]\n",
    "\n",
    "for var in variables:\n",
    "    process_variable_to_excel(var, input_base, output_base, start_year=2000, end_year=2025)"
   ]
  }
 ],
 "metadata": {
  "kernelspec": {
   "display_name": "Python 3 (ipykernel)",
   "language": "python",
   "name": "python3"
  },
  "language_info": {
   "codemirror_mode": {
    "name": "ipython",
    "version": 3
   },
   "file_extension": ".py",
   "mimetype": "text/x-python",
   "name": "python",
   "nbconvert_exporter": "python",
   "pygments_lexer": "ipython3",
   "version": "3.9.12"
  }
 },
 "nbformat": 4,
 "nbformat_minor": 5
}
