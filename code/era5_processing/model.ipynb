{
 "cells": [
  {
   "cell_type": "code",
   "execution_count": 1,
   "id": "a2fcd57a",
   "metadata": {},
   "outputs": [],
   "source": [
    "import pandas as pd\n",
    "import os\n",
    "from openpyxl import load_workbook\n",
    "from tqdm import tqdm\n",
    "from functools import reduce"
   ]
  },
  {
   "cell_type": "code",
   "execution_count": 2,
   "id": "7da55acb",
   "metadata": {},
   "outputs": [],
   "source": [
    "import seaborn as sns\n",
    "import matplotlib.pyplot as plt\n",
    "\n",
    "import pandas as pd\n",
    "import xgboost as xgb\n",
    "from sklearn.model_selection import train_test_split\n",
    "from sklearn.metrics import mean_squared_error, r2_score"
   ]
  },
  {
   "cell_type": "code",
   "execution_count": 3,
   "id": "b80e3e56",
   "metadata": {},
   "outputs": [],
   "source": [
    "merged_df = pd.read_parquet(\"../../data/merged_era5data/merged_df.parquet\")"
   ]
  },
  {
   "cell_type": "markdown",
   "id": "e20205e0",
   "metadata": {},
   "source": [
    "### Model training"
   ]
  },
  {
   "cell_type": "code",
   "execution_count": 29,
   "id": "1ef8c3e2",
   "metadata": {},
   "outputs": [
    {
     "name": "stdout",
     "output_type": "stream",
     "text": [
      "✅ XGBoost RMSE: 0.000124\n",
      "✅ XGBoost R² Score: 0.8955\n"
     ]
    }
   ],
   "source": [
    "\n",
    "\n",
    "# Step 1: Aggregate to daily resolution\n",
    "merged_df[\"date\"] = merged_df[\"datetime\"].dt.date\n",
    "\n",
    "daily_df = (\n",
    "    merged_df\n",
    "    .groupby([\"date\", \"latitude\", \"longitude\"])\n",
    "    [[\"temperature\", \"wind_u\", \"wind_v\", \"precipitation\", \"surface_runoff\"]]\n",
    "    .mean()\n",
    "    .reset_index()\n",
    ")\n",
    "\n",
    "# Step 2: Prepare data for modeling\n",
    "features = [\"temperature\", \"wind_u\", \"wind_v\", \"precipitation\"]\n",
    "target = \"surface_runoff\"\n",
    "\n",
    "X = daily_df[features]\n",
    "y = daily_df[target]\n",
    "\n",
    "# Step 3: Train/test split\n",
    "X_train, X_test, y_train, y_test = train_test_split(X, y, test_size=0.2, random_state=42)\n",
    "\n",
    "# Step 4: Train XGBoost model\n",
    "model = xgb.XGBRegressor(\n",
    "    n_estimators=100,\n",
    "    max_depth=6,\n",
    "    learning_rate=0.1,\n",
    "    subsample=0.8,\n",
    "    colsample_bytree=0.8,\n",
    "    random_state=42,\n",
    "    n_jobs=-1\n",
    ")\n",
    "model.fit(X_train, y_train)\n",
    "\n",
    "# Step 5: Predict and evaluate\n",
    "y_pred = model.predict(X_test)\n",
    "\n",
    "rmse = ((y_test - y_pred) ** 2).mean() ** 0.5  # manually compute RMSE\n",
    "\n",
    "r2 = r2_score(y_test, y_pred)\n",
    "\n",
    "print(f\"✅ XGBoost RMSE: {rmse:.6f}\")\n",
    "print(f\"✅ XGBoost R² Score: {r2:.4f}\")\n"
   ]
  },
  {
   "cell_type": "code",
   "execution_count": 30,
   "id": "2b711848",
   "metadata": {},
   "outputs": [
    {
     "data": {
      "image/png": "[encoded data removed]",
      "text/plain": [
       "<Figure size 576x360 with 1 Axes>"
      ]
     },
     "metadata": {
      "needs_background": "light"
     },
     "output_type": "display_data"
    }
   ],
   "source": [
    "import matplotlib.pyplot as plt\n",
    "import seaborn as sns\n",
    "\n",
    "# Get importance scores\n",
    "importance = model.feature_importances_\n",
    "features = [\"temperature\", \"wind_u\", \"wind_v\", \"precipitation\"]\n",
    "\n",
    "# Plot\n",
    "plt.figure(figsize=(8, 5))\n",
    "sns.barplot(x=importance, y=features)\n",
    "plt.title(\"Feature Importance from XGBoost\")\n",
    "plt.xlabel(\"Importance Score\")\n",
    "plt.ylabel(\"Feature\")\n",
    "plt.grid(True)\n",
    "plt.show()\n"
   ]
  },
  {
   "cell_type": "code",
   "execution_count": 34,
   "id": "17105161",
   "metadata": {},
   "outputs": [
    {
     "data": {
      "image/png": "[encoded data removed]",
      "text/plain": [
       "<Figure size 720x432 with 2 Axes>"
      ]
     },
     "metadata": {
      "needs_background": "light"
     },
     "output_type": "display_data"
    }
   ],
   "source": [
    "### Want to run this for each spatial unit\n",
    "\n",
    "import pandas as pd\n",
    "import numpy as np\n",
    "import xgboost as xgb\n",
    "from sklearn.model_selection import train_test_split\n",
    "from sklearn.metrics import r2_score\n",
    "import matplotlib.pyplot as plt\n",
    "import seaborn as sns\n",
    "\n",
    "# Step 1: Load your aggregated daily DataFrame (if not already loaded)\n",
    "df = daily_df\n",
    "\n",
    "# Step 2: Define feature and target columns\n",
    "features = ['temperature', 'wind_u', 'wind_v', 'precipitation']\n",
    "target = 'surface_runoff'\n",
    "\n",
    "# Step 3: Group by spatial location\n",
    "grouped = df.groupby(['latitude', 'longitude'])\n",
    "\n",
    "results = []\n",
    "\n",
    "for (lat, lon), group in grouped:\n",
    "    if len(group) < 100:  # Skip if not enough data\n",
    "        continue\n",
    "\n",
    "    X = group[features]\n",
    "    y = group[target]\n",
    "\n",
    "    # Train-test split\n",
    "    X_train, X_test, y_train, y_test = train_test_split(X, y, test_size=0.2, random_state=42)\n",
    "\n",
    "    # Train XGBoost\n",
    "    model = xgb.XGBRegressor(n_estimators=50, max_depth=3, random_state=42, n_jobs=-1)\n",
    "    model.fit(X_train, y_train)\n",
    "\n",
    "    # Predict and evaluate\n",
    "    y_pred = model.predict(X_test)\n",
    "    r2 = r2_score(y_test, y_pred)\n",
    "\n",
    "    # Store result\n",
    "    results.append({'latitude': lat, 'longitude': lon, 'r2_score': r2})\n",
    "\n",
    "# Step 4: Create results DataFrame\n",
    "results_df = pd.DataFrame(results)\n",
    "\n",
    "\n",
    "\n",
    "# Step 5: Plot map of R² scores\n",
    "plt.figure(figsize=(10, 6))\n",
    "pivot = results_df.pivot(index='latitude', columns='longitude', values='r2_score')\n",
    "\n",
    "sns.heatmap(\n",
    "    pivot.sort_index(ascending=False),  # This flips the y-axis data manually\n",
    "    cmap='viridis', annot=False, cbar_kws={'label': 'R² Score'}\n",
    ")\n",
    "\n",
    "plt.title(\"XGBoost Test R² Score per Location\")\n",
    "plt.xlabel(\"Longitude\")\n",
    "plt.ylabel(\"Latitude\")\n",
    "\n",
    "plt.tight_layout()\n",
    "plt.show()\n",
    "\n",
    "\n"
   ]
  },
  {
   "cell_type": "code",
   "execution_count": null,
   "id": "1e32a25c",
   "metadata": {},
   "outputs": [],
   "source": []
  }
 ],
 "metadata": {
  "kernelspec": {
   "display_name": "Python 3 (ipykernel)",
   "language": "python",
   "name": "python3"
  },
  "language_info": {
   "codemirror_mode": {
    "name": "ipython",
    "version": 3
   },
   "file_extension": ".py",
   "mimetype": "text/x-python",
   "name": "python",
   "nbconvert_exporter": "python",
   "pygments_lexer": "ipython3",
   "version": "3.9.12"
  }
 },
 "nbformat": 4,
 "nbformat_minor": 5
}
